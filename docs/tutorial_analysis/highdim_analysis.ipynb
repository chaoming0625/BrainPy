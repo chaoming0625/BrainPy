{
 "cells": [
  {
   "cell_type": "markdown",
   "id": "fc06efc0",
   "metadata": {},
   "source": [
    "# High-dimensional Analyzers"
   ]
  },
  {
   "cell_type": "markdown",
   "id": "068c7d67",
   "metadata": {},
   "source": [
    "@[Chaoming Wang](https://github.com/chaoming0625)"
   ]
  },
  {
   "cell_type": "markdown",
   "id": "83374185",
   "metadata": {},
   "source": [
    "It's hard to analyze high-dimensional systems. However, we have to analyze high-dimensional systems."
   ]
  },
  {
   "cell_type": "markdown",
   "id": "b102eccd",
   "metadata": {},
   "source": [
    "Here, based on numerical optimization methods, BrainPy provides [brainpy.analysis.SlowPointFinder](../apis/auto/analysis/generated/brainpy.analysis.highdim.SlowPointFinder.rst) to help users find **slow points** (or **fixed points**) [1] for your high-dimensional dynamical systems."
   ]
  },
  {
   "cell_type": "code",
   "execution_count": 1,
   "id": "07a97a76",
   "metadata": {},
   "outputs": [
    {
     "data": {
      "text/plain": "'2.3.0'"
     },
     "execution_count": 1,
     "metadata": {},
     "output_type": "execute_result"
    }
   ],
   "source": [
    "import brainpy as bp\n",
    "import brainpy.math as bm\n",
    "\n",
    "bm.set_platform('cpu')\n",
    "\n",
    "bp.__version__"
   ]
  },
  {
   "cell_type": "markdown",
   "id": "c95effe7",
   "metadata": {},
   "source": [
    "## What are slow points?"
   ]
  },
  {
   "cell_type": "markdown",
   "id": "2f0d5511",
   "metadata": {},
   "source": [
    "For the given system,\n",
    "\n",
    "$$\n",
    "\\dot{x} = f(x),\n",
    "$$\n",
    "\n",
    "we wish to find values $x^∗$ around which the system is approximately linear. Using Taylor series expansion, we have\n",
    "\n",
    "$$\n",
    "f(x^* + \\delta x) = f(x^*) + f'(x^*)\\delta x + 1/2 \\delta x f''(x^*) \\delta x + \\cdots\n",
    "$$\n",
    "\n",
    "We want the first derivative term (i.e., the linear term) to be dominant, which means $f(x^*) = 0$ or $f(x^*) \\approx 0$. \n",
    "\n",
    "- For $f(x^*) \\approx 0$ which is nonzero but small, we call the point $x^*$ a **slow point**. \n",
    "- More specially, if $f(x^*) = 0$, $x^*$ is a **fixed point**. "
   ]
  },
  {
   "cell_type": "markdown",
   "id": "feb0f208",
   "metadata": {},
   "source": [
    "## How to find slow points?"
   ]
  },
  {
   "cell_type": "markdown",
   "id": "ad0c6854",
   "metadata": {},
   "source": [
    "In order to find slow points, we can first define an auxiliary scalar function for your continous system $\\dot{x} = f(x)$, \n",
    "\n",
    "$$\n",
    "p(x) = |f(x)|^2.\n",
    "$$\n",
    "\n",
    "Or, if your system is discrete $x_n = f(x_{n-1})$, the auxiliary scalar function can be defined as\n",
    "\n",
    "$$\n",
    "p(x) = |x - f(x)|^2.\n",
    "$$\n",
    "\n",
    "If $x^*$ is a slow point, $p(x^*) \\to 0$. \n",
    "\n",
    "Then, by minimizing the scalar function $p(x)$, we can get the candidate points for slow points and for further linearization. For the linear system, it's stability is evaluated by the eigenvalues of Jacobian matrix. "
   ]
  },
  {
   "cell_type": "markdown",
   "id": "9b15ec21",
   "metadata": {},
   "source": [
    "Here, BrainPy provides [brainpy.analysis.SlowPointFinder](../apis/auto/analysis/generated/brainpy.analysis.highdim.SlowPointFinder.rst). It receives ``f_cell`` to specify the target function/object to analyze.\n",
    "\n",
    "If the provided ``f_cell`` is a function, ``SlowPointFinder`` can supports to specify:\n",
    "\n",
    "- ``f_type``: the type of the function (it can be \"continuous\" or \"discrete\").\n",
    "- ``f_loss``: the loss function to minimize the optimization error.\n",
    "- ``args``: extra arguments passed into the function when performing fixed point optimization.\n",
    "\n",
    "If the provided ``f_cell`` is an instance of ``DynamicalSystem``, ``SlowPointFinder`` can supports to specify:\n",
    "\n",
    "- ``f_loss``: the loss function to minimize the optimization error.\n",
    "- ``args``: extra arguments passed into the defined ``update()`` function when performing fixed point optimization.\n",
    "- ``inputs`` and ``fun_inputs``: inputs to this dynamical system. Similar to the inputs of ``DSRunner`` and ``DSTrainer``.\n",
    "- ``target_vars``: the selected variables which are used to optimize fixed points. Other variables like \"input\" and \"spike\" can be ignored."
   ]
  },
  {
   "cell_type": "markdown",
   "source": [
    "Then, ``brainpy.analysis.SlowPointFinder`` can help you:\n",
    "\n",
    "- optimize to find the fixed/slow points with gradient descent algorithms (``find_fps_with_gd_method()``) or nonlinear optimization solver (``find_fps_with_opt_solver()``)\n",
    "- exclude any fixed points whose losses are above threshold: ``filter_loss()``\n",
    "- exclude any non-unique fixed points according to a tolerance: ``keep_unique()``\n",
    "- exclude any far-away \"outlier\" fixed points: ``exclude_outliers()``\n",
    "- computing the jacobian matrix for the given fixed/slow points: ``compute_jacobians()``"
   ],
   "metadata": {
    "collapsed": false
   }
  },
  {
   "cell_type": "markdown",
   "id": "22297b70",
   "metadata": {},
   "source": [
    "## Example 1: Decision Making Model"
   ]
  },
  {
   "cell_type": "markdown",
   "id": "92a9f293",
   "metadata": {},
   "source": [
    "``brainpy.analysis.SlowPointFinder`` is aimed to find slow/fixed points of high-dimensional systems. Of course, it can optimize to find fixed points of low-dimensional systems. We take the 2D decision-making system as an example."
   ]
  },
  {
   "cell_type": "code",
   "execution_count": 2,
   "id": "423e768f",
   "metadata": {},
   "outputs": [],
   "source": [
    "# parameters\n",
    "\n",
    "gamma = 0.641  # Saturation factor for gating variable\n",
    "tau = 0.06  # Synaptic time constant [sec]\n",
    "a = 270.\n",
    "b = 108.\n",
    "d = 0.154\n",
    "\n",
    "JE = 0.3725  # self-coupling strength [nA]\n",
    "JI = -0.1137  # cross-coupling strength [nA]\n",
    "JAext = 0.00117  # Stimulus input strength [nA]\n",
    "\n",
    "mu = 20.  # Stimulus firing rate [spikes/sec]\n",
    "coh = 0.5  # Stimulus coherence [%]\n",
    "Ib1 = 0.3297\n",
    "Ib2 = 0.3297"
   ]
  },
  {
   "cell_type": "code",
   "execution_count": 3,
   "id": "eb220677",
   "metadata": {},
   "outputs": [],
   "source": [
    "@bp.odeint\n",
    "def int_s1(s1, t, s2, coh=0.5, mu=20.):\n",
    "  I1 = JE * s1 + JI * s2 + Ib1 + JAext * mu * (1. + coh)\n",
    "  r1 = (a * I1 - b) / (1. - bm.exp(-d * (a * I1 - b)))\n",
    "  return - s1 / tau + (1. - s1) * gamma * r1\n",
    "\n",
    "@bp.odeint\n",
    "def int_s2(s2, t, s1, coh=0.5, mu=20.):\n",
    "  I2 = JE * s2 + JI * s1 + Ib2 + JAext * mu * (1. - coh)\n",
    "  r2 = (a * I2 - b) / (1. - bm.exp(-d * (a * I2 - b)))\n",
    "  return - s2 / tau + (1. - s2) * gamma * r2\n",
    "\n",
    "def step(s):\n",
    "    ds1 = int_s1.f(s[0], 0., s[1])\n",
    "    ds2 = int_s2.f(s[1], 0., s[0])\n",
    "    return bm.asarray([ds1, ds2])"
   ]
  },
  {
   "cell_type": "markdown",
   "id": "46266662",
   "metadata": {},
   "source": [
    "We first use [brainpy.analysis.PhasePlane2D](./lowdim_analysis.ipynb) to get the standard answer. "
   ]
  },
  {
   "cell_type": "code",
   "execution_count": 4,
   "id": "6b9a2473",
   "metadata": {},
   "outputs": [
    {
     "name": "stderr",
     "output_type": "stream",
     "text": [
      "I am searching fixed points ...\n",
      "I am filtering out fixed point candidates with auxiliary function ...\n",
      "I am trying to find fixed points by optimization ...\n",
      "\tThere are 100 candidates\n",
      "I am trying to filter out duplicate fixed points ...\n",
      "\tFound 3 fixed points.\n",
      "\t#1 s1=0.2827633321285248, s2=0.40635180473327637 is a saddle node.\n",
      "\t#2 s1=0.013946513645350933, s2=0.6573889851570129 is a stable node.\n",
      "\t#3 s1=0.7004518508911133, s2=0.004864312242716551 is a stable node.\n"
     ]
    }
   ],
   "source": [
    "analyzer = bp.analysis.PhasePlane2D(\n",
    "    model=[int_s1, int_s2],\n",
    "    target_vars={'s1': [0, 1], 's2': [0, 1]},\n",
    "    resolutions=0.001,\n",
    ")\n",
    "analyzer.plot_fixed_point(select_candidates='aux_rank', with_plot=False)"
   ]
  },
  {
   "cell_type": "markdown",
   "id": "4d497cac",
   "metadata": {},
   "source": [
    "Then, let's check whether the high-dimensional analyzer also works. "
   ]
  },
  {
   "cell_type": "code",
   "execution_count": 5,
   "id": "75ddba03",
   "metadata": {},
   "outputs": [
    {
     "name": "stdout",
     "output_type": "stream",
     "text": [
      "Optimizing with Adam(lr=ExponentialDecay(0.01, decay_steps=1, decay_rate=0.9999), beta1=0.9, beta2=0.999, eps=1e-08) to find fixed points:\n",
      "    Batches 1-200 in 0.24 sec, Training loss 0.0510474481\n",
      "    Batches 201-400 in 0.25 sec, Training loss 0.0046035680\n",
      "    Batches 401-600 in 0.32 sec, Training loss 0.0007384720\n",
      "    Batches 601-800 in 0.27 sec, Training loss 0.0001601687\n",
      "    Batches 801-1000 in 0.25 sec, Training loss 0.0000381663\n",
      "    Batches 1001-1200 in 0.25 sec, Training loss 0.0000088441\n",
      "    Stop optimization as mean training loss 0.0000088441 is below tolerance 0.0000100000.\n",
      "Excluding fixed points with squared speed above tolerance 1e-05:\n",
      "    Kept 934/1000 fixed points with tolerance under 1e-05.\n",
      "Excluding non-unique fixed points:\n",
      "    Kept 3/934 unique fixed points with uniqueness tolerance 0.025.\n"
     ]
    }
   ],
   "source": [
    "finder = bp.analysis.SlowPointFinder(f_cell=step, f_type=\"continuous\")\n",
    "finder.find_fps_with_gd_method(\n",
    "    candidates=bm.random.random((1000, 2)),\n",
    "    tolerance=1e-5,\n",
    "    num_batch=200,\n",
    "    optimizer=bp.optimizers.Adam(bp.optimizers.ExponentialDecay(0.01, 1, 0.9999))\n",
    ")\n",
    "finder.filter_loss(1e-5)\n",
    "finder.keep_unique()"
   ]
  },
  {
   "cell_type": "code",
   "execution_count": 6,
   "id": "5a9d31ff",
   "metadata": {},
   "outputs": [
    {
     "data": {
      "text/plain": "array([[0.28276306, 0.40635154],\n       [0.7004519 , 0.00486429],\n       [0.01394659, 0.6573889 ]], dtype=float32)"
     },
     "execution_count": 6,
     "metadata": {},
     "output_type": "execute_result"
    }
   ],
   "source": [
    "finder.fixed_points"
   ]
  },
  {
   "cell_type": "markdown",
   "id": "a43baa44",
   "metadata": {},
   "source": [
    "Yeah, the fixed points found by ``brainpy.analysis.PhasePlane2D`` and ``brainpy.analysis.SlowPointFinder`` are nearly the same. "
   ]
  },
  {
   "cell_type": "markdown",
   "id": "fd0a2308",
   "metadata": {},
   "source": [
    "## Example 2: Continuous-attractor Neural Network"
   ]
  },
  {
   "cell_type": "markdown",
   "id": "52c78c8c",
   "metadata": {},
   "source": [
    "Continuous-attractor neural network [2] proposed by Si Wu is a special model which has a line of attractors. "
   ]
  },
  {
   "cell_type": "code",
   "execution_count": 7,
   "id": "ce20c839",
   "metadata": {},
   "outputs": [],
   "source": [
    "class CANN1D(bp.dyn.NeuGroup):\n",
    "  def __init__(self, num, tau=1., k=8.1, a=0.5, A=10., J0=4., z_min=-bm.pi, z_max=bm.pi):\n",
    "    super(CANN1D, self).__init__(size=num)\n",
    "\n",
    "    # parameters\n",
    "    self.tau = tau  # The synaptic time constant\n",
    "    self.k = k  # Degree of the rescaled inhibition\n",
    "    self.a = a  # Half-width of the range of excitatory connections\n",
    "    self.A = A  # Magnitude of the external input\n",
    "    self.J0 = J0  # maximum connection value\n",
    "\n",
    "    # feature space\n",
    "    self.z_min = z_min\n",
    "    self.z_max = z_max\n",
    "    self.z_range = z_max - z_min\n",
    "    self.x = bm.linspace(z_min, z_max, num)  # The encoded feature values\n",
    "    self.rho = num / self.z_range  # The neural density\n",
    "    self.dx = self.z_range / num  # The stimulus density\n",
    "\n",
    "    # variables\n",
    "    self.u = bm.Variable(bm.zeros(num))\n",
    "    self.input = bm.Variable(bm.zeros(num))\n",
    "\n",
    "    # The connection matrix\n",
    "    self.conn_mat = self.make_conn(self.x)\n",
    "\n",
    "    # function\n",
    "    self.integral = bp.odeint(self.derivative)\n",
    "\n",
    "  def derivative(self, u, t, Iext):\n",
    "    r1 = bm.square(u)\n",
    "    r2 = 1.0 + self.k * bm.sum(r1)\n",
    "    r = r1 / r2\n",
    "    Irec = bm.dot(self.conn_mat, r)\n",
    "    du = (-u + Irec + Iext) / self.tau\n",
    "    return du\n",
    "\n",
    "  def dist(self, d):\n",
    "    d = bm.remainder(d, self.z_range)\n",
    "    d = bm.where(d > 0.5 * self.z_range, d - self.z_range, d)\n",
    "    return d\n",
    "\n",
    "  def make_conn(self, x):\n",
    "    assert bm.ndim(x) == 1\n",
    "    x_left = bm.reshape(x, (-1, 1))\n",
    "    x_right = bm.repeat(x.reshape((1, -1)), len(x), axis=0)\n",
    "    d = self.dist(x_left - x_right)\n",
    "    Jxx = self.J0 * bm.exp(-0.5 * bm.square(d / self.a)) / (bm.sqrt(2 * bm.pi) * self.a)\n",
    "    return Jxx\n",
    "\n",
    "  def get_stimulus_by_pos(self, pos):\n",
    "    return self.A * bm.exp(-0.25 * bm.square(self.dist(self.x - pos) / self.a))\n",
    "\n",
    "  def update(self, tdi):\n",
    "    self.u.value = self.integral(self.u, tdi.t, self.input, tdi.dt)\n",
    "    self.input[:] = 0.\n",
    "\n",
    "  def cell(self, u):\n",
    "    return self.derivative(u, 0., 0.)"
   ]
  },
  {
   "cell_type": "code",
   "execution_count": 8,
   "outputs": [],
   "source": [
    "cann = CANN1D(num=512, k=0.1, A=30)"
   ],
   "metadata": {
    "collapsed": false
   }
  },
  {
   "cell_type": "markdown",
   "source": [
    "The following code demonstrates how to use ``SlowPointFinder`` to find fixed points of a continuous attractor neural network."
   ],
   "metadata": {
    "collapsed": false
   }
  },
  {
   "cell_type": "code",
   "execution_count": 9,
   "id": "24737b1e",
   "metadata": {
    "scrolled": false
   },
   "outputs": [
    {
     "name": "stdout",
     "output_type": "stream",
     "text": [
      "Optimizing with BFGS to find fixed points:\n",
      "    Found 629 fixed points from 629 initial points.\n",
      "Excluding fixed points with squared speed above tolerance 1e-06:\n",
      "    Kept 357/629 fixed points with tolerance under 1e-06.\n",
      "Excluding non-unique fixed points:\n",
      "    Kept 357/357 unique fixed points with uniqueness tolerance 0.025.\n"
     ]
    }
   ],
   "source": [
    "# initialize an instance of slow point finder\n",
    "finder = bp.analysis.SlowPointFinder(\n",
    "    f_cell=cann,\n",
    "    target_vars={'u': cann.u},\n",
    "    dt=1.,\n",
    ")\n",
    "\n",
    "# we can initialize our candidate points with noisy bumps.\n",
    "candidates = cann.get_stimulus_by_pos(bm.arange(-bm.pi, bm.pi, 0.01).reshape((-1, 1)))\n",
    "candidates += bm.random.normal(0., 0.01, candidates.shape)\n",
    "\n",
    "# optimize to find fixed points\n",
    "finder.find_fps_with_opt_solver({'u': candidates})\n",
    "finder.filter_loss(1e-6)\n",
    "finder.keep_unique()"
   ]
  },
  {
   "cell_type": "markdown",
   "source": [
    "The found fixed points are a series of attractor. We can visualize this line of attractors on a 2D space."
   ],
   "metadata": {
    "collapsed": false
   }
  },
  {
   "cell_type": "code",
   "execution_count": 10,
   "id": "032c9bb8",
   "metadata": {},
   "outputs": [
    {
     "data": {
      "text/plain": "<Figure size 432x288 with 1 Axes>",
      "image/png": "[encoded data removed]"
     },
     "metadata": {
      "needs_background": "light"
     },
     "output_type": "display_data"
    }
   ],
   "source": [
    "from sklearn.decomposition import PCA\n",
    "import matplotlib.pyplot as plt\n",
    "\n",
    "pca = PCA(2)\n",
    "fp_pcs = pca.fit_transform(finder.fixed_points['u'])\n",
    "plt.plot(fp_pcs[:, 0], fp_pcs[:, 1], 'x', label='fixed points')\n",
    "plt.xlabel('PC 1')\n",
    "plt.ylabel('PC 2')\n",
    "plt.title('Fixed points PCA')\n",
    "plt.legend()\n",
    "plt.show()"
   ]
  },
  {
   "cell_type": "markdown",
   "source": [
    "These fixed points can also be plotted on the feature space. In the following, we plot the selected points."
   ],
   "metadata": {
    "collapsed": false
   }
  },
  {
   "cell_type": "code",
   "execution_count": 11,
   "outputs": [],
   "source": [
    "def visualize_fixed_points(fps, plot_ids=(0,), xs=None):\n",
    "  for i in plot_ids:\n",
    "    if xs is None:\n",
    "      plt.plot(fps[i], label=f'FP-{i}')\n",
    "    else:\n",
    "      plt.plot(xs, fps[i], label=f'FP-{i}')\n",
    "  plt.legend()\n",
    "  plt.xlabel('Feature')\n",
    "  plt.ylabel('Bump activity')\n",
    "  plt.show()"
   ],
   "metadata": {
    "collapsed": false
   }
  },
  {
   "cell_type": "code",
   "execution_count": 12,
   "id": "bad2cab4",
   "metadata": {},
   "outputs": [
    {
     "data": {
      "text/plain": "<Figure size 432x288 with 1 Axes>",
      "image/png": "[encoded data removed]"
     },
     "metadata": {
      "needs_background": "light"
     },
     "output_type": "display_data"
    }
   ],
   "source": [
    "visualize_fixed_points(finder.fixed_points['u'],\n",
    "                       plot_ids=(10, 20, 30, 40, 50, 60, 70, 80),\n",
    "                       xs=cann.x)"
   ]
  },
  {
   "cell_type": "markdown",
   "source": [
    "Let's find the linear part or the Jacobian matrix around the fixed points. We decompose Jacobian matrix and then visualize its stability."
   ],
   "metadata": {
    "collapsed": false
   }
  },
  {
   "cell_type": "code",
   "execution_count": 13,
   "id": "73fa353f",
   "metadata": {},
   "outputs": [
    {
     "data": {
      "text/plain": "<Figure size 432x720 with 10 Axes>",
      "image/png": "[encoded data removed]"
     },
     "metadata": {
      "needs_background": "light"
     },
     "output_type": "display_data"
    }
   ],
   "source": [
    "from jax import tree_map\n",
    "\n",
    "# select the first ten fixed points\n",
    "fps = tree_map(lambda a: a[:10], finder._fixed_points)\n",
    "\n",
    "# compute jacobian and visualize the decomposed jacobian matrix\n",
    "J = finder.compute_jacobians(fps, plot=True, num_col=2)"
   ]
  },
  {
   "cell_type": "markdown",
   "id": "75422875",
   "metadata": {},
   "source": [
    "More examples of dynamics analysis, for example, analyzing the fixed points in a recurrent neural network, please see [BrainPy Examples](https://brainpy-examples.readthedocs.io/). "
   ]
  },
  {
   "cell_type": "markdown",
   "id": "5e838d4a",
   "metadata": {},
   "source": [
    "## References"
   ]
  },
  {
   "cell_type": "markdown",
   "id": "2fd4cedf",
   "metadata": {},
   "source": [
    "[1] Sussillo, D. , and  O. Barak . \"Opening the Black Box: Low-Dimensional Dynamics in High-Dimensional Recurrent Neural Networks.\" Neural computation 25.3(2013):626-649.\n",
    "\n",
    "[2] Si Wu, Kosuke Hamaguchi, and Shun-ichi Amari. “Dynamics and computation of continuous attractors.” Neural computation 20.4 (2008): 994-1025."
   ]
  }
 ],
 "metadata": {
  "kernelspec": {
   "name": "python3",
   "language": "python",
   "display_name": "Python 3 (ipykernel)"
  },
  "language_info": {
   "codemirror_mode": {
    "name": "ipython",
    "version": 3
   },
   "file_extension": ".py",
   "mimetype": "text/x-python",
   "name": "python",
   "nbconvert_exporter": "python",
   "pygments_lexer": "ipython3",
   "version": "3.8.8"
  },
  "latex_envs": {
   "LaTeX_envs_menu_present": true,
   "autoclose": false,
   "autocomplete": true,
   "bibliofile": "biblio.bib",
   "cite_by": "apalike",
   "current_citInitial": 1,
   "eqLabelWithNumbers": true,
   "eqNumInitial": 1,
   "hotkeys": {
    "equation": "Ctrl-E",
    "itemize": "Ctrl-I"
   },
   "labels_anchors": false,
   "latex_user_defs": false,
   "report_style_numbering": false,
   "user_envs_cfg": false
  },
  "toc": {
   "base_numbering": 1,
   "nav_menu": {},
   "number_sections": true,
   "sideBar": true,
   "skip_h1_title": false,
   "title_cell": "Table of Contents",
   "title_sidebar": "Contents",
   "toc_cell": false,
   "toc_position": {},
   "toc_section_display": true,
   "toc_window_display": true
  }
 },
 "nbformat": 4,
 "nbformat_minor": 5
}
