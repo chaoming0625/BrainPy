{
 "cells": [
  {
   "cell_type": "markdown",
   "id": "254bbbf2",
   "metadata": {
    "pycharm": {
     "name": "#%% md\n"
    }
   },
   "source": [
    "# Control Flows"
   ]
  },
  {
   "cell_type": "markdown",
   "id": "355bb9b6",
   "metadata": {
    "pycharm": {
     "name": "#%% md\n"
    }
   },
   "source": [
    "@[Chaoming Wang](https://github.com/chaoming0625)\n",
    "@[Xiaoyu Chen](mailto:c-xy17@tsinghua.org.cn)"
   ]
  },
  {
   "cell_type": "markdown",
   "id": "465bd161",
   "metadata": {
    "pycharm": {
     "name": "#%% md\n"
    }
   },
   "source": [
    "In this section, we are going to talk about how to build structured control flows with the BrainPy data structure ``JaxArray``. These control flows include \n",
    "\n",
    "- the *for loop* syntax, \n",
    "- the *while loop* syntax,  \n",
    "- and the *condition* syntax. "
   ]
  },
  {
   "cell_type": "code",
   "execution_count": 7,
   "id": "38a2bb50",
   "metadata": {
    "pycharm": {
     "name": "#%%\n"
    }
   },
   "outputs": [],
   "source": [
    "import brainpy as bp\n",
    "import brainpy.math as bm\n",
    "\n",
    "bp.math.set_platform('cpu')"
   ]
  },
  {
   "cell_type": "markdown",
   "id": "5bc0144f",
   "metadata": {
    "pycharm": {
     "name": "#%% md\n"
    }
   },
   "source": [
    "In JAX, the control flow syntax must be defined as [structured control flows](https://jax.readthedocs.io/en/latest/notebooks/Common_Gotchas_in_JAX.html#structured-control-flow-primitives). the ``JaxArray`` in BrainPy provides an easier syntax to make control flows. "
   ]
  },
  {
   "cell_type": "markdown",
   "id": "208c28c6",
   "metadata": {
    "pycharm": {
     "name": "#%% md\n"
    }
   },
   "source": [
    "```{note}\n",
    "All the control flow syntax below is not re-implementations of JAX's API for control flows. We only gurantee the following APIs are useful and intuitive when you use ``brainpy.math.JaxArray``. \n",
    "```"
   ]
  },
  {
   "cell_type": "markdown",
   "id": "5ae453ca",
   "metadata": {
    "pycharm": {
     "name": "#%% md\n"
    }
   },
   "source": [
    "## ``brainpy.math.make_loop()``"
   ]
  },
  {
   "cell_type": "markdown",
   "id": "cba23344",
   "metadata": {
    "pycharm": {
     "name": "#%% md\n"
    }
   },
   "source": [
    "``brainpy.math.make_loop()`` is used to generate a for-loop function when you use ``JaxArray``. \n",
    "\n",
    "Suppose that you are using several JaxArrays (grouped as ``dyn_vars``) to implement your body function \"body\\_fun\", and you want to gather the history values of several of them (grouped as ``out_vars``). Sometimes the body function already returns something, and you also want to gather the returned values. With the Python syntax, it can be realized as \n",
    "\n",
    "```python\n",
    "\n",
    "def for_loop_function(body_fun, dyn_vars, out_vars, xs):\n",
    "  ys = []\n",
    "  for x in xs:\n",
    "    # 'dyn_vars' and 'out_vars' are updated in 'body_fun()'\n",
    "    results = body_fun(x)\n",
    "    ys.append([out_vars, results])\n",
    "  return ys\n",
    "\n",
    "```"
   ]
  },
  {
   "cell_type": "markdown",
   "id": "4cbe47d3",
   "metadata": {
    "pycharm": {
     "name": "#%% md\n"
    }
   },
   "source": [
    "In BrainPy, you can define this logic using ``brainpy.math.make_loop()``:\n",
    "\n",
    "```python\n",
    "\n",
    "loop_fun = brainpy.math.make_loop(body_fun, dyn_vars, out_vars, has_return=False)\n",
    "\n",
    "hist_of_out_vars = loop_fun(xs)\n",
    "```\n",
    "\n",
    "Or, \n",
    "\n",
    "```python\n",
    "\n",
    "loop_fun = brainpy.math.make_loop(body_fun, dyn_vars, out_vars, has_return=True)\n",
    "\n",
    "hist_of_out_vars, hist_of_return_vars = loop_fun(xs)\n",
    "```\n"
   ]
  },
  {
   "cell_type": "markdown",
   "id": "b34396d6",
   "metadata": {
    "pycharm": {
     "name": "#%% md\n"
    }
   },
   "source": [
    "Let's implement a recurrent network to illustrate how to use this function. "
   ]
  },
  {
   "cell_type": "code",
   "execution_count": 8,
   "id": "dd570c81",
   "metadata": {
    "pycharm": {
     "name": "#%%\n"
    }
   },
   "outputs": [],
   "source": [
    "class RNN(bp.dyn.DynamicalSystem):\n",
    "  def __init__(self, n_in, n_h, n_out, n_batch, g=1.0, **kwargs):\n",
    "    super(RNN, self).__init__(**kwargs)\n",
    "\n",
    "    # parameters\n",
    "    self.n_in = n_in\n",
    "    self.n_h = n_h\n",
    "    self.n_out = n_out\n",
    "    self.n_batch = n_batch\n",
    "    self.g = g\n",
    "\n",
    "    # weights\n",
    "    self.w_ir = bm.TrainVar(bm.random.normal(scale=1 / n_in ** 0.5, size=(n_in, n_h)))\n",
    "    self.w_rr = bm.TrainVar(bm.random.normal(scale=g / n_h ** 0.5, size=(n_h, n_h)))\n",
    "    self.b_rr = bm.TrainVar(bm.zeros((n_h,)))\n",
    "    self.w_ro = bm.TrainVar(bm.random.normal(scale=1 / n_h ** 0.5, size=(n_h, n_out)))\n",
    "    self.b_ro = bm.TrainVar(bm.zeros((n_out,)))\n",
    "\n",
    "    # variables\n",
    "    self.h = bm.Variable(bm.random.random((n_batch, n_h)))\n",
    "\n",
    "    # function\n",
    "    self.predict = bm.make_loop(self.cell,\n",
    "                                dyn_vars=self.vars(),\n",
    "                                out_vars=self.h,\n",
    "                                has_return=True)\n",
    "\n",
    "  def cell(self, x):\n",
    "    self.h.value = bm.tanh(self.h @ self.w_rr + x @ self.w_ir + self.b_rr)\n",
    "    o = self.h @ self.w_ro + self.b_ro\n",
    "    return o\n",
    "\n",
    "\n",
    "rnn = RNN(n_in=10, n_h=100, n_out=3, n_batch=5)"
   ]
  },
  {
   "cell_type": "markdown",
   "id": "aa61848e",
   "metadata": {
    "pycharm": {
     "name": "#%% md\n"
    }
   },
   "source": [
    "In the above `RNN` model, we define a body function ``RNN.cell`` for later for-loop over input values. The loop function is defined as ``self.predict`` with ``bm.make_loop()``. We care about the history values of \"self.h\" and the readout value \"o\", so we set ``out_vars=self.h`` and ``has_return=True``.  "
   ]
  },
  {
   "cell_type": "code",
   "execution_count": 9,
   "id": "0bd5330a",
   "metadata": {
    "lines_to_next_cell": 2,
    "pycharm": {
     "name": "#%%\n"
    }
   },
   "outputs": [],
   "source": [
    "xs = bm.random.random((100, rnn.n_in))\n",
    "hist_h, hist_o = rnn.predict(xs)"
   ]
  },
  {
   "cell_type": "code",
   "execution_count": 10,
   "id": "18b8d270",
   "metadata": {
    "scrolled": true,
    "pycharm": {
     "name": "#%%\n"
    }
   },
   "outputs": [
    {
     "data": {
      "text/plain": "(100, 5, 100)"
     },
     "execution_count": 10,
     "metadata": {},
     "output_type": "execute_result"
    }
   ],
   "source": [
    "hist_h.shape  # the shape should be (num_time,) + h.shape"
   ]
  },
  {
   "cell_type": "code",
   "execution_count": 11,
   "id": "3424de49",
   "metadata": {
    "pycharm": {
     "name": "#%%\n"
    }
   },
   "outputs": [
    {
     "data": {
      "text/plain": "(100, 5, 3)"
     },
     "execution_count": 11,
     "metadata": {},
     "output_type": "execute_result"
    }
   ],
   "source": [
    "hist_o.shape  # the shape should be (num_time, ) + o.shape"
   ]
  },
  {
   "cell_type": "markdown",
   "id": "3328d9aa",
   "metadata": {
    "pycharm": {
     "name": "#%% md\n"
    }
   },
   "source": [
    "If you have multiple input values, you should wrap them as a container and call the loop function with ``loop_fun(xs)``, where \"xs\" can be a JaxArray or a list/tuple/dict of JaxArray. For example: "
   ]
  },
  {
   "cell_type": "code",
   "execution_count": 12,
   "id": "c4159b0b",
   "metadata": {
    "pycharm": {
     "name": "#%%\n"
    }
   },
   "outputs": [
    {
     "data": {
      "text/plain": "Variable([[ 1.,  1.,  1.,  1.,  1.,  1.,  1.,  1.,  1.,  1.],\n          [ 3.,  3.,  3.,  3.,  3.,  3.,  3.,  3.,  3.,  3.],\n          [ 6.,  6.,  6.,  6.,  6.,  6.,  6.,  6.,  6.,  6.],\n          [10., 10., 10., 10., 10., 10., 10., 10., 10., 10.],\n          [15., 15., 15., 15., 15., 15., 15., 15., 15., 15.],\n          [21., 21., 21., 21., 21., 21., 21., 21., 21., 21.],\n          [28., 28., 28., 28., 28., 28., 28., 28., 28., 28.],\n          [36., 36., 36., 36., 36., 36., 36., 36., 36., 36.],\n          [45., 45., 45., 45., 45., 45., 45., 45., 45., 45.],\n          [55., 55., 55., 55., 55., 55., 55., 55., 55., 55.]],            dtype=float32)"
     },
     "execution_count": 12,
     "metadata": {},
     "output_type": "execute_result"
    }
   ],
   "source": [
    "a = bm.Variable(bm.zeros(10))\n",
    "\n",
    "def body(x):\n",
    "    x1, x2 = x  # \"x\" is a tuple/list of JaxArray\n",
    "    a.value += (x1 + x2)\n",
    "\n",
    "loop = bm.make_loop(body, dyn_vars=[a], out_vars=a)\n",
    "loop(xs=[bm.arange(10), bm.ones(10)])"
   ]
  },
  {
   "cell_type": "code",
   "execution_count": 13,
   "id": "65c1c1e7",
   "metadata": {
    "pycharm": {
     "name": "#%%\n"
    }
   },
   "outputs": [
    {
     "data": {
      "text/plain": "Variable([[ 1.,  1.,  1.,  1.,  1.,  1.,  1.,  1.,  1.,  1.],\n          [ 3.,  3.,  3.,  3.,  3.,  3.,  3.,  3.,  3.,  3.],\n          [ 6.,  6.,  6.,  6.,  6.,  6.,  6.,  6.,  6.,  6.],\n          [10., 10., 10., 10., 10., 10., 10., 10., 10., 10.],\n          [15., 15., 15., 15., 15., 15., 15., 15., 15., 15.],\n          [21., 21., 21., 21., 21., 21., 21., 21., 21., 21.],\n          [28., 28., 28., 28., 28., 28., 28., 28., 28., 28.],\n          [36., 36., 36., 36., 36., 36., 36., 36., 36., 36.],\n          [45., 45., 45., 45., 45., 45., 45., 45., 45., 45.],\n          [55., 55., 55., 55., 55., 55., 55., 55., 55., 55.]],            dtype=float32)"
     },
     "execution_count": 13,
     "metadata": {},
     "output_type": "execute_result"
    }
   ],
   "source": [
    "a = bm.Variable(bm.zeros(10))\n",
    "\n",
    "def body(x):  # \"x\" is a dict of JaxArray\n",
    "    a.value += x['a'] + x['b']\n",
    "\n",
    "loop = bm.make_loop(body, dyn_vars=[a], out_vars=a)\n",
    "loop(xs={'a': bm.arange(10), 'b': bm.ones(10)})"
   ]
  },
  {
   "cell_type": "markdown",
   "id": "f3d07cc8",
   "metadata": {
    "pycharm": {
     "name": "#%% md\n"
    }
   },
   "source": [
    "``dyn_vars``, ``out_vars``, ``xs`` and the body function returns can be arrays with the container structure like tuple/list/dict. The history output values will preserve the container structure of ``out_vars``and body function returns. If ``has_return=True``, the loop function will return a tuple of ``(hist_of_out_vars, hist_of_fun_returns)``. If no values are interested, please set ``out_vars=None``, and the loop function only returns ``hist_of_out_vars``. "
   ]
  },
  {
   "cell_type": "markdown",
   "id": "34b56543",
   "metadata": {
    "pycharm": {
     "name": "#%% md\n"
    }
   },
   "source": [
    "## ``brainpy.math.make_while()``"
   ]
  },
  {
   "cell_type": "markdown",
   "id": "f39450ce",
   "metadata": {
    "pycharm": {
     "name": "#%% md\n"
    }
   },
   "source": [
    "``brainpy.math.make_while()`` is used to generate a while-loop function when you use ``JaxArray``. It supports the following loop logic:\n",
    "\n",
    "```python\n",
    "\n",
    "while condition:\n",
    "    statements\n",
    "```\n",
    "\n",
    "When using ``brainpy.math.make_while()`` , *condition* should be wrapped as a ``cond_fun`` function which returns a boolean value, and *statements* should be packed as a ``body_fun`` function which does not support returned values: \n",
    "\n",
    "```python\n",
    "\n",
    "while cond_fun(x):\n",
    "    body_fun(x)\n",
    "```\n",
    "\n",
    "where ``x`` is the external input that is not iterated. All the iterated variables should be marked as ``JaxArray``. All ``JaxArray``s used in ``cond_fun`` and ``body_fun`` should be declared as ``dyn_vars`` variables. "
   ]
  },
  {
   "cell_type": "markdown",
   "id": "276775fd",
   "metadata": {
    "pycharm": {
     "name": "#%% md\n"
    }
   },
   "source": [
    "Let's look an example:"
   ]
  },
  {
   "cell_type": "code",
   "execution_count": 14,
   "id": "21056150",
   "metadata": {
    "pycharm": {
     "name": "#%%\n"
    }
   },
   "outputs": [],
   "source": [
    "i = bm.Variable(bm.zeros(1))\n",
    "counter = bm.Variable(bm.zeros(1))\n",
    "\n",
    "def cond_f(x): \n",
    "    return i[0] < 10\n",
    "\n",
    "def body_f(x):\n",
    "    i.value += 1.\n",
    "    counter.value += i\n",
    "\n",
    "loop = bm.make_while(cond_f, body_f, dyn_vars=[i, counter])"
   ]
  },
  {
   "cell_type": "markdown",
   "id": "e68a758d",
   "metadata": {
    "pycharm": {
     "name": "#%% md\n"
    }
   },
   "source": [
    "In the above example, we try to implement a sum from 0 to 10 by using two JaxArrays ``i`` and ``counter``. "
   ]
  },
  {
   "cell_type": "code",
   "execution_count": 15,
   "id": "5e23e1bd",
   "metadata": {
    "pycharm": {
     "name": "#%%\n"
    }
   },
   "outputs": [],
   "source": [
    "loop()"
   ]
  },
  {
   "cell_type": "code",
   "execution_count": 16,
   "id": "3ad97ccb",
   "metadata": {
    "pycharm": {
     "name": "#%%\n"
    }
   },
   "outputs": [
    {
     "data": {
      "text/plain": "Variable([55.], dtype=float32)"
     },
     "execution_count": 16,
     "metadata": {},
     "output_type": "execute_result"
    }
   ],
   "source": [
    "counter"
   ]
  },
  {
   "cell_type": "code",
   "execution_count": 17,
   "id": "1025f8e2",
   "metadata": {
    "pycharm": {
     "name": "#%%\n"
    }
   },
   "outputs": [
    {
     "data": {
      "text/plain": "Variable([10.], dtype=float32)"
     },
     "execution_count": 17,
     "metadata": {},
     "output_type": "execute_result"
    }
   ],
   "source": [
    "i"
   ]
  },
  {
   "cell_type": "markdown",
   "id": "57b6f203",
   "metadata": {
    "pycharm": {
     "name": "#%% md\n"
    }
   },
   "source": [
    "## ``brainpy.math.make_cond()``"
   ]
  },
  {
   "cell_type": "markdown",
   "id": "b1de2b36",
   "metadata": {
    "pycharm": {
     "name": "#%% md\n"
    }
   },
   "source": [
    "``brainpy.math.make_cond()`` is used to generate a condition function you use ``JaxArray``. It supports the following conditional logic:\n",
    "\n",
    "```python\n",
    "\n",
    "if True:\n",
    "    true statements \n",
    "else: \n",
    "    false statements\n",
    "```\n",
    "\n",
    "When using ``brainpy.math.make_cond()`` , *true statements* should be wrapped as a ``true_fun`` function which implements logics under true assertion, and *false statements* should be wrapped as a ``false_fun`` function which implements logics under false assertion. Neither function supports returning values.\n",
    "\n",
    "```python\n",
    "\n",
    "if True:\n",
    "    true_fun(x)\n",
    "else:\n",
    "    false_fun(x)\n",
    "```\n",
    "\n",
    "All the ``JaxArray``s used in ``true_fun`` and ``false_fun`` should be declared in the ``dyn_vars`` argument. ``x`` is used to receive the external input value. "
   ]
  },
  {
   "cell_type": "markdown",
   "id": "149d3dc6",
   "metadata": {
    "pycharm": {
     "name": "#%% md\n"
    }
   },
   "source": [
    "Let's make a try:"
   ]
  },
  {
   "cell_type": "code",
   "execution_count": 18,
   "id": "6291da01",
   "metadata": {
    "pycharm": {
     "name": "#%%\n"
    }
   },
   "outputs": [],
   "source": [
    "a = bm.Variable(bm.zeros(2))\n",
    "b = bm.Variable(bm.ones(2))\n",
    "\n",
    "def true_f(x):  a.value += 1\n",
    "\n",
    "def false_f(x): b.value -= 1\n",
    "\n",
    "cond = bm.make_cond(true_f, false_f, dyn_vars=[a, b])"
   ]
  },
  {
   "cell_type": "markdown",
   "id": "c60e61c0",
   "metadata": {
    "pycharm": {
     "name": "#%% md\n"
    }
   },
   "source": [
    "Here, we have two tensors. If true, tensor ``a`` is added by 1; if false, tensor ``b`` is subtracted by 1. "
   ]
  },
  {
   "cell_type": "code",
   "execution_count": 19,
   "id": "838bde45",
   "metadata": {
    "pycharm": {
     "name": "#%%\n"
    }
   },
   "outputs": [
    {
     "data": {
      "text/plain": "(Variable([1., 1.], dtype=float32), Variable([1., 1.], dtype=float32))"
     },
     "execution_count": 19,
     "metadata": {},
     "output_type": "execute_result"
    }
   ],
   "source": [
    "cond(pred=True)\n",
    "\n",
    "a, b"
   ]
  },
  {
   "cell_type": "code",
   "execution_count": 20,
   "id": "8bda2e64",
   "metadata": {
    "scrolled": true,
    "pycharm": {
     "name": "#%%\n"
    }
   },
   "outputs": [
    {
     "data": {
      "text/plain": "(Variable([2., 2.], dtype=float32), Variable([1., 1.], dtype=float32))"
     },
     "execution_count": 20,
     "metadata": {},
     "output_type": "execute_result"
    }
   ],
   "source": [
    "cond(True)\n",
    "\n",
    "a, b"
   ]
  },
  {
   "cell_type": "code",
   "execution_count": 21,
   "id": "302b7342",
   "metadata": {
    "pycharm": {
     "name": "#%%\n"
    }
   },
   "outputs": [
    {
     "data": {
      "text/plain": "(Variable([2., 2.], dtype=float32), Variable([0., 0.], dtype=float32))"
     },
     "execution_count": 21,
     "metadata": {},
     "output_type": "execute_result"
    }
   ],
   "source": [
    "cond(False)\n",
    "\n",
    "a, b"
   ]
  },
  {
   "cell_type": "code",
   "execution_count": 22,
   "id": "320ef7f9",
   "metadata": {
    "pycharm": {
     "name": "#%%\n"
    }
   },
   "outputs": [
    {
     "data": {
      "text/plain": "(Variable([2., 2.], dtype=float32), Variable([-1., -1.], dtype=float32))"
     },
     "execution_count": 22,
     "metadata": {},
     "output_type": "execute_result"
    }
   ],
   "source": [
    "cond(False)\n",
    "\n",
    "a, b"
   ]
  },
  {
   "cell_type": "markdown",
   "id": "6f3dff74",
   "metadata": {
    "pycharm": {
     "name": "#%% md\n"
    }
   },
   "source": [
    "Or, we define a conditional case which depends on the external input. "
   ]
  },
  {
   "cell_type": "code",
   "execution_count": 23,
   "id": "a07844d5",
   "metadata": {
    "pycharm": {
     "name": "#%%\n"
    }
   },
   "outputs": [],
   "source": [
    "a = bm.Variable(bm.zeros(2))\n",
    "b = bm.Variable(bm.ones(2))\n",
    "\n",
    "def true_f(x):  a.value += x\n",
    "\n",
    "def false_f(x): b.value -= x\n",
    "\n",
    "cond = bm.make_cond(true_f, false_f, dyn_vars=[a, b])"
   ]
  },
  {
   "cell_type": "code",
   "execution_count": 24,
   "id": "d1219455",
   "metadata": {
    "pycharm": {
     "name": "#%%\n"
    }
   },
   "outputs": [
    {
     "data": {
      "text/plain": "(Variable([10., 10.], dtype=float32), Variable([1., 1.], dtype=float32))"
     },
     "execution_count": 24,
     "metadata": {},
     "output_type": "execute_result"
    }
   ],
   "source": [
    "cond(True, 10.)\n",
    "\n",
    "a, b"
   ]
  },
  {
   "cell_type": "code",
   "execution_count": 25,
   "id": "d6098980",
   "metadata": {
    "pycharm": {
     "name": "#%%\n"
    }
   },
   "outputs": [
    {
     "data": {
      "text/plain": "(Variable([10., 10.], dtype=float32), Variable([-4., -4.], dtype=float32))"
     },
     "execution_count": 25,
     "metadata": {},
     "output_type": "execute_result"
    }
   ],
   "source": [
    "cond(False, 5.)\n",
    "\n",
    "a, b"
   ]
  }
 ],
 "metadata": {
  "jupytext": {
   "main_language": "python"
  },
  "kernelspec": {
   "name": "python3",
   "language": "python",
   "display_name": "Python 3 (ipykernel)"
  },
  "language_info": {
   "codemirror_mode": {
    "name": "ipython",
    "version": 3
   },
   "file_extension": ".py",
   "mimetype": "text/x-python",
   "name": "python",
   "nbconvert_exporter": "python",
   "pygments_lexer": "ipython3",
   "version": "3.8.8"
  },
  "latex_envs": {
   "LaTeX_envs_menu_present": true,
   "autoclose": false,
   "autocomplete": true,
   "bibliofile": "biblio.bib",
   "cite_by": "apalike",
   "current_citInitial": 1,
   "eqLabelWithNumbers": true,
   "eqNumInitial": 1,
   "hotkeys": {
    "equation": "Ctrl-E",
    "itemize": "Ctrl-I"
   },
   "labels_anchors": false,
   "latex_user_defs": false,
   "report_style_numbering": false,
   "user_envs_cfg": false
  },
  "toc": {
   "base_numbering": 1,
   "nav_menu": {},
   "number_sections": false,
   "sideBar": true,
   "skip_h1_title": false,
   "title_cell": "Table of Contents",
   "title_sidebar": "Contents",
   "toc_cell": false,
   "toc_position": {
    "height": "calc(100% - 180px)",
    "left": "10px",
    "top": "150px",
    "width": "279.273px"
   },
   "toc_section_display": true,
   "toc_window_display": true
  }
 },
 "nbformat": 4,
 "nbformat_minor": 5
}