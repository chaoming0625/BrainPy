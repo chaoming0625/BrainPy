{
 "cells": [
  {
   "cell_type": "markdown",
   "source": [
    "# Random Number Generation for JIT Compilation"
   ],
   "metadata": {
    "collapsed": false
   }
  },
  {
   "cell_type": "markdown",
   "source": [
    "[Chaoming Wang](mailto:chao.brain@qq.com)"
   ],
   "metadata": {
    "collapsed": false
   }
  },
  {
   "cell_type": "markdown",
   "source": [
    "Although ``brainpy.math.random`` is designed to be seamlessly compatible with ``numpy.random``, there are still some differences under the context of JIT compilation.\n",
    "\n",
    "In this section, we are going to talk about how to program a JIT-compatible code with ``brainpy.math.random``."
   ],
   "metadata": {
    "collapsed": false
   }
  },
  {
   "cell_type": "code",
   "execution_count": 1,
   "outputs": [],
   "source": [
    "import brainpy as bp\n",
    "import brainpy.math as bm\n",
    "import numpy as np\n",
    "\n",
    "# bm.set_platform('cpu')"
   ],
   "metadata": {
    "collapsed": false
   }
  },
  {
   "cell_type": "code",
   "execution_count": 2,
   "outputs": [
    {
     "data": {
      "text/plain": "'2.3.0'"
     },
     "execution_count": 2,
     "metadata": {},
     "output_type": "execute_result"
    }
   ],
   "source": [
    "bp.__version__"
   ],
   "metadata": {
    "collapsed": false
   }
  },
  {
   "cell_type": "markdown",
   "source": [
    "## Using ``bm.random`` outside functions to JIT"
   ],
   "metadata": {
    "collapsed": false
   }
  },
  {
   "cell_type": "markdown",
   "source": [
    "Using ``brainpy.math.random`` outside of functions to JIT is the same as using ``numpy.random``.\n",
    "\n",
    "This usage corresponds to the cases that generating random data for further processing. For example,"
   ],
   "metadata": {
    "collapsed": false
   }
  },
  {
   "cell_type": "code",
   "execution_count": 3,
   "outputs": [
    {
     "data": {
      "text/plain": "Array([0.7222161 , 0.2043277 , 0.59838593, 0.255252  , 0.14954388,\n       0.05150986, 0.214692  , 0.03857851, 0.81150043, 0.4669956 ],      dtype=float32)"
     },
     "execution_count": 3,
     "metadata": {},
     "output_type": "execute_result"
    }
   ],
   "source": [
    "bm.random.rand(10)"
   ],
   "metadata": {
    "collapsed": false
   }
  },
  {
   "cell_type": "code",
   "execution_count": 4,
   "outputs": [
    {
     "data": {
      "text/plain": "array([0.60626677, 0.69464463, 0.81361761, 0.1583908 , 0.50378113,\n       0.17677626, 0.7507633 , 0.75699064, 0.33320096, 0.38958635])"
     },
     "execution_count": 4,
     "metadata": {},
     "output_type": "execute_result"
    }
   ],
   "source": [
    "np.random.rand(10)"
   ],
   "metadata": {
    "collapsed": false
   }
  },
  {
   "cell_type": "markdown",
   "source": [
    "When you are using API functions in ``brainpy.math.random``, actually you are calling functions in a default ``RandomState``. Similarly, ``numpy.random`` also has a default ``RandomState``. Calling a random function in ``numpy.random`` module corresponds to calling the random function in this default NumPy ``RandomState``."
   ],
   "metadata": {
    "collapsed": false
   }
  },
  {
   "cell_type": "code",
   "execution_count": 5,
   "outputs": [
    {
     "data": {
      "text/plain": "RandomState(key=([3014124236, 2009892527], dtype=uint32))"
     },
     "execution_count": 5,
     "metadata": {},
     "output_type": "execute_result"
    }
   ],
   "source": [
    "bm.random.DEFAULT"
   ],
   "metadata": {
    "collapsed": false
   }
  },
  {
   "cell_type": "markdown",
   "source": [
    "## Using ``bm.random`` inside a function to JIT"
   ],
   "metadata": {
    "collapsed": false
   }
  },
  {
   "cell_type": "markdown",
   "source": [
    "If you are using random sampling in a JIT function, **there are things you need to pay attention to**. Otherwise, the error is likely to raise."
   ],
   "metadata": {
    "collapsed": false
   }
  },
  {
   "cell_type": "markdown",
   "source": [
    "As I have stated above, ``brainpy.math.random`` functions are using the default ``RandomState``. A ``RandomState`` is an instance of brainpy [Variable](./arrays_and_variables.ipynb), denoting that it has values to change after calling any its built-in random function. What's changing is the `key` of a ``RandomState``. For instance,"
   ],
   "metadata": {
    "collapsed": false
   }
  },
  {
   "cell_type": "code",
   "execution_count": 6,
   "outputs": [
    {
     "name": "stdout",
     "output_type": "stream",
     "text": [
      "Now, the DEFAULT is RandomState(key=([ 873106783, 4065854088], dtype=uint32))\n"
     ]
    }
   ],
   "source": [
    "bm.random.rand(1)\n",
    "print('Now, the DEFAULT is', bm.random.DEFAULT)"
   ],
   "metadata": {
    "collapsed": false
   }
  },
  {
   "cell_type": "code",
   "execution_count": 7,
   "outputs": [
    {
     "name": "stdout",
     "output_type": "stream",
     "text": [
      "Now, the DEFAULT is RandomState(key=([3526960574,  230845945], dtype=uint32))\n"
     ]
    }
   ],
   "source": [
    "bm.random.rand(1)\n",
    "print('Now, the DEFAULT is', bm.random.DEFAULT)"
   ],
   "metadata": {
    "collapsed": false
   }
  },
  {
   "cell_type": "markdown",
   "source": [
    "Therefore, if you do not specify this DEFAULT ``RandomState`` you are using, repeatedly calling random functions in ``brainpy.math.random`` module will not get what you want, because its `key` cannot be updated. For instance,"
   ],
   "metadata": {
    "collapsed": false
   }
  },
  {
   "cell_type": "code",
   "execution_count": 8,
   "outputs": [],
   "source": [
    "@bm.jit\n",
    "def get_data():\n",
    "    return bm.random.random(2)"
   ],
   "metadata": {
    "collapsed": false
   }
  },
  {
   "cell_type": "code",
   "execution_count": 9,
   "outputs": [
    {
     "data": {
      "text/plain": "Array([0.80141556, 0.19009137], dtype=float32)"
     },
     "execution_count": 9,
     "metadata": {},
     "output_type": "execute_result"
    }
   ],
   "source": [
    "get_data()"
   ],
   "metadata": {
    "collapsed": false
   }
  },
  {
   "cell_type": "code",
   "execution_count": 10,
   "outputs": [
    {
     "data": {
      "text/plain": "Array([0.80141556, 0.19009137], dtype=float32)"
     },
     "execution_count": 10,
     "metadata": {},
     "output_type": "execute_result"
    }
   ],
   "source": [
    "get_data()"
   ],
   "metadata": {
    "collapsed": false
   }
  },
  {
   "cell_type": "markdown",
   "source": [
    "A correct way is explicitly declaring you are using this DEFAULT variable in the JIT transformation."
   ],
   "metadata": {
    "collapsed": false
   }
  },
  {
   "cell_type": "code",
   "execution_count": 11,
   "outputs": [],
   "source": [
    "bm.random.seed()"
   ],
   "metadata": {
    "collapsed": false
   }
  },
  {
   "cell_type": "code",
   "execution_count": 12,
   "outputs": [],
   "source": [
    "from functools import partial\n",
    "\n",
    "@partial(bm.jit, dyn_vars=(bm.random.DEFAULT, ))\n",
    "def get_data_v2():\n",
    "    return bm.random.random(2)"
   ],
   "metadata": {
    "collapsed": false
   }
  },
  {
   "cell_type": "code",
   "execution_count": 13,
   "outputs": [
    {
     "data": {
      "text/plain": "Array([0.38541543, 0.5843446 ], dtype=float32)"
     },
     "execution_count": 13,
     "metadata": {},
     "output_type": "execute_result"
    }
   ],
   "source": [
    "get_data_v2()"
   ],
   "metadata": {
    "collapsed": false
   }
  },
  {
   "cell_type": "code",
   "execution_count": 14,
   "outputs": [
    {
     "data": {
      "text/plain": "Array([0.85543776, 0.36957836], dtype=float32)"
     },
     "execution_count": 14,
     "metadata": {},
     "output_type": "execute_result"
    }
   ],
   "source": [
    "get_data_v2()"
   ],
   "metadata": {
    "collapsed": false
   }
  },
  {
   "cell_type": "markdown",
   "source": [
    "Or, declare the function as a `BrainPyObject`, then use ``jit()``."
   ],
   "metadata": {
    "collapsed": false
   }
  },
  {
   "cell_type": "code",
   "execution_count": 15,
   "outputs": [],
   "source": [
    "@bm.jit\n",
    "@bm.to_object(dyn_vars=bm.random.DEFAULT)\n",
    "def get_data_v3():\n",
    "    return bm.random.random(2)"
   ],
   "metadata": {
    "collapsed": false
   }
  },
  {
   "cell_type": "code",
   "execution_count": 16,
   "outputs": [
    {
     "data": {
      "text/plain": "Array([0.31096482, 0.7970413 ], dtype=float32)"
     },
     "execution_count": 16,
     "metadata": {},
     "output_type": "execute_result"
    }
   ],
   "source": [
    "get_data_v3()"
   ],
   "metadata": {
    "collapsed": false
   }
  },
  {
   "cell_type": "code",
   "execution_count": 17,
   "outputs": [
    {
     "data": {
      "text/plain": "Array([0.26830554, 0.15947664], dtype=float32)"
     },
     "execution_count": 17,
     "metadata": {},
     "output_type": "execute_result"
    }
   ],
   "source": [
    "get_data_v3()"
   ],
   "metadata": {
    "collapsed": false
   }
  },
  {
   "cell_type": "markdown",
   "source": [
    "## Using ``RandomState`` for objects to JIT"
   ],
   "metadata": {
    "collapsed": false
   }
  },
  {
   "cell_type": "markdown",
   "source": [
    "Another way I recommend is using instances of ``RandomState`` for objects to JIT. For example, you can initialize a ``RandomState`` in the ``__init__()`` function, then using the initialized ``RandomState`` anywhere."
   ],
   "metadata": {
    "collapsed": false
   }
  },
  {
   "cell_type": "code",
   "execution_count": 18,
   "outputs": [],
   "source": [
    "class MyOb(bp.BrainPyObject):\n",
    "    def __init__(self):\n",
    "        super().__init__()\n",
    "        self.rng = bm.random.RandomState(123)\n",
    "\n",
    "    def __call__(self):\n",
    "        size = (50, 100)\n",
    "        u = self.rng.random(size)\n",
    "        v = self.rng.uniform(size=size)\n",
    "        z = bm.sqrt(-2 * bm.log(u)) * bm.cos(2 * bm.pi * v)\n",
    "        return z"
   ],
   "metadata": {
    "collapsed": false
   }
  },
  {
   "cell_type": "code",
   "execution_count": 19,
   "outputs": [],
   "source": [
    "ob = bm.jit(MyOb())"
   ],
   "metadata": {
    "collapsed": false
   }
  },
  {
   "cell_type": "code",
   "execution_count": 20,
   "outputs": [
    {
     "data": {
      "text/plain": "Array([[ 1.3595979 , -1.3462192 ,  0.7149456 , ...,  1.4283268 ,\n        -1.1362855 , -0.18378317],\n       [-0.26401126, -1.6798397 , -0.8422355 , ...,  1.0795223 ,\n         0.41247413, -0.955116  ],\n       [ 0.6234829 , -0.44811824, -0.03835859, ..., -2.5203867 ,\n        -0.02713326,  1.6490041 ],\n       ...,\n       [-0.9861029 ,  0.36676335, -0.31499916, ...,  1.526808  ,\n        -0.7946268 , -0.86713606],\n       [-1.7008592 , -0.05957834, -0.5677447 , ..., -0.04765594,\n         0.574145  , -0.11830498],\n       [-0.22663854, -1.8517947 , -1.3546717 , ...,  1.2332705 ,\n        -0.79247886, -1.9352005 ]], dtype=float32)"
     },
     "execution_count": 20,
     "metadata": {},
     "output_type": "execute_result"
    }
   ],
   "source": [
    "ob()"
   ],
   "metadata": {
    "collapsed": false
   }
  },
  {
   "cell_type": "markdown",
   "source": [
    "Note that any ``Variable`` instance which can be directly accessed by ``self.`` is able to be automatically found by brainpy's JIT transformation functions.\n",
    "Therefore, in this case, we do not need to pass the ``rng`` into the `dyn_vars` in ``bm.jit()`` function."
   ],
   "metadata": {
    "collapsed": false
   }
  }
 ],
 "metadata": {
  "kernelspec": {
   "name": "brainpy",
   "language": "python",
   "display_name": "brainpy"
  },
  "language_info": {
   "codemirror_mode": {
    "name": "ipython",
    "version": 2
   },
   "file_extension": ".py",
   "mimetype": "text/x-python",
   "name": "python",
   "nbconvert_exporter": "python",
   "pygments_lexer": "ipython2",
   "version": "2.7.6"
  }
 },
 "nbformat": 4,
 "nbformat_minor": 0
}
