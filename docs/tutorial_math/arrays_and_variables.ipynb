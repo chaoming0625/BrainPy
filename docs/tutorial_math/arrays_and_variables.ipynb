{
 "cells": [
  {
   "cell_type": "markdown",
   "id": "677f3629",
   "metadata": {},
   "source": [
    "# Variable"
   ]
  },
  {
   "cell_type": "markdown",
   "id": "e9be090e",
   "metadata": {},
   "source": [
    "@[Xiaoyu Chen](mailto:c-xy17@tsinghua.org.cn)\n",
    "@[Chaoming Wang](mailto:chao.brain@qq.com)"
   ]
  },
  {
   "cell_type": "markdown",
   "id": "b39bc3a4",
   "metadata": {},
   "source": [
    "In this section, we will briefly introduce `brainpy.math.Variable`. It is the foundation for mathematical operations of brain dynamics programming (BDP) in BrainPy."
   ]
  },
  {
   "cell_type": "code",
   "execution_count": 1,
   "outputs": [],
   "source": [
    "import brainpy as bp\n",
    "import brainpy.math as bm\n",
    "\n",
    "# bm.set_platform('cpu')"
   ],
   "metadata": {
    "collapsed": false
   }
  },
  {
   "cell_type": "code",
   "execution_count": 2,
   "outputs": [
    {
     "data": {
      "text/plain": "'2.3.0'"
     },
     "execution_count": 2,
     "metadata": {},
     "output_type": "execute_result"
    }
   ],
   "source": [
    "bp.__version__"
   ],
   "metadata": {
    "collapsed": false
   }
  },
  {
   "cell_type": "markdown",
   "id": "df4fa849",
   "metadata": {},
   "source": [
    "We have talked about the definition, operations, and application of arrays in BrainPy. There are some situations, however, where arrays are not applicable. Due to JIT compilation, static arrays will be compiled as the static values. If you want to change the value of an array, you should name it as a ``brainpy.math.Variable``. Variable tells the JIT compiler that this array should not a static value."
   ]
  },
  {
   "cell_type": "markdown",
   "id": "95334da1",
   "metadata": {},
   "source": [
    "## ``brainpy.math.Variable``"
   ]
  },
  {
   "cell_type": "markdown",
   "id": "dadd6b45",
   "metadata": {},
   "source": [
    "``brainpy.math.Variable`` is a pointer referring to an array. The array is stored as its value. The data in a `Variable` can be changed during JIT compilation. **If an array is labeled as a Variable, it means that it is a dynamical variable that changes during the function call.**"
   ]
  },
  {
   "cell_type": "markdown",
   "id": "27c7f7a1",
   "metadata": {},
   "source": [
    "To create or change a array into a variable, users just need to wrap the array into ``brainpy.math.Variable``:"
   ]
  },
  {
   "cell_type": "code",
   "execution_count": 15,
   "id": "775db063",
   "metadata": {},
   "outputs": [
    {
     "data": {
      "text/plain": "Variable([0, 1, 2, 3], dtype=int32)"
     },
     "execution_count": 15,
     "metadata": {},
     "output_type": "execute_result"
    }
   ],
   "source": [
    "v = bm.Variable(t2)\n",
    "v"
   ]
  },
  {
   "cell_type": "markdown",
   "id": "01e6f148",
   "metadata": {},
   "source": [
    "Note that the array is contained in a \"Variable\" instead of a \"Array\"."
   ]
  },
  {
   "cell_type": "markdown",
   "source": [
    "```{note}\n",
    "Arrays that are not marked as Variables will be JIT compiled as static data. This will cause errors and wrong results.\n",
    "```"
   ],
   "metadata": {
    "collapsed": false
   }
  },
  {
   "cell_type": "markdown",
   "id": "8905e1bd",
   "metadata": {},
   "source": [
    "Users can access the value in the Variable through its attribute `.value`:"
   ]
  },
  {
   "cell_type": "code",
   "execution_count": 16,
   "id": "a90a833e",
   "metadata": {},
   "outputs": [
    {
     "data": {
      "text/plain": "DeviceArray([0, 1, 2, 3], dtype=int32)"
     },
     "execution_count": 16,
     "metadata": {},
     "output_type": "execute_result"
    }
   ],
   "source": [
    "v.value"
   ]
  },
  {
   "cell_type": "markdown",
   "id": "35c0bf25",
   "metadata": {},
   "source": [
    "Since the data inside a Variable is a array, common operations on arrays can be directly grafted to Variables."
   ]
  },
  {
   "cell_type": "markdown",
   "id": "5f41a846",
   "metadata": {},
   "source": [
    "## In-place updating"
   ]
  },
  {
   "cell_type": "markdown",
   "id": "02531880",
   "metadata": {},
   "source": [
    "Though the operations are the same, there are some requirements for updating a Variable. If we directly change a Variable, The returning data will become a array but not a Variable."
   ]
  },
  {
   "cell_type": "code",
   "execution_count": 17,
   "id": "38170c78",
   "metadata": {},
   "outputs": [
    {
     "data": {
      "text/plain": "DeviceArray([2, 3, 4, 5], dtype=int32)"
     },
     "execution_count": 17,
     "metadata": {},
     "output_type": "execute_result"
    }
   ],
   "source": [
    "v2 = v + 2\n",
    "v2"
   ]
  },
  {
   "cell_type": "markdown",
   "id": "6805368a",
   "metadata": {},
   "source": [
    "To update the Variable, users are required to use in-place updating, which only modifies the value inside the Variable but does not change the reference pointing to the Variable. In-place updating operations include:"
   ]
  },
  {
   "cell_type": "markdown",
   "id": "cccb2553",
   "metadata": {},
   "source": [
    "**1\\. Indexing and slicing**\n",
    "\n",
    "  - Indexing: ``v[i] = a``\n",
    "  - Slicing: ``v[i:j] = b``\n",
    "  - Slicing the specific values: ``v[[1, 3]] = c``\n",
    "  - Slicing all values, ``v[:] = d``, ``v[...] = e``\n",
    "\n",
    "for more details, please refer to [Array Objects Indexing](https://numpy.org/doc/stable/reference/arrays.indexing.html)."
   ]
  },
  {
   "cell_type": "code",
   "execution_count": 18,
   "id": "0f0c7b60",
   "metadata": {},
   "outputs": [
    {
     "data": {
      "text/plain": "Variable([10,  9,  9,  3], dtype=int32)"
     },
     "execution_count": 18,
     "metadata": {},
     "output_type": "execute_result"
    }
   ],
   "source": [
    "v[0] = 10\n",
    "v[1:3] = 9\n",
    "v"
   ]
  },
  {
   "cell_type": "markdown",
   "id": "cbedbc1b",
   "metadata": {},
   "source": [
    "**2\\. Augmented assignment**\n",
    "\n",
    "- ``+=`` (add)\n",
    "- ``-=`` (subtract)\n",
    "- ``/=`` (divide)\n",
    "- ``*=`` (multiply)\n",
    "- ``//=`` (floor divide)\n",
    "- ``%=`` (modulo)\n",
    "- ``**=`` (power)\n",
    "- ``&=`` (and)\n",
    "- ``|=`` (or)\n",
    "- ``^=`` (xor)\n",
    "- ``<<=`` (left shift)\n",
    "- ``>>=`` (right shift)"
   ]
  },
  {
   "cell_type": "code",
   "execution_count": 19,
   "id": "96e5fd0e",
   "metadata": {},
   "outputs": [
    {
     "data": {
      "text/plain": "Variable([14, 12, 12,  0], dtype=int32)"
     },
     "execution_count": 19,
     "metadata": {},
     "output_type": "execute_result"
    }
   ],
   "source": [
    "v -= 3\n",
    "v <<= 1\n",
    "v"
   ]
  },
  {
   "cell_type": "markdown",
   "id": "1ef372a7",
   "metadata": {},
   "source": [
    "**3\\. ``.value`` assignment**"
   ]
  },
  {
   "cell_type": "code",
   "execution_count": 20,
   "id": "1c245c84",
   "metadata": {},
   "outputs": [
    {
     "data": {
      "text/plain": "Variable([0, 1, 2, 3], dtype=int32)"
     },
     "execution_count": 20,
     "metadata": {},
     "output_type": "execute_result"
    }
   ],
   "source": [
    "v.value = bm.arange(4)\n",
    "v"
   ]
  },
  {
   "cell_type": "markdown",
   "id": "a81a9857",
   "metadata": {},
   "source": [
    "`` .value`` assignment directly accesses the data stored in the Array. When using `.value`, the new data should be of the same type and shape as the original ones."
   ]
  },
  {
   "cell_type": "code",
   "execution_count": 21,
   "id": "4038eb25",
   "metadata": {},
   "outputs": [
    {
     "name": "stdout",
     "output_type": "stream",
     "text": [
      "<class 'brainpy.errors.MathError'> The dtype of the original data is int32, while we got float32.\n"
     ]
    }
   ],
   "source": [
    "try:\n",
    "    v.value = bm.array([1., 1., 1., 0.])\n",
    "except Exception as e:\n",
    "    print(type(e), e)"
   ]
  },
  {
   "cell_type": "markdown",
   "id": "0bcbce40",
   "metadata": {},
   "source": [
    "**4\\. ``.update()`` method**\n",
    "\n",
    "This method will also check if the new data is of the same type and shape as the original ones."
   ]
  },
  {
   "cell_type": "code",
   "execution_count": 22,
   "id": "0d4e67ae",
   "metadata": {},
   "outputs": [
    {
     "data": {
      "text/plain": "Variable([3, 4, 5, 6], dtype=int32)"
     },
     "execution_count": 22,
     "metadata": {},
     "output_type": "execute_result"
    }
   ],
   "source": [
    "v.update(bm.array([3, 4, 5, 6]))\n",
    "v"
   ]
  },
  {
   "cell_type": "markdown",
   "source": [],
   "metadata": {
    "collapsed": false
   }
  }
 ],
 "metadata": {
  "kernelspec": {
   "name": "brainpy",
   "language": "python",
   "display_name": "brainpy"
  },
  "language_info": {
   "codemirror_mode": {
    "name": "ipython",
    "version": 3
   },
   "file_extension": ".py",
   "mimetype": "text/x-python",
   "name": "python",
   "nbconvert_exporter": "python",
   "pygments_lexer": "ipython3",
   "version": "3.9.12"
  }
 },
 "nbformat": 4,
 "nbformat_minor": 5
}
