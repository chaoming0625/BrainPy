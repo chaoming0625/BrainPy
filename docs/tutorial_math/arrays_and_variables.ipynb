{
 "cells": [
  {
   "cell_type": "markdown",
   "id": "677f3629",
   "metadata": {},
   "source": [
    "# Array, Variable, and Operators"
   ]
  },
  {
   "cell_type": "markdown",
   "id": "e9be090e",
   "metadata": {},
   "source": [
    "@[Xiaoyu Chen](mailto:c-xy17@tsinghua.org.cn)\n",
    "@[Chaoming Wang](mailto:chao.brain@qq.com)"
   ]
  },
  {
   "cell_type": "markdown",
   "id": "b39bc3a4",
   "metadata": {},
   "source": [
    "In this section, we will briefly introduce two basic data structures: `Array` and `Variable`. They form the foundation for mathematical operations of brain dynamics programming (BDP) in BrainPy."
   ]
  },
  {
   "cell_type": "code",
   "execution_count": 1,
   "outputs": [],
   "source": [
    "import brainpy as bp\n",
    "import brainpy.math as bm\n",
    "\n",
    "# bm.set_platform('cpu')"
   ],
   "metadata": {
    "collapsed": false
   }
  },
  {
   "cell_type": "code",
   "execution_count": 2,
   "outputs": [
    {
     "data": {
      "text/plain": "'2.3.0'"
     },
     "execution_count": 2,
     "metadata": {},
     "output_type": "execute_result"
    }
   ],
   "source": [
    "bp.__version__"
   ],
   "metadata": {
    "collapsed": false
   }
  },
  {
   "cell_type": "markdown",
   "id": "da80070c",
   "metadata": {},
   "source": [
    "## Array"
   ]
  },
  {
   "cell_type": "markdown",
   "source": [
    "`brainpy.math.Array` is a wrapper of `jax.numpy.ndarray`. It aims to provide a consistent experience with `numpy.ndarray`.\n",
    "\n",
    "Generally speaking, `brainpy.math.Array` is the same as `numpy.ndarray`. It supports almost the same attributes and operations as those for `numpy.ndarray`.\n",
    "\n",
    "Below we only show basic examples. More details please refer the NumPy's official documentation."
   ],
   "metadata": {
    "collapsed": false
   }
  },
  {
   "cell_type": "markdown",
   "id": "1a5aabd4",
   "metadata": {},
   "source": [
    "### Definition and Attributes"
   ]
  },
  {
   "cell_type": "code",
   "execution_count": 2,
   "id": "20cb90fe",
   "metadata": {},
   "outputs": [
    {
     "data": {
      "text/plain": "Array([[[ 0,  1,  2,  3],\n        [ 1,  2,  3,  4],\n        [ 4,  5,  6,  7]],\n\n       [[ 0,  0,  0,  0],\n        [-1,  1, -1,  1],\n        [ 2, -2,  2, -2]]], dtype=int32)"
     },
     "execution_count": 2,
     "metadata": {},
     "output_type": "execute_result"
    }
   ],
   "source": [
    "t1 = bm.array([[[0, 1, 2, 3], [1, 2, 3, 4], [4, 5, 6, 7]], \n",
    "               [[0, 0, 0, 0], [-1, 1, -1, 1], [2, -2, 2, -2]]])\n",
    "t1"
   ]
  },
  {
   "cell_type": "markdown",
   "id": "d391e7f9",
   "metadata": {},
   "source": [
    "Here we create a 3-dimensional array with the shape of (2, 3, 4) and the type of `int32`. Arrays created by ``brainpy.math`` will be stored in ``Array``, for their future operations will be accelerated by just-in-time (JIT) compilation."
   ]
  },
  {
   "cell_type": "markdown",
   "id": "d206a43a",
   "metadata": {},
   "source": [
    "A array has several important attributes:\n",
    "\n",
    "- **.ndim**: the number of axes (dimensions) of the array.\n",
    "\n",
    "- **.shape**: the dimensions of the array. This is a tuple of integers indicating the size of the array in each dimension. For a matrix with n rows and m columns, the shape will be `(n,m)`. The length of the shape tuple is therefore the number of axes, `ndim`.\n",
    "\n",
    "- **.size**: the total number of elements of the array. This is equal to the product of the elements of shape.\n",
    "\n",
    "- **.dtype**: an object describing the type of the elements in the array. One can create or specify dtypes using standard Python types."
   ]
  },
  {
   "cell_type": "code",
   "execution_count": 3,
   "id": "d4a5e216",
   "metadata": {},
   "outputs": [
    {
     "name": "stdout",
     "output_type": "stream",
     "text": [
      "t1.ndim: 3\n",
      "t1.shape: (2, 3, 4)\n",
      "t1.size: 24\n",
      "t1.dtype: int32\n"
     ]
    }
   ],
   "source": [
    "print('t1.ndim: {}'.format(t1.ndim))\n",
    "print('t1.shape: {}'.format(t1.shape))\n",
    "print('t1.size: {}'.format(t1.size))\n",
    "print('t1.dtype: {}'.format(t1.dtype))"
   ]
  },
  {
   "cell_type": "markdown",
   "id": "6be487b0",
   "metadata": {},
   "source": [
    "Below we will give a few examples of array operations that are commonly used in brain dynamics programming."
   ]
  },
  {
   "cell_type": "markdown",
   "id": "d4b2c475",
   "metadata": {},
   "source": [
    "### Creating a array"
   ]
  },
  {
   "cell_type": "code",
   "execution_count": 4,
   "id": "d2d6d644",
   "metadata": {},
   "outputs": [],
   "source": [
    "t2 = bm.arange(4)\n",
    "# t2: Array([0, 1, 2, 3], dtype=int32)\n",
    "\n",
    "t3 = bm.ones((2, 4)) * 1.5\n",
    "# t3: Array([[1.5, 1.5, 1.5, 1.5],\n",
    "#               [1.5, 1.5, 1.5, 1.5]], dtype=float32)"
   ]
  },
  {
   "cell_type": "markdown",
   "id": "a6af56ae",
   "metadata": {},
   "source": [
    "### Array operations"
   ]
  },
  {
   "cell_type": "code",
   "execution_count": 5,
   "outputs": [
    {
     "data": {
      "text/plain": "DeviceArray([1.5, 1.5, 1.5, 1.5], dtype=float32)"
     },
     "execution_count": 5,
     "metadata": {},
     "output_type": "execute_result"
    }
   ],
   "source": [
    "# indexing and slicing\n",
    "t3[1]"
   ],
   "metadata": {
    "collapsed": false
   }
  },
  {
   "cell_type": "code",
   "execution_count": 6,
   "id": "b7d9fe6c",
   "metadata": {},
   "outputs": [
    {
     "data": {
      "text/plain": "DeviceArray([[1.5, 1.5],\n             [1.5, 1.5]], dtype=float32)"
     },
     "execution_count": 6,
     "metadata": {},
     "output_type": "execute_result"
    }
   ],
   "source": [
    "t3[:, 2:]"
   ]
  },
  {
   "cell_type": "code",
   "execution_count": 7,
   "outputs": [
    {
     "data": {
      "text/plain": "Array([1.5, 2.5, 3.5, 4.5], dtype=float32)"
     },
     "execution_count": 7,
     "metadata": {},
     "output_type": "execute_result"
    }
   ],
   "source": [
    "# algebraic operations\n",
    "t2 + t3[0]"
   ],
   "metadata": {
    "collapsed": false
   }
  },
  {
   "cell_type": "code",
   "execution_count": 8,
   "outputs": [
    {
     "data": {
      "text/plain": "DeviceArray([1.5  , 0.75 , 0.5  , 0.375], dtype=float32)"
     },
     "execution_count": 8,
     "metadata": {},
     "output_type": "execute_result"
    }
   ],
   "source": [
    "t3[0] / t1[0, 1]"
   ],
   "metadata": {
    "collapsed": false
   }
  },
  {
   "cell_type": "code",
   "execution_count": 9,
   "outputs": [
    {
     "data": {
      "text/plain": "Array([3, 4, 5, 6], dtype=int32)"
     },
     "execution_count": 9,
     "metadata": {},
     "output_type": "execute_result"
    }
   ],
   "source": [
    "# broadcasting\n",
    "t2 + 3"
   ],
   "metadata": {
    "collapsed": false
   }
  },
  {
   "cell_type": "code",
   "execution_count": 10,
   "outputs": [
    {
     "data": {
      "text/plain": "Array([[1.5, 2.5, 3.5, 4.5],\n       [1.5, 2.5, 3.5, 4.5]], dtype=float32)"
     },
     "execution_count": 10,
     "metadata": {},
     "output_type": "execute_result"
    }
   ],
   "source": [
    "t2 + t3"
   ],
   "metadata": {
    "collapsed": false
   }
  },
  {
   "cell_type": "code",
   "execution_count": 11,
   "outputs": [
    {
     "data": {
      "text/plain": "Array([9., 9.], dtype=float32)"
     },
     "execution_count": 11,
     "metadata": {},
     "output_type": "execute_result"
    }
   ],
   "source": [
    "# some functions\n",
    "bm.dot(t2, t3.T)"
   ],
   "metadata": {
    "collapsed": false
   }
  },
  {
   "cell_type": "code",
   "execution_count": 12,
   "outputs": [
    {
     "data": {
      "text/plain": "Array([[3, 4, 7],\n       [0, 1, 2]], dtype=int32)"
     },
     "execution_count": 12,
     "metadata": {},
     "output_type": "execute_result"
    }
   ],
   "source": [
    "bm.max(t1, axis=2)"
   ],
   "metadata": {
    "collapsed": false
   }
  },
  {
   "cell_type": "code",
   "execution_count": 13,
   "id": "be731099",
   "metadata": {},
   "outputs": [
    {
     "data": {
      "text/plain": "Array([1.5, 1.5, 1.5, 1.5, 1.5, 1.5, 1.5, 1.5], dtype=float32)"
     },
     "execution_count": 13,
     "metadata": {},
     "output_type": "execute_result"
    }
   ],
   "source": [
    "t3.flatten()\n",
    "# Array([1.5, 1.5, 1.5, 1.5, 1.5, 1.5, 1.5, 1.5], dtype=float32)"
   ]
  },
  {
   "cell_type": "markdown",
   "id": "adf388d0",
   "metadata": {},
   "source": [
    "In BrainPy, arrays can be used to store some parameters related to dynamical models. For example, if we define a group of Integrate-and-Fire (LIF) neurons and wish to assign each neuron with a different time constant $\\tau$, then we can generate an array containing an array of time constants."
   ]
  },
  {
   "cell_type": "code",
   "execution_count": 14,
   "id": "c1c11eba",
   "metadata": {},
   "outputs": [
    {
     "data": {
      "text/plain": "Array([17.865358, 21.120678, 21.62801 , 20.729681, 22.94931 ,\n       18.765892], dtype=float32)"
     },
     "execution_count": 14,
     "metadata": {},
     "output_type": "execute_result"
    }
   ],
   "source": [
    "n = 6  # assume there are 6 LIF neurons\n",
    "tau = bm.random.randn(n)*2. + 20.\n",
    "tau"
   ]
  },
  {
   "cell_type": "markdown",
   "id": "309a04b0",
   "metadata": {},
   "source": [
    "Through the code above, a group of time constants is generated from a normal distribution, with a mean of 20 and a variance of 2."
   ]
  },
  {
   "cell_type": "markdown",
   "id": "6cd5e9bf",
   "metadata": {},
   "source": [
    "## Variable"
   ]
  },
  {
   "cell_type": "markdown",
   "id": "df4fa849",
   "metadata": {},
   "source": [
    "We have talked about the definition, operations, and application of arrays in BrainPy. There are some situations, however, where arrays are not applicable. Due to JIT compilation, static arrays will be compiled as the static values. If you want to change the value of an array, you should name it as a ``brainpy.math.Variable``. Variable tells the JIT compiler that this array should not a static value."
   ]
  },
  {
   "cell_type": "markdown",
   "id": "95334da1",
   "metadata": {},
   "source": [
    "### ``brainpy.math.Variable``"
   ]
  },
  {
   "cell_type": "markdown",
   "id": "dadd6b45",
   "metadata": {},
   "source": [
    "``brainpy.math.Variable`` is a pointer referring to an array. The array is stored as its value. The data in a `Variable` can be changed during JIT compilation. **If an array is labeled as a Variable, it means that it is a dynamical variable that changes during the function call.**"
   ]
  },
  {
   "cell_type": "markdown",
   "id": "27c7f7a1",
   "metadata": {},
   "source": [
    "To create or change a array into a variable, users just need to wrap the array into ``brainpy.math.Variable``:"
   ]
  },
  {
   "cell_type": "code",
   "execution_count": 15,
   "id": "775db063",
   "metadata": {},
   "outputs": [
    {
     "data": {
      "text/plain": "Variable([0, 1, 2, 3], dtype=int32)"
     },
     "execution_count": 15,
     "metadata": {},
     "output_type": "execute_result"
    }
   ],
   "source": [
    "v = bm.Variable(t2)\n",
    "v"
   ]
  },
  {
   "cell_type": "markdown",
   "id": "01e6f148",
   "metadata": {},
   "source": [
    "Note that the array is contained in a \"Variable\" instead of a \"Array\"."
   ]
  },
  {
   "cell_type": "markdown",
   "source": [
    "```{note}\n",
    "Arrays that are not marked as Variables will be JIT compiled as static data. This will cause errors and wrong results.\n",
    "```"
   ],
   "metadata": {
    "collapsed": false
   }
  },
  {
   "cell_type": "markdown",
   "id": "8905e1bd",
   "metadata": {},
   "source": [
    "Users can access the value in the Variable through its attribute `.value`:"
   ]
  },
  {
   "cell_type": "code",
   "execution_count": 16,
   "id": "a90a833e",
   "metadata": {},
   "outputs": [
    {
     "data": {
      "text/plain": "DeviceArray([0, 1, 2, 3], dtype=int32)"
     },
     "execution_count": 16,
     "metadata": {},
     "output_type": "execute_result"
    }
   ],
   "source": [
    "v.value"
   ]
  },
  {
   "cell_type": "markdown",
   "id": "35c0bf25",
   "metadata": {},
   "source": [
    "Since the data inside a Variable is a array, common operations on arrays can be directly grafted to Variables."
   ]
  },
  {
   "cell_type": "markdown",
   "id": "5f41a846",
   "metadata": {},
   "source": [
    "### In-place updating"
   ]
  },
  {
   "cell_type": "markdown",
   "id": "02531880",
   "metadata": {},
   "source": [
    "Though the operations are the same, there are some requirements for updating a Variable. If we directly change a Variable, The returning data will become a array but not a Variable."
   ]
  },
  {
   "cell_type": "code",
   "execution_count": 17,
   "id": "38170c78",
   "metadata": {},
   "outputs": [
    {
     "data": {
      "text/plain": "DeviceArray([2, 3, 4, 5], dtype=int32)"
     },
     "execution_count": 17,
     "metadata": {},
     "output_type": "execute_result"
    }
   ],
   "source": [
    "v2 = v + 2\n",
    "v2"
   ]
  },
  {
   "cell_type": "markdown",
   "id": "6805368a",
   "metadata": {},
   "source": [
    "To update the Variable, users are required to use in-place updating, which only modifies the value inside the Variable but does not change the reference pointing to the Variable. In-place updating operations include:"
   ]
  },
  {
   "cell_type": "markdown",
   "id": "cccb2553",
   "metadata": {},
   "source": [
    "**1\\. Indexing and slicing**\n",
    "\n",
    "  - Indexing: ``v[i] = a``\n",
    "  - Slicing: ``v[i:j] = b``\n",
    "  - Slicing the specific values: ``v[[1, 3]] = c``\n",
    "  - Slicing all values, ``v[:] = d``, ``v[...] = e``\n",
    "\n",
    "for more details, please refer to [Array Objects Indexing](https://numpy.org/doc/stable/reference/arrays.indexing.html)."
   ]
  },
  {
   "cell_type": "code",
   "execution_count": 18,
   "id": "0f0c7b60",
   "metadata": {},
   "outputs": [
    {
     "data": {
      "text/plain": "Variable([10,  9,  9,  3], dtype=int32)"
     },
     "execution_count": 18,
     "metadata": {},
     "output_type": "execute_result"
    }
   ],
   "source": [
    "v[0] = 10\n",
    "v[1:3] = 9\n",
    "v"
   ]
  },
  {
   "cell_type": "markdown",
   "id": "cbedbc1b",
   "metadata": {},
   "source": [
    "**2\\. Augmented assignment**\n",
    "\n",
    "- ``+=`` (add)\n",
    "- ``-=`` (subtract)\n",
    "- ``/=`` (divide)\n",
    "- ``*=`` (multiply)\n",
    "- ``//=`` (floor divide)\n",
    "- ``%=`` (modulo)\n",
    "- ``**=`` (power)\n",
    "- ``&=`` (and)\n",
    "- ``|=`` (or)\n",
    "- ``^=`` (xor)\n",
    "- ``<<=`` (left shift)\n",
    "- ``>>=`` (right shift)"
   ]
  },
  {
   "cell_type": "code",
   "execution_count": 19,
   "id": "96e5fd0e",
   "metadata": {},
   "outputs": [
    {
     "data": {
      "text/plain": "Variable([14, 12, 12,  0], dtype=int32)"
     },
     "execution_count": 19,
     "metadata": {},
     "output_type": "execute_result"
    }
   ],
   "source": [
    "v -= 3\n",
    "v <<= 1\n",
    "v"
   ]
  },
  {
   "cell_type": "markdown",
   "id": "1ef372a7",
   "metadata": {},
   "source": [
    "**3\\. ``.value`` assignment**"
   ]
  },
  {
   "cell_type": "code",
   "execution_count": 20,
   "id": "1c245c84",
   "metadata": {},
   "outputs": [
    {
     "data": {
      "text/plain": "Variable([0, 1, 2, 3], dtype=int32)"
     },
     "execution_count": 20,
     "metadata": {},
     "output_type": "execute_result"
    }
   ],
   "source": [
    "v.value = bm.arange(4)\n",
    "v"
   ]
  },
  {
   "cell_type": "markdown",
   "id": "a81a9857",
   "metadata": {},
   "source": [
    "`` .value`` assignment directly accesses the data stored in the Array. When using `.value`, the new data should be of the same type and shape as the original ones."
   ]
  },
  {
   "cell_type": "code",
   "execution_count": 21,
   "id": "4038eb25",
   "metadata": {},
   "outputs": [
    {
     "name": "stdout",
     "output_type": "stream",
     "text": [
      "<class 'brainpy.errors.MathError'> The dtype of the original data is int32, while we got float32.\n"
     ]
    }
   ],
   "source": [
    "try:\n",
    "    v.value = bm.array([1., 1., 1., 0.])\n",
    "except Exception as e:\n",
    "    print(type(e), e)"
   ]
  },
  {
   "cell_type": "markdown",
   "id": "0bcbce40",
   "metadata": {},
   "source": [
    "**4\\. ``.update()`` method**\n",
    "\n",
    "This method will also check if the new data is of the same type and shape as the original ones."
   ]
  },
  {
   "cell_type": "code",
   "execution_count": 22,
   "id": "0d4e67ae",
   "metadata": {},
   "outputs": [
    {
     "data": {
      "text/plain": "Variable([3, 4, 5, 6], dtype=int32)"
     },
     "execution_count": 22,
     "metadata": {},
     "output_type": "execute_result"
    }
   ],
   "source": [
    "v.update(bm.array([3, 4, 5, 6]))\n",
    "v"
   ]
  },
  {
   "cell_type": "markdown",
   "source": [],
   "metadata": {
    "collapsed": false
   }
  },
  {
   "cell_type": "markdown",
   "source": [
    "## Operators"
   ],
   "metadata": {
    "collapsed": false
   }
  },
  {
   "cell_type": "markdown",
   "source": [
    "### Dense matrix-based operators"
   ],
   "metadata": {
    "collapsed": false
   }
  },
  {
   "cell_type": "markdown",
   "source": [
    "`Array` and `Variable` support all dense matrix-based operators as in NumPy. For example:"
   ],
   "metadata": {
    "collapsed": false
   }
  },
  {
   "cell_type": "markdown",
   "source": [
    "1. Mathematical functions"
   ],
   "metadata": {
    "collapsed": false
   }
  },
  {
   "cell_type": "code",
   "execution_count": 23,
   "outputs": [],
   "source": [
    "a = bm.array([20, 30, 40, 50])\n",
    "b = bm.arange(4)"
   ],
   "metadata": {
    "collapsed": false
   }
  },
  {
   "cell_type": "code",
   "execution_count": 24,
   "outputs": [
    {
     "data": {
      "text/plain": "Array([20, 29, 38, 47], dtype=int32)"
     },
     "execution_count": 24,
     "metadata": {},
     "output_type": "execute_result"
    }
   ],
   "source": [
    "a - b"
   ],
   "metadata": {
    "collapsed": false
   }
  },
  {
   "cell_type": "code",
   "execution_count": 26,
   "outputs": [
    {
     "data": {
      "text/plain": "Array([ 9.129453 , -9.880316 ,  7.4511313, -2.6237485], dtype=float32)"
     },
     "execution_count": 26,
     "metadata": {},
     "output_type": "execute_result"
    }
   ],
   "source": [
    "10 * bm.sin(a)"
   ],
   "metadata": {
    "collapsed": false
   }
  },
  {
   "cell_type": "code",
   "execution_count": 27,
   "outputs": [
    {
     "data": {
      "text/plain": "Array([0, 1, 4, 9], dtype=int32)"
     },
     "execution_count": 27,
     "metadata": {},
     "output_type": "execute_result"
    }
   ],
   "source": [
    "b**2"
   ],
   "metadata": {
    "collapsed": false
   }
  },
  {
   "cell_type": "code",
   "execution_count": 28,
   "outputs": [
    {
     "data": {
      "text/plain": "Array([ True,  True, False, False], dtype=bool)"
     },
     "execution_count": 28,
     "metadata": {},
     "output_type": "execute_result"
    }
   ],
   "source": [
    "a < 35"
   ],
   "metadata": {
    "collapsed": false
   }
  },
  {
   "cell_type": "markdown",
   "source": [
    "2. Linear algebra functions"
   ],
   "metadata": {
    "collapsed": false
   }
  },
  {
   "cell_type": "code",
   "execution_count": 29,
   "outputs": [],
   "source": [
    "A = bm.array([[1, 1],\n",
    "              [0, 1]])\n",
    "B = bm.array([[2, 0],\n",
    "              [3, 4]])"
   ],
   "metadata": {
    "collapsed": false
   }
  },
  {
   "cell_type": "code",
   "execution_count": 30,
   "outputs": [
    {
     "data": {
      "text/plain": "Array([[2, 0],\n       [0, 4]], dtype=int32)"
     },
     "execution_count": 30,
     "metadata": {},
     "output_type": "execute_result"
    }
   ],
   "source": [
    "A * B     # elementwise product"
   ],
   "metadata": {
    "collapsed": false
   }
  },
  {
   "cell_type": "code",
   "execution_count": 31,
   "outputs": [
    {
     "data": {
      "text/plain": "Array([[5, 4],\n       [3, 4]], dtype=int32)"
     },
     "execution_count": 31,
     "metadata": {},
     "output_type": "execute_result"
    }
   ],
   "source": [
    "A @ B     # matrix product"
   ],
   "metadata": {
    "collapsed": false
   }
  },
  {
   "cell_type": "code",
   "execution_count": 32,
   "outputs": [
    {
     "data": {
      "text/plain": "Array([[5, 4],\n       [3, 4]], dtype=int32)"
     },
     "execution_count": 32,
     "metadata": {},
     "output_type": "execute_result"
    }
   ],
   "source": [
    "A.dot(B)  # another matrix product"
   ],
   "metadata": {
    "collapsed": false
   }
  },
  {
   "cell_type": "markdown",
   "source": [
    "3. Discrete Fourier Transform"
   ],
   "metadata": {
    "collapsed": false
   }
  },
  {
   "cell_type": "code",
   "execution_count": 33,
   "outputs": [
    {
     "data": {
      "text/plain": "Array([140. +0.j, -20.+20.j, -20. +0.j, -20.-20.j], dtype=complex64)"
     },
     "execution_count": 33,
     "metadata": {},
     "output_type": "execute_result"
    }
   ],
   "source": [
    "bm.fft.fft(a)"
   ],
   "metadata": {
    "collapsed": false
   }
  },
  {
   "cell_type": "markdown",
   "source": [
    "4. Random sampling"
   ],
   "metadata": {
    "collapsed": false
   }
  },
  {
   "cell_type": "code",
   "execution_count": 35,
   "outputs": [
    {
     "data": {
      "text/plain": "Array([[0.70130324, 0.04279745, 0.9619278 , 0.97293615, 0.4039507 ],\n       [0.2654785 , 0.21006942, 0.68680966, 0.40777338, 0.6556951 ]],            dtype=float32)"
     },
     "execution_count": 35,
     "metadata": {},
     "output_type": "execute_result"
    }
   ],
   "source": [
    "bm.random.rand(2, 5)"
   ],
   "metadata": {
    "collapsed": false
   }
  },
  {
   "cell_type": "markdown",
   "source": [
    "### Sparse and event-based operators"
   ],
   "metadata": {
    "collapsed": false
   }
  },
  {
   "cell_type": "markdown",
   "source": [
    "`Array` and `Variable` also support sparse and event-based operations provided in [brainpylib](https://brainpylib.readthedocs.io/en/latest/)."
   ],
   "metadata": {
    "collapsed": false
   }
  },
  {
   "cell_type": "markdown",
   "source": [
    "These operators are designed to meet the special needs (specifically, the sparse computation and event-driven computation) in brain dynamics modeling."
   ],
   "metadata": {
    "collapsed": false
   }
  },
  {
   "cell_type": "markdown",
   "source": [
    "More details we recommend users to read the documentation of `brainpylib`."
   ],
   "metadata": {
    "collapsed": false
   }
  },
  {
   "cell_type": "markdown",
   "source": [
    "## Further reading"
   ],
   "metadata": {
    "collapsed": false
   }
  },
  {
   "cell_type": "markdown",
   "source": [
    "For more details about the feature of `Array` and its `operations`, we highly recommend to read:\n",
    "\n",
    "- [NumPy quickstart](https://numpy.org/devdocs/user/quickstart.html)\n",
    "- [NumPy: the absolute basics for beginners](https://numpy.org/devdocs/user/absolute_beginners.html)\n",
    "\n",
    "All these features and operations can be available in `brainpy.math`."
   ],
   "metadata": {
    "collapsed": false
   }
  }
 ],
 "metadata": {
  "kernelspec": {
   "name": "brainpy",
   "language": "python",
   "display_name": "brainpy"
  },
  "language_info": {
   "codemirror_mode": {
    "name": "ipython",
    "version": 3
   },
   "file_extension": ".py",
   "mimetype": "text/x-python",
   "name": "python",
   "nbconvert_exporter": "python",
   "pygments_lexer": "ipython3",
   "version": "3.9.12"
  }
 },
 "nbformat": 4,
 "nbformat_minor": 5
}
