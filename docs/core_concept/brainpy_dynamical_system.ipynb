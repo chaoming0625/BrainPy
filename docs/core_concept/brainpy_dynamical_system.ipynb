{
 "cells": [
  {
   "cell_type": "markdown",
   "source": [
    "# Concept 2: Dynamical System"
   ],
   "metadata": {
    "collapsed": false
   }
  },
  {
   "cell_type": "markdown",
   "source": [
    "@[Chaoming Wang](https://github.com/chaoming0625)"
   ],
   "metadata": {
    "collapsed": false
   }
  },
  {
   "cell_type": "markdown",
   "source": [
    "BrainPy supports modelings in brain simulation and brain-inspired computing.\n",
    "\n",
    "All these supports are based on one common concept: **Dynamical System** via ``brainpy.DynamicalSystem``.\n",
    "\n",
    "Therefore, it is essential to understand:\n",
    "1. what is ``brainpy.DynamicalSystem``?\n",
    "2. how to define ``brainpy.DynamicalSystem``?\n",
    "3. how to run ``brainpy.DynamicalSystem``?"
   ],
   "metadata": {
    "collapsed": false
   }
  },
  {
   "cell_type": "code",
   "execution_count": 25,
   "outputs": [
    {
     "data": {
      "text/plain": "'2.3.1'"
     },
     "execution_count": 25,
     "metadata": {},
     "output_type": "execute_result"
    }
   ],
   "source": [
    "import brainpy as bp\n",
    "import brainpy.math as bm\n",
    "\n",
    "bm.set_platform('cpu')\n",
    "\n",
    "bp.__version__"
   ],
   "metadata": {
    "collapsed": false
   }
  },
  {
   "cell_type": "markdown",
   "source": [
    "## What is ``DynamicalSystem``?"
   ],
   "metadata": {
    "collapsed": false
   }
  },
  {
   "cell_type": "markdown",
   "source": [
    "All models used in brain simulation and brain-inspired computing is ``DynamicalSystem``.\n"
   ],
   "metadata": {
    "collapsed": false
   }
  },
  {
   "cell_type": "markdown",
   "source": [
    "```{note}\n",
    "``DynamicalSystem`` is a subclass of ``BrainPyOject``. Therefore it supports to use [object-oriented transformations](./brainpy_transform_concept.ipynb) as stated in the previous tutorial.\n",
    "```"
   ],
   "metadata": {
    "collapsed": false
   }
  },
  {
   "cell_type": "markdown",
   "source": [
    "\n",
    "A ``DynamicalSystem`` defines the updating rule of the model at single time step.\n",
    "\n",
    "1. For models with state, ``DynamicalSystem`` defines the state transition from $t$ to $t+dt$, i.e., $S(t+dt) = F\\left(S(t), x, t, dt\\right)$, where $S$ is the state, $x$ is input, $t$ is the time, and $dt$ is the time step. This is the case for recurrent neural networks (like GRU, LSTM), neuron models (like HH, LIF), or synapse models which are widely used in brain simulation.\n",
    "\n",
    "2. However, for models in deep learning, like convolution and fully-connected linear layers, ``DynamicalSystem`` defines the input-to-output mapping, i.e., $y=F\\left(x, t\\right)$."
   ],
   "metadata": {
    "collapsed": false
   }
  },
  {
   "cell_type": "markdown",
   "source": [
    "![](imgs/dynamical_system.png)"
   ],
   "metadata": {
    "collapsed": false
   }
  },
  {
   "cell_type": "markdown",
   "source": [
    "## How to define ``DynamicalSystem``?"
   ],
   "metadata": {
    "collapsed": false
   }
  },
  {
   "cell_type": "markdown",
   "source": [
    "Keep in mind that the usage of ``DynamicalSystem`` has several constraints in BrainPy."
   ],
   "metadata": {
    "collapsed": false
   }
  },
  {
   "cell_type": "markdown",
   "source": [
    "### 1. ``.update()`` function\n",
    "\n",
    "First, *all ``DynamicalSystem`` should implement ``.update()`` function*, which receives two arguments:\n",
    "\n",
    "```\n",
    "class YourModel(bp.DynamicalSystem):\n",
    "  def update(self, s, x):\n",
    "    pass\n",
    "```\n",
    "\n",
    "- `s` (or named as others): A dict, to indicate shared arguments across all nodes/layers in the network, like\n",
    "    - the current time ``t``, or\n",
    "    - the current running index ``i``, or\n",
    "    - the current time step ``dt``, or\n",
    "    - the current phase of training or testing ``fit=True/False``.\n",
    "- `x` (or named as others): The individual input for this node/layer.\n",
    "\n",
    "We call `s` as shared arguments because they are same and shared for all nodes/layers. On the contrary, different nodes/layers have different input `x`."
   ],
   "metadata": {
    "collapsed": false
   }
  },
  {
   "cell_type": "markdown",
   "source": [
    "**Example: LIF neuron model for brain simulation**\n",
    "\n",
    "Here we illustrate the first constraint of ``DynamicalSystem`` using the Leaky Integrate-and-Fire (LIF) model.\n",
    "\n",
    "The LIF model is firstly proposed in brain simulation for modeling neuron dynamics. Its equation is given by\n",
    "\n",
    "$$\n",
    "\\begin{aligned}\n",
    "\\tau_m \\frac{dV}{dt} = - (V(t) - V_{rest}) + I(t)  \\\\\n",
    "\\text{if} \\, V(t) \\gt V_{th}, V(t) =V_{rest}\n",
    "\\end{aligned}\n",
    "$$\n",
    "\n",
    "For the details of the model, users should refer to Wikipedia or other resource.\n"
   ],
   "metadata": {
    "collapsed": false
   }
  },
  {
   "cell_type": "code",
   "execution_count": 19,
   "outputs": [],
   "source": [
    "class LIF_for_BrainSimulation(bp.DynamicalSystem):\n",
    "  def __init__(self, size, V_rest=0., V_th=1., tau=5., mode=None):\n",
    "    super().__init__(mode=mode)\n",
    "\n",
    "    # this model only supports non-batching mode\n",
    "    bp.check.is_subclass(self.mode, bm.NonBatchingMode)\n",
    "\n",
    "    # parameters\n",
    "    self.size = size\n",
    "    self.V_rest = V_rest\n",
    "    self.V_th = V_th\n",
    "    self.tau = tau\n",
    "\n",
    "    # variables\n",
    "    self.V = bm.Variable(bm.ones(size) * V_rest)\n",
    "    self.spike = bm.Variable(bm.zeros(size, dtype=bool))\n",
    "\n",
    "    # integrate differential equation with exponential euler method\n",
    "    self.integral = bp.odeint(f=lambda V, t, I: (-V + V_rest + I)/tau, method='exp_auto')\n",
    "\n",
    "  def update(self, s, x):\n",
    "    # define how the model states update\n",
    "    # according to the external input\n",
    "    t, dt = s.get('t'), s.get('dt')\n",
    "    V = self.integral(self.V, t, x, dt=dt)\n",
    "    spike = V >= self.V_th\n",
    "    self.V.value = bm.where(spike, self.V_rest, V)\n",
    "    self.spike.value = spike\n",
    "    return spike"
   ],
   "metadata": {
    "collapsed": false
   }
  },
  {
   "cell_type": "markdown",
   "source": [
    "### 2. Computing mode\n",
    "\n",
    "Second, **explicitly consider which computing mode your ``DynamicalSystem`` supports**.\n",
    "\n",
    "Brain simulation usually builds models without batching dimension (we refer to it as *non-batching mode*, as seen in above LIF model), while brain-inspired computation trains models with a batch of data (*batching mode* or *training mode*).\n",
    "\n",
    "So, to write a model applicable to abroad applications in brain simulation and brain-inspired computing, you need to consider which mode your model supports, one of them, or both of them."
   ],
   "metadata": {
    "collapsed": false
   }
  },
  {
   "cell_type": "markdown",
   "source": [
    "**Example: LIF neuron model for both brain simulation and brain-inspired computing**\n",
    "\n",
    "When considering the computing mode, we can program a general LIF model for brain simulation and brain-inspired computing.\n",
    "\n",
    "To overcome the non-differential property of the spike in the LIF model for brain simulation, i.e., at the code of\n",
    "\n",
    "```python\n",
    "spike = V >= self.V_th\n",
    "```\n",
    "\n",
    "LIF models used in brain-inspired computing calculate the spiking state using the surrogate gradient function. Usually, we replace the backward gradient of the spike with a smooth function, like\n",
    "\n",
    "$$\n",
    "g'(x) = \\frac{1}{(\\alpha * |x| + 1.) ^ 2}\n",
    "$$"
   ],
   "metadata": {
    "collapsed": false
   }
  },
  {
   "cell_type": "code",
   "execution_count": 20,
   "outputs": [],
   "source": [
    "class LIF(bp.DynamicalSystem):\n",
    "  def __init__(self, size, f_surrogate=None, V_rest=0., V_th=1., tau=5.,mode=None):\n",
    "    super().__init__(mode=mode)\n",
    "    bp.check.is_subclass(self.mode, [bm.NonBatchingMode, bm.BatchingMode, bm.TrainingMode])\n",
    "\n",
    "    # Parameters\n",
    "    self.size = size\n",
    "    self.num = bp.tools.size2num(size)\n",
    "    self.V_rest = V_rest\n",
    "    self.V_th = V_th\n",
    "    self.tau = tau\n",
    "    if f_surrogate is None:\n",
    "      f_surrogate = bm.surrogate.inv_square_grad\n",
    "    self.f_surrogate = f_surrogate\n",
    "\n",
    "    # integrate differential equation with exponential euler method\n",
    "    self.integral = bp.odeint(f=lambda V, t, I: (-V + V_rest + I)/tau, method='exp_auto')\n",
    "\n",
    "    # Initialize a Variable:\n",
    "    # - if non-batching mode, batch axis of V is None\n",
    "    # - if batching mode,     batch axis of V is 0\n",
    "    self.V = bp.init.variable_(bm.zeros, self.size, self.mode)\n",
    "    self.V[:] = self.V_rest\n",
    "    self.spike = bp.init.variable_(bm.zeros, self.size, self.mode)\n",
    "\n",
    "  def reset_state(self, batch_size=None):\n",
    "    self.V.value = bp.init.variable_(bm.ones, self.size, batch_size) * self.V_rest\n",
    "    self.spike.value = bp.init.variable_(bm.zeros, self.size, batch_size)\n",
    "\n",
    "  def update(self, s, x):\n",
    "    t, dt = s.get('t'), s.get('dt', bm.dt)\n",
    "    V = self.integral(self.V, t, x, dt=dt)\n",
    "    # replace non-differential heaviside function\n",
    "    # with a surrogate gradient function\n",
    "    spike = self.f_surrogate(V - self.V_th)\n",
    "    # reset membrane potential\n",
    "    self.V.value = (1. - spike) * V + spike * self.V_rest\n",
    "    self.spike.value = spike\n",
    "    return spike"
   ],
   "metadata": {
    "collapsed": false
   }
  },
  {
   "cell_type": "markdown",
   "source": [
    "### Model composition\n",
    "\n",
    "The ``LIF`` model we have defined above can be recursively composed to construct networks in brain simulation and brain-inspired computing."
   ],
   "metadata": {
    "collapsed": false
   }
  },
  {
   "cell_type": "markdown",
   "source": [
    "The following code snippet utilizes the LIF model to build an E/I balanced network ``EINet``, which is a classical network model in brain simulation."
   ],
   "metadata": {
    "collapsed": false
   }
  },
  {
   "cell_type": "code",
   "execution_count": 21,
   "outputs": [],
   "source": [
    "class EINet(bp.DynamicalSystem):\n",
    "  def __init__(self, num_exc, num_inh):\n",
    "    super().__init__()\n",
    "    self.E = LIF(num_exc, V_rest=-55, V_th=-50., tau=20.)\n",
    "    self.I = LIF(num_inh, V_rest=-55, V_th=-50., tau=20.)\n",
    "    self.E2E = bp.synapses.Exponential(self.E, self.E, bp.conn.FixedProb(0.02),\n",
    "                                       g_max=1.62, tau=5., output=None)\n",
    "    self.E2I = bp.synapses.Exponential(self.E, self.I, bp.conn.FixedProb(0.02),\n",
    "                                       g_max=1.62, tau=5., output=None)\n",
    "    self.I2E = bp.synapses.Exponential(self.I, self.E, bp.conn.FixedProb(0.02),\n",
    "                                       g_max=-9.0, tau=10., output=None)\n",
    "    self.I2I = bp.synapses.Exponential(self.I, self.I, bp.conn.FixedProb(0.02),\n",
    "                                       g_max=-9.0, tau=10., output=None)\n",
    "\n",
    "  def update(self, s, x):\n",
    "    # x is the background input\n",
    "    e2e = self.E2E(s)\n",
    "    e2i = self.E2I(s)\n",
    "    i2e = self.I2E(s)\n",
    "    i2i = self.I2I(s)\n",
    "    self.E(s, e2e + i2e + x)\n",
    "    self.I(s, e2i + i2i + x)\n",
    "\n",
    "with bm.environment(mode=bm.nonbatching_mode):\n",
    "  net1 = EINet(3200, 800)"
   ],
   "metadata": {
    "collapsed": false
   }
  },
  {
   "cell_type": "markdown",
   "source": [
    "Moreover, our LIF model can also be used in brain-inspired computing scenario. The following ``AINet`` uses the LIF model to construct a model for AI training."
   ],
   "metadata": {
    "collapsed": false
   }
  },
  {
   "cell_type": "code",
   "execution_count": 22,
   "outputs": [],
   "source": [
    "# This network can be used in AI applications\n",
    "\n",
    "class AINet(bp.DynamicalSystem):\n",
    "  def __init__(self, sizes):\n",
    "    super().__init__()\n",
    "    self.neu1 = LIF(sizes[0])\n",
    "    self.syn1 = bp.layers.Dense(sizes[0], sizes[1])\n",
    "    self.neu2 = LIF(sizes[1])\n",
    "    self.syn2 = bp.layers.Dense(sizes[1], sizes[2])\n",
    "    self.neu3 = LIF(sizes[2])\n",
    "\n",
    "  def update(self, s, x):\n",
    "    x = self.neu1(s, x)\n",
    "    x = self.syn1(s, x)\n",
    "    x = self.neu2(s, x)\n",
    "    x = self.syn2(s, x)\n",
    "    x = self.neu3(s, x)\n",
    "    return x\n",
    "\n",
    "with bm.environment(mode=bm.training_mode):\n",
    "  net2 = AINet([100, 50, 10])"
   ],
   "metadata": {
    "collapsed": false
   }
  },
  {
   "cell_type": "markdown",
   "source": [
    "## How to run ``DynamicalSystem``?"
   ],
   "metadata": {
    "collapsed": false
   }
  },
  {
   "cell_type": "markdown",
   "source": [
    "As we have stated above that ``DynamicalSystem`` only defines the updating rule at single time step, to run a ``DynamicalSystem`` instance over time, we need a for loop mechanism.\n",
    "\n",
    "![](./imgs/dynamical_system_and_dsrunner.png)"
   ],
   "metadata": {
    "collapsed": false
   }
  },
  {
   "cell_type": "markdown",
   "source": [
    "### 1. ``brainpy.math.for_loop``\n",
    "\n",
    "``for_loop`` is a structural control flow API which runs a function with the looping over the inputs. Moreover, this API just-in-time compile the looping process into the machine code.\n",
    "\n",
    "Suppose we have 200 time steps with the step size of 0.1, we can run the model with:"
   ],
   "metadata": {
    "collapsed": false
   }
  },
  {
   "cell_type": "code",
   "execution_count": 23,
   "outputs": [
    {
     "data": {
      "text/plain": "(200, 10, 10)"
     },
     "execution_count": 23,
     "metadata": {},
     "output_type": "execute_result"
    }
   ],
   "source": [
    "with bm.environment(dt=0.1):\n",
    "  # construct a set of shared argument with the given time steps\n",
    "  shared = bm.shared_args_over_time(num_step=200)\n",
    "  # construct the inputs with shape of (time, batch, feature)\n",
    "  currents = bm.random.rand(200, 10, 100)\n",
    "\n",
    "  # run the model\n",
    "  net2.reset_state(batch_size=10)\n",
    "  out = bm.for_loop(net2, (shared, currents))\n",
    "\n",
    "out.shape"
   ],
   "metadata": {
    "collapsed": false
   }
  },
  {
   "cell_type": "markdown",
   "source": [
    "### 2. ``brainpy.DSRunner``\n",
    "\n",
    "Another way to run the model in BrainPy is using the structural running object ``DSRunner`` and ``DSTrainer``. They provide more flexible way to monitoring the variables in a ``DynamicalSystem``. The details users should refer to the [DSRunner tutorial](../tutorial_simulation/simulation_dsrunner.ipynb).\n"
   ],
   "metadata": {
    "collapsed": false
   }
  },
  {
   "cell_type": "code",
   "execution_count": 24,
   "outputs": [
    {
     "data": {
      "text/plain": "  0%|          | 0/1000 [00:00<?, ?it/s]",
      "application/vnd.jupyter.widget-view+json": {
       "version_major": 2,
       "version_minor": 0,
       "model_id": "877e3a333fef466e8189a9db2a99fa2a"
      }
     },
     "metadata": {},
     "output_type": "display_data"
    },
    {
     "data": {
      "text/plain": "<Figure size 432x288 with 1 Axes>",
      "image/png": "[encoded data removed]"
     },
     "metadata": {
      "needs_background": "light"
     },
     "output_type": "display_data"
    }
   ],
   "source": [
    "with bm.environment(dt=0.1):\n",
    "  runner = bp.DSRunner(net1, monitors={'E.spike': net1.E.spike, 'I.sike': net1.I.spike})\n",
    "  runner.run(inputs=bm.ones(1000) * 20.)\n",
    "\n",
    "bp.visualize.raster_plot(runner.mon['ts'], runner.mon['E.spike'])"
   ],
   "metadata": {
    "collapsed": false
   }
  },
  {
   "cell_type": "markdown",
   "source": [],
   "metadata": {
    "collapsed": false
   }
  }
 ],
 "metadata": {
  "kernelspec": {
   "display_name": "Python 3",
   "language": "python",
   "name": "python3"
  },
  "language_info": {
   "codemirror_mode": {
    "name": "ipython",
    "version": 2
   },
   "file_extension": ".py",
   "mimetype": "text/x-python",
   "name": "python",
   "nbconvert_exporter": "python",
   "pygments_lexer": "ipython2",
   "version": "2.7.6"
  }
 },
 "nbformat": 4,
 "nbformat_minor": 0
}
