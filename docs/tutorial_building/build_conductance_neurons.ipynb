{
 "cells": [
  {
   "cell_type": "markdown",
   "metadata": {
    "pycharm": {
     "name": "#%% md\n"
    }
   },
   "source": [
    "# Building Conductance-based Neuron Models"
   ]
  },
  {
   "cell_type": "markdown",
   "metadata": {
    "pycharm": {
     "name": "#%% md\n"
    }
   },
   "source": [
    "@[Xiaoyu Chen](mailto:c-xy17@tsinghua.org.cn) "
   ]
  },
  {
   "cell_type": "markdown",
   "metadata": {
    "pycharm": {
     "name": "#%% md\n"
    }
   },
   "source": [
    "There are basically two types of neuron models: **conductance-based models** and **simplified models**. In conductance-based models, a single neuron can be regarded as a electric circuit, where the membrane is a capacitor, ion channels are conductors, and ion gradients are batteries. The neuronal activity is captured by the current flows through those ion channels. Sometimes there is an external input to this neuron, which can also be included in the equivalent circuit (see the figure below which shows potassium channels, sodium channels and leaky channels).\n",
    "\n",
    "<img src=\"../_static/conductance_model_diagram.png\" width=\"400 px\">"
   ]
  },
  {
   "cell_type": "markdown",
   "source": [
    "On the other hand, simplified models do not care about the physiological features of neurons but mainly focus on how to reproduce the exact spike timing. Therefore, they are more simplified and maybe not biologically explicable.\n",
    "\n",
    "BrainPy provides a large volume of [predefined neuron models](../apis/auto/dyn/neurons.rst) including conductance-based and simplified models for ease of use. In this section, we will only talk about how to build conductance-based models by ion channels. Users please refer to [Customizing Your Neuron Models](customize_neuron_models.ipynb) for more information."
   ],
   "metadata": {
    "collapsed": false,
    "pycharm": {
     "name": "#%% md\n"
    }
   }
  },
  {
   "cell_type": "markdown",
   "source": [
    "## Building an ion channel"
   ],
   "metadata": {
    "collapsed": false,
    "pycharm": {
     "name": "#%% md\n"
    }
   }
  },
  {
   "cell_type": "markdown",
   "metadata": {
    "pycharm": {
     "name": "#%% md\n"
    }
   },
   "source": [
    "As we have known, ion channels are crucial for conductance-based neuron models. So how do we model an ion channel? Let's take a look at the potassium channel for instance.\n",
    "\n",
    "<img src=\"../_static/potassium_channel_equivalent_circuit.png\" width=\"500 px\">"
   ]
  },
  {
   "cell_type": "markdown",
   "metadata": {
    "pycharm": {
     "name": "#%% md\n"
    }
   },
   "source": [
    "The diagram above shows how a potassium channel is changed to an electric circuit. By this, we have the differential equation:\n",
    "\n",
    "$$\n",
    "\\begin{align}\n",
    "c_\\mathrm{M} \\frac{\\mathrm{d}V_\\mathrm{M}}{\\mathrm{d}t} &= \\frac{E_\\mathrm{K} - V_\\mathrm{M}}{R_\\mathrm{K}} \\\\\n",
    "&= g_\\mathrm{K}(E_\\mathrm{K} - V_\\mathrm{M}),\n",
    "\\end{align}\n",
    "$$\n",
    "\n",
    "in which $c_\\mathrm{M}$ is the membrane capacitance, $\\mathrm{d}V_\\mathrm{M}$ is the membrane potential, $E_\\mathrm{K}$ is the equilibrium potential of potassium ions, and $R_\\mathrm{K}$ ($g_\\mathrm{K}$) refers to the resistance (conductance) of the potassium channel. We define currents from inside to outside as the positive direction.\n",
    "\n",
    "In the equation above, the conductance of potassium channels $g_\\mathrm{K}$ does not remain a constant, but changes according to the membrane potential, by which the channel is categorized as **voltage-gated ion channels**. If we want to build an ion channel model, we should figure out how the conductance of the ion channel changes with membrane potential.\n",
    "\n",
    "Fortunately, there has been a lot of work addressing this issue to formulate analytical expressions. For example, the conductance of one typical potassium channel can be written as:\n",
    "\n",
    "$$\n",
    "\\begin{align}\n",
    "g_\\mathrm{K} &= \\bar{g}_\\mathrm{K} n^4, \\\\\n",
    "\\frac{\\mathrm{d}n}{\\mathrm{d}t} &= \\phi [\\alpha_n(V)(1-n) - \\beta_n(V)n],\n",
    "\\end{align}\n",
    "$$\n",
    "\n",
    "in which $\\bar{g}_\\mathrm{K}$ refers to the maximal conductance and $n$, also named the gating variable, refers to the probability (proportion) of potassium channels to open. $\\phi$ is a parameter showing the effects of temperature. In the differential equation of $n$, there are two parameters, $\\alpha_n(V)$ and $\\beta_n(V)$, that change with membrane potential:\n",
    "\n",
    "$$\n",
    "\\begin{align}\n",
    "\\alpha_n(V) &= \\frac{0.01(V+55)}{1 - \\exp(-\\frac{V+55}{10})}, \\\\\n",
    "\\beta_n(V) &= 0.125 \\exp\\left(-\\frac{V+65}{80}\\right).\n",
    "\\end{align}\n",
    "$$"
   ]
  },
  {
   "cell_type": "markdown",
   "metadata": {
    "pycharm": {
     "name": "#%% md\n"
    }
   },
   "source": [
    "Now we have learned the mathematical expression of the potassium channel. Next, we try to build this channel in BrainPy."
   ]
  },
  {
   "cell_type": "code",
   "execution_count": 6,
   "metadata": {
    "pycharm": {
     "name": "#%%\n"
    }
   },
   "outputs": [],
   "source": [
    "import brainpy as bp\n",
    "import brainpy.math as bm\n",
    "\n",
    "bm.set_platform('cpu')\n",
    "\n",
    "\n",
    "class IK(bp.dyn.Channel):\n",
    "  def __init__(self, size, E=-77., g_max=36., phi=1., method='exp_auto'):\n",
    "    super(IK, self).__init__(size)\n",
    "    self.g_max = g_max\n",
    "    self.E = E\n",
    "    self.phi = phi\n",
    "\n",
    "    self.n = bm.Variable(bm.zeros(size))  # variables should be packed with bm.Variable\n",
    "    \n",
    "    self.integral = bp.odeint(self.dn, method=method)\n",
    "\n",
    "  def dn(self, n, t, V):\n",
    "    alpha_n = 0.01 * (V + 55) / (1 - bm.exp(-(V + 55) / 10))\n",
    "    beta_n = 0.125 * bm.exp(-(V + 65) / 80)\n",
    "    return self.phi * (alpha_n * (1. - n) - beta_n * n)\n",
    "\n",
    "  def update(self, tdi, V):\n",
    "    self.n.value = self.integral(self.n, tdi.t, V, dt=tdi.dt)\n",
    "\n",
    "  def current(self, V):\n",
    "    return self.g_max * self.n ** 4 * (self.E - V)"
   ]
  },
  {
   "cell_type": "markdown",
   "metadata": {
    "pycharm": {
     "name": "#%% md\n"
    }
   },
   "source": [
    "Note that besides the initialzation and update function, **another function named ``current()`` that computes the current flow through this channel must be implemented**. Then this potassium channel model can be used as a building block for assembling a conductance-based neuron model."
   ]
  },
  {
   "cell_type": "markdown",
   "metadata": {
    "pycharm": {
     "name": "#%% md\n"
    }
   },
   "source": [
    "## Building a conductance-based neuron model with ion channels"
   ]
  },
  {
   "cell_type": "markdown",
   "metadata": {
    "pycharm": {
     "name": "#%% md\n"
    }
   },
   "source": [
    "Instead of building a conductance-based model from scratch, we can utilize ion channel models as building blocks to assemble a neuron model in a modular and convenient way. Now let's try to construct a **Hodgkin-Hoxley (HH) model** (jump to [here](customize_neuron_models.ipynb) for the complete mathematical expression of the HH model).\n",
    "\n"
   ]
  },
  {
   "cell_type": "markdown",
   "metadata": {
    "pycharm": {
     "name": "#%% md\n"
    }
   },
   "source": [
    "The HH neuron models the cuurent flows of potassium, sodium, and leaky channels. Besides the potassium channel that we implemented, we can import the other channel models from ``brainpy.dyn.channels``:"
   ]
  },
  {
   "cell_type": "code",
   "execution_count": 3,
   "metadata": {
    "pycharm": {
     "name": "#%%\n"
    }
   },
   "outputs": [],
   "source": [
    "from brainpy.dyn.channels import INa_HH1952, IL\n",
    "# actually the potassium channel we implemented can also be found in this package as 'IK_HH1952'"
   ]
  },
  {
   "cell_type": "markdown",
   "metadata": {
    "pycharm": {
     "name": "#%% md\n"
    }
   },
   "source": [
    "Then we wrap these three channels into a single neuron model:"
   ]
  },
  {
   "cell_type": "code",
   "execution_count": 4,
   "metadata": {
    "pycharm": {
     "name": "#%%\n"
    }
   },
   "outputs": [],
   "source": [
    "class HH(bp.dyn.CondNeuGroup):\n",
    "  def __init__(self, size):\n",
    "    super(HH, self).__init__(size, V_initializer=bp.init.Uniform(-70, -50.))\n",
    "    self.IK = IK(size, E=-77., g_max=36.)\n",
    "    self.INa = INa_HH1952(size, E=50., g_max=120.)\n",
    "    self.IL = IL(size, E=-54.39, g_max=0.03)"
   ]
  },
  {
   "cell_type": "markdown",
   "metadata": {
    "pycharm": {
     "name": "#%% md\n"
    }
   },
   "source": [
    "Here the `HH` class should inherit the superclass **`bp.dyn.CondNeuGroup`**, which will automatically integrate the current flows by calling the `current()` function of each channel model to compute the neuronal activity when running a simulation.\n",
    "\n",
    "Surprisingly, the model contruction is finished! Users do not need to implement the update function of the neuron model as `CondNeuGroup` has its own way to update variables (like the membrane potential `V` and spiking sequence `spike`) implicitly."
   ]
  },
  {
   "cell_type": "markdown",
   "metadata": {
    "pycharm": {
     "name": "#%% md\n"
    }
   },
   "source": [
    "Now let's run a simulation of this HH model to examine the changes of the inner variables.\n",
    "\n",
    "First of all, we instantiate a neuron group with 1 HH neuron:"
   ]
  },
  {
   "cell_type": "code",
   "execution_count": 7,
   "metadata": {
    "pycharm": {
     "name": "#%%\n"
    }
   },
   "outputs": [],
   "source": [
    "neu = HH(1)"
   ]
  },
  {
   "cell_type": "markdown",
   "metadata": {
    "pycharm": {
     "name": "#%% md\n"
    }
   },
   "source": [
    "Then we wrap the neuron group into a dynamical-system runner `DSRunner` for running a simulation:"
   ]
  },
  {
   "cell_type": "code",
   "execution_count": 28,
   "metadata": {
    "pycharm": {
     "name": "#%%\n"
    }
   },
   "outputs": [],
   "source": [
    "runner = bp.dyn.DSRunner(\n",
    "    neu, \n",
    "    monitors=['V', 'IK.n', 'INa.p', 'INa.q'], \n",
    "    inputs=('input', 6.)  # constant external inputs of 6 mA to all neurons\n",
    ")"
   ]
  },
  {
   "cell_type": "markdown",
   "metadata": {
    "pycharm": {
     "name": "#%% md\n"
    }
   },
   "source": [
    "Then we run the simulation and visualize the result:"
   ]
  },
  {
   "cell_type": "code",
   "execution_count": 29,
   "metadata": {
    "pycharm": {
     "name": "#%%\n"
    }
   },
   "outputs": [
    {
     "data": {
      "application/vnd.jupyter.widget-view+json": {
       "model_id": "7f512f1c74124a4ab1cf6606bd9a2f7d",
       "version_major": 2,
       "version_minor": 0
      },
      "text/plain": [
       "  0%|          | 0/2000 [00:00<?, ?it/s]"
      ]
     },
     "metadata": {},
     "output_type": "display_data"
    },
    {
     "data": {
      "image/png": "[encoded data removed]",
      "text/plain": [
       "<Figure size 432x288 with 1 Axes>"
      ]
     },
     "metadata": {
      "needs_background": "light"
     },
     "output_type": "display_data"
    }
   ],
   "source": [
    "runner.run(200)  # the running time is 200 ms\n",
    "\n",
    "import matplotlib.pyplot as plt\n",
    "\n",
    "plt.plot(runner.mon['ts'], runner.mon['V'])\n",
    "plt.xlabel('t (ms)')\n",
    "plt.ylabel('V (mV)')\n",
    "\n",
    "plt.show()"
   ]
  },
  {
   "cell_type": "markdown",
   "metadata": {
    "pycharm": {
     "name": "#%% md\n"
    }
   },
   "source": [
    "We can also visualize the changes of the gating variables of sodium and potassium channels:"
   ]
  },
  {
   "cell_type": "code",
   "execution_count": 30,
   "metadata": {
    "pycharm": {
     "name": "#%%\n"
    }
   },
   "outputs": [
    {
     "data": {
      "image/png": "[encoded data removed]",
      "text/plain": [
       "<Figure size 432x144 with 1 Axes>"
      ]
     },
     "metadata": {
      "needs_background": "light"
     },
     "output_type": "display_data"
    }
   ],
   "source": [
    "plt.figure(figsize=(6, 2))\n",
    "plt.plot(runner.mon['ts'], runner.mon['IK.n'], label='n')\n",
    "plt.plot(runner.mon['ts'], runner.mon['INa.p'], label='m')\n",
    "plt.plot(runner.mon['ts'], runner.mon['INa.q'], label='h')\n",
    "plt.xlabel('t (ms)')\n",
    "plt.legend()\n",
    "\n",
    "plt.show()"
   ]
  },
  {
   "cell_type": "markdown",
   "metadata": {
    "pycharm": {
     "name": "#%% md\n"
    }
   },
   "source": [
    "By combining different ion channels, we can get different types of conductance-based neuron models easily and straightforwardly. To see all predifined channel models in BrainPy, please click [here](../apis/dyn.rst)."
   ]
  }
 ],
 "metadata": {
  "kernelspec": {
   "display_name": "Python 3 (ipykernel)",
   "language": "python",
   "name": "python3"
  },
  "language_info": {
   "codemirror_mode": {
    "name": "ipython",
    "version": 3
   },
   "file_extension": ".py",
   "mimetype": "text/x-python",
   "name": "python",
   "nbconvert_exporter": "python",
   "pygments_lexer": "ipython3",
   "version": "3.9.7"
  }
 },
 "nbformat": 4,
 "nbformat_minor": 1
}