{
 "cells": [
  {
   "cell_type": "markdown",
   "source": [
    "# Training with Back-propagation Algorithms"
   ],
   "metadata": {
    "collapsed": false
   }
  },
  {
   "cell_type": "markdown",
   "source": [
    "Back-propagation (BP) trainings have become foundations in machine learning algorithms. In this section, we are going to talk about how to train models with BP."
   ],
   "metadata": {
    "collapsed": false
   }
  },
  {
   "cell_type": "code",
   "execution_count": 18,
   "outputs": [
    {
     "data": {
      "text/plain": "'2.3.0'"
     },
     "execution_count": 18,
     "metadata": {},
     "output_type": "execute_result"
    }
   ],
   "source": [
    "import brainpy as bp\n",
    "import brainpy.math as bm\n",
    "import brainpy_datasets as bd\n",
    "import numpy as np\n",
    "\n",
    "bm.set_platform('cpu')\n",
    "\n",
    "bp.__version__"
   ],
   "metadata": {
    "collapsed": false
   }
  },
  {
   "cell_type": "markdown",
   "source": [
    "Here, we train two kinds of models to classify MNIST dataset. The first is ANN models commonly used in deep neural networks. The second is SNN models."
   ],
   "metadata": {
    "collapsed": false
   }
  },
  {
   "cell_type": "markdown",
   "source": [
    "## Train a ANN model"
   ],
   "metadata": {
    "collapsed": false
   }
  },
  {
   "cell_type": "markdown",
   "source": [
    "We first build a three layer ANN model:\n",
    "\n",
    "```bash\n",
    "\n",
    "i >> r >> o\n",
    "```\n",
    "\n",
    "where the recurrent layer ``r`` is a LSTM cell, the output ``o`` is a linear readout."
   ],
   "metadata": {
    "collapsed": false
   }
  },
  {
   "cell_type": "code",
   "execution_count": 19,
   "outputs": [],
   "source": [
    "class ANNModel(bp.dyn.DynamicalSystem):\n",
    "    def __init__(self, num_in, num_rec, num_out):\n",
    "        super(ANNModel, self).__init__()\n",
    "        self.rec = bp.layers.LSTMCell(num_in, num_rec)\n",
    "        self.out = bp.layers.Dense(num_rec, num_out)\n",
    "\n",
    "    def update(self, sha, x):\n",
    "        x = self.rec(sha, x)\n",
    "        x = self.out(sha, x)\n",
    "        return x"
   ],
   "metadata": {
    "collapsed": false
   }
  },
  {
   "cell_type": "markdown",
   "source": [
    "Before training this model, we get and clean the data we want."
   ],
   "metadata": {
    "collapsed": false
   }
  },
  {
   "cell_type": "code",
   "execution_count": 20,
   "outputs": [],
   "source": [
    "root = r\"D:\\data\"\n",
    "train_dataset = bd.vision.FashionMNIST(root, split='train', download=True)\n",
    "test_dataset = bd.vision.FashionMNIST(root, split='test', download=True)\n",
    "\n",
    "\n",
    "\n",
    "def get_data(dataset, batch_size=256):\n",
    "    def data_generator():\n",
    "        X = bm.array(dataset.data, dtype=bm.dftype()) / 255\n",
    "        Y = bm.array(dataset.targets, dtype=bm.ditype())\n",
    "        key = bm.random.DEFAULT.split_key()\n",
    "        X = bm.random.permutation(X, key=key)\n",
    "        Y = bm.random.permutation(Y, key=key)\n",
    "        for i in range(0, len(dataset), batch_size):\n",
    "            yield X[i: i+batch_size], Y[i: i+batch_size]\n",
    "\n",
    "    return data_generator\n"
   ],
   "metadata": {
    "collapsed": false
   }
  },
  {
   "cell_type": "markdown",
   "source": [
    "Then, we start to train our defined ANN model with ``brainpy.train.BPTT`` training interface."
   ],
   "metadata": {
    "collapsed": false
   }
  },
  {
   "cell_type": "code",
   "execution_count": 21,
   "outputs": [],
   "source": [
    "# model\n",
    "model = ANNModel(28, 100, 10)\n",
    "\n",
    "# loss function\n",
    "def loss_fun(predicts, targets):\n",
    "    predicts = bm.max(predicts, axis=1)\n",
    "    loss = bp.losses.cross_entropy_loss(predicts, targets)\n",
    "    acc = bm.mean(predicts.argmax(axis=-1) == targets)\n",
    "    return loss, {'acc': acc}\n",
    "\n",
    "# optimizer\n",
    "optimizer=bp.optim.Adam(lr=1e-3)\n",
    "\n",
    "# trainer\n",
    "trainer = bp.train.BPTT(model,\n",
    "                        loss_fun=loss_fun,\n",
    "                        loss_has_aux=True,\n",
    "                        optimizer=optimizer)"
   ],
   "metadata": {
    "collapsed": false
   }
  },
  {
   "cell_type": "code",
   "execution_count": 22,
   "outputs": [
    {
     "name": "stdout",
     "output_type": "stream",
     "text": [
      "Train 0 epoch, use 12.1708 s, loss 0.8835940361022949, acc 0.6864361763000488\n",
      "Test 0 epoch, use 0.6309 s, loss 0.6134902238845825, acc 0.7796070575714111\n",
      "Train 1 epoch, use 10.7388 s, loss 0.5161257386207581, acc 0.8127105236053467\n",
      "Test 1 epoch, use 0.3487 s, loss 0.5257689356803894, acc 0.8067669868469238\n",
      "Train 2 epoch, use 10.8155 s, loss 0.44644325971603394, acc 0.8382037281990051\n",
      "Test 2 epoch, use 0.3294 s, loss 0.45477432012557983, acc 0.8393669128417969\n",
      "Train 3 epoch, use 10.7835 s, loss 0.41742411255836487, acc 0.8480052947998047\n",
      "Test 3 epoch, use 0.3315 s, loss 0.42174917459487915, acc 0.8474035263061523\n",
      "Train 4 epoch, use 10.8599 s, loss 0.3883253335952759, acc 0.8581339120864868\n",
      "Test 4 epoch, use 0.3293 s, loss 0.41360148787498474, acc 0.8485294580459595\n",
      "Train 5 epoch, use 10.7547 s, loss 0.3702569901943207, acc 0.8637134432792664\n",
      "Test 5 epoch, use 0.3302 s, loss 0.4075957238674164, acc 0.8480181694030762\n",
      "Train 6 epoch, use 10.8626 s, loss 0.355184406042099, acc 0.8703679442405701\n",
      "Test 6 epoch, use 0.3277 s, loss 0.3875272274017334, acc 0.8567153215408325\n",
      "Train 7 epoch, use 10.8122 s, loss 0.34829413890838623, acc 0.8717752695083618\n",
      "Test 7 epoch, use 0.3438 s, loss 0.38217657804489136, acc 0.8600298762321472\n",
      "Train 8 epoch, use 10.7756 s, loss 0.33565837144851685, acc 0.8760638236999512\n",
      "Test 8 epoch, use 0.3312 s, loss 0.3651264011859894, acc 0.8679572939872742\n",
      "Train 9 epoch, use 10.8214 s, loss 0.32964351773262024, acc 0.8792663812637329\n",
      "Test 9 epoch, use 0.3447 s, loss 0.3688574433326721, acc 0.8660041689872742\n"
     ]
    }
   ],
   "source": [
    "trainer.fit(train_data=get_data(train_dataset, 256),\n",
    "            test_data=get_data(test_dataset, 512),\n",
    "            num_epoch=10)"
   ],
   "metadata": {
    "collapsed": false
   }
  },
  {
   "cell_type": "code",
   "execution_count": 23,
   "outputs": [
    {
     "data": {
      "text/plain": "<Figure size 432x288 with 1 Axes>",
      "image/png": "[encoded data removed]"
     },
     "metadata": {
      "needs_background": "light"
     },
     "output_type": "display_data"
    }
   ],
   "source": [
    "import matplotlib.pyplot as plt\n",
    "\n",
    "plt.plot(trainer.get_hist_metric('fit'), label='fit')\n",
    "plt.plot(trainer.get_hist_metric('test'), label='train')\n",
    "plt.xlabel(\"Epoch\")\n",
    "plt.ylabel(\"Loss\")\n",
    "plt.legend()\n",
    "plt.show()"
   ],
   "metadata": {
    "collapsed": false
   }
  },
  {
   "cell_type": "markdown",
   "source": [
    "## Train a SNN model"
   ],
   "metadata": {
    "collapsed": false
   }
  },
  {
   "cell_type": "markdown",
   "source": [
    "Similarly, ``brainpy.train.BPTT`` can also be used to train SNN models.\n",
    "\n",
    "We first build a three layer SNN model:\n",
    "\n",
    "```bash\n",
    "\n",
    "i >> [exponential synapse] >> r >> [exponential synapse] >> o\n",
    "```"
   ],
   "metadata": {
    "collapsed": false
   }
  },
  {
   "cell_type": "code",
   "execution_count": 24,
   "outputs": [],
   "source": [
    "class SNNModel(bp.dyn.DynamicalSystem):\n",
    "  def __init__(self, num_in, num_rec, num_out):\n",
    "    super(SNNModel, self).__init__()\n",
    "\n",
    "    # parameters\n",
    "    self.num_in = num_in\n",
    "    self.num_rec = num_rec\n",
    "    self.num_out = num_out\n",
    "\n",
    "    # neuron groups\n",
    "    self.i = bp.neurons.InputGroup(num_in, mode=bp.modes.training)\n",
    "    self.r = bp.neurons.LIF(num_rec, tau=10, V_reset=0, V_rest=0, V_th=1.,\n",
    "                            mode=bp.modes.training)\n",
    "    self.o = bp.neurons.LeakyIntegrator(num_out, tau=5, mode=bp.modes.training)\n",
    "\n",
    "    # synapse: i->r\n",
    "    self.i2r = bp.synapses.Exponential(self.i, self.r, bp.conn.All2All(),\n",
    "                                       output=bp.synouts.CUBA(), tau=10.,\n",
    "                                       g_max=bp.init.KaimingNormal(scale=2.),\n",
    "                                       mode=bp.modes.training)\n",
    "    # synapse: r->o\n",
    "    self.r2o = bp.synapses.Exponential(self.r, self.o, bp.conn.All2All(),\n",
    "                                       output=bp.synouts.CUBA(), tau=10.,\n",
    "                                       g_max=bp.init.KaimingNormal(scale=2.),\n",
    "                                       mode=bp.modes.training)\n",
    "\n",
    "  def update(self, shared, spike):\n",
    "    self.i2r(shared, spike)\n",
    "    self.r2o(shared)\n",
    "    self.r(shared)\n",
    "    self.o(shared)\n",
    "    return self.o.V.value"
   ],
   "metadata": {
    "collapsed": false
   }
  },
  {
   "cell_type": "markdown",
   "source": [
    "As the model receives spiking inputs, we define functions that are necessary to transform the continuous values to spiking data."
   ],
   "metadata": {
    "collapsed": false
   }
  },
  {
   "cell_type": "code",
   "execution_count": 25,
   "outputs": [],
   "source": [
    "def current2firing_time(x, tau=20., thr=0.2, tmax=1.0, epsilon=1e-7):\n",
    "  x = np.clip(x, thr + epsilon, 1e9)\n",
    "  T = tau * np.log(x / (x - thr))\n",
    "  T = np.where(x < thr, tmax, T)\n",
    "  return T\n",
    "\n",
    "def sparse_data_generator(X, y, batch_size, nb_steps, nb_units, shuffle=True):\n",
    "  labels_ = np.array(y, dtype=bm.ditype())\n",
    "  sample_index = np.arange(len(X))\n",
    "\n",
    "  # compute discrete firing times\n",
    "  tau_eff = 2. / bm.get_dt()\n",
    "  unit_numbers = np.arange(nb_units)\n",
    "  firing_times = np.array(current2firing_time(X, tau=tau_eff, tmax=nb_steps), dtype=bm.ditype())\n",
    "\n",
    "  if shuffle:\n",
    "    np.random.shuffle(sample_index)\n",
    "\n",
    "  counter = 0\n",
    "  number_of_batches = len(X) // batch_size\n",
    "  while counter < number_of_batches:\n",
    "    batch_index = sample_index[batch_size * counter:batch_size * (counter + 1)]\n",
    "    all_batch, all_times, all_units = [], [], []\n",
    "    for bc, idx in enumerate(batch_index):\n",
    "      c = firing_times[idx] < nb_steps\n",
    "      times, units = firing_times[idx][c], unit_numbers[c]\n",
    "      batch = bc * np.ones(len(times), dtype=bm.ditype())\n",
    "      all_batch.append(batch)\n",
    "      all_times.append(times)\n",
    "      all_units.append(units)\n",
    "    all_batch = np.concatenate(all_batch).flatten()\n",
    "    all_times = np.concatenate(all_times).flatten()\n",
    "    all_units = np.concatenate(all_units).flatten()\n",
    "    x_batch = bm.zeros((batch_size, nb_steps, nb_units))\n",
    "    x_batch[all_batch, all_times, all_units] = 1.\n",
    "    y_batch = bm.asarray(labels_[batch_index])\n",
    "    yield x_batch, y_batch\n",
    "    counter += 1"
   ],
   "metadata": {
    "collapsed": false
   }
  },
  {
   "cell_type": "markdown",
   "source": [
    "Now, we can define a BP trainer for this SNN model."
   ],
   "metadata": {
    "collapsed": false
   }
  },
  {
   "cell_type": "code",
   "execution_count": 26,
   "outputs": [],
   "source": [
    "def loss_fun(predicts, targets):\n",
    "    predicts, mon = predicts\n",
    "    # L1 loss on total number of spikes\n",
    "    l1_loss = 1e-5 * bm.sum(mon['r.spike'])\n",
    "    # L2 loss on spikes per neuron\n",
    "    l2_loss = 1e-5 * bm.mean(bm.sum(bm.sum(mon['r.spike'], axis=0), axis=0) ** 2)\n",
    "    # predictions\n",
    "    predicts = bm.max(predicts, axis=1)\n",
    "    loss = bp.losses.cross_entropy_loss(predicts, targets)\n",
    "    acc = bm.mean(predicts.argmax(-1) == targets)\n",
    "    return loss + l2_loss + l1_loss, {'acc': acc}\n",
    "\n",
    "model = SNNModel(num_in=28*28, num_rec=100, num_out=10)\n",
    "\n",
    "trainer = bp.train.BPTT(\n",
    "    model,\n",
    "    loss_fun=loss_fun,\n",
    "    loss_has_aux=True,\n",
    "    optimizer=bp.optim.Adam(lr=1e-3),\n",
    "    monitors={'r.spike': model.r.spike},\n",
    ")"
   ],
   "metadata": {
    "collapsed": false
   }
  },
  {
   "cell_type": "markdown",
   "source": [
    "The training process is similar to that of the ANN model, instead of the data is generated by the sparse generator function we defined above."
   ],
   "metadata": {
    "collapsed": false
   }
  },
  {
   "cell_type": "code",
   "execution_count": 27,
   "outputs": [
    {
     "name": "stdout",
     "output_type": "stream",
     "text": [
      "Train 0 epoch, use 54.1139 s, loss 9.981807708740234, acc 0.4021434187889099\n",
      "Train 1 epoch, use 54.4206 s, loss 1.7046034336090088, acc 0.6014456748962402\n",
      "Train 2 epoch, use 55.7867 s, loss 1.4228854179382324, acc 0.6132979393005371\n",
      "Train 3 epoch, use 56.4741 s, loss 1.3110847473144531, acc 0.6547976732254028\n",
      "Train 4 epoch, use 55.9146 s, loss 1.2346583604812622, acc 0.6783353090286255\n",
      "Train 5 epoch, use 57.3797 s, loss 1.1828292608261108, acc 0.6877003312110901\n",
      "Train 6 epoch, use 58.2416 s, loss 1.1548631191253662, acc 0.6951956748962402\n",
      "Train 7 epoch, use 58.8341 s, loss 1.1306194067001343, acc 0.6963975429534912\n",
      "Train 8 epoch, use 59.4312 s, loss 1.1268073320388794, acc 0.7007712125778198\n",
      "Train 9 epoch, use 60.6760 s, loss 1.0955106019973755, acc 0.7065805196762085\n"
     ]
    }
   ],
   "source": [
    "x_train = bm.array(train_dataset.data, dtype=bm.dftype()) / 255\n",
    "y_train = bm.array(train_dataset.targets, dtype=bm.ditype())\n",
    "\n",
    "trainer.fit(lambda: sparse_data_generator(x_train.reshape(x_train.shape[0], -1),\n",
    "                                          y_train,\n",
    "                                          batch_size=256,\n",
    "                                          nb_steps=100,\n",
    "                                          nb_units=28 * 28),\n",
    "            num_epoch=10)"
   ],
   "metadata": {
    "collapsed": false
   }
  },
  {
   "cell_type": "code",
   "execution_count": 29,
   "outputs": [
    {
     "data": {
      "text/plain": "<Figure size 432x288 with 1 Axes>",
      "image/png": "[encoded data removed]"
     },
     "metadata": {
      "needs_background": "light"
     },
     "output_type": "display_data"
    }
   ],
   "source": [
    "plt.plot(trainer.get_hist_metric('fit'), label='fit')\n",
    "plt.xlabel(\"Epoch\")\n",
    "plt.ylabel(\"Loss\")\n",
    "plt.legend()\n",
    "plt.show()"
   ],
   "metadata": {
    "collapsed": false
   }
  },
  {
   "cell_type": "markdown",
   "source": [
    "## Customize your BP training"
   ],
   "metadata": {
    "collapsed": false
   }
  },
  {
   "cell_type": "markdown",
   "source": [
    "Actually, ``brainpy.train.BPTT`` is just one way to perform back-propagation training with your model. You can easily customize your training process.\n",
    "\n",
    "In the below, we demonstrate how to define a BP training process by hand with the above ANN model."
   ],
   "metadata": {
    "collapsed": false
   },
   "execution_count": 25
  },
  {
   "cell_type": "code",
   "execution_count": 30,
   "outputs": [],
   "source": [
    "# packages we need\n",
    "\n",
    "from time import time"
   ],
   "metadata": {
    "collapsed": false
   }
  },
  {
   "cell_type": "code",
   "execution_count": 31,
   "outputs": [],
   "source": [
    "# define the model\n",
    "model = ANNModel(28, 100, 10)"
   ],
   "metadata": {
    "collapsed": false
   }
  },
  {
   "cell_type": "code",
   "execution_count": 32,
   "outputs": [],
   "source": [
    "# define the loss function\n",
    "@bm.to_object(child_objs=model)\n",
    "def loss_fun(inputs, targets):\n",
    "  runner = bp.train.DSTrainer(model, progress_bar=False, numpy_mon_after_run=False)\n",
    "  predicts = runner.predict(inputs, reset_state=True)\n",
    "  predicts = bm.max(predicts, axis=1)\n",
    "  loss = bp.losses.cross_entropy_loss(predicts, targets)\n",
    "  acc = bm.mean(predicts.argmax(-1) == targets)\n",
    "  return loss, acc"
   ],
   "metadata": {
    "collapsed": false
   }
  },
  {
   "cell_type": "code",
   "execution_count": 33,
   "outputs": [],
   "source": [
    "# define the gradient function which computes the\n",
    "# gradients of the trainable weights\n",
    "grad_fun = bm.grad(loss_fun,\n",
    "                   grad_vars=model.train_vars().unique(),\n",
    "                   has_aux=True,\n",
    "                   return_value=True)"
   ],
   "metadata": {
    "collapsed": false
   }
  },
  {
   "cell_type": "code",
   "execution_count": 34,
   "outputs": [],
   "source": [
    "# define the optimizer we need\n",
    "opt = bp.optim.Adam(lr=1e-3, train_vars=model.train_vars().unique())"
   ],
   "metadata": {
    "collapsed": false
   }
  },
  {
   "cell_type": "code",
   "execution_count": 35,
   "outputs": [],
   "source": [
    "# training function\n",
    "\n",
    "@bm.jit\n",
    "@bm.to_object(child_objs=(opt, grad_fun))\n",
    "def train(xs, ys):\n",
    "  grads, loss, acc = grad_fun(xs, ys)\n",
    "  opt.update(grads)\n",
    "  return loss, acc"
   ],
   "metadata": {
    "collapsed": false
   }
  },
  {
   "cell_type": "code",
   "execution_count": 36,
   "outputs": [
    {
     "name": "stdout",
     "output_type": "stream",
     "text": [
      "Step 100, Used 6.9177 s, Loss 1.4299, Acc 0.5124\n",
      "Step 200, Used 5.4387 s, Loss 0.6536, Acc 0.7700\n",
      "Step 300, Used 6.6376 s, Loss 0.5670, Acc 0.7986\n",
      "Step 400, Used 5.3037 s, Loss 0.5122, Acc 0.8166\n",
      "Step 500, Used 5.3107 s, Loss 0.4720, Acc 0.8311\n",
      "Step 600, Used 5.2464 s, Loss 0.4578, Acc 0.8336\n",
      "Step 700, Used 5.2674 s, Loss 0.4350, Acc 0.8433\n",
      "Step 800, Used 5.3320 s, Loss 0.4326, Acc 0.8424\n",
      "Step 900, Used 5.2382 s, Loss 0.4015, Acc 0.8538\n",
      "Step 1000, Used 5.3078 s, Loss 0.3973, Acc 0.8546\n",
      "Step 1100, Used 5.2332 s, Loss 0.3939, Acc 0.8548\n",
      "Step 1200, Used 5.3238 s, Loss 0.3802, Acc 0.8597\n",
      "Step 1300, Used 5.2627 s, Loss 0.3709, Acc 0.8633\n",
      "Step 1400, Used 5.3363 s, Loss 0.3779, Acc 0.8598\n",
      "Step 1500, Used 5.3236 s, Loss 0.3615, Acc 0.8668\n",
      "Step 1600, Used 5.2992 s, Loss 0.3586, Acc 0.8694\n",
      "Step 1700, Used 5.3646 s, Loss 0.3581, Acc 0.8669\n",
      "Step 1800, Used 5.2755 s, Loss 0.3442, Acc 0.8731\n",
      "Step 1900, Used 5.3055 s, Loss 0.3443, Acc 0.8742\n",
      "Step 2000, Used 5.2836 s, Loss 0.3465, Acc 0.8709\n",
      "Step 2100, Used 5.2836 s, Loss 0.3307, Acc 0.8791\n",
      "Step 2200, Used 5.4908 s, Loss 0.3178, Acc 0.8824\n",
      "Step 2300, Used 5.4070 s, Loss 0.3365, Acc 0.8754\n"
     ]
    }
   ],
   "source": [
    "# start training\n",
    "\n",
    "k = 0\n",
    "num_batch = 256\n",
    "running_loss = 0\n",
    "running_acc = 0\n",
    "print_step = 100\n",
    "X_train = bm.asarray(x_train)\n",
    "Y_train = bm.asarray(y_train)\n",
    "t0 = time()\n",
    "for _ in range(10):  # number of epoch\n",
    "  X_train = bm.random.permutation(X_train, key=123)\n",
    "  Y_train = bm.random.permutation(Y_train, key=123)\n",
    "\n",
    "  for i in range(0, X_train.shape[0], num_batch):\n",
    "    X = X_train[i: i + num_batch]\n",
    "    Y = Y_train[i: i + num_batch]\n",
    "    loss_, acc_ = train(X, Y)\n",
    "    running_loss += loss_\n",
    "    running_acc += acc_\n",
    "    k += 1\n",
    "    if k % print_step == 0:\n",
    "      print('Step {}, Used {:.4f} s, Loss {:0.4f}, Acc {:0.4f}'.format(\n",
    "        k, time() - t0,  running_loss / print_step, running_acc / print_step)\n",
    "      )\n",
    "      t0 = time()\n",
    "      running_loss = 0\n",
    "      running_acc = 0"
   ],
   "metadata": {
    "collapsed": false
   }
  },
  {
   "cell_type": "markdown",
   "source": [],
   "metadata": {
    "collapsed": false
   }
  }
 ],
 "metadata": {
  "kernelspec": {
   "display_name": "Python 3",
   "language": "python",
   "name": "python3"
  },
  "language_info": {
   "codemirror_mode": {
    "name": "ipython",
    "version": 2
   },
   "file_extension": ".py",
   "mimetype": "text/x-python",
   "name": "python",
   "nbconvert_exporter": "python",
   "pygments_lexer": "ipython2",
   "version": "2.7.6"
  }
 },
 "nbformat": 4,
 "nbformat_minor": 0
}
