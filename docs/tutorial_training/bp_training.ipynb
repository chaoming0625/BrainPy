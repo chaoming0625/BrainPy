{
 "cells": [
  {
   "cell_type": "markdown",
   "source": [
    "# Training with Back-propagation Algorithms"
   ],
   "metadata": {
    "collapsed": false
   }
  },
  {
   "cell_type": "markdown",
   "source": [
    "Back-propagation (BP) trainings have become foundations in machine learning algorithms. In this section, we are going to talk about how to train models with BP."
   ],
   "metadata": {
    "collapsed": false
   }
  },
  {
   "cell_type": "code",
   "execution_count": 1,
   "outputs": [
    {
     "data": {
      "text/plain": "'2.3.1'"
     },
     "execution_count": 1,
     "metadata": {},
     "output_type": "execute_result"
    }
   ],
   "source": [
    "import brainpy as bp\n",
    "import brainpy.math as bm\n",
    "import brainpy_datasets as bd\n",
    "import numpy as np\n",
    "\n",
    "bm.set_mode(bm.training_mode)\n",
    "bm.set_platform('cpu')\n",
    "\n",
    "bp.__version__"
   ],
   "metadata": {
    "collapsed": false
   }
  },
  {
   "cell_type": "markdown",
   "source": [
    "Here, we train two kinds of models to classify MNIST dataset. The first is ANN models commonly used in deep neural networks. The second is SNN models."
   ],
   "metadata": {
    "collapsed": false
   }
  },
  {
   "cell_type": "markdown",
   "source": [
    "## Train a ANN model"
   ],
   "metadata": {
    "collapsed": false
   }
  },
  {
   "cell_type": "markdown",
   "source": [
    "We first build a three layer ANN model:\n",
    "\n",
    "```bash\n",
    "\n",
    "i >> r >> o\n",
    "```\n",
    "\n",
    "where the recurrent layer ``r`` is a LSTM cell, the output ``o`` is a linear readout."
   ],
   "metadata": {
    "collapsed": false
   }
  },
  {
   "cell_type": "code",
   "execution_count": 2,
   "outputs": [],
   "source": [
    "class ANNModel(bp.dyn.DynamicalSystem):\n",
    "    def __init__(self, num_in, num_rec, num_out):\n",
    "        super(ANNModel, self).__init__()\n",
    "        self.rec = bp.layers.LSTMCell(num_in, num_rec)\n",
    "        self.out = bp.layers.Dense(num_rec, num_out)\n",
    "\n",
    "    def update(self, sha, x):\n",
    "        x = self.rec(sha, x)\n",
    "        x = self.out(sha, x)\n",
    "        return x"
   ],
   "metadata": {
    "collapsed": false
   }
  },
  {
   "cell_type": "markdown",
   "source": [
    "Before training this model, we get and clean the data we want."
   ],
   "metadata": {
    "collapsed": false
   }
  },
  {
   "cell_type": "code",
   "execution_count": 3,
   "outputs": [],
   "source": [
    "root = r\"D:\\data\"\n",
    "train_dataset = bd.vision.FashionMNIST(root, split='train', download=True)\n",
    "test_dataset = bd.vision.FashionMNIST(root, split='test', download=True)\n",
    "\n",
    "\n",
    "def get_data(dataset, batch_size=256):\n",
    "  rng = bm.random.clone_rng()\n",
    "\n",
    "  def data_generator():\n",
    "    X = bm.array(dataset.data, dtype=bm.float_) / 255\n",
    "    Y = bm.array(dataset.targets, dtype=bm.float_)\n",
    "    key = rng.split_key()\n",
    "    rng.shuffle(X, key=key)\n",
    "    rng.shuffle(Y, key=key)\n",
    "    for i in range(0, len(dataset), batch_size):\n",
    "      yield X[i: i + batch_size], Y[i: i + batch_size]\n",
    "\n",
    "  return data_generator"
   ],
   "metadata": {
    "collapsed": false
   }
  },
  {
   "cell_type": "markdown",
   "source": [
    "Then, we start to train our defined ANN model with ``brainpy.train.BPTT`` training interface."
   ],
   "metadata": {
    "collapsed": false
   }
  },
  {
   "cell_type": "code",
   "execution_count": 4,
   "outputs": [],
   "source": [
    "# model\n",
    "model = ANNModel(28, 100, 10)\n",
    "\n",
    "# loss function\n",
    "def loss_fun(predicts, targets):\n",
    "    predicts = bm.max(predicts, axis=1)\n",
    "    loss = bp.losses.cross_entropy_loss(predicts, targets)\n",
    "    acc = bm.mean(predicts.argmax(axis=-1) == targets)\n",
    "    return loss, {'acc': acc}\n",
    "\n",
    "# optimizer\n",
    "optimizer=bp.optim.Adam(lr=1e-3)\n",
    "\n",
    "# trainer\n",
    "trainer = bp.train.BPTT(model,\n",
    "                        loss_fun=loss_fun,\n",
    "                        loss_has_aux=True,\n",
    "                        optimizer=optimizer)"
   ],
   "metadata": {
    "collapsed": false
   }
  },
  {
   "cell_type": "code",
   "execution_count": 5,
   "outputs": [
    {
     "name": "stdout",
     "output_type": "stream",
     "text": [
      "Train 0 epoch, use 11.7911 s, loss 0.9686446785926819, acc 0.657629668712616\n",
      "Test 0 epoch, use 1.1449 s, loss 0.6075307726860046, acc 0.7804630398750305\n",
      "Train 1 epoch, use 9.1454 s, loss 0.5276323556900024, acc 0.8128490447998047\n",
      "Test 1 epoch, use 0.2927 s, loss 0.5302323698997498, acc 0.8131089210510254\n",
      "Train 2 epoch, use 9.0979 s, loss 0.4588756263256073, acc 0.8355662226676941\n",
      "Test 2 epoch, use 0.3037 s, loss 0.4678855538368225, acc 0.8310604095458984\n",
      "Train 3 epoch, use 9.1892 s, loss 0.42316296696662903, acc 0.8461214303970337\n",
      "Test 3 epoch, use 0.2911 s, loss 0.45249971747398376, acc 0.8364487886428833\n",
      "Train 4 epoch, use 9.0769 s, loss 0.3961907625198364, acc 0.8553800582885742\n",
      "Test 4 epoch, use 0.2947 s, loss 0.4217829704284668, acc 0.8458294868469238\n",
      "Train 5 epoch, use 8.9839 s, loss 0.3784363567829132, acc 0.8621509075164795\n",
      "Test 5 epoch, use 0.3015 s, loss 0.41539546847343445, acc 0.8533375859260559\n",
      "Train 6 epoch, use 8.9756 s, loss 0.362664133310318, acc 0.8676861524581909\n",
      "Test 6 epoch, use 0.3095 s, loss 0.3904822766780853, acc 0.8592026829719543\n",
      "Train 7 epoch, use 9.0243 s, loss 0.34826964139938354, acc 0.8724401593208313\n",
      "Test 7 epoch, use 0.2876 s, loss 0.3742746412754059, acc 0.8639591336250305\n",
      "Train 8 epoch, use 9.0806 s, loss 0.3381759822368622, acc 0.8756925463676453\n",
      "Test 8 epoch, use 0.2951 s, loss 0.3876565992832184, acc 0.8559110760688782\n",
      "Train 9 epoch, use 9.1019 s, loss 0.32923951745033264, acc 0.8797928094863892\n",
      "Test 9 epoch, use 0.2833 s, loss 0.3779725432395935, acc 0.8602309226989746\n"
     ]
    }
   ],
   "source": [
    "trainer.fit(train_data=get_data(train_dataset, 256),\n",
    "            test_data=get_data(test_dataset, 512),\n",
    "            num_epoch=10)"
   ],
   "metadata": {
    "collapsed": false
   }
  },
  {
   "cell_type": "code",
   "execution_count": 6,
   "outputs": [
    {
     "data": {
      "text/plain": "<Figure size 432x288 with 1 Axes>",
      "image/png": "[encoded data removed]"
     },
     "metadata": {
      "needs_background": "light"
     },
     "output_type": "display_data"
    }
   ],
   "source": [
    "import matplotlib.pyplot as plt\n",
    "\n",
    "plt.plot(trainer.get_hist_metric('fit'), label='fit')\n",
    "plt.plot(trainer.get_hist_metric('test'), label='train')\n",
    "plt.xlabel(\"Epoch\")\n",
    "plt.ylabel(\"Loss\")\n",
    "plt.legend()\n",
    "plt.show()"
   ],
   "metadata": {
    "collapsed": false
   }
  },
  {
   "cell_type": "markdown",
   "source": [
    "## Train a SNN model"
   ],
   "metadata": {
    "collapsed": false
   }
  },
  {
   "cell_type": "markdown",
   "source": [
    "Similarly, ``brainpy.train.BPTT`` can also be used to train SNN models.\n",
    "\n",
    "We first build a three layer SNN model:\n",
    "\n",
    "```bash\n",
    "\n",
    "i >> [exponential synapse] >> r >> [exponential synapse] >> o\n",
    "```"
   ],
   "metadata": {
    "collapsed": false
   }
  },
  {
   "cell_type": "code",
   "execution_count": 7,
   "outputs": [],
   "source": [
    "class SNNModel(bp.dyn.DynamicalSystem):\n",
    "  def __init__(self, num_in, num_rec, num_out):\n",
    "    super(SNNModel, self).__init__()\n",
    "\n",
    "    # parameters\n",
    "    self.num_in = num_in\n",
    "    self.num_rec = num_rec\n",
    "    self.num_out = num_out\n",
    "\n",
    "    # neuron groups\n",
    "    self.i = bp.neurons.InputGroup(num_in)\n",
    "    self.r = bp.neurons.LIF(num_rec, tau=10, V_reset=0, V_rest=0, V_th=1.)\n",
    "    self.o = bp.neurons.LeakyIntegrator(num_out, tau=5)\n",
    "\n",
    "    # synapse: i->r\n",
    "    self.i2r = bp.synapses.Exponential(self.i, self.r, bp.conn.All2All(),\n",
    "                                       output=bp.synouts.CUBA(),\n",
    "                                       tau=10.,\n",
    "                                       g_max=bp.init.KaimingNormal(scale=2.))\n",
    "    # synapse: r->o\n",
    "    self.r2o = bp.synapses.Exponential(self.r, self.o, bp.conn.All2All(),\n",
    "                                       output=bp.synouts.CUBA(),\n",
    "                                       tau=10.,\n",
    "                                       g_max=bp.init.KaimingNormal(scale=2.))\n",
    "\n",
    "  def update(self, shared, spike):\n",
    "    self.i2r(shared, spike)\n",
    "    self.r2o(shared)\n",
    "    self.r(shared)\n",
    "    self.o(shared)\n",
    "    return self.o.V.value"
   ],
   "metadata": {
    "collapsed": false
   }
  },
  {
   "cell_type": "markdown",
   "source": [
    "As the model receives spiking inputs, we define functions that are necessary to transform the continuous values to spiking data."
   ],
   "metadata": {
    "collapsed": false
   }
  },
  {
   "cell_type": "code",
   "execution_count": 13,
   "outputs": [],
   "source": [
    "def current2firing_time(x, tau=20., thr=0.2, tmax=1.0, epsilon=1e-7):\n",
    "  x = np.clip(x, thr + epsilon, 1e9)\n",
    "  T = tau * np.log(x / (x - thr))\n",
    "  T = np.where(x < thr, tmax, T)\n",
    "  return T\n",
    "\n",
    "def sparse_data_generator(X, y, batch_size, nb_steps, nb_units, shuffle=True):\n",
    "  labels_ = np.array(y, dtype=bm.int_)\n",
    "  sample_index = np.arange(len(X))\n",
    "\n",
    "  # compute discrete firing times\n",
    "  tau_eff = 2. / bm.get_dt()\n",
    "  unit_numbers = np.arange(nb_units)\n",
    "  firing_times = np.array(current2firing_time(X, tau=tau_eff, tmax=nb_steps), dtype=bm.int_)\n",
    "\n",
    "  if shuffle:\n",
    "    np.random.shuffle(sample_index)\n",
    "\n",
    "  counter = 0\n",
    "  number_of_batches = len(X) // batch_size\n",
    "  while counter < number_of_batches:\n",
    "    batch_index = sample_index[batch_size * counter:batch_size * (counter + 1)]\n",
    "    all_batch, all_times, all_units = [], [], []\n",
    "    for bc, idx in enumerate(batch_index):\n",
    "      c = firing_times[idx] < nb_steps\n",
    "      times, units = firing_times[idx][c], unit_numbers[c]\n",
    "      batch = bc * np.ones(len(times), dtype=bm.int_)\n",
    "      all_batch.append(batch)\n",
    "      all_times.append(times)\n",
    "      all_units.append(units)\n",
    "    all_batch = np.concatenate(all_batch).flatten()\n",
    "    all_times = np.concatenate(all_times).flatten()\n",
    "    all_units = np.concatenate(all_units).flatten()\n",
    "    x_batch = bm.zeros((batch_size, nb_steps, nb_units))\n",
    "    x_batch[all_batch, all_times, all_units] = 1.\n",
    "    y_batch = bm.asarray(labels_[batch_index])\n",
    "    yield x_batch, y_batch\n",
    "    counter += 1"
   ],
   "metadata": {
    "collapsed": false
   }
  },
  {
   "cell_type": "markdown",
   "source": [
    "Now, we can define a BP trainer for this SNN model."
   ],
   "metadata": {
    "collapsed": false
   }
  },
  {
   "cell_type": "code",
   "execution_count": 9,
   "outputs": [],
   "source": [
    "def loss_fun(predicts, targets):\n",
    "    predicts, mon = predicts\n",
    "    # L1 loss on total number of spikes\n",
    "    l1_loss = 1e-5 * bm.sum(mon['r.spike'])\n",
    "    # L2 loss on spikes per neuron\n",
    "    l2_loss = 1e-5 * bm.mean(bm.sum(bm.sum(mon['r.spike'], axis=0), axis=0) ** 2)\n",
    "    # predictions\n",
    "    predicts = bm.max(predicts, axis=1)\n",
    "    loss = bp.losses.cross_entropy_loss(predicts, targets)\n",
    "    acc = bm.mean(predicts.argmax(-1) == targets)\n",
    "    return loss + l2_loss + l1_loss, {'acc': acc}\n",
    "\n",
    "model = SNNModel(num_in=28*28, num_rec=100, num_out=10)\n",
    "\n",
    "trainer = bp.train.BPTT(\n",
    "    model,\n",
    "    loss_fun=loss_fun,\n",
    "    loss_has_aux=True,\n",
    "    optimizer=bp.optim.Adam(lr=1e-3),\n",
    "    monitors={'r.spike': model.r.spike},\n",
    ")"
   ],
   "metadata": {
    "collapsed": false
   }
  },
  {
   "cell_type": "markdown",
   "source": [
    "The training process is similar to that of the ANN model, instead of the data is generated by the sparse generator function we defined above."
   ],
   "metadata": {
    "collapsed": false
   }
  },
  {
   "cell_type": "code",
   "execution_count": 14,
   "outputs": [
    {
     "name": "stdout",
     "output_type": "stream",
     "text": [
      "Train 0 epoch, use 56.6148 s, loss 10.524602890014648, acc 0.3441840410232544\n",
      "Train 1 epoch, use 48.7201 s, loss 1.947080373764038, acc 0.4961271286010742\n",
      "Train 2 epoch, use 50.2106 s, loss 1.5027152299880981, acc 0.5980067849159241\n",
      "Train 3 epoch, use 53.0944 s, loss 1.371555209159851, acc 0.63353031873703\n",
      "Train 4 epoch, use 54.2528 s, loss 1.294083833694458, acc 0.6476696133613586\n",
      "Train 5 epoch, use 56.5207 s, loss 1.2385631799697876, acc 0.6586705446243286\n",
      "Train 6 epoch, use 61.7909 s, loss 1.2144725322723389, acc 0.6649806499481201\n",
      "Train 7 epoch, use 72.7359 s, loss 1.1915594339370728, acc 0.6712072491645813\n",
      "Train 8 epoch, use 76.2446 s, loss 1.153993010520935, acc 0.6776843070983887\n",
      "Train 9 epoch, use 79.4869 s, loss 1.1312021017074585, acc 0.682542085647583\n"
     ]
    }
   ],
   "source": [
    "x_train = bm.array(train_dataset.data, dtype=bm.float_) / 255\n",
    "y_train = bm.array(train_dataset.targets, dtype=bm.int_)\n",
    "\n",
    "trainer.fit(lambda: sparse_data_generator(x_train.reshape(x_train.shape[0], -1),\n",
    "                                          y_train,\n",
    "                                          batch_size=256,\n",
    "                                          nb_steps=100,\n",
    "                                          nb_units=28 * 28),\n",
    "            num_epoch=10)"
   ],
   "metadata": {
    "collapsed": false
   }
  },
  {
   "cell_type": "code",
   "execution_count": 15,
   "outputs": [
    {
     "data": {
      "text/plain": "<Figure size 432x288 with 1 Axes>",
      "image/png": "[encoded data removed]"
     },
     "metadata": {
      "needs_background": "light"
     },
     "output_type": "display_data"
    }
   ],
   "source": [
    "plt.plot(trainer.get_hist_metric('fit'), label='fit')\n",
    "plt.xlabel(\"Epoch\")\n",
    "plt.ylabel(\"Loss\")\n",
    "plt.legend()\n",
    "plt.show()"
   ],
   "metadata": {
    "collapsed": false
   }
  },
  {
   "cell_type": "markdown",
   "source": [
    "## Customize your BP training"
   ],
   "metadata": {
    "collapsed": false
   }
  },
  {
   "cell_type": "markdown",
   "source": [
    "Actually, ``brainpy.train.BPTT`` is just one way to perform back-propagation training with your model. You can easily customize your training process.\n",
    "\n",
    "In the below, we demonstrate how to define a BP training process by hand with the above ANN model."
   ],
   "metadata": {
    "collapsed": false
   },
   "execution_count": 25
  },
  {
   "cell_type": "code",
   "execution_count": 16,
   "outputs": [],
   "source": [
    "# packages we need\n",
    "\n",
    "from time import time"
   ],
   "metadata": {
    "collapsed": false
   }
  },
  {
   "cell_type": "code",
   "execution_count": 17,
   "outputs": [],
   "source": [
    "# define the model\n",
    "model = ANNModel(28, 100, 10)"
   ],
   "metadata": {
    "collapsed": false
   }
  },
  {
   "cell_type": "code",
   "execution_count": 18,
   "outputs": [],
   "source": [
    "# define the loss function\n",
    "@bm.to_object(child_objs=model)\n",
    "def loss_fun(inputs, targets):\n",
    "  runner = bp.train.DSTrainer(model, progress_bar=False, numpy_mon_after_run=False)\n",
    "  predicts = runner.predict(inputs, reset_state=True)\n",
    "  predicts = bm.max(predicts, axis=1)\n",
    "  loss = bp.losses.cross_entropy_loss(predicts, targets)\n",
    "  acc = bm.mean(predicts.argmax(-1) == targets)\n",
    "  return loss, acc"
   ],
   "metadata": {
    "collapsed": false
   }
  },
  {
   "cell_type": "code",
   "execution_count": 19,
   "outputs": [],
   "source": [
    "# define the gradient function which computes the\n",
    "# gradients of the trainable weights\n",
    "grad_fun = bm.grad(loss_fun,\n",
    "                   grad_vars=model.train_vars().unique(),\n",
    "                   has_aux=True,\n",
    "                   return_value=True)"
   ],
   "metadata": {
    "collapsed": false
   }
  },
  {
   "cell_type": "code",
   "execution_count": 20,
   "outputs": [],
   "source": [
    "# define the optimizer we need\n",
    "opt = bp.optim.Adam(lr=1e-3, train_vars=model.train_vars().unique())"
   ],
   "metadata": {
    "collapsed": false
   }
  },
  {
   "cell_type": "code",
   "execution_count": 21,
   "outputs": [],
   "source": [
    "# training function\n",
    "\n",
    "@bm.jit\n",
    "@bm.to_object(child_objs=(opt, grad_fun))\n",
    "def train(xs, ys):\n",
    "  grads, loss, acc = grad_fun(xs, ys)\n",
    "  opt.update(grads)\n",
    "  return loss, acc"
   ],
   "metadata": {
    "collapsed": false
   }
  },
  {
   "cell_type": "code",
   "execution_count": 22,
   "outputs": [
    {
     "name": "stdout",
     "output_type": "stream",
     "text": [
      "Step 100, Used 6.7523 s, Loss 1.2503, Acc 0.5630\n",
      "Step 200, Used 5.3020 s, Loss 0.6340, Acc 0.7779\n",
      "Step 300, Used 6.5825 s, Loss 0.5545, Acc 0.8056\n",
      "Step 400, Used 5.3013 s, Loss 0.5028, Acc 0.8198\n",
      "Step 500, Used 5.3458 s, Loss 0.4659, Acc 0.8340\n",
      "Step 600, Used 5.3190 s, Loss 0.4601, Acc 0.8316\n",
      "Step 700, Used 5.2990 s, Loss 0.4297, Acc 0.8443\n",
      "Step 800, Used 5.3577 s, Loss 0.4244, Acc 0.8456\n",
      "Step 900, Used 5.3054 s, Loss 0.4053, Acc 0.8538\n",
      "Step 1000, Used 5.3404 s, Loss 0.3913, Acc 0.8568\n",
      "Step 1100, Used 5.2744 s, Loss 0.3943, Acc 0.8534\n",
      "Step 1200, Used 5.4739 s, Loss 0.3863, Acc 0.8592\n",
      "Step 1300, Used 5.4073 s, Loss 0.3709, Acc 0.8647\n",
      "Step 1400, Used 5.3310 s, Loss 0.3791, Acc 0.8607\n",
      "Step 1500, Used 5.3793 s, Loss 0.3644, Acc 0.8643\n",
      "Step 1600, Used 5.3164 s, Loss 0.3562, Acc 0.8718\n",
      "Step 1700, Used 5.4404 s, Loss 0.3585, Acc 0.8677\n",
      "Step 1800, Used 5.4584 s, Loss 0.3533, Acc 0.8716\n",
      "Step 1900, Used 5.4216 s, Loss 0.3460, Acc 0.8727\n",
      "Step 2000, Used 5.4207 s, Loss 0.3445, Acc 0.8729\n",
      "Step 2100, Used 5.3493 s, Loss 0.3375, Acc 0.8749\n",
      "Step 2200, Used 5.3991 s, Loss 0.3317, Acc 0.8773\n",
      "Step 2300, Used 5.3003 s, Loss 0.3356, Acc 0.8755\n"
     ]
    }
   ],
   "source": [
    "# start training\n",
    "\n",
    "k = 0\n",
    "num_batch = 256\n",
    "running_loss = 0\n",
    "running_acc = 0\n",
    "print_step = 100\n",
    "X_train = bm.asarray(x_train)\n",
    "Y_train = bm.asarray(y_train)\n",
    "t0 = time()\n",
    "for _ in range(10):  # number of epoch\n",
    "  X_train = bm.random.permutation(X_train, key=123)\n",
    "  Y_train = bm.random.permutation(Y_train, key=123)\n",
    "\n",
    "  for i in range(0, X_train.shape[0], num_batch):\n",
    "    X = X_train[i: i + num_batch]\n",
    "    Y = Y_train[i: i + num_batch]\n",
    "    loss_, acc_ = train(X, Y)\n",
    "    running_loss += loss_\n",
    "    running_acc += acc_\n",
    "    k += 1\n",
    "    if k % print_step == 0:\n",
    "      print('Step {}, Used {:.4f} s, Loss {:0.4f}, Acc {:0.4f}'.format(\n",
    "        k, time() - t0,  running_loss / print_step, running_acc / print_step)\n",
    "      )\n",
    "      t0 = time()\n",
    "      running_loss = 0\n",
    "      running_acc = 0"
   ],
   "metadata": {
    "collapsed": false
   }
  }
 ],
 "metadata": {
  "kernelspec": {
   "display_name": "Python 3",
   "language": "python",
   "name": "python3"
  },
  "language_info": {
   "codemirror_mode": {
    "name": "ipython",
    "version": 2
   },
   "file_extension": ".py",
   "mimetype": "text/x-python",
   "name": "python",
   "nbconvert_exporter": "python",
   "pygments_lexer": "ipython2",
   "version": "2.7.6"
  }
 },
 "nbformat": 4,
 "nbformat_minor": 0
}
