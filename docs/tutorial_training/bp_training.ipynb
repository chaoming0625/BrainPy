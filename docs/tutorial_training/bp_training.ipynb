{
 "cells": [
  {
   "cell_type": "markdown",
   "source": [
    "# Training with Back-propagation Algorithms"
   ],
   "metadata": {
    "collapsed": false,
    "pycharm": {
     "name": "#%% md\n"
    }
   }
  },
  {
   "cell_type": "markdown",
   "source": [
    "Back-propagation (BP) trainings have become foundations in machine learning algorithms. In this section, we are going to talk about how to train models with BP."
   ],
   "metadata": {
    "collapsed": false,
    "pycharm": {
     "name": "#%% md\n"
    }
   }
  },
  {
   "cell_type": "code",
   "execution_count": 1,
   "outputs": [],
   "source": [
    "import brainpy as bp\n",
    "import brainpy.math as bm"
   ],
   "metadata": {
    "collapsed": false,
    "pycharm": {
     "name": "#%%\n"
    }
   }
  },
  {
   "cell_type": "markdown",
   "source": [
    "Here, we train two kinds of models to classify MNIST dataset. The first is ANN models commonly used in deep neural networks. The second is SNN models."
   ],
   "metadata": {
    "collapsed": false,
    "pycharm": {
     "name": "#%% md\n"
    }
   }
  },
  {
   "cell_type": "markdown",
   "source": [
    "## Train a ANN model"
   ],
   "metadata": {
    "collapsed": false,
    "pycharm": {
     "name": "#%% md\n"
    }
   }
  },
  {
   "cell_type": "markdown",
   "source": [
    "We first build a three layer ANN model:\n",
    "\n",
    "```bash\n",
    "\n",
    "i >> r >> o\n",
    "```\n",
    "\n",
    "where the recurrent layer ``r`` is a LSTM cell, the output ``o`` is a linear readout."
   ],
   "metadata": {
    "collapsed": false,
    "pycharm": {
     "name": "#%% md\n"
    }
   }
  },
  {
   "cell_type": "code",
   "execution_count": 2,
   "outputs": [],
   "source": [
    "class ANNModel(bp.dyn.DynamicalSystem):\n",
    "    def __init__(self, num_in, num_rec, num_out):\n",
    "        super(ANNModel, self).__init__()\n",
    "        self.rec = bp.layers.LSTM(num_in, num_rec)\n",
    "        self.out = bp.layers.Dense(num_rec, num_out)\n",
    "\n",
    "    def update(self, sha, x):\n",
    "        x = self.rec(sha, x)\n",
    "        x = self.out(sha, x)\n",
    "        return x"
   ],
   "metadata": {
    "collapsed": false,
    "pycharm": {
     "name": "#%%\n"
    }
   }
  },
  {
   "cell_type": "markdown",
   "source": [
    "Before training this model, we get and clean the data we want."
   ],
   "metadata": {
    "collapsed": false,
    "pycharm": {
     "name": "#%% md\n"
    }
   }
  },
  {
   "cell_type": "code",
   "execution_count": 3,
   "outputs": [
    {
     "name": "stderr",
     "output_type": "stream",
     "text": [
      "WARNING:absl:No GPU/TPU found, falling back to CPU. (Set TF_CPP_MIN_LOG_LEVEL=0 and rerun for more info.)\n"
     ]
    }
   ],
   "source": [
    "root = r\"D:\\data\\fashion-mnist\"\n",
    "train_dataset = bp.datasets.FashionMNIST(root,\n",
    "                                         train=True,\n",
    "                                         transform=None,\n",
    "                                         target_transform=None,\n",
    "                                         download=True)\n",
    "test_dataset = bp.datasets.FashionMNIST(root,\n",
    "                                        train=False,\n",
    "                                        transform=None,\n",
    "                                        target_transform=None,\n",
    "                                        download=True)\n",
    "\n",
    "# Standardize data\n",
    "import numpy as np\n",
    "x_train = np.array(train_dataset.data, dtype=bm.dftype()) / 255\n",
    "y_train = np.array(train_dataset.targets, dtype=bm.ditype())"
   ],
   "metadata": {
    "collapsed": false,
    "pycharm": {
     "name": "#%%\n"
    }
   }
  },
  {
   "cell_type": "markdown",
   "source": [
    "Then, we start to train our defined ANN model with ``brainpy.train.BPTT`` training interface."
   ],
   "metadata": {
    "collapsed": false,
    "pycharm": {
     "name": "#%% md\n"
    }
   }
  },
  {
   "cell_type": "code",
   "execution_count": 4,
   "outputs": [],
   "source": [
    "# model\n",
    "model = ANNModel(28, 100, 10)\n",
    "\n",
    "# loss function\n",
    "def loss_fun(predicts, targets):\n",
    "    predicts = bm.max(predicts, axis=1)\n",
    "    loss = bp.losses.cross_entropy_loss(predicts, targets)\n",
    "    acc = bm.mean(predicts.argmax(axis=-1) == targets)\n",
    "    return loss, {'acc': acc}\n",
    "\n",
    "# optimizer\n",
    "optimizer=bp.optim.Adam(lr=1e-3)\n",
    "\n",
    "# trainer\n",
    "trainer = bp.train.BPTT(model,\n",
    "                        loss_fun=loss_fun,\n",
    "                        loss_has_aux=True,\n",
    "                        optimizer=optimizer)"
   ],
   "metadata": {
    "collapsed": false,
    "pycharm": {
     "name": "#%%\n"
    }
   }
  },
  {
   "cell_type": "code",
   "execution_count": 5,
   "outputs": [
    {
     "name": "stdout",
     "output_type": "stream",
     "text": [
      "Train 100 steps, use 5.8233 s, train loss 0.71408, acc 0.7578125\n",
      "Train 200 steps, use 4.6053 s, train loss 0.58021, acc 0.796875\n",
      "Train 300 steps, use 5.3632 s, train loss 0.59812, acc 0.76953125\n",
      "Train 400 steps, use 4.4055 s, train loss 0.55029, acc 0.78515625\n",
      "Train 500 steps, use 4.5634 s, train loss 0.42883, acc 0.859375\n",
      "Train 600 steps, use 4.4417 s, train loss 0.43089, acc 0.83203125\n",
      "Train 700 steps, use 4.3874 s, train loss 0.50011, acc 0.81640625\n",
      "Train 800 steps, use 4.4480 s, train loss 0.35544, acc 0.8515625\n",
      "Train 900 steps, use 4.4295 s, train loss 0.49531, acc 0.82421875\n",
      "Train 1000 steps, use 4.5088 s, train loss 0.34906, acc 0.87890625\n",
      "Train 1100 steps, use 4.3934 s, train loss 0.35866, acc 0.90625\n",
      "Train 1200 steps, use 4.4541 s, train loss 0.38998, acc 0.8671875\n",
      "Train 1300 steps, use 4.4055 s, train loss 0.3596, acc 0.86328125\n",
      "Train 1400 steps, use 4.3874 s, train loss 0.34075, acc 0.86328125\n",
      "Train 1500 steps, use 4.4722 s, train loss 0.36413, acc 0.8671875\n",
      "Train 1600 steps, use 4.4357 s, train loss 0.3472, acc 0.87890625\n",
      "Train 1700 steps, use 4.4783 s, train loss 0.34438, acc 0.87109375\n",
      "Train 1800 steps, use 4.4179 s, train loss 0.33298, acc 0.87890625\n",
      "Train 1900 steps, use 4.4298 s, train loss 0.35496, acc 0.84765625\n",
      "Train 2000 steps, use 4.3998 s, train loss 0.36747, acc 0.8828125\n",
      "Train 2100 steps, use 4.4294 s, train loss 0.44887, acc 0.83203125\n",
      "Train 2200 steps, use 4.4521 s, train loss 0.3616, acc 0.87109375\n",
      "Train 2300 steps, use 4.4682 s, train loss 0.34078, acc 0.87109375\n"
     ]
    }
   ],
   "source": [
    "trainer.fit([bm.asarray(x_train),\n",
    "             bm.asarray(y_train)],\n",
    "            batch_size=256,\n",
    "            num_epoch=10)"
   ],
   "metadata": {
    "collapsed": false,
    "pycharm": {
     "name": "#%%\n"
    }
   }
  },
  {
   "cell_type": "code",
   "execution_count": 6,
   "outputs": [
    {
     "data": {
      "text/plain": "<Figure size 432x288 with 1 Axes>",
      "image/png": "[encoded data removed]"
     },
     "metadata": {
      "needs_background": "light"
     },
     "output_type": "display_data"
    }
   ],
   "source": [
    "import matplotlib.pyplot as plt\n",
    "\n",
    "plt.plot(trainer.train_losses)\n",
    "plt.xlabel(\"Epoch\")\n",
    "plt.ylabel(\"Loss\")\n",
    "plt.show()"
   ],
   "metadata": {
    "collapsed": false,
    "pycharm": {
     "name": "#%%\n"
    }
   }
  },
  {
   "cell_type": "markdown",
   "source": [
    "## Train a SNN model"
   ],
   "metadata": {
    "collapsed": false,
    "pycharm": {
     "name": "#%% md\n"
    }
   }
  },
  {
   "cell_type": "markdown",
   "source": [
    "Similarly, ``brainpy.train.BPTT`` can also be used to train SNN models.\n",
    "\n",
    "We first build a three layer SNN model:\n",
    "\n",
    "```bash\n",
    "\n",
    "i >> [exponential synapse] >> r >> [exponential synapse] >> o\n",
    "```"
   ],
   "metadata": {
    "collapsed": false,
    "pycharm": {
     "name": "#%% md\n"
    }
   }
  },
  {
   "cell_type": "code",
   "execution_count": 7,
   "outputs": [],
   "source": [
    "class SNNModel(bp.dyn.DynamicalSystem):\n",
    "  def __init__(self, num_in, num_rec, num_out):\n",
    "    super(SNNModel, self).__init__()\n",
    "\n",
    "    # parameters\n",
    "    self.num_in = num_in\n",
    "    self.num_rec = num_rec\n",
    "    self.num_out = num_out\n",
    "\n",
    "    # neuron groups\n",
    "    self.i = bp.neurons.InputGroup(num_in, mode=bp.modes.training)\n",
    "    self.r = bp.neurons.LIF(num_rec, tau=10, V_reset=0, V_rest=0, V_th=1.,\n",
    "                            mode=bp.modes.training)\n",
    "    self.o = bp.neurons.LeakyIntegrator(num_out, tau=5, mode=bp.modes.training)\n",
    "\n",
    "    # synapse: i->r\n",
    "    self.i2r = bp.synapses.Exponential(self.i, self.r, bp.conn.All2All(),\n",
    "                                       output=bp.synouts.CUBA(), tau=10.,\n",
    "                                       g_max=bp.init.KaimingNormal(scale=2.),\n",
    "                                       mode=bp.modes.training)\n",
    "    # synapse: r->o\n",
    "    self.r2o = bp.synapses.Exponential(self.r, self.o, bp.conn.All2All(),\n",
    "                                       output=bp.synouts.CUBA(), tau=10.,\n",
    "                                       g_max=bp.init.KaimingNormal(scale=2.),\n",
    "                                       mode=bp.modes.training)\n",
    "\n",
    "  def update(self, shared, spike):\n",
    "    self.i2r(shared, spike)\n",
    "    self.r2o(shared)\n",
    "    self.r(shared)\n",
    "    self.o(shared)\n",
    "    return self.o.V.value"
   ],
   "metadata": {
    "collapsed": false,
    "pycharm": {
     "name": "#%%\n"
    }
   }
  },
  {
   "cell_type": "markdown",
   "source": [
    "As the model receives spiking inputs, we define functions that are necessary to transform the continuous values to spiking data."
   ],
   "metadata": {
    "collapsed": false,
    "pycharm": {
     "name": "#%% md\n"
    }
   }
  },
  {
   "cell_type": "code",
   "execution_count": 8,
   "outputs": [],
   "source": [
    "def current2firing_time(x, tau=20., thr=0.2, tmax=1.0, epsilon=1e-7):\n",
    "  x = np.clip(x, thr + epsilon, 1e9)\n",
    "  T = tau * np.log(x / (x - thr))\n",
    "  T = np.where(x < thr, tmax, T)\n",
    "  return T\n",
    "\n",
    "def sparse_data_generator(X, y, batch_size, nb_steps, nb_units, shuffle=True):\n",
    "  labels_ = np.array(y, dtype=bm.ditype())\n",
    "  sample_index = np.arange(len(X))\n",
    "\n",
    "  # compute discrete firing times\n",
    "  tau_eff = 2. / bm.get_dt()\n",
    "  unit_numbers = np.arange(nb_units)\n",
    "  firing_times = np.array(current2firing_time(X, tau=tau_eff, tmax=nb_steps), dtype=bm.ditype())\n",
    "\n",
    "  if shuffle:\n",
    "    np.random.shuffle(sample_index)\n",
    "\n",
    "  counter = 0\n",
    "  number_of_batches = len(X) // batch_size\n",
    "  while counter < number_of_batches:\n",
    "    batch_index = sample_index[batch_size * counter:batch_size * (counter + 1)]\n",
    "    all_batch, all_times, all_units = [], [], []\n",
    "    for bc, idx in enumerate(batch_index):\n",
    "      c = firing_times[idx] < nb_steps\n",
    "      times, units = firing_times[idx][c], unit_numbers[c]\n",
    "      batch = bc * np.ones(len(times), dtype=bm.ditype())\n",
    "      all_batch.append(batch)\n",
    "      all_times.append(times)\n",
    "      all_units.append(units)\n",
    "    all_batch = np.concatenate(all_batch).flatten()\n",
    "    all_times = np.concatenate(all_times).flatten()\n",
    "    all_units = np.concatenate(all_units).flatten()\n",
    "    x_batch = bm.zeros((batch_size, nb_steps, nb_units))\n",
    "    x_batch[all_batch, all_times, all_units] = 1.\n",
    "    y_batch = bm.asarray(labels_[batch_index])\n",
    "    yield x_batch, y_batch\n",
    "    counter += 1"
   ],
   "metadata": {
    "collapsed": false,
    "pycharm": {
     "name": "#%%\n"
    }
   }
  },
  {
   "cell_type": "markdown",
   "source": [
    "Now, we can define a BP trainer for this SNN model."
   ],
   "metadata": {
    "collapsed": false,
    "pycharm": {
     "name": "#%% md\n"
    }
   }
  },
  {
   "cell_type": "code",
   "execution_count": 9,
   "outputs": [],
   "source": [
    "def loss_fun(predicts, targets):\n",
    "    predicts, mon = predicts\n",
    "    # L1 loss on total number of spikes\n",
    "    l1_loss = 1e-5 * bm.sum(mon['r.spike'])\n",
    "    # L2 loss on spikes per neuron\n",
    "    l2_loss = 1e-5 * bm.mean(bm.sum(bm.sum(mon['r.spike'], axis=0), axis=0) ** 2)\n",
    "    # predictions\n",
    "    predicts = bm.max(predicts, axis=1)\n",
    "    loss = bp.losses.cross_entropy_loss(predicts, targets)\n",
    "    acc = bm.mean(predicts.argmax(-1) == targets)\n",
    "    return loss + l2_loss + l1_loss, {'acc': acc}\n",
    "\n",
    "model = SNNModel(num_in=28*28, num_rec=100, num_out=10)\n",
    "\n",
    "trainer = bp.train.BPTT(\n",
    "    model,\n",
    "    loss_fun=loss_fun,\n",
    "    loss_has_aux=True,\n",
    "    optimizer=bp.optim.Adam(lr=1e-3),\n",
    "    monitors={'r.spike': model.r.spike},\n",
    ")"
   ],
   "metadata": {
    "collapsed": false,
    "pycharm": {
     "name": "#%%\n"
    }
   }
  },
  {
   "cell_type": "markdown",
   "source": [
    "The training process is similar to that of the ANN model, instead of the data is generated by the sparse generator function we defined above."
   ],
   "metadata": {
    "collapsed": false,
    "pycharm": {
     "name": "#%% md\n"
    }
   }
  },
  {
   "cell_type": "code",
   "execution_count": 10,
   "outputs": [
    {
     "name": "stdout",
     "output_type": "stream",
     "text": [
      "Train 100 steps, use 22.0941 s, train loss 1.19132, acc 0.6875\n",
      "Train 200 steps, use 20.2645 s, train loss 0.87256, acc 0.80859375\n",
      "Train 300 steps, use 21.1350 s, train loss 0.68279, acc 0.87890625\n",
      "Train 400 steps, use 20.4300 s, train loss 0.72015, acc 0.83984375\n",
      "Train 500 steps, use 21.5106 s, train loss 0.66263, acc 0.8125\n",
      "Train 600 steps, use 21.1154 s, train loss 0.58406, acc 0.8515625\n",
      "Train 700 steps, use 20.9971 s, train loss 0.60017, acc 0.84375\n",
      "Train 800 steps, use 22.0579 s, train loss 0.51788, acc 0.87109375\n",
      "Train 900 steps, use 21.6525 s, train loss 0.50461, acc 0.8828125\n",
      "Train 1000 steps, use 23.0335 s, train loss 0.51658, acc 0.87109375\n",
      "Train 1100 steps, use 22.1772 s, train loss 0.54877, acc 0.8515625\n",
      "Train 1200 steps, use 22.9390 s, train loss 0.46686, acc 0.875\n",
      "Train 1300 steps, use 22.4156 s, train loss 0.42036, acc 0.91015625\n",
      "Train 1400 steps, use 22.4095 s, train loss 0.48285, acc 0.87109375\n",
      "Train 1500 steps, use 22.7672 s, train loss 0.47716, acc 0.875\n",
      "Train 1600 steps, use 22.1067 s, train loss 0.40596, acc 0.90234375\n",
      "Train 1700 steps, use 22.8864 s, train loss 0.45338, acc 0.875\n",
      "Train 1800 steps, use 22.4908 s, train loss 0.48178, acc 0.8828125\n",
      "Train 1900 steps, use 23.9545 s, train loss 0.40503, acc 0.89453125\n",
      "Train 2000 steps, use 22.9913 s, train loss 0.49182, acc 0.875\n",
      "Train 2100 steps, use 22.8157 s, train loss 0.40759, acc 0.90234375\n",
      "Train 2200 steps, use 24.0865 s, train loss 0.38937, acc 0.90234375\n",
      "Train 2300 steps, use 23.1627 s, train loss 0.4641, acc 0.85546875\n"
     ]
    }
   ],
   "source": [
    "trainer.fit(lambda: sparse_data_generator(x_train.reshape(x_train.shape[0], -1),\n",
    "                                          y_train,\n",
    "                                          batch_size=256,\n",
    "                                          nb_steps=100,\n",
    "                                          nb_units=28 * 28),\n",
    "            num_epoch=10)"
   ],
   "metadata": {
    "collapsed": false,
    "pycharm": {
     "name": "#%%\n"
    }
   }
  },
  {
   "cell_type": "code",
   "execution_count": 11,
   "outputs": [
    {
     "data": {
      "text/plain": "<Figure size 432x288 with 1 Axes>",
      "image/png": "[encoded data removed]"
     },
     "metadata": {
      "needs_background": "light"
     },
     "output_type": "display_data"
    }
   ],
   "source": [
    "plt.plot(trainer.train_losses)\n",
    "plt.xlabel(\"Epoch\")\n",
    "plt.ylabel(\"Loss\")\n",
    "plt.show()"
   ],
   "metadata": {
    "collapsed": false,
    "pycharm": {
     "name": "#%%\n"
    }
   }
  },
  {
   "cell_type": "markdown",
   "source": [
    "## Customize your BP training"
   ],
   "metadata": {
    "collapsed": false,
    "pycharm": {
     "name": "#%% md\n"
    }
   }
  },
  {
   "cell_type": "markdown",
   "source": [
    "Actually, ``brainpy.train.BPTT`` is just one way to perform back-propagation training with your model. You can easily customize your training process.\n",
    "\n",
    "In the below, we demonstrate how to define a BP training process by hand with the above ANN model."
   ],
   "metadata": {
    "collapsed": false,
    "pycharm": {
     "name": "#%% md\n"
    }
   },
   "execution_count": 25
  },
  {
   "cell_type": "code",
   "execution_count": 12,
   "outputs": [],
   "source": [
    "# packages we need\n",
    "\n",
    "from time import time\n",
    "from functools import partial"
   ],
   "metadata": {
    "collapsed": false,
    "pycharm": {
     "name": "#%%\n"
    }
   }
  },
  {
   "cell_type": "code",
   "execution_count": 18,
   "outputs": [],
   "source": [
    "# define the model\n",
    "model = ANNModel(28, 100, 10)"
   ],
   "metadata": {
    "collapsed": false,
    "pycharm": {
     "name": "#%%\n"
    }
   }
  },
  {
   "cell_type": "code",
   "execution_count": 19,
   "outputs": [],
   "source": [
    "# define the loss function\n",
    "def loss_fun(inputs, targets):\n",
    "  runner = bp.train.DSTrainer(model, progress_bar=False, numpy_mon_after_run=False)\n",
    "  predicts = runner.predict(inputs, reset_state=True)\n",
    "  predicts = bm.max(predicts, axis=1)\n",
    "  loss = bp.losses.cross_entropy_loss(predicts, targets)\n",
    "  acc = bm.mean(predicts.argmax(-1) == targets)\n",
    "  return loss, acc"
   ],
   "metadata": {
    "collapsed": false,
    "pycharm": {
     "name": "#%%\n"
    }
   }
  },
  {
   "cell_type": "code",
   "execution_count": 20,
   "outputs": [],
   "source": [
    "# define the gradient function which computes the\n",
    "# gradients of the trainable weights\n",
    "grad_fun = bm.grad(loss_fun,\n",
    "                   grad_vars=model.train_vars().unique(),\n",
    "                   dyn_vars=model.vars(),\n",
    "                   has_aux=True,\n",
    "                   return_value=True)"
   ],
   "metadata": {
    "collapsed": false,
    "pycharm": {
     "name": "#%%\n"
    }
   }
  },
  {
   "cell_type": "code",
   "execution_count": 21,
   "outputs": [],
   "source": [
    "# define the optimizer we need\n",
    "opt = bp.optim.Adam(lr=1e-3, train_vars=model.train_vars().unique())"
   ],
   "metadata": {
    "collapsed": false,
    "pycharm": {
     "name": "#%%\n"
    }
   }
  },
  {
   "cell_type": "code",
   "execution_count": 22,
   "outputs": [],
   "source": [
    "# training function\n",
    "\n",
    "@partial(bm.jit, dyn_vars=model.vars() + opt.vars())\n",
    "def train(xs, ys):\n",
    "  grads, loss, acc = grad_fun(xs, ys)\n",
    "  opt.update(grads)\n",
    "  return loss, acc"
   ],
   "metadata": {
    "collapsed": false,
    "pycharm": {
     "name": "#%%\n"
    }
   }
  },
  {
   "cell_type": "code",
   "execution_count": 23,
   "outputs": [
    {
     "name": "stdout",
     "output_type": "stream",
     "text": [
      "Step 100, Used 7.0777 s, Loss 1.1089, Acc 0.6295\n",
      "Step 200, Used 5.3347 s, Loss 0.5945, Acc 0.7838\n",
      "Step 300, Used 6.8700 s, Loss 0.5286, Acc 0.8101\n",
      "Step 400, Used 5.2681 s, Loss 0.4915, Acc 0.8188\n",
      "Step 500, Used 5.3199 s, Loss 0.4550, Acc 0.8318\n",
      "Step 600, Used 5.2788 s, Loss 0.4533, Acc 0.8314\n",
      "Step 700, Used 5.3146 s, Loss 0.4215, Acc 0.8459\n",
      "Step 800, Used 5.4479 s, Loss 0.4151, Acc 0.8442\n",
      "Step 900, Used 5.5003 s, Loss 0.3980, Acc 0.8533\n",
      "Step 1000, Used 5.5045 s, Loss 0.3949, Acc 0.8566\n",
      "Step 1100, Used 5.3810 s, Loss 0.3897, Acc 0.8558\n",
      "Step 1200, Used 5.3632 s, Loss 0.3792, Acc 0.8583\n",
      "Step 1300, Used 5.3024 s, Loss 0.3644, Acc 0.8651\n",
      "Step 1400, Used 5.3145 s, Loss 0.3774, Acc 0.8596\n",
      "Step 1500, Used 5.3328 s, Loss 0.3559, Acc 0.8690\n",
      "Step 1600, Used 5.2903 s, Loss 0.3563, Acc 0.8690\n",
      "Step 1700, Used 5.3266 s, Loss 0.3583, Acc 0.8687\n",
      "Step 1800, Used 5.2965 s, Loss 0.3492, Acc 0.8714\n",
      "Step 1900, Used 5.3309 s, Loss 0.3395, Acc 0.8765\n",
      "Step 2000, Used 5.2679 s, Loss 0.3302, Acc 0.8774\n",
      "Step 2100, Used 5.2841 s, Loss 0.3402, Acc 0.8741\n",
      "Step 2200, Used 5.4621 s, Loss 0.3254, Acc 0.8794\n",
      "Step 2300, Used 5.4357 s, Loss 0.3336, Acc 0.8757\n"
     ]
    }
   ],
   "source": [
    "# start training\n",
    "\n",
    "k = 0\n",
    "num_batch = 256\n",
    "running_loss = 0\n",
    "running_acc = 0\n",
    "print_step = 100\n",
    "X_train = bm.asarray(x_train)\n",
    "Y_train = bm.asarray(y_train)\n",
    "t0 = time()\n",
    "for _ in range(10):  # number of epoch\n",
    "  key = bm.random.DEFAULT.split_key()\n",
    "  X_train = bm.random.permutation(X_train, key)\n",
    "  Y_train = bm.random.permutation(Y_train, key)\n",
    "\n",
    "  for i in range(0, X_train.shape[0], num_batch):\n",
    "    X = X_train[i: i + num_batch]\n",
    "    Y = Y_train[i: i + num_batch]\n",
    "    loss_, acc_ = train(X, Y)\n",
    "    running_loss += loss_\n",
    "    running_acc += acc_\n",
    "    k += 1\n",
    "    if k % print_step == 0:\n",
    "      print('Step {}, Used {:.4f} s, Loss {:0.4f}, Acc {:0.4f}'.format(\n",
    "        k, time() - t0,  running_loss / print_step, running_acc / print_step))\n",
    "      t0 = time()\n",
    "      running_loss = 0\n",
    "      running_acc = 0"
   ],
   "metadata": {
    "collapsed": false,
    "pycharm": {
     "name": "#%%\n"
    }
   }
  },
  {
   "cell_type": "markdown",
   "source": [],
   "metadata": {
    "collapsed": false,
    "pycharm": {
     "name": "#%% md\n"
    }
   }
  }
 ],
 "metadata": {
  "kernelspec": {
   "display_name": "Python 3",
   "language": "python",
   "name": "python3"
  },
  "language_info": {
   "codemirror_mode": {
    "name": "ipython",
    "version": 2
   },
   "file_extension": ".py",
   "mimetype": "text/x-python",
   "name": "python",
   "nbconvert_exporter": "python",
   "pygments_lexer": "ipython2",
   "version": "2.7.6"
  }
 },
 "nbformat": 4,
 "nbformat_minor": 0
}