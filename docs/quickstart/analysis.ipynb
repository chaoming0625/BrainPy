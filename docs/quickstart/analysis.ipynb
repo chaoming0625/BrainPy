{
 "cells": [
  {
   "cell_type": "markdown",
   "id": "ae1512d8",
   "metadata": {
    "pycharm": {
     "name": "#%% md\n"
    }
   },
   "source": [
    "# Analyzing a Dynamical Model"
   ]
  },
  {
   "cell_type": "markdown",
   "id": "c83bdd21",
   "metadata": {
    "pycharm": {
     "name": "#%% md\n"
    }
   },
   "source": [
    "@[Xiaoyu Chen](mailto:c-xy17@tsinghua.org.cn)\n",
    "@[Chaoming Wang](https://github.com/chaoming0625)"
   ]
  },
  {
   "cell_type": "markdown",
   "id": "072ee7b8",
   "metadata": {
    "pycharm": {
     "name": "#%% md\n"
    }
   },
   "source": [
    "In BrainPy, defined models can not only be used for simulation, but also to perform automatic dynamics analysis. \n",
    "\n",
    "BrainPy provides rich interfaces to support analysis, incluing\n",
    "\n",
    "- Phase plane analysis, bifurcation analysis, and fast-slow bifurcation analysis for [low-dimensional systems](../tutorial_analysis/lowdim_analysis.ipynb);\n",
    "- linearization analysis and fixed/slow point finding for [high-dimensional systems](../tutorial_analysis/highdim_analysis.ipynb). \n",
    "\n",
    "Here we will introduce three brief examples of 1-D bifurcation analysis and 2-D phase plane analysis. For more detailsand more examples, please refer to the tutorials of [dynamics analysis](../tutorial_analysis/index.rst)."
   ]
  },
  {
   "cell_type": "code",
   "execution_count": 1,
   "id": "993ca509",
   "metadata": {
    "pycharm": {
     "name": "#%%\n"
    }
   },
   "outputs": [],
   "source": [
    "import brainpy as bp\n",
    "\n",
    "bp.math.set_platform('cpu')\n",
    "\n",
    "bp.math.enable_x64()  # Dynamics analysis in BrainPy requires 64-bit computation"
   ]
  },
  {
   "cell_type": "markdown",
   "id": "f418d87b",
   "metadata": {
    "pycharm": {
     "name": "#%% md\n"
    }
   },
   "source": [
    "## Example 1: bifurcation analysis of a 1D model"
   ]
  },
  {
   "cell_type": "markdown",
   "id": "b600c817",
   "metadata": {
    "pycharm": {
     "name": "#%% md\n"
    }
   },
   "source": [
    "Here, we demonstrate how to perform a bifurcation analysis through a one-dimensional neuron model."
   ]
  },
  {
   "cell_type": "markdown",
   "source": [
    "Let's try to analyze how the external input influences the dynamics of the Exponential Integrate-and-Fire (ExpIF) model. The ExpIF model is a one-variable neuron model whose dynamics is defined by:\n",
    "\n",
    "$$\n",
    "\\tau {\\dot {V}}= - (V - V_\\mathrm{rest}) + \\Delta_T \\exp(\\frac{V - V_T}{\\Delta_T}) + RI \\\\\n",
    "\\mathrm{if}\\, \\, V > \\theta, \\quad  V \\gets  V_\\mathrm{reset}\n",
    "$$"
   ],
   "metadata": {
    "collapsed": false,
    "pycharm": {
     "name": "#%% md\n"
    }
   }
  },
  {
   "cell_type": "markdown",
   "id": "9a46f462",
   "metadata": {
    "pycharm": {
     "name": "#%% md\n"
    }
   },
   "source": [
    "We can analyze the change of ${\\dot {V}}$ with respect to $V$. First, let's generate an ExpIF model using pre-defined modules in ``brainpy.dyn``:"
   ]
  },
  {
   "cell_type": "code",
   "execution_count": 2,
   "id": "8d6b11cb",
   "metadata": {
    "pycharm": {
     "name": "#%%\n"
    }
   },
   "outputs": [],
   "source": [
    "expif = bp.dyn.ExpIF(1, delta_T=1.)"
   ]
  },
  {
   "cell_type": "markdown",
   "id": "a818b78c",
   "metadata": {
    "pycharm": {
     "name": "#%% md\n"
    }
   },
   "source": [
    "The default value of other parameters can be accessed directly by their names:"
   ]
  },
  {
   "cell_type": "code",
   "execution_count": 3,
   "id": "040b7004",
   "metadata": {
    "pycharm": {
     "name": "#%%\n"
    }
   },
   "outputs": [
    {
     "data": {
      "text/plain": [
       "(-65.0, -59.9, 1.0, 10.0)"
      ]
     },
     "execution_count": 3,
     "metadata": {},
     "output_type": "execute_result"
    }
   ],
   "source": [
    "expif.V_rest, expif.V_T, expif.R, expif.tau"
   ]
  },
  {
   "cell_type": "markdown",
   "id": "09f5722a",
   "metadata": {
    "pycharm": {
     "name": "#%% md\n"
    }
   },
   "source": [
    "After defining the model, we can use it for bifurcation analysis."
   ]
  },
  {
   "cell_type": "code",
   "execution_count": 4,
   "id": "358060fb",
   "metadata": {
    "pycharm": {
     "name": "#%%\n"
    }
   },
   "outputs": [
    {
     "name": "stderr",
     "output_type": "stream",
     "text": [
      "I am making bifurcation analysis ...\n"
     ]
    },
    {
     "data": {
      "image/png": "[encoded data removed]",
      "text/plain": [
       "<Figure size 432x288 with 1 Axes>"
      ]
     },
     "metadata": {
      "needs_background": "light"
     },
     "output_type": "display_data"
    }
   ],
   "source": [
    "bif = bp.analysis.Bifurcation1D(\n",
    "    model=expif,\n",
    "    target_vars={'V': [-70., -55.]},\n",
    "    target_pars={'I_ext': [0., 6.]},\n",
    "    resolutions=0.01\n",
    ")\n",
    "bif.plot_bifurcation(show=True)"
   ]
  },
  {
   "cell_type": "markdown",
   "id": "4f03e723",
   "metadata": {
    "pycharm": {
     "name": "#%% md\n"
    }
   },
   "source": [
    "In the ``Bifurcation1D`` analyzer, ``model`` refers to the modelto be analyzed (essentially the analyzer will access the derivative function in the model), ``target_vars`` denotes the target variables, ``target_pars`` denotes the changing parameters, and ``resolution`` determines  the resolutioin of the analysis."
   ]
  },
  {
   "cell_type": "markdown",
   "id": "a61faa7b",
   "metadata": {
    "pycharm": {
     "name": "#%% md\n"
    }
   },
   "source": [
    "In the image above, there are two lines that \"merge\" together to form a bifurcation. The dots making up the lines refer to the fixed points of $\\mathrm{d}V/\\mathrm{d}t$. On the left of the bifurcation point (where two lines merge together), there are two fixed points where $\\mathrm{d}V/\\mathrm{d}t = 0$ given each external input $I_\\mathrm{ext}$. One of them is a stable point, and the other is an unstable one. When $I_\\mathrm{ext}$ increases, the two fixed points move closer to each other, overlap, and finally disappear.\n",
    "\n",
    "Bifurcation analysis provides insights for the dynamics of the model, for it indicates the number and the change of stable states with respect to different parameters."
   ]
  },
  {
   "cell_type": "markdown",
   "id": "96ce2043",
   "metadata": {
    "pycharm": {
     "name": "#%% md\n"
    }
   },
   "source": [
    "## Example 2: phase plane analysis of a 2D model"
   ]
  },
  {
   "cell_type": "markdown",
   "id": "6ab49f7e",
   "metadata": {
    "pycharm": {
     "name": "#%% md\n"
    }
   },
   "source": [
    "Besides bifurcationi analysis, another important tool is phase plane analysis, which displays the trajectory of the variable point in the vector field. Let's take the [FitzHugh–Nagumo (FHN) neuron model](https://brainmodels.readthedocs.io/en/latest/apis/generated/brainmodels.neurons.FHN.html) model as an example. The dynamics of the FHN model is given by: \n",
    "\n",
    "$$\n",
    "{\\dot {v}}=v-{\\frac {v^{3}}{3}}-w+I, \\\\\n",
    "\\tau {\\dot {w}}=v+a-bw.\n",
    "$$"
   ]
  },
  {
   "cell_type": "markdown",
   "id": "0a3a0e53",
   "metadata": {
    "pycharm": {
     "name": "#%% md\n"
    }
   },
   "source": [
    "Users can easily define a FHN model which is also provided by BrainPy:"
   ]
  },
  {
   "cell_type": "code",
   "execution_count": 5,
   "id": "e6b176c7",
   "metadata": {
    "pycharm": {
     "name": "#%%\n"
    }
   },
   "outputs": [],
   "source": [
    "fhn = bp.dyn.FHN(1)"
   ]
  },
  {
   "cell_type": "markdown",
   "id": "b13e4ee9",
   "metadata": {
    "pycharm": {
     "name": "#%% md\n"
    }
   },
   "source": [
    "Because there are two variables, $v$ and $w$, in the FHN model, we shall use 2-D phase plane analysis to visualize how these two variables change over time."
   ]
  },
  {
   "cell_type": "code",
   "execution_count": 6,
   "id": "78078951",
   "metadata": {
    "pycharm": {
     "name": "#%%\n"
    }
   },
   "outputs": [
    {
     "name": "stderr",
     "output_type": "stream",
     "text": [
      "I am computing fx-nullcline ...\n",
      "I am evaluating fx-nullcline by optimization ...\n",
      "I am computing fy-nullcline ...\n",
      "I am evaluating fy-nullcline by optimization ...\n",
      "I am creating the vector field ...\n",
      "I am searching fixed points ...\n",
      "I am trying to find fixed points by optimization ...\n",
      "\tThere are 866 candidates\n",
      "I am trying to filter out duplicate fixed points ...\n",
      "\tFound 1 fixed points.\n",
      "\t#1 V=-0.2738719079879798, w=0.5329731346879486 is a unstable node.\n",
      "I am plotting the trajectory ...\n"
     ]
    },
    {
     "data": {
      "image/png": "[encoded data removed]",
      "text/plain": [
       "<Figure size 432x288 with 1 Axes>"
      ]
     },
     "metadata": {
      "needs_background": "light"
     },
     "output_type": "display_data"
    }
   ],
   "source": [
    "analyzer = bp.analysis.PhasePlane2D(\n",
    "  model=fhn,\n",
    "  target_vars={'V': [-3, 3], 'w': [-3., 3.]},\n",
    "  pars_update={'I_ext': 0.8}, \n",
    "  resolutions=0.01,\n",
    ")\n",
    "analyzer.plot_nullcline()\n",
    "analyzer.plot_vector_field()\n",
    "analyzer.plot_fixed_point()\n",
    "analyzer.plot_trajectory({'V': [-2.8], 'w': [-1.8]}, duration=100.)\n",
    "analyzer.show_figure()"
   ]
  },
  {
   "cell_type": "markdown",
   "id": "247760da",
   "metadata": {
    "pycharm": {
     "name": "#%% md\n"
    }
   },
   "source": [
    "In the ``PhasePlane2D`` analyzer, the parameters ``model``, ``target_vars``, and ``resolution`` is the same as those in ``Bifurcation1D``. ``pars_update`` specifies  the parameters to be updated during analysis. After defining the analyzer, users can visualize the nullcline, vector field, fixed points and the trajectory in the image. The phase plane gives users intuitive interpretation of the changes of $v$ and $w$ guided by the vector field (violet arrows)."
   ]
  },
  {
   "cell_type": "markdown",
   "id": "52fa5b53",
   "metadata": {
    "pycharm": {
     "name": "#%% md\n"
    }
   },
   "source": [
    "## Further reading"
   ]
  },
  {
   "cell_type": "markdown",
   "id": "315c47ff",
   "metadata": {
    "pycharm": {
     "name": "#%% md\n"
    }
   },
   "source": [
    "- For more details about how to perform bifurcation analysis and phase plane analysis, please see the tutorial of [Low-dimensional Analyzers](../tutorial_analysis/lowdim_analysis.ipynb).\n",
    "- A good example of phase plane analysis and bifurcation analysis is the decision-making model, please see the tutorial in [Analysis of a Decision-making Model](../tutorial_analysis/decision_making_model.ipynb)\n",
    "- If you want to how to analyze the slow points (or fixed points) of your high-dimensional dynamical models, please see the tutorial of [High-dimensional Analyzers](../tutorial_analysis/highdim_analysis.ipynb)"
   ]
  },
  {
   "cell_type": "code",
   "execution_count": null,
   "id": "77fc3778",
   "metadata": {
    "pycharm": {
     "name": "#%%\n"
    }
   },
   "outputs": [],
   "source": []
  }
 ],
 "metadata": {
  "kernelspec": {
   "display_name": "Python 3",
   "language": "python",
   "name": "python3"
  },
  "language_info": {
   "codemirror_mode": {
    "name": "ipython",
    "version": 3
   },
   "file_extension": ".py",
   "mimetype": "text/x-python",
   "name": "python",
   "nbconvert_exporter": "python",
   "pygments_lexer": "ipython3",
   "version": "3.8.8"
  }
 },
 "nbformat": 4,
 "nbformat_minor": 5
}