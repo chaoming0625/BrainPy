{
 "cells": [
  {
   "cell_type": "markdown",
   "id": "ae1512d8",
   "metadata": {
    "pycharm": {
     "name": "#%% md\n"
    }
   },
   "source": [
    "# Analyzing a Brain Dynamics Model"
   ]
  },
  {
   "cell_type": "markdown",
   "id": "c83bdd21",
   "metadata": {
    "pycharm": {
     "name": "#%% md\n"
    }
   },
   "source": [
    "@[Xiaoyu Chen](mailto:c-xy17@tsinghua.org.cn) @[Chaoming Wang](https://github.com/chaoming0625)"
   ]
  },
  {
   "cell_type": "markdown",
   "id": "072ee7b8",
   "metadata": {
    "pycharm": {
     "name": "#%% md\n"
    }
   },
   "source": [
    "In BrainPy, defined models can not only be used for simulation, but also be capable of performing automatic dynamics analysis.\n",
    "\n",
    "BrainPy provides rich interfaces to support analysis, including\n",
    "\n",
    "- Phase plane analysis, bifurcation analysis, and fast-slow bifurcation analysis for [low-dimensional systems](../tutorial_analysis/lowdim_analysis.ipynb);\n",
    "- linearization analysis and fixed/slow point finding for [high-dimensional systems](../tutorial_analysis/highdim_analysis.ipynb). \n",
    "\n",
    "Here we will introduce three brief examples of 1-D bifurcation analysis and 2-D phase plane analysis. For more detailsand more examples, please refer to the tutorials of [dynamics analysis](../tutorial_analysis/index.rst)."
   ]
  },
  {
   "cell_type": "code",
   "execution_count": 1,
   "id": "993ca509",
   "metadata": {
    "pycharm": {
     "name": "#%%\n"
    }
   },
   "outputs": [],
   "source": [
    "import brainpy as bp\n",
    "import brainpy.math as bm\n",
    "\n",
    "# bm.set_platform('cpu')\n",
    "\n",
    "bm.enable_x64()  # it's better to use x64 computation"
   ]
  },
  {
   "cell_type": "markdown",
   "id": "f418d87b",
   "metadata": {
    "pycharm": {
     "name": "#%% md\n"
    }
   },
   "source": [
    "## Bifurcation analysis of a 1D model"
   ]
  },
  {
   "cell_type": "markdown",
   "id": "b600c817",
   "metadata": {
    "pycharm": {
     "name": "#%% md\n"
    }
   },
   "source": [
    "Here, we demonstrate how to perform a bifurcation analysis through a one-dimensional neuron model."
   ]
  },
  {
   "cell_type": "markdown",
   "source": [
    "Let's try to analyze how the external input influences the dynamics of the Exponential Integrate-and-Fire (ExpIF) model. The ExpIF model is a one-variable neuron model whose dynamics is defined by:\n",
    "\n",
    "$$\n",
    "\\tau {\\dot {V}}= - (V - V_\\mathrm{rest}) + \\Delta_T \\exp(\\frac{V - V_T}{\\Delta_T}) + RI \\\\\n",
    "\\mathrm{if}\\, \\, V > \\theta, \\quad  V \\gets  V_\\mathrm{reset}\n",
    "$$"
   ],
   "metadata": {
    "collapsed": false,
    "pycharm": {
     "name": "#%% md\n"
    }
   }
  },
  {
   "cell_type": "markdown",
   "id": "9a46f462",
   "metadata": {
    "pycharm": {
     "name": "#%% md\n"
    }
   },
   "source": [
    "We can analyze the change of ${\\dot {V}}$ with respect to $V$. First, let's generate an ExpIF model using pre-defined modules in ``brainpy.dyn``:"
   ]
  },
  {
   "cell_type": "code",
   "execution_count": 2,
   "id": "8d6b11cb",
   "metadata": {
    "pycharm": {
     "name": "#%%\n"
    }
   },
   "outputs": [],
   "source": [
    "expif = bp.neurons.ExpIF(1, delta_T=1.)"
   ]
  },
  {
   "cell_type": "markdown",
   "id": "a818b78c",
   "metadata": {
    "pycharm": {
     "name": "#%% md\n"
    }
   },
   "source": [
    "The default value of other parameters can be accessed directly by their names:"
   ]
  },
  {
   "cell_type": "code",
   "execution_count": 3,
   "id": "040b7004",
   "metadata": {
    "pycharm": {
     "name": "#%%\n"
    }
   },
   "outputs": [
    {
     "data": {
      "text/plain": "(-65.0, -59.9, 1.0, 10.0)"
     },
     "execution_count": 3,
     "metadata": {},
     "output_type": "execute_result"
    }
   ],
   "source": [
    "expif.V_rest, expif.V_T, expif.R, expif.tau"
   ]
  },
  {
   "cell_type": "markdown",
   "id": "09f5722a",
   "metadata": {
    "pycharm": {
     "name": "#%% md\n"
    }
   },
   "source": [
    "After defining the model, we can use it for bifurcation analysis."
   ]
  },
  {
   "cell_type": "code",
   "execution_count": 4,
   "id": "358060fb",
   "metadata": {
    "pycharm": {
     "name": "#%%\n"
    }
   },
   "outputs": [
    {
     "name": "stderr",
     "output_type": "stream",
     "text": [
      "D:\\codes\\projects\\brainpy-chaoming0625\\brainpy\\analysis\\lowdim\\lowdim_analyzer.py:160: UserWarning: The `resolutions` is specified to all parameters and variables. Analysis computation may occupy too much memory if `resolutions` is small. Please specify `resolutions` for each parameter and variable by dict, such as resolutions={\"V\": 0.1}.\n",
      "  warnings.warn('The `resolutions` is specified to all parameters and variables. '\n",
      "I am making bifurcation analysis ...\n"
     ]
    },
    {
     "data": {
      "text/plain": "<Figure size 432x288 with 1 Axes>",
      "image/png": "[encoded data removed]"
     },
     "metadata": {
      "needs_background": "light"
     },
     "output_type": "display_data"
    }
   ],
   "source": [
    "bif = bp.analysis.Bifurcation1D(\n",
    "    model=expif,\n",
    "    target_vars={'V': [-70., -55.]},\n",
    "    target_pars={'I_ext': [0., 6.]},\n",
    "    resolutions=0.01\n",
    ")\n",
    "bif.plot_bifurcation(show=True)"
   ]
  },
  {
   "cell_type": "markdown",
   "id": "4f03e723",
   "metadata": {
    "pycharm": {
     "name": "#%% md\n"
    }
   },
   "source": [
    "In the ``Bifurcation1D`` analyzer, ``model`` refers to the model to be analyzed (essentially the analyzer will access the derivative function in the model), ``target_vars`` denotes the target variables, ``target_pars`` denotes the changing parameters, and ``resolution`` determines  the resolutioin of the analysis."
   ]
  },
  {
   "cell_type": "markdown",
   "id": "a61faa7b",
   "metadata": {
    "pycharm": {
     "name": "#%% md\n"
    }
   },
   "source": [
    "In the image above, there are two lines that \"merge\" together to form a bifurcation. The dots making up the lines refer to the fixed points of $\\mathrm{d}V/\\mathrm{d}t$. On the left of the bifurcation point (where two lines merge together), there are two fixed points where $\\mathrm{d}V/\\mathrm{d}t = 0$ given each external input $I_\\mathrm{ext}$. One of them is a stable point, and the other is an unstable one. When $I_\\mathrm{ext}$ increases, the two fixed points move closer to each other, overlap, and finally disappear.\n",
    "\n",
    "Bifurcation analysis provides insights for the dynamics of the model, for it indicates the number and the change of stable states with respect to different parameters."
   ]
  },
  {
   "cell_type": "markdown",
   "id": "96ce2043",
   "metadata": {
    "pycharm": {
     "name": "#%% md\n"
    }
   },
   "source": [
    "## Phase plane analysis of a 2D model"
   ]
  },
  {
   "cell_type": "markdown",
   "id": "6ab49f7e",
   "metadata": {
    "pycharm": {
     "name": "#%% md\n"
    }
   },
   "source": [
    "Besides bifurcationi analysis, another important tool is phase plane analysis, which displays the trajectory of the variable point in the vector field. Let's take the [FitzHugh–Nagumo (FHN) neuron model](https://brainmodels.readthedocs.io/en/latest/apis/generated/brainmodels.neurons.FHN.html) as an example. The dynamics of the FHN model is given by:\n",
    "\n",
    "$$\n",
    "{\\dot {v}}=v-{\\frac {v^{3}}{3}}-w+I, \\\\\n",
    "\\tau {\\dot {w}}=v+a-bw.\n",
    "$$"
   ]
  },
  {
   "cell_type": "markdown",
   "id": "0a3a0e53",
   "metadata": {
    "pycharm": {
     "name": "#%% md\n"
    }
   },
   "source": [
    "Users can easily define a FHN model which is also provided by BrainPy:"
   ]
  },
  {
   "cell_type": "code",
   "execution_count": 5,
   "id": "e6b176c7",
   "metadata": {
    "pycharm": {
     "name": "#%%\n"
    }
   },
   "outputs": [],
   "source": [
    "fhn = bp.neurons.FHN(1)"
   ]
  },
  {
   "cell_type": "markdown",
   "id": "b13e4ee9",
   "metadata": {
    "pycharm": {
     "name": "#%% md\n"
    }
   },
   "source": [
    "Because there are two variables, $v$ and $w$, in the FHN model, we shall use 2-D phase plane analysis to visualize how these two variables change over time."
   ]
  },
  {
   "cell_type": "code",
   "execution_count": 6,
   "id": "78078951",
   "metadata": {
    "pycharm": {
     "name": "#%%\n"
    }
   },
   "outputs": [
    {
     "name": "stderr",
     "output_type": "stream",
     "text": [
      "I am computing fx-nullcline ...\n",
      "I am evaluating fx-nullcline by optimization ...\n",
      "I am computing fy-nullcline ...\n",
      "I am evaluating fy-nullcline by optimization ...\n",
      "I am creating the vector field ...\n",
      "I am searching fixed points ...\n",
      "I am trying to find fixed points by optimization ...\n",
      "\tThere are 866 candidates\n",
      "I am trying to filter out duplicate fixed points ...\n",
      "\tFound 1 fixed points.\n",
      "\t#1 V=-0.2729223248464073, w=0.5338542697673022 is a unstable node.\n",
      "I am plotting the trajectory ...\n"
     ]
    },
    {
     "data": {
      "text/plain": "<Figure size 432x288 with 1 Axes>",
      "image/png": "[encoded data removed]"
     },
     "metadata": {
      "needs_background": "light"
     },
     "output_type": "display_data"
    }
   ],
   "source": [
    "analyzer = bp.analysis.PhasePlane2D(\n",
    "  model=fhn,\n",
    "  target_vars={'V': [-3, 3], 'w': [-3., 3.]},\n",
    "  pars_update={'I_ext': 0.8}, \n",
    "  resolutions=0.01,\n",
    ")\n",
    "analyzer.plot_nullcline()\n",
    "analyzer.plot_vector_field()\n",
    "analyzer.plot_fixed_point()\n",
    "analyzer.plot_trajectory({'V': [-2.8], 'w': [-1.8]}, duration=100.)\n",
    "analyzer.show_figure()"
   ]
  },
  {
   "cell_type": "markdown",
   "id": "247760da",
   "metadata": {
    "pycharm": {
     "name": "#%% md\n"
    }
   },
   "source": [
    "In the ``PhasePlane2D`` analyzer, the parameters ``model``, ``target_vars``, and ``resolution`` is the same as those in ``Bifurcation1D``. ``pars_update`` specifies  the parameters to be updated during analysis. After defining the analyzer, users can visualize the nullcline, vector field, fixed points and the trajectory in the image. The phase plane gives users intuitive interpretation of the changes of $v$ and $w$ guided by the vector field (violet arrows)."
   ]
  },
  {
   "cell_type": "markdown",
   "source": [
    "## Slow point analysis of a high-dimensional system"
   ],
   "metadata": {
    "collapsed": false,
    "pycharm": {
     "name": "#%% md\n"
    }
   }
  },
  {
   "cell_type": "markdown",
   "source": [
    "BrainPy is also capable of performing fixed/slow point analysis of high-dimensional systems. Moreover, it can perform automatic linearization analysis around the fixed point.\n",
    "\n",
    "In the following, we use a gap junction coupled FitzHugh–Nagumo (FHN) network as an example to demonstrate how to find fixed/slow points of a high-dimensional system."
   ],
   "metadata": {
    "collapsed": false,
    "pycharm": {
     "name": "#%% md\n"
    }
   }
  },
  {
   "cell_type": "markdown",
   "source": [
    "We first define the gap junction coupled FHN network as the normal ``DynamicalSystem`` class."
   ],
   "metadata": {
    "collapsed": false,
    "pycharm": {
     "name": "#%% md\n"
    }
   }
  },
  {
   "cell_type": "code",
   "execution_count": 7,
   "outputs": [],
   "source": [
    "class GJCoupledFHN(bp.dyn.DynamicalSystem):\n",
    "  def __init__(self, num=4, method='exp_auto'):\n",
    "    super(GJCoupledFHN, self).__init__()\n",
    "\n",
    "    # parameters\n",
    "    self.num = num\n",
    "    self.a = 0.7\n",
    "    self.b = 0.8\n",
    "    self.tau = 12.5\n",
    "    self.gjw = 0.0001\n",
    "\n",
    "    # variables\n",
    "    self.V = bm.Variable(bm.random.uniform(-2, 2, num))\n",
    "    self.w = bm.Variable(bm.random.uniform(-2, 2, num))\n",
    "    self.Iext = bm.Variable(bm.zeros(num))\n",
    "\n",
    "    # functions\n",
    "    self.int_V = bp.odeint(self.dV, method=method)\n",
    "    self.int_w = bp.odeint(self.dw, method=method)\n",
    "\n",
    "  def dV(self, V, t, w, Iext=0.):\n",
    "    gj = (V.reshape((-1, 1)) - V).sum(axis=0) * self.gjw\n",
    "    dV = V - V * V * V / 3 - w + Iext + gj\n",
    "    return dV\n",
    "\n",
    "  def dw(self, w, t, V):\n",
    "    dw = (V + self.a - self.b * w) / self.tau\n",
    "    return dw\n",
    "\n",
    "  def update(self, tdi):\n",
    "    t, dt = tdi.get('t'), tdi.get('dt')\n",
    "    self.V.value = self.int_V(self.V, t, self.w, self.Iext, dt)\n",
    "    self.w.value = self.int_w(self.w, t, self.V, dt)\n",
    "    self.Iext[:] = 0."
   ],
   "metadata": {
    "collapsed": false,
    "pycharm": {
     "name": "#%%\n"
    }
   }
  },
  {
   "cell_type": "markdown",
   "source": [
    "Through simulation, we can easily find that this system has a limit cycle attractor, implying that an unstable fixed point exists."
   ],
   "metadata": {
    "collapsed": false,
    "pycharm": {
     "name": "#%% md\n"
    }
   }
  },
  {
   "cell_type": "code",
   "execution_count": 8,
   "outputs": [
    {
     "data": {
      "text/plain": "  0%|          | 0/3000 [00:00<?, ?it/s]",
      "application/vnd.jupyter.widget-view+json": {
       "version_major": 2,
       "version_minor": 0,
       "model_id": "ce5e3ebc1a9f4c939bf78e254fbe0333"
      }
     },
     "metadata": {},
     "output_type": "display_data"
    },
    {
     "data": {
      "text/plain": "<Figure size 432x288 with 1 Axes>",
      "image/png": "[encoded data removed]"
     },
     "metadata": {
      "needs_background": "light"
     },
     "output_type": "display_data"
    }
   ],
   "source": [
    "# initialize a network\n",
    "model = GJCoupledFHN(4)\n",
    "model.gjw = 0.1\n",
    "\n",
    "# simulation with an input\n",
    "Iext = bm.asarray([0., 0., 0., 0.6])\n",
    "runner = bp.dyn.DSRunner(model, monitors=['V'], inputs=['Iext', Iext])\n",
    "runner.run(300.)\n",
    "\n",
    "# visualization\n",
    "bp.visualize.line_plot(runner.mon.ts, runner.mon.V, legend='V',\n",
    "                       plot_ids=list(range(model.num)),\n",
    "                       show=True)"
   ],
   "metadata": {
    "collapsed": false,
    "pycharm": {
     "name": "#%%\n"
    }
   }
  },
  {
   "cell_type": "markdown",
   "source": [
    "Let's try to optimize the fixed points for this system. Note that we only take care of the variables ``V`` and ``w``. Different from the low-dimensional analyzer, we should provide the candidate fixed points or initial fixed points when using the high-dimensional analyzer."
   ],
   "metadata": {
    "collapsed": false,
    "pycharm": {
     "name": "#%% md\n"
    }
   }
  },
  {
   "cell_type": "code",
   "execution_count": 9,
   "outputs": [
    {
     "name": "stdout",
     "output_type": "stream",
     "text": [
      "Optimizing with Adam(lr=ExponentialDecay(0.05, decay_steps=1, decay_rate=0.9999), beta1=0.9, beta2=0.999, eps=1e-08) to find fixed points:\n",
      "    Batches 1-200 in 0.31 sec, Training loss 0.0003088239\n",
      "    Batches 201-400 in 0.30 sec, Training loss 0.0002246435\n",
      "    Batches 401-600 in 0.29 sec, Training loss 0.0001747461\n",
      "    Batches 601-800 in 0.28 sec, Training loss 0.0001388974\n",
      "    Batches 801-1000 in 0.29 sec, Training loss 0.0001120491\n",
      "    Batches 1001-1200 in 0.29 sec, Training loss 0.0000913211\n",
      "    Batches 1201-1400 in 0.28 sec, Training loss 0.0000750588\n",
      "    Batches 1401-1600 in 0.36 sec, Training loss 0.0000621186\n",
      "    Batches 1601-1800 in 0.29 sec, Training loss 0.0000517716\n",
      "    Batches 1801-2000 in 0.29 sec, Training loss 0.0000434362\n",
      "    Batches 2001-2200 in 0.29 sec, Training loss 0.0000366529\n",
      "    Batches 2201-2400 in 0.28 sec, Training loss 0.0000311034\n",
      "    Batches 2401-2600 in 0.28 sec, Training loss 0.0000265632\n",
      "    Batches 2601-2800 in 0.28 sec, Training loss 0.0000228333\n",
      "    Batches 2801-3000 in 0.28 sec, Training loss 0.0000197448\n",
      "    Batches 3001-3200 in 0.29 sec, Training loss 0.0000171825\n",
      "    Batches 3201-3400 in 0.29 sec, Training loss 0.0000150528\n",
      "    Batches 3401-3600 in 0.28 sec, Training loss 0.0000132797\n",
      "    Batches 3601-3800 in 0.28 sec, Training loss 0.0000117879\n",
      "    Batches 3801-4000 in 0.36 sec, Training loss 0.0000105243\n",
      "    Batches 4001-4200 in 0.28 sec, Training loss 0.0000094502\n",
      "    Batches 4201-4400 in 0.28 sec, Training loss 0.0000085225\n",
      "    Batches 4401-4600 in 0.28 sec, Training loss 0.0000077105\n",
      "    Batches 4601-4800 in 0.28 sec, Training loss 0.0000069956\n",
      "    Batches 4801-5000 in 0.28 sec, Training loss 0.0000063591\n",
      "    Batches 5001-5200 in 0.29 sec, Training loss 0.0000057898\n",
      "    Batches 5201-5400 in 0.28 sec, Training loss 0.0000052820\n",
      "    Batches 5401-5600 in 0.29 sec, Training loss 0.0000048164\n",
      "    Batches 5601-5800 in 0.29 sec, Training loss 0.0000043822\n",
      "    Batches 5801-6000 in 0.29 sec, Training loss 0.0000039807\n",
      "    Batches 6001-6200 in 0.28 sec, Training loss 0.0000036157\n",
      "    Batches 6201-6400 in 0.28 sec, Training loss 0.0000032885\n",
      "    Batches 6401-6600 in 0.37 sec, Training loss 0.0000029984\n",
      "    Batches 6601-6800 in 0.29 sec, Training loss 0.0000027385\n",
      "    Batches 6801-7000 in 0.29 sec, Training loss 0.0000024977\n",
      "    Batches 7001-7200 in 0.29 sec, Training loss 0.0000022693\n",
      "    Batches 7201-7400 in 0.29 sec, Training loss 0.0000020506\n",
      "    Batches 7401-7600 in 0.28 sec, Training loss 0.0000018434\n",
      "    Batches 7601-7800 in 0.29 sec, Training loss 0.0000016513\n",
      "    Batches 7801-8000 in 0.28 sec, Training loss 0.0000014753\n",
      "    Batches 8001-8200 in 0.28 sec, Training loss 0.0000013116\n",
      "    Batches 8201-8400 in 0.28 sec, Training loss 0.0000011572\n",
      "    Batches 8401-8600 in 0.28 sec, Training loss 0.0000010106\n",
      "    Batches 8601-8800 in 0.28 sec, Training loss 0.0000008712\n",
      "    Stop optimization as mean training loss 0.0000008712 is below tolerance 0.0000010000.\n",
      "Excluding fixed points with squared speed above tolerance 1e-08:\n",
      "    Kept 829/1000 fixed points with tolerance under 1e-08.\n",
      "Excluding non-unique fixed points:\n",
      "    Kept 1/829 unique fixed points with uniqueness tolerance 0.025.\n"
     ]
    }
   ],
   "source": [
    "# init a slow point finder\n",
    "finder = bp.analysis.SlowPointFinder(f_cell=model,\n",
    "                                     target_vars={'V': model.V, 'w': model.w},\n",
    "                                     inputs=[model.Iext, Iext])\n",
    "\n",
    "# optimize to find fixed points\n",
    "finder.find_fps_with_gd_method(\n",
    "  candidates={'V': bm.random.normal(0., 2., (1000, model.num)),\n",
    "              'w': bm.random.normal(0., 2., (1000, model.num))},\n",
    "  tolerance=1e-6,\n",
    "  num_batch=200,\n",
    "  optimizer=bp.optim.Adam(lr=bp.optim.ExponentialDecay(0.05, 1, 0.9999)),\n",
    ")\n",
    "\n",
    "# filter fixed points whose loss is bigger than the threshold\n",
    "finder.filter_loss(1e-8)\n",
    "\n",
    "# remove the duplicate fixed points\n",
    "finder.keep_unique()"
   ],
   "metadata": {
    "collapsed": false,
    "pycharm": {
     "name": "#%%\n"
    }
   }
  },
  {
   "cell_type": "code",
   "execution_count": 10,
   "outputs": [
    {
     "name": "stdout",
     "output_type": "stream",
     "text": [
      "fixed points:\n"
     ]
    },
    {
     "data": {
      "text/plain": "{'V': array([[-1.17757852, -1.17757852, -1.17757852, -0.81465053]]),\n 'w': array([[-0.59697314, -0.59697314, -0.59697314, -0.14331316]])}"
     },
     "execution_count": 10,
     "metadata": {},
     "output_type": "execute_result"
    }
   ],
   "source": [
    "print('fixed points:', )\n",
    "finder.fixed_points"
   ],
   "metadata": {
    "collapsed": false,
    "pycharm": {
     "name": "#%%\n"
    }
   }
  },
  {
   "cell_type": "code",
   "execution_count": 11,
   "outputs": [
    {
     "name": "stdout",
     "output_type": "stream",
     "text": [
      "fixed point losses:\n"
     ]
    },
    {
     "data": {
      "text/plain": "array([2.77333912e-32])"
     },
     "execution_count": 11,
     "metadata": {},
     "output_type": "execute_result"
    }
   ],
   "source": [
    "print('fixed point losses:', )\n",
    "finder.losses"
   ],
   "metadata": {
    "collapsed": false,
    "pycharm": {
     "name": "#%%\n"
    }
   }
  },
  {
   "cell_type": "markdown",
   "source": [
    "Let's perform the linearization analysis of the found fixed points, and visualize its decomposition results."
   ],
   "metadata": {
    "collapsed": false,
    "pycharm": {
     "name": "#%% md\n"
    }
   }
  },
  {
   "cell_type": "code",
   "execution_count": 12,
   "outputs": [
    {
     "data": {
      "text/plain": "<Figure size 216x144 with 1 Axes>",
      "image/png": "[encoded data removed]"
     },
     "metadata": {
      "needs_background": "light"
     },
     "output_type": "display_data"
    }
   ],
   "source": [
    "_ = finder.compute_jacobians(finder.fixed_points, plot=True)"
   ],
   "metadata": {
    "collapsed": false,
    "pycharm": {
     "name": "#%%\n"
    }
   }
  },
  {
   "cell_type": "markdown",
   "source": [
    "This is an unstable fixed point, because one of its eigenvalues has the real part bigger than 1."
   ],
   "metadata": {
    "collapsed": false,
    "pycharm": {
     "name": "#%% md\n"
    }
   }
  },
  {
   "cell_type": "markdown",
   "source": [
    "## Further reading"
   ],
   "metadata": {
    "collapsed": false,
    "pycharm": {
     "name": "#%% md\n"
    }
   }
  },
  {
   "cell_type": "markdown",
   "source": [
    "- For more details about how to perform bifurcation analysis and phase plane analysis, please see the tutorial of [Low-dimensional Analyzers](../tutorial_analysis/lowdim_analysis.ipynb).\n",
    "- A good example of phase plane analysis and bifurcation analysis is the decision-making model, please see the tutorial in [Analysis of a Decision-making Model](../tutorial_analysis/decision_making_model.ipynb)\n",
    "- If you want to how to analyze the slow points (or fixed points) of your high-dimensional dynamical models, please see the tutorial of [High-dimensional Analyzers](../tutorial_analysis/highdim_analysis.ipynb)"
   ],
   "metadata": {
    "collapsed": false,
    "pycharm": {
     "name": "#%% md\n"
    }
   }
  }
 ],
 "metadata": {
  "kernelspec": {
   "display_name": "Python 3",
   "language": "python",
   "name": "python3"
  },
  "language_info": {
   "codemirror_mode": {
    "name": "ipython",
    "version": 3
   },
   "file_extension": ".py",
   "mimetype": "text/x-python",
   "name": "python",
   "nbconvert_exporter": "python",
   "pygments_lexer": "ipython3",
   "version": "3.8.8"
  }
 },
 "nbformat": 4,
 "nbformat_minor": 5
}