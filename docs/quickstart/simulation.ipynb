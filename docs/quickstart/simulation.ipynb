{
 "cells": [
  {
   "cell_type": "markdown",
   "id": "2e1966cc",
   "metadata": {},
   "source": [
    "# Simulating a Spiking Neural Network"
   ]
  },
  {
   "cell_type": "markdown",
   "id": "724ccd02",
   "metadata": {},
   "source": [
    "@[Xiaoyu Chen](mailto:c-xy17@tsinghua.org.cn)"
   ]
  },
  {
   "cell_type": "markdown",
   "id": "66f9a769",
   "metadata": {},
   "source": [
    "Spiking neural networks (SNN) are one of the most important tools to study brian dynamcis in computational neuroscience. They simulate the biological processes of information transmission in the brain, including the change of membrane potentials, neuronal firing, and synaptic transmission. In this section, we will illustrate how to build and simulate a SNN.\n",
    "\n",
    "Before we start, the BrainPy package should be imported:"
   ]
  },
  {
   "cell_type": "code",
   "execution_count": 1,
   "id": "c4fbe84d",
   "metadata": {},
   "outputs": [],
   "source": [
    "import brainpy as bp\n",
    "\n",
    "bp.math.set_platform('cpu')"
   ]
  },
  {
   "cell_type": "markdown",
   "id": "dd03123d",
   "metadata": {},
   "source": [
    "## Building an E-I balance network"
   ]
  },
  {
   "cell_type": "markdown",
   "id": "63354c42",
   "metadata": {},
   "source": [
    "Let's try to build a E-I balance network. The structure of a E-I balance network is as follows:\n",
    "\n",
    "<center><img src=\"../_static/E_I_balance_network.png\" width=\"400 px\"></center>\n",
    "<center>Illustration of an E-I Balance Network</center>\n",
    "<br>"
   ]
  },
  {
   "cell_type": "markdown",
   "id": "62d35f9b",
   "metadata": {},
   "source": [
    "A E-I balance network is composed of two neuron groups and the synaptic connections between them. Specifically, they include:\n",
    "1. a group of excitatory neurons (E),\n",
    "2. a group of inhibitory neurons (I),\n",
    "3. synaptic connections within the excitatory and inhibitory neuron groups, respectively, and \n",
    "4. the inter-connections between these two groups."
   ]
  },
  {
   "cell_type": "markdown",
   "id": "c367fbf1",
   "metadata": {},
   "source": [
    "To construct the network, we need to define these components one by one. BrainPy provides plenty of handy built-in models for brain dynamic simulation. They are contained in ``brainpy.dyn``. Let's choose the simplest yet the most canonical neuron model, the Leaky Integrate-and-Fire (LIF) model, to build the excitatory and inhibitory neuron groups:"
   ]
  },
  {
   "cell_type": "code",
   "execution_count": 58,
   "id": "69556409",
   "metadata": {},
   "outputs": [],
   "source": [
    "E = bp.dyn.LIF(3200, V_rest=-60., V_th=-50., V_reset=-60., tau=20., tau_ref=5., method='exp_auto')\n",
    "I = bp.dyn.LIF(800, V_rest=-60., V_th=-50., V_reset=-60., tau=20., tau_ref=5., method='exp_auto')\n",
    "\n",
    "E.V[:] = bp.math.random.randn(3200) * 2 - 60.\n",
    "I.V[:] = bp.math.random.randn(800) * 2 - 60."
   ]
  },
  {
   "cell_type": "markdown",
   "id": "931a0a84",
   "metadata": {},
   "source": [
    "When defining the LIF neuron group, the parameters can be tuned according to users' need. The first parameter denotes the number of neurons. Here the ratio of excitatory and inhibitory neurons is set 4:1. ``V_rest`` denotes the resting potential, ``V_th`` denotes the firing threshold, ``V_reset`` denotes the reset value after firing, ``tau`` is the time constant, and ``tau_ref`` is the duration of the refractory period. ``method`` refers to the numerical integration method to be used in simulation. "
   ]
  },
  {
   "cell_type": "markdown",
   "id": "abe09b1b",
   "metadata": {},
   "source": [
    "Then the synaptic connections between these two groups can be defined as follows:"
   ]
  },
  {
   "cell_type": "code",
   "execution_count": 59,
   "id": "8be1733f",
   "metadata": {},
   "outputs": [],
   "source": [
    "E2E = bp.dyn.ExpCOBA(E, E, bp.conn.FixedProb(prob=0.02), E=0., g_max=0.6, tau=5., method='exp_auto')\n",
    "E2I = bp.dyn.ExpCOBA(E, I, bp.conn.FixedProb(prob=0.02), E=0., g_max=0.6, tau=5., method='exp_auto')\n",
    "I2E = bp.dyn.ExpCOBA(I, E, bp.conn.FixedProb(prob=0.02), E=-80., g_max=6.7, tau=10., method='exp_auto')\n",
    "I2I = bp.dyn.ExpCOBA(I, I, bp.conn.FixedProb(prob=0.02), E=-80., g_max=6.7, tau=10., method='exp_auto')"
   ]
  },
  {
   "cell_type": "markdown",
   "id": "13b3c3a9",
   "metadata": {},
   "source": [
    "Here we use the Expnential synapse model (``ExpCOBA``) to simulate synaptic connections. Among the parameters of the model, the first two denotes the pre- and post-synaptic neuron groups, respectively. The third one refers to the connection types. In this example, we use ``bp.conn.FixedProb``, which connects the presynaptic neurons to postsynaptic neurons with a given probability (detailed information is available in [Synaptic Connection](../tutorial_toolbox/synaptic_connections.ipynb)). The following three parameters describes the dynamic properties of the synapse, and the last one is the numerical integration method as that in the LIF model."
   ]
  },
  {
   "cell_type": "markdown",
   "id": "572fa775",
   "metadata": {},
   "source": [
    "After defining all the components, they can be combined to form a network:"
   ]
  },
  {
   "cell_type": "code",
   "execution_count": 60,
   "id": "f8a6c731",
   "metadata": {},
   "outputs": [],
   "source": [
    "net = bp.dyn.Network(E2E, E2I, I2E, I2I, E=E, I=I)"
   ]
  },
  {
   "cell_type": "markdown",
   "id": "0412deb5",
   "metadata": {},
   "source": [
    "In the definition, neurons and synapses are given to the network. The excitatory and inhibitory neuron groups (`E` and `I`) are passed with a name, for they will be specifically operated in the simulation (here they will be given with input currents).\n",
    "\n",
    "We have successfully constructed an E-I balance network by using BrainPy's biult-in models. On the other hand, BrianPy also enables users to customize their own dynamic models such as neuron groups, synapses, and networks flexibly. In fact, ``brainpy.dyn.Network()`` is a simple example of customizing a network model. Please refer to [Dynamic Simulation](../tutorial_simulation/index.rst) for more information."
   ]
  },
  {
   "cell_type": "markdown",
   "id": "e3bcad34",
   "metadata": {},
   "source": [
    "## Running a simulation"
   ]
  },
  {
   "cell_type": "markdown",
   "id": "43ec39f4",
   "metadata": {},
   "source": [
    "After build a SNN, we can use it for dynamic simulation. To run a simulation, we need first wrap the network model into a **runner**. Currently BrainPy provides ``DSRunner`` and ``ReportRunner`` in ``brainpy.dyn``, which will be expanded in the [Runners](../tutorial_simulation/runner.ipynb) tutorial. Here we use ``DSRunner`` as an example:"
   ]
  },
  {
   "cell_type": "code",
   "execution_count": 61,
   "id": "8e16cd97",
   "metadata": {},
   "outputs": [],
   "source": [
    "runner = bp.dyn.DSRunner(net,\n",
    "                         monitors=['E.spike', 'I.spike'],\n",
    "                         inputs=[('E.input', 20.), ('I.input', 20.)],\n",
    "                         dt=0.1)"
   ]
  },
  {
   "cell_type": "markdown",
   "id": "11473917",
   "metadata": {},
   "source": [
    "To make dynamic simulation more applicable and powerful, users can [**monitor**](../tutorial_toolbox/monitors.ipynb) variable trajectories and give [**inputs**](../tutorial_toolbox/inputs.ipynb) to target neuron groups. Here we monitor the ``spike`` variable in the ``E`` and ``I`` LIF model, which refers to the spking status of the neuron group, and give a constant input to both neuron groups. The time interval of numerical integration ``dt`` (with the default value of 0.1) can also be specified.\n",
    "\n",
    "After creating the runner, we can run a simulation by calling the runner:"
   ]
  },
  {
   "cell_type": "code",
   "execution_count": 62,
   "id": "a2a602d2",
   "metadata": {},
   "outputs": [
    {
     "data": {
      "application/vnd.jupyter.widget-view+json": {
       "model_id": "7ee7511542174340b3212231cb0a90ea",
       "version_major": 2,
       "version_minor": 0
      },
      "text/plain": [
       "  0%|          | 0/1000 [00:00<?, ?it/s]"
      ]
     },
     "metadata": {},
     "output_type": "display_data"
    },
    {
     "data": {
      "text/plain": [
       "0.779956579208374"
      ]
     },
     "execution_count": 62,
     "metadata": {},
     "output_type": "execute_result"
    }
   ],
   "source": [
    "runner(100)"
   ]
  },
  {
   "cell_type": "markdown",
   "id": "8452dec3",
   "metadata": {},
   "source": [
    "where the calling function receives the simulation time (usually in milliseconds) as the input and returns the time (seconds) spent on simulation. BrainPy achieves an extraordinary simulation speed with the assistance of just-in-time (JIT) compilation. Please refer to [Just-In-Time Compilation](../tutorial_math/compilation.ipynb) for more details.\n",
    "\n",
    "The simulation results are stored as NumPy arrays in the monitors, and can be visualized easily:"
   ]
  },
  {
   "cell_type": "code",
   "execution_count": 66,
   "id": "f3aab08c",
   "metadata": {},
   "outputs": [
    {
     "data": {
      "image/png": "[encoded data removed]",
      "text/plain": [
       "<Figure size 864x324 with 2 Axes>"
      ]
     },
     "metadata": {
      "needs_background": "light"
     },
     "output_type": "display_data"
    }
   ],
   "source": [
    "import matplotlib.pyplot as plt\n",
    "\n",
    "plt.figure(figsize=(12, 4.5))\n",
    "\n",
    "plt.subplot(121)\n",
    "bp.visualize.raster_plot(runner.mon.ts, runner.mon['E.spike'], show=False)\n",
    "plt.subplot(122)\n",
    "bp.visualize.raster_plot(runner.mon.ts, runner.mon['I.spike'], show=True)"
   ]
  },
  {
   "cell_type": "markdown",
   "id": "3f78546b",
   "metadata": {},
   "source": [
    "In the code above, ``brianpy.visualize`` contains some useful functions to visualize simulation results based on the ``matplotlib`` package. Since the simulation results are stored as NumPy arrays, users can directly use ``matplotlib`` for visualization."
   ]
  },
  {
   "cell_type": "markdown",
   "id": "8ce65bd2",
   "metadata": {},
   "source": [
    "## Building a decision making network"
   ]
  }
 ],
 "metadata": {
  "kernelspec": {
   "display_name": "Python [conda env:root] *",
   "language": "python",
   "name": "conda-root-py"
  },
  "language_info": {
   "codemirror_mode": {
    "name": "ipython",
    "version": 3
   },
   "file_extension": ".py",
   "mimetype": "text/x-python",
   "name": "python",
   "nbconvert_exporter": "python",
   "pygments_lexer": "ipython3",
   "version": "3.8.8"
  },
  "latex_envs": {
   "LaTeX_envs_menu_present": true,
   "autoclose": false,
   "autocomplete": true,
   "bibliofile": "biblio.bib",
   "cite_by": "apalike",
   "current_citInitial": 1,
   "eqLabelWithNumbers": true,
   "eqNumInitial": 1,
   "hotkeys": {
    "equation": "Ctrl-E",
    "itemize": "Ctrl-I"
   },
   "labels_anchors": false,
   "latex_user_defs": false,
   "report_style_numbering": false,
   "user_envs_cfg": false
  },
  "toc": {
   "base_numbering": 1,
   "nav_menu": {},
   "number_sections": true,
   "sideBar": true,
   "skip_h1_title": false,
   "title_cell": "Table of Contents",
   "title_sidebar": "Contents",
   "toc_cell": false,
   "toc_position": {
    "height": "calc(100% - 180px)",
    "left": "10px",
    "top": "150px",
    "width": "279.273px"
   },
   "toc_section_display": true,
   "toc_window_display": true
  }
 },
 "nbformat": 4,
 "nbformat_minor": 5
}
