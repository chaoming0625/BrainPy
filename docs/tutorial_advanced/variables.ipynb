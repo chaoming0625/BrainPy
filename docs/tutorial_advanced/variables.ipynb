{
 "cells": [
  {
   "cell_type": "markdown",
   "id": "6445f581",
   "metadata": {
    "pycharm": {
     "name": "#%% md\n"
    }
   },
   "source": [
    "# More Details for Variables"
   ]
  },
  {
   "cell_type": "markdown",
   "id": "348b02c2",
   "metadata": {
    "pycharm": {
     "name": "#%% md\n"
    }
   },
   "source": [
    "@[Chaoming Wang](https://github.com/chaoming0625)\n",
    "@[Xiaoyu Chen](mailto:c-xy17@tsinghua.org.cn)"
   ]
  },
  {
   "cell_type": "markdown",
   "id": "e72cc93b",
   "metadata": {
    "pycharm": {
     "name": "#%% md\n"
    }
   },
   "source": [
    "In BrainPy, the [JIT compilation](../apis/auto/math/generated/brainpy.math.jit.jit.rst) for class objects relies on [Variables](../apis/auto/math/generated/brainpy.math.jaxarray.Variable.rst). In this section, we are going to understand:\n",
    "\n",
    "- What is a ``Variable``?\n",
    "- What are the subtypes of ``Variable``?\n",
    "- How to update a ``Variable``?"
   ]
  },
  {
   "cell_type": "code",
   "execution_count": 1,
   "id": "7188b466",
   "metadata": {
    "pycharm": {
     "name": "#%%\n"
    }
   },
   "outputs": [],
   "source": [
    "import brainpy as bp\n",
    "import brainpy.math as bm\n",
    "\n",
    "bp.math.set_platform('cpu')"
   ]
  },
  {
   "cell_type": "markdown",
   "id": "53b1704b",
   "metadata": {
    "pycharm": {
     "name": "#%% md\n"
    }
   },
   "source": [
    "## ``brainpy.math.Variable``"
   ]
  },
  {
   "cell_type": "markdown",
   "id": "95f7dc2b",
   "metadata": {
    "pycharm": {
     "name": "#%% md\n"
    }
   },
   "source": [
    "``brainpy.math.Variable`` is a pointer referring to a [tensor](./tensors.ipynb). It stores a tensor as its value. The data in a Variable can be changed during JIT compilation. **If a tensor is labeled as a Variable, it means that it is a dynamical variable that changes over time.**"
   ]
  },
  {
   "cell_type": "markdown",
   "id": "ecb246c1",
   "metadata": {
    "pycharm": {
     "name": "#%% md\n"
    }
   },
   "source": [
    "Tensors that are not marked as Variables will be JIT compiled as static data. Modifications of these tensors will be invalid or cause an error. "
   ]
  },
  {
   "cell_type": "markdown",
   "id": "5c80bdb1",
   "metadata": {
    "pycharm": {
     "name": "#%% md\n"
    }
   },
   "source": [
    "- **Creating a Variable**\n",
    "\n",
    "Passing a tensor into the ``brainpy.math.Variable`` creates a Variable. For example:"
   ]
  },
  {
   "cell_type": "code",
   "execution_count": 2,
   "id": "9bdceead",
   "metadata": {
    "pycharm": {
     "name": "#%%\n"
    }
   },
   "outputs": [
    {
     "data": {
      "text/plain": "JaxArray([0.9116168 , 0.6901083 , 0.43920577, 0.13220644, 0.771458  ],            dtype=float32)"
     },
     "execution_count": 2,
     "metadata": {},
     "output_type": "execute_result"
    }
   ],
   "source": [
    "b1 = bm.random.random(5)\n",
    "b1"
   ]
  },
  {
   "cell_type": "code",
   "execution_count": 3,
   "id": "d9d16723",
   "metadata": {
    "pycharm": {
     "name": "#%%\n"
    }
   },
   "outputs": [
    {
     "data": {
      "text/plain": "Variable([0.9116168 , 0.6901083 , 0.43920577, 0.13220644, 0.771458  ],            dtype=float32)"
     },
     "execution_count": 3,
     "metadata": {},
     "output_type": "execute_result"
    }
   ],
   "source": [
    "b2 = bm.Variable(b1)\n",
    "b2"
   ]
  },
  {
   "cell_type": "markdown",
   "id": "214010c1",
   "metadata": {
    "pycharm": {
     "name": "#%% md\n"
    }
   },
   "source": [
    "- **Accessing the value in a Variable**\n",
    "\n",
    "The data in a Variable can be obtained through ``.value``."
   ]
  },
  {
   "cell_type": "code",
   "execution_count": 4,
   "id": "a7c53a9a",
   "metadata": {
    "pycharm": {
     "name": "#%%\n"
    }
   },
   "outputs": [
    {
     "data": {
      "text/plain": "DeviceArray([0.9116168 , 0.6901083 , 0.43920577, 0.13220644, 0.771458  ],            dtype=float32)"
     },
     "execution_count": 4,
     "metadata": {},
     "output_type": "execute_result"
    }
   ],
   "source": [
    "b2.value"
   ]
  },
  {
   "cell_type": "code",
   "execution_count": 5,
   "id": "1c6621b7",
   "metadata": {
    "pycharm": {
     "name": "#%%\n"
    }
   },
   "outputs": [
    {
     "data": {
      "text/plain": "DeviceArray(True, dtype=bool)"
     },
     "execution_count": 5,
     "metadata": {},
     "output_type": "execute_result"
    }
   ],
   "source": [
    "(b2.value == b1).all()"
   ]
  },
  {
   "cell_type": "markdown",
   "id": "6b5281a9",
   "metadata": {
    "pycharm": {
     "name": "#%% md\n"
    }
   },
   "source": [
    "- **Supported operations on Variables**\n",
    "\n",
    "Variables support almost all the operations for [tensors](./tensors.ipynb). Actually, ``brainpy.math.Variable`` is a subclass of ``brainpy.math.ndarray``. "
   ]
  },
  {
   "cell_type": "code",
   "execution_count": 6,
   "id": "c7b121ae",
   "metadata": {
    "pycharm": {
     "name": "#%%\n"
    }
   },
   "outputs": [
    {
     "data": {
      "text/plain": "True"
     },
     "execution_count": 6,
     "metadata": {},
     "output_type": "execute_result"
    }
   ],
   "source": [
    "isinstance(b2, bm.ndarray)"
   ]
  },
  {
   "cell_type": "code",
   "execution_count": 7,
   "id": "6c11ce23",
   "metadata": {
    "scrolled": true,
    "pycharm": {
     "name": "#%%\n"
    }
   },
   "outputs": [
    {
     "data": {
      "text/plain": "True"
     },
     "execution_count": 7,
     "metadata": {},
     "output_type": "execute_result"
    }
   ],
   "source": [
    "isinstance(b2, bm.JaxArray)"
   ]
  },
  {
   "cell_type": "code",
   "execution_count": 8,
   "id": "d2861370",
   "metadata": {
    "pycharm": {
     "name": "#%%\n"
    }
   },
   "outputs": [
    {
     "data": {
      "text/plain": "True"
     },
     "execution_count": 8,
     "metadata": {},
     "output_type": "execute_result"
    }
   ],
   "source": [
    "# `bp.math.ndarray` is an alias for `bp.math.JaxArray` in 'jax' backend\n",
    "\n",
    "bm.ndarray is bm.JaxArray"
   ]
  },
  {
   "cell_type": "markdown",
   "id": "2ed84eec",
   "metadata": {
    "pycharm": {
     "name": "#%% md\n"
    }
   },
   "source": [
    "```{note}\n",
    "After performing any operation on a Variable, the resulting value will be a JaxArray (``brainpy.math.ndarray`` is an alias for ``brainpy.math.JaxArray``). This means that the Variable can only be used to refer to a single value. \n",
    "```"
   ]
  },
  {
   "cell_type": "code",
   "execution_count": 9,
   "id": "0824d649",
   "metadata": {
    "pycharm": {
     "name": "#%%\n"
    }
   },
   "outputs": [
    {
     "data": {
      "text/plain": "JaxArray([1.9116168, 1.6901083, 1.4392058, 1.1322064, 1.771458 ], dtype=float32)"
     },
     "execution_count": 9,
     "metadata": {},
     "output_type": "execute_result"
    }
   ],
   "source": [
    "b2 + 1."
   ]
  },
  {
   "cell_type": "code",
   "execution_count": 10,
   "id": "628fbecc",
   "metadata": {
    "pycharm": {
     "name": "#%%\n"
    }
   },
   "outputs": [
    {
     "data": {
      "text/plain": "JaxArray([0.8310452 , 0.47624946, 0.1929017 , 0.01747854, 0.5951475 ],            dtype=float32)"
     },
     "execution_count": 10,
     "metadata": {},
     "output_type": "execute_result"
    }
   ],
   "source": [
    "b2 ** 2"
   ]
  },
  {
   "cell_type": "code",
   "execution_count": 11,
   "id": "4bb90bb0",
   "metadata": {
    "pycharm": {
     "name": "#%%\n"
    }
   },
   "outputs": [
    {
     "data": {
      "text/plain": "JaxArray([0., 0., 0., 0., 0.], dtype=float32)"
     },
     "execution_count": 11,
     "metadata": {},
     "output_type": "execute_result"
    }
   ],
   "source": [
    "bm.floor(b2)"
   ]
  },
  {
   "cell_type": "markdown",
   "id": "f4432226",
   "metadata": {
    "pycharm": {
     "name": "#%% md\n"
    }
   },
   "source": [
    "## Subtypes of ``Variable``\n",
    "\n",
    "``brainpy.math.Variable`` has several subtypes, including ``brainpy.math.TrainVar``, ``brainpy.math.Parameter``, and ``brainpy.math.RandomState``. Subtypes can also be customized and extended by users."
   ]
  },
  {
   "cell_type": "markdown",
   "id": "ad677bf0",
   "metadata": {
    "pycharm": {
     "name": "#%% md\n"
    }
   },
   "source": [
    "### 1. TrainVar"
   ]
  },
  {
   "cell_type": "markdown",
   "id": "5504c217",
   "metadata": {
    "pycharm": {
     "name": "#%% md\n"
    }
   },
   "source": [
    "``brainpy.math.TrainVar`` is a trainable variable and a subclass of ``brainpy.math.Variable``. Usually, the trainable variables are meant to require their gradients and compute the corresponding update values. However, users can also use TrainVar for other purposes. "
   ]
  },
  {
   "cell_type": "code",
   "execution_count": 12,
   "id": "f8357f81",
   "metadata": {
    "pycharm": {
     "name": "#%%\n"
    }
   },
   "outputs": [
    {
     "data": {
      "text/plain": "JaxArray([0.59062696, 0.618052  , 0.84173155, 0.34012556], dtype=float32)"
     },
     "execution_count": 12,
     "metadata": {},
     "output_type": "execute_result"
    }
   ],
   "source": [
    "b = bm.random.rand(4)\n",
    "\n",
    "b"
   ]
  },
  {
   "cell_type": "code",
   "execution_count": 13,
   "id": "21f05b09",
   "metadata": {
    "pycharm": {
     "name": "#%%\n"
    }
   },
   "outputs": [
    {
     "data": {
      "text/plain": "TrainVar([0.59062696, 0.618052  , 0.84173155, 0.34012556], dtype=float32)"
     },
     "execution_count": 13,
     "metadata": {},
     "output_type": "execute_result"
    }
   ],
   "source": [
    "bm.TrainVar(b)"
   ]
  },
  {
   "cell_type": "markdown",
   "id": "e8284d53",
   "metadata": {
    "pycharm": {
     "name": "#%% md\n"
    }
   },
   "source": [
    "### 2. Parameter"
   ]
  },
  {
   "cell_type": "markdown",
   "id": "96aa1cf9",
   "metadata": {
    "pycharm": {
     "name": "#%% md\n"
    }
   },
   "source": [
    "``brainpy.math.Parameter`` is to label a dynamically changed parameter. It is also a subclass of ``brainpy.math.Variable``. The advantage of using Parameter rather than Variable is that it can be easily retrieved by the ``Collector.subsets`` method (please see [Base class](./base.ipynb))."
   ]
  },
  {
   "cell_type": "code",
   "execution_count": 14,
   "id": "79105af2",
   "metadata": {
    "pycharm": {
     "name": "#%%\n"
    }
   },
   "outputs": [
    {
     "data": {
      "text/plain": "JaxArray([0.14782536], dtype=float32)"
     },
     "execution_count": 14,
     "metadata": {},
     "output_type": "execute_result"
    }
   ],
   "source": [
    "b = bm.random.rand(1)\n",
    "\n",
    "b"
   ]
  },
  {
   "cell_type": "code",
   "execution_count": 15,
   "id": "773edf8b",
   "metadata": {
    "pycharm": {
     "name": "#%%\n"
    }
   },
   "outputs": [
    {
     "data": {
      "text/plain": "Parameter([0.14782536], dtype=float32)"
     },
     "execution_count": 15,
     "metadata": {},
     "output_type": "execute_result"
    }
   ],
   "source": [
    "bm.Parameter(b)"
   ]
  },
  {
   "cell_type": "markdown",
   "id": "afd5dfaa",
   "metadata": {
    "pycharm": {
     "name": "#%% md\n"
    }
   },
   "source": [
    "### 3. RandomState"
   ]
  },
  {
   "cell_type": "markdown",
   "id": "ba9c30c7",
   "metadata": {
    "pycharm": {
     "name": "#%% md\n"
    }
   },
   "source": [
    "``brainpy.math.random.RandomState`` is also a subclass of ``brainpy.math.Variable``. RandomState must store the dynamically changed **key** information (see [JAX random number designs](https://jax.readthedocs.io/en/latest/notebooks/Common_Gotchas_in_JAX.html#random-numbers)). Every time after a RandomState performs a random sampling, the \"key\" will change. Therefore, it is worthy to label a RandomState as the Variable. "
   ]
  },
  {
   "cell_type": "code",
   "execution_count": 16,
   "id": "e2ce1816",
   "metadata": {
    "pycharm": {
     "name": "#%%\n"
    }
   },
   "outputs": [
    {
     "data": {
      "text/plain": "RandomState([   0, 1234], dtype=uint32)"
     },
     "execution_count": 16,
     "metadata": {},
     "output_type": "execute_result"
    }
   ],
   "source": [
    "state = bm.random.RandomState(seed=1234)\n",
    "\n",
    "state"
   ]
  },
  {
   "cell_type": "code",
   "execution_count": 17,
   "id": "b3360505",
   "metadata": {
    "pycharm": {
     "name": "#%%\n"
    }
   },
   "outputs": [
    {
     "data": {
      "text/plain": "RandomState([2113592192, 1902136347], dtype=uint32)"
     },
     "execution_count": 17,
     "metadata": {},
     "output_type": "execute_result"
    }
   ],
   "source": [
    "# perform a \"random\" sampling \n",
    "state.random(1)\n",
    "\n",
    "state  # the value changed"
   ]
  },
  {
   "cell_type": "code",
   "execution_count": 18,
   "id": "27dfae54",
   "metadata": {
    "pycharm": {
     "name": "#%%\n"
    }
   },
   "outputs": [
    {
     "data": {
      "text/plain": "RandomState([1076515368, 3893328283], dtype=uint32)"
     },
     "execution_count": 18,
     "metadata": {},
     "output_type": "execute_result"
    }
   ],
   "source": [
    "# perform a \"sample\" sampling \n",
    "state.sample(1)\n",
    "\n",
    "state  # the value changed too"
   ]
  },
  {
   "cell_type": "markdown",
   "id": "b5bcef7a",
   "metadata": {
    "pycharm": {
     "name": "#%% md\n"
    }
   },
   "source": [
    "Every instance of RandomState can create a new seed from the current seed with ``.split_key()``. "
   ]
  },
  {
   "cell_type": "code",
   "execution_count": 19,
   "id": "ac30eb3d",
   "metadata": {
    "pycharm": {
     "name": "#%%\n"
    }
   },
   "outputs": [
    {
     "data": {
      "text/plain": "DeviceArray([3028232624,  826525938], dtype=uint32)"
     },
     "execution_count": 19,
     "metadata": {},
     "output_type": "execute_result"
    }
   ],
   "source": [
    "state.split_key()"
   ]
  },
  {
   "cell_type": "markdown",
   "id": "f9f8f0fb",
   "metadata": {
    "pycharm": {
     "name": "#%% md\n"
    }
   },
   "source": [
    "It can also create multiple seeds from the current seed with ``.split_keys(n)``. This is used internally by [pmap](../apis/auto/math/generated/brainpy.math.parallels.pmap.rst) and [vmap](../apis/auto/math/generated/brainpy.math.parallels.vmap.rst) to ensure that random numbers are different in parallel threads. "
   ]
  },
  {
   "cell_type": "code",
   "execution_count": 20,
   "id": "fd164f9e",
   "metadata": {
    "pycharm": {
     "name": "#%%\n"
    }
   },
   "outputs": [
    {
     "data": {
      "text/plain": "DeviceArray([[4198471980, 1111166693],\n             [1457783592, 2493283834]], dtype=uint32)"
     },
     "execution_count": 20,
     "metadata": {},
     "output_type": "execute_result"
    }
   ],
   "source": [
    "state.split_keys(2)"
   ]
  },
  {
   "cell_type": "code",
   "execution_count": 21,
   "id": "32b018e1",
   "metadata": {
    "pycharm": {
     "name": "#%%\n"
    }
   },
   "outputs": [
    {
     "data": {
      "text/plain": "DeviceArray([[3244149147, 2659778815],\n             [2548793527, 3057026599],\n             [ 874320145, 4142002431],\n             [3368470122, 3462971882],\n             [1756854521, 1662729797]], dtype=uint32)"
     },
     "execution_count": 21,
     "metadata": {},
     "output_type": "execute_result"
    }
   ],
   "source": [
    "state.split_keys(5)"
   ]
  },
  {
   "cell_type": "markdown",
   "id": "3bd9149a",
   "metadata": {
    "pycharm": {
     "name": "#%% md\n"
    }
   },
   "source": [
    "There is a default RandomState in ``brainpy.math.random`` module: `DEFAULT`. "
   ]
  },
  {
   "cell_type": "code",
   "execution_count": 22,
   "id": "4f13cfae",
   "metadata": {
    "scrolled": true,
    "pycharm": {
     "name": "#%%\n"
    }
   },
   "outputs": [
    {
     "data": {
      "text/plain": "RandomState([601887926, 339370966], dtype=uint32)"
     },
     "execution_count": 22,
     "metadata": {},
     "output_type": "execute_result"
    }
   ],
   "source": [
    "bm.random.DEFAULT"
   ]
  },
  {
   "cell_type": "markdown",
   "id": "75b36c67",
   "metadata": {
    "pycharm": {
     "name": "#%% md\n"
    }
   },
   "source": [
    "The inherent random methods like ``randint()``, ``rand()``, ``shuffle()``, etc. are using this DEFAULT state. If you try to change the default RandomState, please use ``seed()`` method. "
   ]
  },
  {
   "cell_type": "code",
   "execution_count": 23,
   "id": "9c93bdb6",
   "metadata": {
    "pycharm": {
     "name": "#%%\n"
    }
   },
   "outputs": [
    {
     "data": {
      "text/plain": "RandomState([     0, 654321], dtype=uint32)"
     },
     "execution_count": 23,
     "metadata": {},
     "output_type": "execute_result"
    }
   ],
   "source": [
    "bm.random.seed(654321)\n",
    "\n",
    "bm.random.DEFAULT"
   ]
  },
  {
   "cell_type": "markdown",
   "id": "10384b23",
   "metadata": {
    "pycharm": {
     "name": "#%% md\n"
    }
   },
   "source": [
    "## In-place updating"
   ]
  },
  {
   "cell_type": "markdown",
   "id": "81cf35f3",
   "metadata": {
    "pycharm": {
     "name": "#%% md\n"
    }
   },
   "source": [
    "In BrainPy, the transformations (like [JIT](../apis/auto/math/generated/brainpy.math.jit.jit.rst)) usually need to update variables or tensors **in-place**. In-place updating does not change the reference pointing to the variable while changing the data stored in the variable. "
   ]
  },
  {
   "cell_type": "markdown",
   "id": "e6b44bda",
   "metadata": {
    "pycharm": {
     "name": "#%% md\n"
    }
   },
   "source": [
    "For example, here we have a variable ``a``."
   ]
  },
  {
   "cell_type": "code",
   "execution_count": 24,
   "id": "2c9da6cb",
   "metadata": {
    "pycharm": {
     "name": "#%%\n"
    }
   },
   "outputs": [],
   "source": [
    "a = bm.Variable(bm.zeros(5))"
   ]
  },
  {
   "cell_type": "markdown",
   "id": "c1030c44",
   "metadata": {
    "pycharm": {
     "name": "#%% md\n"
    }
   },
   "source": [
    "The ids of the variable and the data stored in the variable are:"
   ]
  },
  {
   "cell_type": "code",
   "execution_count": 25,
   "id": "80cce760",
   "metadata": {
    "pycharm": {
     "name": "#%%\n"
    }
   },
   "outputs": [
    {
     "name": "stdout",
     "output_type": "stream",
     "text": [
      "id(a)       =  2101001001088\n",
      "id(a.value) =  2101018127136\n"
     ]
    }
   ],
   "source": [
    "id_of_a = id(a)\n",
    "id_of_data = id(a.value)\n",
    "\n",
    "assert id_of_a != id_of_data\n",
    "\n",
    "print('id(a)       = ', id_of_a)\n",
    "print('id(a.value) = ', id_of_data)"
   ]
  },
  {
   "cell_type": "markdown",
   "id": "217566cb",
   "metadata": {
    "pycharm": {
     "name": "#%% md\n"
    }
   },
   "source": [
    "In-place update (here we use `[:]`) does not change the pointer refered to the variable but changes its data:"
   ]
  },
  {
   "cell_type": "code",
   "execution_count": 26,
   "id": "01a8e078",
   "metadata": {
    "scrolled": true,
    "pycharm": {
     "name": "#%%\n"
    }
   },
   "outputs": [
    {
     "name": "stdout",
     "output_type": "stream",
     "text": [
      "id(a)       =  2101001001088\n",
      "id(a.value) =  2101019514880\n"
     ]
    }
   ],
   "source": [
    "a[:] = 1.\n",
    "\n",
    "print('id(a)       = ', id(a))\n",
    "print('id(a.value) = ', id(a.value))"
   ]
  },
  {
   "cell_type": "code",
   "execution_count": 27,
   "id": "29e1c7ed",
   "metadata": {
    "pycharm": {
     "name": "#%%\n"
    }
   },
   "outputs": [
    {
     "name": "stdout",
     "output_type": "stream",
     "text": [
      "(id(a) == id_of_a)          = True\n",
      "(id(a.value) == id_of_data) = False\n"
     ]
    }
   ],
   "source": [
    "print('(id(a) == id_of_a)          =', id(a) == id_of_a)\n",
    "print('(id(a.value) == id_of_data) =', id(a.value) == id_of_data)"
   ]
  },
  {
   "cell_type": "markdown",
   "id": "b9d62d23",
   "metadata": {
    "pycharm": {
     "name": "#%% md\n"
    }
   },
   "source": [
    "However, once you do not use in-place operators to assign data, the id that the variable ``a`` refers to will change. This will cause serious errors when using transformations in BrainPy. "
   ]
  },
  {
   "cell_type": "code",
   "execution_count": 28,
   "id": "f20fbb6b",
   "metadata": {
    "pycharm": {
     "name": "#%%\n"
    }
   },
   "outputs": [
    {
     "name": "stdout",
     "output_type": "stream",
     "text": [
      "id(a) =  2101001187280\n",
      "(id(a) == id_of_a) = False\n"
     ]
    }
   ],
   "source": [
    "a = 10.\n",
    "\n",
    "print('id(a) = ', id(a))\n",
    "print('(id(a) == id_of_a) =', id(a) == id_of_a)"
   ]
  },
  {
   "cell_type": "markdown",
   "id": "b7076ea7",
   "metadata": {
    "pycharm": {
     "name": "#%% md\n"
    }
   },
   "source": [
    "```note\n",
    "The following in-place operators are not limited to ``brainpy.math.Variable`` and its subclasses. They can also apply to ``brainpy.math.JaxArray``. \n",
    "```"
   ]
  },
  {
   "cell_type": "markdown",
   "id": "f44d5bd7",
   "metadata": {
    "pycharm": {
     "name": "#%% md\n"
    }
   },
   "source": [
    "Here, we list several commonly used in-place operators."
   ]
  },
  {
   "cell_type": "code",
   "execution_count": 29,
   "id": "00821ab9",
   "metadata": {
    "pycharm": {
     "name": "#%%\n"
    }
   },
   "outputs": [],
   "source": [
    "v = bm.Variable(bm.arange(10))"
   ]
  },
  {
   "cell_type": "code",
   "execution_count": 30,
   "id": "3c751c58",
   "metadata": {
    "pycharm": {
     "name": "#%%\n"
    }
   },
   "outputs": [],
   "source": [
    "old_id = id(v)\n",
    "\n",
    "def check_no_change(new_v):\n",
    "    assert id(new_v) == old_id, 'Variable has been changed.'"
   ]
  },
  {
   "cell_type": "markdown",
   "id": "d413c648",
   "metadata": {
    "pycharm": {
     "name": "#%% md\n"
    }
   },
   "source": [
    "### 1. Indexing and slicing"
   ]
  },
  {
   "cell_type": "markdown",
   "id": "93573b82",
   "metadata": {
    "pycharm": {
     "name": "#%% md\n"
    }
   },
   "source": [
    "Indexing and slicing are the two most commonly used operators. The details of indexing and slicing are in [Array Objects Indexing](https://numpy.org/doc/stable/reference/arrays.indexing.html). "
   ]
  },
  {
   "cell_type": "markdown",
   "id": "e3767b90",
   "metadata": {
    "pycharm": {
     "name": "#%% md\n"
    }
   },
   "source": [
    "Indexing: ``v[i] = a`` or  ``v[(1, 3)] = c`` (index multiple values)"
   ]
  },
  {
   "cell_type": "code",
   "execution_count": 31,
   "id": "87ed7018",
   "metadata": {
    "pycharm": {
     "name": "#%%\n"
    }
   },
   "outputs": [],
   "source": [
    "v[0] = 1\n",
    "\n",
    "check_no_change(v)"
   ]
  },
  {
   "cell_type": "markdown",
   "id": "4fd5ff2f",
   "metadata": {
    "pycharm": {
     "name": "#%% md\n"
    }
   },
   "source": [
    "Slicing: ``v[i:j] = b``"
   ]
  },
  {
   "cell_type": "code",
   "execution_count": 32,
   "id": "bbadb60b",
   "metadata": {
    "pycharm": {
     "name": "#%%\n"
    }
   },
   "outputs": [],
   "source": [
    "v[1: 2] = 1\n",
    "\n",
    "check_no_change(v)"
   ]
  },
  {
   "cell_type": "markdown",
   "id": "750f5203",
   "metadata": {
    "pycharm": {
     "name": "#%% md\n"
    }
   },
   "source": [
    "Slicing all values: ``v[:] = d``, ``v[...] = e``"
   ]
  },
  {
   "cell_type": "code",
   "execution_count": 33,
   "id": "4517b203",
   "metadata": {
    "pycharm": {
     "name": "#%%\n"
    }
   },
   "outputs": [],
   "source": [
    "v[:] = 0\n",
    "\n",
    "check_no_change(v)"
   ]
  },
  {
   "cell_type": "code",
   "execution_count": 34,
   "id": "dcb6f8f8",
   "metadata": {
    "pycharm": {
     "name": "#%%\n"
    }
   },
   "outputs": [],
   "source": [
    "v[...] = bm.arange(10)\n",
    "\n",
    "check_no_change(v)"
   ]
  },
  {
   "cell_type": "markdown",
   "id": "076eb1a4",
   "metadata": {
    "pycharm": {
     "name": "#%% md\n"
    }
   },
   "source": [
    "### 2. Augmented assignment"
   ]
  },
  {
   "cell_type": "markdown",
   "id": "9e00a66e",
   "metadata": {
    "pycharm": {
     "name": "#%% md\n"
    }
   },
   "source": [
    "All augmented assignment are in-place operations, which include \n",
    "  - add: ``+=``\n",
    "  - subtract: ``-=``\n",
    "  - divide: ``/=``\n",
    "  - multiply: ``*=``\n",
    "  - floor divide: ``//=``\n",
    "  - modulo: ``%=``\n",
    "  - power: ``**=``\n",
    "  - and: ``&=``\n",
    "  - or: ``|=``\n",
    "  - xor: ``^=``\n",
    "  - left shift: ``<<=``\n",
    "  - right shift: ``>>=``"
   ]
  },
  {
   "cell_type": "code",
   "execution_count": 35,
   "id": "48eea0fa",
   "metadata": {
    "scrolled": true,
    "pycharm": {
     "name": "#%%\n"
    }
   },
   "outputs": [],
   "source": [
    "v += 1\n",
    "\n",
    "check_no_change(v)"
   ]
  },
  {
   "cell_type": "code",
   "execution_count": 36,
   "id": "122eafc4",
   "metadata": {
    "pycharm": {
     "name": "#%%\n"
    }
   },
   "outputs": [],
   "source": [
    "v *= 2\n",
    "\n",
    "check_no_change(v)"
   ]
  },
  {
   "cell_type": "code",
   "execution_count": 37,
   "id": "1ff5afc4",
   "metadata": {
    "pycharm": {
     "name": "#%%\n"
    }
   },
   "outputs": [],
   "source": [
    "v |= bm.random.randint(0, 2, 10)\n",
    "\n",
    "check_no_change(v)"
   ]
  },
  {
   "cell_type": "code",
   "execution_count": 38,
   "id": "e1625cd0",
   "metadata": {
    "pycharm": {
     "name": "#%%\n"
    }
   },
   "outputs": [],
   "source": [
    "v **= 2\n",
    "\n",
    "check_no_change(v)"
   ]
  },
  {
   "cell_type": "code",
   "execution_count": 39,
   "id": "8a46a43c",
   "metadata": {
    "pycharm": {
     "name": "#%%\n"
    }
   },
   "outputs": [],
   "source": [
    "v >>= 2\n",
    "\n",
    "check_no_change(v)"
   ]
  },
  {
   "cell_type": "markdown",
   "id": "8d4ed316",
   "metadata": {
    "pycharm": {
     "name": "#%% md\n"
    }
   },
   "source": [
    "### 3. ``.value`` assignment"
   ]
  },
  {
   "cell_type": "markdown",
   "id": "34636eb2",
   "metadata": {
    "pycharm": {
     "name": "#%% md\n"
    }
   },
   "source": [
    "Another way to in-place update a variable is to assign new data to ``.value``. This operation is very **safe**, because it will check whether the type and shape of the new data are consistent with the current ones. "
   ]
  },
  {
   "cell_type": "code",
   "execution_count": 40,
   "id": "2f81a257",
   "metadata": {
    "pycharm": {
     "name": "#%%\n"
    }
   },
   "outputs": [],
   "source": [
    "v.value = bm.arange(10)\n",
    "\n",
    "check_no_change(v)"
   ]
  },
  {
   "cell_type": "code",
   "execution_count": 41,
   "id": "19611ce1",
   "metadata": {
    "pycharm": {
     "name": "#%%\n"
    }
   },
   "outputs": [
    {
     "name": "stdout",
     "output_type": "stream",
     "text": [
      "<class 'brainpy.errors.MathError'> The shape of the original data is (10,), while we got ().\n"
     ]
    }
   ],
   "source": [
    "try:\n",
    "    v.value = bm.asarray(1.)\n",
    "except Exception as e:\n",
    "    print(type(e), e)"
   ]
  },
  {
   "cell_type": "code",
   "execution_count": 42,
   "id": "c7911157",
   "metadata": {
    "pycharm": {
     "name": "#%%\n"
    }
   },
   "outputs": [
    {
     "name": "stdout",
     "output_type": "stream",
     "text": [
      "<class 'brainpy.errors.MathError'> The dtype of the original data is int32, while we got float32.\n"
     ]
    }
   ],
   "source": [
    "try:\n",
    "    v.value = bm.random.random(10)\n",
    "except Exception as e:\n",
    "    print(type(e), e)"
   ]
  },
  {
   "cell_type": "markdown",
   "id": "efd1dcbd",
   "metadata": {
    "pycharm": {
     "name": "#%% md\n"
    }
   },
   "source": [
    "### 4. ``.update()`` method"
   ]
  },
  {
   "cell_type": "markdown",
   "id": "29630aaa",
   "metadata": {
    "pycharm": {
     "name": "#%% md\n"
    }
   },
   "source": [
    "Actually, the ``.value`` assignment is the same operation as the ``.update()`` method. Users who want a safe assignment can choose this method too. "
   ]
  },
  {
   "cell_type": "code",
   "execution_count": 43,
   "id": "d861440c",
   "metadata": {
    "pycharm": {
     "name": "#%%\n"
    }
   },
   "outputs": [],
   "source": [
    "v.update(bm.random.randint(0, 20, size=10))"
   ]
  },
  {
   "cell_type": "code",
   "execution_count": 44,
   "id": "247f081b",
   "metadata": {
    "pycharm": {
     "name": "#%%\n"
    }
   },
   "outputs": [
    {
     "name": "stdout",
     "output_type": "stream",
     "text": [
      "<class 'brainpy.errors.MathError'> The shape of the original data is (10,), while we got ().\n"
     ]
    }
   ],
   "source": [
    "try:\n",
    "    v.update(bm.asarray(1.))\n",
    "except Exception as e:\n",
    "    print(type(e), e)"
   ]
  },
  {
   "cell_type": "code",
   "execution_count": 45,
   "id": "9ae0ce26",
   "metadata": {
    "pycharm": {
     "name": "#%%\n"
    }
   },
   "outputs": [
    {
     "name": "stdout",
     "output_type": "stream",
     "text": [
      "<class 'brainpy.errors.MathError'> The dtype of the original data is int32, while we got float32.\n"
     ]
    }
   ],
   "source": [
    "try:\n",
    "    v.update(bm.random.random(10))\n",
    "except Exception as e:\n",
    "    print(type(e), e)"
   ]
  }
 ],
 "metadata": {
  "kernelspec": {
   "display_name": "Python 3",
   "language": "python",
   "name": "python3"
  },
  "language_info": {
   "codemirror_mode": {
    "name": "ipython",
    "version": 3
   },
   "file_extension": ".py",
   "mimetype": "text/x-python",
   "name": "python",
   "nbconvert_exporter": "python",
   "pygments_lexer": "ipython3",
   "version": "3.8.8"
  },
  "latex_envs": {
   "LaTeX_envs_menu_present": true,
   "autoclose": false,
   "autocomplete": true,
   "bibliofile": "biblio.bib",
   "cite_by": "apalike",
   "current_citInitial": 1,
   "eqLabelWithNumbers": true,
   "eqNumInitial": 1,
   "hotkeys": {
    "equation": "Ctrl-E",
    "itemize": "Ctrl-I"
   },
   "labels_anchors": false,
   "latex_user_defs": false,
   "report_style_numbering": false,
   "user_envs_cfg": false
  },
  "toc": {
   "base_numbering": 1,
   "nav_menu": {},
   "number_sections": false,
   "sideBar": true,
   "skip_h1_title": false,
   "title_cell": "Table of Contents",
   "title_sidebar": "Contents",
   "toc_cell": false,
   "toc_position": {},
   "toc_section_display": true,
   "toc_window_display": true
  }
 },
 "nbformat": 4,
 "nbformat_minor": 5
}