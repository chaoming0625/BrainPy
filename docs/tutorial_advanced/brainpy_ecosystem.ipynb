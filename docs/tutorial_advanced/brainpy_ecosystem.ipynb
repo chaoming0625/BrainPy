{
 "cells": [
  {
   "cell_type": "markdown",
   "metadata": {},
   "source": [
    "# BrainPy Ecosystem for Brain Dynamics Modeling"
   ]
  },
  {
   "cell_type": "markdown",
   "metadata": {},
   "source": [
    "BrainPy aims to build a complete ecosystem for brain dynamics modeling.\n",
    "\n",
    "Although it has a far way to go, currently we make a progress in:"
   ]
  },
  {
   "cell_type": "markdown",
   "metadata": {},
   "source": [
    "## BrainPy\n",
    "\n",
    "Based on JAX, brainpy develops [BrainPy](https://github.com/PKU-NIP-Lab/BrainPy) to provide universal simulation, training and analysis engine, which serves as a foundation of the whole project. Specifically, BrainPy provides a object-oriented programming interface for brain dynamics modeling."
   ]
  },
  {
   "cell_type": "markdown",
   "metadata": {},
   "source": [
    "## brainpy-examples\n",
    "\n",
    "[brainpy-examples](https://github.com/brainpy/examples) provides comprehensive examples for brain dynamics modeling with BrainPy. It implements many classical models introduced in the latest computational neuroscience and brain-inspired computation research."
   ]
  },
  {
   "cell_type": "markdown",
   "metadata": {},
   "source": [
    "## brainpylib\n",
    "\n",
    "[brainpylib](https://github.com/brainpy/brainpylib) aims to provide operators specialized for brain dynamics modeling. Brain dynamics features sparse connections and event-driven computation. brainpylib provides dedicated operators for such sparse computation and event-based computation. These operators can be used in computational neuroscience research as well as brain-inspired computation community.\n"
   ]
  },
  {
   "cell_type": "markdown",
   "metadata": {},
   "source": [
    "## brainpy-datasets\n",
    "\n",
    "[brainpy-datasets](https://github.com/brainpy/datasets) aims to provide commonly used datasets in brain dynamics modeling, including neuromorphic datasets and cognitive tasks for training brain-like neural networks.\n"
   ]
  },
  {
   "cell_type": "markdown",
   "metadata": {},
   "source": [
    "## brainpy-largescale\n",
    "\n",
    "[brainpy-largescale](https://github.com/NH-NCL/brainpy-largescale) provides one solution for large-scale modeling. It enables multi-device running for BrainPy models.\n"
   ]
  }
 ],
 "metadata": {
  "kernelspec": {
   "display_name": "Python 3 (ipykernel)",
   "language": "python",
   "name": "python3"
  },
  "language_info": {
   "codemirror_mode": {
    "name": "ipython",
    "version": 3
   },
   "file_extension": ".py",
   "mimetype": "text/x-python",
   "name": "python",
   "nbconvert_exporter": "python",
   "pygments_lexer": "ipython3",
   "version": "3.9.12"
  }
 },
 "nbformat": 4,
 "nbformat_minor": 1
}
