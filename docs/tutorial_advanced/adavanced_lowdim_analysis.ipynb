{
 "cells": [
  {
   "cell_type": "markdown",
   "metadata": {
    "pycharm": {
     "name": "#%% md\n"
    }
   },
   "source": [
    "# How does low-dimensional analyzers work?"
   ]
  },
  {
   "cell_type": "markdown",
   "metadata": {
    "pycharm": {
     "name": "#%% md\n"
    }
   },
   "source": [
    "@[Chaoming Wang](https://github.com/chaoming0625)"
   ]
  },
  {
   "cell_type": "markdown",
   "metadata": {
    "pycharm": {
     "name": "#%% md\n"
    }
   },
   "source": [
    "As is known to us all, dynamics analysis is necessary in neurodynamics. This is because blind simulation of nonlinear systems is likely to produce few results or misleading results. BrainPy has well supports for low-dimensional systems, no matter how nonlinear your defined system is. Specifically, BrainPy provides the following methods for the analysis of low-dimensional systems:\n",
    "\n",
    "1. phase plane analysis;\n",
    "2. codimension 1 or codimension 2 bifurcation analysis;\n",
    "3. bifurcation analysis of the fast-slow system. \n",
    "\n",
    "BrainPy will help you probe the dynamical mechanism of your defined systems rapidly. "
   ]
  },
  {
   "cell_type": "code",
   "execution_count": 1,
   "metadata": {
    "ExecuteTime": {
     "end_time": "2021-03-25T03:10:39.678453Z",
     "start_time": "2021-03-25T03:10:36.763061Z"
    },
    "pycharm": {
     "name": "#%%\n"
    }
   },
   "outputs": [],
   "source": [
    "import brainpy as bp\n",
    "import brainpy.math as bm\n",
    "\n",
    "bp.math.set_platform('cpu')\n",
    "bp.math.enable_x64()  # It's better to enable x64 when performing analysis"
   ]
  },
  {
   "cell_type": "code",
   "execution_count": 2,
   "metadata": {
    "pycharm": {
     "name": "#%%\n"
    }
   },
   "outputs": [],
   "source": [
    "import numpy as np\n",
    "import matplotlib.pyplot as plt"
   ]
  },
  {
   "cell_type": "markdown",
   "metadata": {
    "pycharm": {
     "name": "#%% md\n"
    }
   },
   "source": [
    "In this section, we provide a basic tutorial to understand how the ``brainpy.analysis.LowDimAnalyzer`` works."
   ]
  },
  {
   "cell_type": "markdown",
   "metadata": {
    "pycharm": {
     "name": "#%% md\n"
    }
   },
   "source": [
    "## Terminology"
   ]
  },
  {
   "cell_type": "markdown",
   "metadata": {
    "pycharm": {
     "name": "#%% md\n"
    }
   },
   "source": [
    "Given the FitzHugh-Nagumo model, we define an analyzer,"
   ]
  },
  {
   "cell_type": "code",
   "execution_count": 19,
   "outputs": [],
   "source": [
    "class FitzHughNagumoModel(bp.dyn.DynamicalSystem):\n",
    "  def __init__(self, method='exp_auto'):\n",
    "    super(FitzHughNagumoModel, self).__init__()\n",
    "\n",
    "    # parameters\n",
    "    self.a = 0.7\n",
    "    self.b = 0.8\n",
    "    self.tau = 12.5\n",
    "\n",
    "    # variables\n",
    "    self.V = bm.Variable(bm.zeros(1))\n",
    "    self.w = bm.Variable(bm.zeros(1))\n",
    "    self.Iext = bm.Variable(bm.zeros(1))\n",
    "\n",
    "    # functions\n",
    "    def dV(V, t, w, Iext=0.):\n",
    "        return V - V * V * V / 3 - w + Iext\n",
    "    def dw(w, t, V, a=0.7, b=0.8):\n",
    "        return (V + a - b * w) / self.tau\n",
    "    self.int_V = bp.odeint(dV, method=method)\n",
    "    self.int_w = bp.odeint(dw, method=method)\n",
    "\n",
    "  def update(self, _t, _dt):\n",
    "    self.V.value = self.int_V(self.V, _t, self.w, self.Iext, _dt)\n",
    "    self.w.value = self.int_w(self.w, _t, self.V, self.a, self.b, _dt)\n",
    "    self.Iext[:] = 0."
   ],
   "metadata": {
    "collapsed": false,
    "pycharm": {
     "name": "#%%\n"
    }
   }
  },
  {
   "cell_type": "code",
   "execution_count": 20,
   "outputs": [],
   "source": [
    "model = FitzHughNagumoModel()"
   ],
   "metadata": {
    "collapsed": false,
    "pycharm": {
     "name": "#%%\n"
    }
   }
  },
  {
   "cell_type": "code",
   "execution_count": 28,
   "outputs": [],
   "source": [
    "analyzer = bp.analysis.PhasePlane2D(\n",
    "  [model.int_V, model.int_w],\n",
    "  target_vars={'V': [-3, 3], 'w': [-3., 3.]},\n",
    "  resolutions={'V': 0.01, 'w': 0.01},\n",
    ")"
   ],
   "metadata": {
    "collapsed": false,
    "pycharm": {
     "name": "#%%\n"
    }
   }
  },
  {
   "cell_type": "markdown",
   "source": [
    "In this instance of ``brainpy.analysis.LowDimAnalyzer``, we use the following terminologies."
   ],
   "metadata": {
    "collapsed": false,
    "pycharm": {
     "name": "#%% md\n"
    }
   }
  },
  {
   "cell_type": "markdown",
   "source": [
    "- **x_var** and **y_var** are defined by the order of the user setting. If the user sets the \"target_vars\" as \"{'V': ..., 'w': ...}\",  ``x_var`` and ``y_var`` will be \"V\" and \"w\" respectively. Otherwise, if \"target_vars\"=\"{'w': ..., 'V': ...}\", ``x_var`` and ``y_var`` will be \"w\" and \"V\" respectively."
   ],
   "metadata": {
    "collapsed": false,
    "pycharm": {
     "name": "#%% md\n"
    }
   }
  },
  {
   "cell_type": "code",
   "execution_count": 29,
   "outputs": [
    {
     "data": {
      "text/plain": [
       "('V', 'w')"
      ]
     },
     "execution_count": 29,
     "metadata": {},
     "output_type": "execute_result"
    }
   ],
   "source": [
    "analyzer.x_var, analyzer.y_var"
   ],
   "metadata": {
    "collapsed": false,
    "pycharm": {
     "name": "#%%\n"
    }
   }
  },
  {
   "cell_type": "markdown",
   "source": [
    "- **fx** and **fy** are defined as differential equations of ``x_var`` and ``y_var`` respectively, i.e.,\n",
    "\n",
    "``fx`` is\n",
    "\n",
    "```python\n",
    "def dV(V, t, w, Iext=0.):\n",
    "    return V - V * V * V / 3 - w + Iext\n",
    "```\n",
    "\n",
    "``fy`` is\n",
    "\n",
    "```\n",
    "def dw(w, t, V, a=0.7, b=0.8):\n",
    "    return (V + a - b * w) / self.tau\n",
    "```"
   ],
   "metadata": {
    "collapsed": false,
    "pycharm": {
     "name": "#%% md\n"
    }
   }
  },
  {
   "cell_type": "code",
   "execution_count": 30,
   "outputs": [
    {
     "data": {
      "text/plain": [
       "(<function brainpy.math.jit._make_jit_without_vars.<locals>.call(*args, **kwargs)>,\n",
       " <function brainpy.math.jit._make_jit_without_vars.<locals>.call(*args, **kwargs)>)"
      ]
     },
     "execution_count": 30,
     "metadata": {},
     "output_type": "execute_result"
    }
   ],
   "source": [
    "analyzer.F_fx, analyzer.F_fy"
   ],
   "metadata": {
    "collapsed": false,
    "pycharm": {
     "name": "#%%\n"
    }
   }
  },
  {
   "cell_type": "markdown",
   "source": [
    "- **int_x** and **int_y** are defined as integral functions of the differential equations for ``x_var`` and ``y_var`` respectively."
   ],
   "metadata": {
    "collapsed": false,
    "pycharm": {
     "name": "#%% md\n"
    }
   }
  },
  {
   "cell_type": "code",
   "execution_count": 31,
   "outputs": [
    {
     "data": {
      "text/plain": [
       "(functools.partial(<function std_derivative.<locals>.inner.<locals>.call at 0x000001D5BF806550>),\n",
       " functools.partial(<function std_derivative.<locals>.inner.<locals>.call at 0x000001D5B6C8B430>))"
      ]
     },
     "execution_count": 31,
     "metadata": {},
     "output_type": "execute_result"
    }
   ],
   "source": [
    "analyzer.F_int_x, analyzer.F_int_y"
   ],
   "metadata": {
    "collapsed": false,
    "pycharm": {
     "name": "#%%\n"
    }
   }
  },
  {
   "cell_type": "markdown",
   "source": [
    "- **x_by_y_in_fx** and **y_by_x_in_fx**: They denote that ``x_var`` and ``y_var`` can be separated from each other in \"fx\" nullcline function. Specifically, ``x_by_y_in_fx`` or ``y_by_x_in_fx`` denotes $x = F(y)$ or $y = F(x)$ accoording to $f_x=0$ equation. For example, in the above FitzHugh-Nagumo model, $w$ can be easily represented by $V$ when $\\mathrm{dV(V, t, w, I_{ext})} = 0$, i.e., ``y_by_x_in_fx`` is $w= V - V ^3  / 3 + I_{ext}$."
   ],
   "metadata": {
    "collapsed": false,
    "pycharm": {
     "name": "#%% md\n"
    }
   }
  },
  {
   "cell_type": "markdown",
   "source": [
    "\n",
    "- Similarly, **x_by_y_in_fy** ($x=F(y)$) and **y_by_x_in_fy** ($y=F(x)$) denote ``x_var`` and ``y_var`` can be separated from each other in \"fy\" nullcline function. For example, in the above FitzHugh-Nagumo model, ``y_by_x_in_fy`` is $w= \\frac{V + a}{b}$, and ``x_by_y_in_fy`` is $V= b * w - a$."
   ],
   "metadata": {
    "collapsed": false,
    "pycharm": {
     "name": "#%% md\n"
    }
   }
  },
  {
   "cell_type": "markdown",
   "source": [
    "- ``x_by_y_in_fx``, ``y_by_x_in_fx``, ``x_by_y_in_fy`` and ``y_by_x_in_fy`` can be set in the ``options`` argument."
   ],
   "metadata": {
    "collapsed": false,
    "pycharm": {
     "name": "#%% md\n"
    }
   }
  },
  {
   "cell_type": "markdown",
   "source": [
    "## Mechanism for 1D system analysis"
   ],
   "metadata": {
    "collapsed": false,
    "pycharm": {
     "name": "#%% md\n"
    }
   }
  },
  {
   "cell_type": "markdown",
   "source": [
    "In order to understand the adavantages and disadvantages of BrainPy's analysis toolkit, it is better to know the minimal mechanism how ``brainpy.analysis`` works."
   ],
   "metadata": {
    "collapsed": false,
    "pycharm": {
     "name": "#%% md\n"
    }
   }
  },
  {
   "cell_type": "markdown",
   "source": [
    "The automatic model analysis in BrainPy heavily relies on numerical optimization methods, including [Brent's method](https://en.wikipedia.org/wiki/Brent%27s_method) and [BFGS method](https://en.wikipedia.org/wiki/Broyden%E2%80%93Fletcher%E2%80%93Goldfarb%E2%80%93Shanno_algorithm). For example, for the above one-dimensional system ($\\frac{dx}{dt} = \\mathrm{sin}(x) + I$), after the user sets the resolution to ``0.001``, we will get the evaluation points according to the variable boundary ``[-10, 10]``."
   ],
   "metadata": {
    "collapsed": false,
    "pycharm": {
     "name": "#%% md\n"
    }
   }
  },
  {
   "cell_type": "code",
   "execution_count": 32,
   "outputs": [
    {
     "data": {
      "text/plain": [
       "JaxArray([-10.   ,  -9.999,  -9.998, ...,   9.997,   9.998,   9.999],            dtype=float64)"
      ]
     },
     "execution_count": 32,
     "metadata": {},
     "output_type": "execute_result"
    }
   ],
   "source": [
    "bp.math.arange(-10, 10, 0.001)"
   ],
   "metadata": {
    "collapsed": false,
    "pycharm": {
     "name": "#%%\n"
    }
   }
  },
  {
   "cell_type": "markdown",
   "source": [
    "Then, BrainPy filters out the candidate intervals in which the roots lie in. Specifically, it tries to find all intervals like $[x_1, x_2]$ where $f(x_1) * f(x_2) \\le 0$ for the 1D system $\\frac{dx}{dt} = f(x)$."
   ],
   "metadata": {
    "collapsed": false,
    "pycharm": {
     "name": "#%% md\n"
    }
   }
  },
  {
   "cell_type": "markdown",
   "source": [
    "For example, the following two points which have opposite signs are candidate points we want."
   ],
   "metadata": {
    "collapsed": false,
    "pycharm": {
     "name": "#%% md\n"
    }
   }
  },
  {
   "cell_type": "code",
   "execution_count": 33,
   "outputs": [],
   "source": [
    "def plot_interval(x0, x1, f):\n",
    "    xs = np.linspace(x0, x1, 100)\n",
    "    plt.plot(xs, f(xs))\n",
    "    plt.scatter([x0, x1], f(np.asarray([x0, x1])), edgecolors='r')\n",
    "    plt.axhline(0)\n",
    "    plt.show()"
   ],
   "metadata": {
    "collapsed": false,
    "pycharm": {
     "name": "#%%\n"
    }
   }
  },
  {
   "cell_type": "code",
   "execution_count": 34,
   "outputs": [
    {
     "data": {
      "image/png": "[encoded data removed]",
      "text/plain": [
       "<Figure size 432x288 with 1 Axes>"
      ]
     },
     "metadata": {
      "needs_background": "light"
     },
     "output_type": "display_data"
    }
   ],
   "source": [
    "plot_interval(-0.001, 0.001, lambda x: np.sin(x))"
   ],
   "metadata": {
    "collapsed": false,
    "pycharm": {
     "name": "#%%\n"
    }
   }
  },
  {
   "cell_type": "markdown",
   "source": [
    "According to the intermediate value theorem, there must be a solution between $x_1$ and $x_2$ when $f(x_1) * f(x_2) \\le 0$."
   ],
   "metadata": {
    "collapsed": false,
    "pycharm": {
     "name": "#%% md\n"
    }
   }
  },
  {
   "cell_type": "markdown",
   "source": [
    "Based on these candidate intervals, BrainPy uses Brent's method to find roots $f(x) = 0$. Further, after obtain the value of the root, BrainPy uses automatic differentiation to evaluate the stability of each root solution."
   ],
   "metadata": {
    "collapsed": false,
    "pycharm": {
     "name": "#%% md\n"
    }
   }
  },
  {
   "cell_type": "markdown",
   "source": [
    "Overall, BrainPy's analysis toolkit shows significant advantages and disadvantages.\n",
    "\n",
    "**Pros**: BrainPy uses numerical methods to find roots and evaluate their stabilities, it does not case about how complex your function is. Therefore, it can apply to general problems, including any 1D and 2D dynamical systems, and some part of low-dimensional ($\\ge 3$) dynamical systems (see later sections). Especially, BrainPy's analysis toolkit is highly useful when the mathematical equations are too complex to get analytical solutions (the example please refer to the tutorial [Anlysis of A Decision Making Model](./decision_making_model.ipynb)).\n",
    "\n",
    "**Cons**: However, numerical methods used in BrainPy are hard to find fixed points only exist at a moment. Moreover, when ``resolution`` is small, there will be large amount of calculating. Users should pay attention to designing suitable resolution settings."
   ],
   "metadata": {
    "collapsed": false,
    "pycharm": {
     "name": "#%% md\n"
    }
   }
  },
  {
   "cell_type": "markdown",
   "source": [
    "## Mechanism for 2D system analysis"
   ],
   "metadata": {
    "collapsed": false,
    "pycharm": {
     "name": "#%% md\n"
    }
   }
  },
  {
   "cell_type": "markdown",
   "source": [
    "**plot_vector_field()**\n",
    "\n",
    "Plotting vector field is simple. We just need to evaluate the values of each differential equation."
   ],
   "metadata": {
    "collapsed": false,
    "pycharm": {
     "name": "#%% md\n"
    }
   }
  },
  {
   "cell_type": "markdown",
   "source": [
    "**plot_nullcline()**\n",
    "\n",
    "Nullclines are evaluated through the Brent's methods. In order to get all $(x, y)$ values that satisfy ``fx=0`` (i.e., $f_x(x, y) = 0$), we first fix $y=y_0$, then apply Brent optimization to get all $x'$ that satisfy $f_x(x', y_0) = 0$ (alternatively, we can fix $x$ then optimize $y$). Therefore, we will perform Brent optimization many times, because we will iterate over all $y$ value according to the resolution setting."
   ],
   "metadata": {
    "collapsed": false,
    "pycharm": {
     "name": "#%% md\n"
    }
   }
  },
  {
   "cell_type": "markdown",
   "source": [
    "**plot_fixed_points()**\n",
    "\n",
    "The fixed point finding in BrainPy relies on BFGS method. First, we define an auxiliary function $L(x, t)$:\n",
    "\n",
    "$$\n",
    "L(x, y) = f_x^2(x, y) + f_y^2(x, y).\n",
    "$$\n",
    "\n",
    "$L(x, t)$ is always bigger than 0. We use BFGS optimization to get all local minima. Finally, we filter out the minima whose losses are smaller than $1e^{-8}$, and we choose them as fixed points.\n",
    "\n",
    "For this method, how to choose the initial points to perform optimization is the challege, especially when the parameter resolutions are small. Generally, there are four methods provided in BrainPy.\n",
    "\n",
    "- **fx-nullcline**: Choose the points in \"fx\" nullcline as the initial points for optimization.\n",
    "- **fy-nullcline**: Choose the points in \"fy\" nullcline as the initial points for optimization.\n",
    "- **nullclines**: Choose both the points in \"fx\" nullcline and \"fy\" nullcline as the initial points for optimization.\n",
    "- **aux_rank**: For a given set of parameters, we evaluate loss function at each point according to the resolution setting. Then we choose the first ``num_rank`` (default is 100)  points which have the smallest losses.\n",
    "\n",
    "However, if users provide one of functions of ``x_by_y_in_fx``, ``y_by_x_in_fx``, ``x_by_y_in_fy`` and ``y_by_x_in_fy``. Things will become very simple, because we can change the 2D system as a 1D system, then we only need to optimzie the fixed points by using our favoriate Brent optimization.\n",
    "\n",
    "For the given FitzHugh-Nagumo model, we can set"
   ],
   "metadata": {
    "collapsed": false,
    "pycharm": {
     "name": "#%% md\n"
    }
   }
  },
  {
   "cell_type": "code",
   "execution_count": 35,
   "metadata": {
    "pycharm": {
     "name": "#%%\n"
    }
   },
   "outputs": [
    {
     "name": "stderr",
     "output_type": "stream",
     "text": [
      "I am making bifurcation analysis ...\n",
      "I am trying to find fixed points by brentq optimization ...\n",
      "I am trying to filter out duplicate fixed points ...\n",
      "\tFound 5000 fixed points.\n"
     ]
    },
    {
     "data": {
      "image/png": "[encoded data removed]",
      "text/plain": [
       "<Figure size 432x288 with 1 Axes>"
      ]
     },
     "metadata": {
      "needs_background": "light"
     },
     "output_type": "display_data"
    },
    {
     "data": {
      "image/png": "[encoded data removed]",
      "text/plain": [
       "<Figure size 432x288 with 1 Axes>"
      ]
     },
     "metadata": {
      "needs_background": "light"
     },
     "output_type": "display_data"
    }
   ],
   "source": [
    "analyzer = bp.analysis.Bifurcation2D(\n",
    "    model,\n",
    "    target_vars=dict(V=[-3, 3], w=[-3., 3.]),\n",
    "    target_pars=dict(a=[0.5, 1.], Iext=[0., 1.]),\n",
    "    resolutions={'a': 0.01, 'Iext': 0.01},\n",
    "    options={bp.analysis.C.y_by_x_in_fy: (lambda V, a=0.7, b=0.8: (V + a) / b)}\n",
    ")\n",
    "analyzer.plot_bifurcation()\n",
    "analyzer.show_figure()"
   ]
  },
  {
   "cell_type": "markdown",
   "metadata": {
    "pycharm": {
     "name": "#%% md\n"
    }
   },
   "source": [
    "## References\n",
    "\n",
    "[1] Rinzel, John. \"Bursting oscillations in an excitable membrane model.\" In Ordinary and partial differential  equations, pp. 304-316. Springer, Berlin, Heidelberg, 1985.\n",
    "           \n",
    "[2] Rinzel, John , and Y. S. Lee . On Different Mechanisms for Membrane Potential Bursting. Nonlinear Oscillations in Biology and Chemistry. Springer Berlin Heidelberg, 1986.\n",
    "\n",
    "[3] Rinzel, John. \"A formal classification of bursting mechanisms in excitable systems.\" In Mathematical topics in population biology, morphogenesis and neurosciences, pp. 267-281. Springer, Berlin, Heidelberg, 1987.\n"
   ]
  }
 ],
 "metadata": {
  "hide_input": false,
  "jupytext": {
   "encoding": "# -*- coding: utf-8 -*-"
  },
  "kernelspec": {
   "display_name": "Python 3 (ipykernel)",
   "language": "python",
   "name": "python3"
  },
  "language_info": {
   "codemirror_mode": {
    "name": "ipython",
    "version": 3
   },
   "file_extension": ".py",
   "mimetype": "text/x-python",
   "name": "python",
   "nbconvert_exporter": "python",
   "pygments_lexer": "ipython3",
   "version": "3.9.7"
  },
  "latex_envs": {
   "LaTeX_envs_menu_present": true,
   "autoclose": false,
   "autocomplete": true,
   "bibliofile": "biblio.bib",
   "cite_by": "apalike",
   "current_citInitial": 1,
   "eqLabelWithNumbers": true,
   "eqNumInitial": 1,
   "hotkeys": {
    "equation": "Ctrl-E",
    "itemize": "Ctrl-I"
   },
   "labels_anchors": false,
   "latex_user_defs": false,
   "report_style_numbering": false,
   "user_envs_cfg": false
  },
  "toc": {
   "base_numbering": 1,
   "nav_menu": {
    "height": "211px",
    "width": "348px"
   },
   "number_sections": false,
   "sideBar": true,
   "skip_h1_title": false,
   "title_cell": "Table of Contents",
   "title_sidebar": "Contents",
   "toc_cell": false,
   "toc_position": {
    "height": "calc(100% - 180px)",
    "left": "10px",
    "top": "150px",
    "width": "243.057px"
   },
   "toc_section_display": true,
   "toc_window_display": true
  },
  "varInspector": {
   "cols": {
    "lenName": 16,
    "lenType": 16,
    "lenVar": 40
   },
   "kernels_config": {
    "python": {
     "delete_cmd_postfix": "",
     "delete_cmd_prefix": "del ",
     "library": "var_list.py",
     "varRefreshCmd": "print(var_dic_list())"
    },
    "r": {
     "delete_cmd_postfix": ") ",
     "delete_cmd_prefix": "rm(",
     "library": "var_list.r",
     "varRefreshCmd": "cat(var_dic_list()) "
    }
   },
   "types_to_exclude": [
    "module",
    "function",
    "builtin_function_or_method",
    "instance",
    "_Feature"
   ],
   "window_display": false
  }
 },
 "nbformat": 4,
 "nbformat_minor": 4
}