{
 "cells": [
  {
   "cell_type": "markdown",
   "id": "64dffee5",
   "metadata": {
    "pycharm": {
     "name": "#%% md\n"
    }
   },
   "source": [
    "# Synaptic Weights"
   ]
  },
  {
   "cell_type": "markdown",
   "id": "45063cfc",
   "metadata": {
    "pycharm": {
     "name": "#%% md\n"
    }
   },
   "source": [
    "@[Xiaoyu Chen](mailto:c-xy17@tsinghua.org.cn) "
   ]
  },
  {
   "cell_type": "markdown",
   "id": "2c6e09ce",
   "metadata": {
    "pycharm": {
     "name": "#%% md\n"
    }
   },
   "source": [
    "In a brain model, synaptic weights, the strength of the connection between presynaptic and postsynaptic neurons, are crucial to the dynamics of the model. In this section, we will illutrate how to build synaptic weights in a synapse model."
   ]
  },
  {
   "cell_type": "code",
   "execution_count": 1,
   "id": "b2699aa1",
   "metadata": {
    "pycharm": {
     "name": "#%%\n"
    }
   },
   "outputs": [],
   "source": [
    "import brainpy as bp\n",
    "import brainpy.math as bm\n",
    "import numpy as np\n",
    "import matplotlib.pyplot as plt\n",
    "\n",
    "bp.math.set_platform('cpu')"
   ]
  },
  {
   "cell_type": "markdown",
   "id": "ab3c64d2",
   "metadata": {
    "pycharm": {
     "name": "#%% md\n"
    }
   },
   "source": [
    "## Creating Static Weights\n",
    "\n",
    "Some computational models focus on the network structure and its influence on network dynamics, thus not modeling neural plasticity for simplicity. In this condition, synaptic weights are fixed and do not change in simulation. They can be stored as a scalar, a matrix or a vector depending on the connection strength and density."
   ]
  },
  {
   "cell_type": "markdown",
   "id": "5ac24926",
   "metadata": {
    "pycharm": {
     "name": "#%% md\n"
    }
   },
   "source": [
    "### 1. Storing weights with a scalar\n",
    "\n",
    "If all synaptic weights are designed to be the same, the single weight value can be stored as a scalar in the synpase model to save memory space."
   ]
  },
  {
   "cell_type": "code",
   "execution_count": 2,
   "id": "f9ecb76d",
   "metadata": {
    "pycharm": {
     "name": "#%%\n"
    }
   },
   "outputs": [],
   "source": [
    "weight = 1."
   ]
  },
  {
   "cell_type": "markdown",
   "id": "9b1e9cba",
   "metadata": {
    "pycharm": {
     "name": "#%% md\n"
    }
   },
   "source": [
    "The `weight` can be stored in a synapse model. When updating the synapse, this `weight` is assigned to all synapses by scalar multiplication. "
   ]
  },
  {
   "cell_type": "markdown",
   "id": "ca4e17d3",
   "metadata": {
    "pycharm": {
     "name": "#%% md\n"
    }
   },
   "source": [
    "### 2. Storing weights with a matrix\n",
    "\n",
    "**When the synaptic connection is dense and the synapses are assigned with different weights**, weights can be stored in a matrix $W$, where $W(i, j)$ refers to the weight of presynaptic neuron $i$ to postsynaptic neuron $j$.\n",
    "\n",
    "BrainPy provides [`brainpy.initialize.Initializer`](../apis/auto/initialize.rst) (or `brainpy.init` for short) for weight initialization as a matrix. The tutorial of `brainpy.init.Initializer` is introduced later."
   ]
  },
  {
   "cell_type": "markdown",
   "id": "997cecd1",
   "metadata": {
    "pycharm": {
     "name": "#%% md\n"
    }
   },
   "source": [
    "For example, a weight matrix can be constructed using `brainpy.init.Uniform`, which initializes weights with a random distribution:"
   ]
  },
  {
   "cell_type": "code",
   "execution_count": 3,
   "id": "6e977e0c",
   "metadata": {
    "pycharm": {
     "name": "#%%\n"
    }
   },
   "outputs": [
    {
     "name": "stdout",
     "output_type": "stream",
     "text": [
      "shape of weights: (16, 9)\n"
     ]
    }
   ],
   "source": [
    "pre_size = (4, 4)\n",
    "post_size = (3, 3)\n",
    "\n",
    "uniform_init = bp.init.Uniform(min_val=0., max_val=1.)\n",
    "weights = uniform_init((pre_size, post_size))\n",
    "print('shape of weights: {}'.format(weights.shape))"
   ]
  },
  {
   "cell_type": "markdown",
   "id": "dd071142",
   "metadata": {
    "pycharm": {
     "name": "#%% md\n"
    }
   },
   "source": [
    "Then, the weights can be assigned to a group of connections with the same shape. For example, an all-to-all connection matrix can be obtained by `brainpy.conn.All2All()` whose tutorial is contained in [Synaptic Connections](synaptic_connections.ipynh):"
   ]
  },
  {
   "cell_type": "code",
   "execution_count": 4,
   "id": "058a578a",
   "metadata": {
    "pycharm": {
     "name": "#%%\n"
    }
   },
   "outputs": [],
   "source": [
    "conn = bp.conn.All2All()\n",
    "conn(pre_size, post_size)\n",
    "conn_mat = conn.requires('conn_mat')  # request the connection matrix"
   ]
  },
  {
   "cell_type": "markdown",
   "id": "fd65d53c",
   "metadata": {
    "pycharm": {
     "name": "#%% md\n"
    }
   },
   "source": [
    "Therefore, `weights[i, j]` refers to the weight of connection `(i, j)`."
   ]
  },
  {
   "cell_type": "code",
   "execution_count": 5,
   "id": "ec98601a",
   "metadata": {
    "pycharm": {
     "name": "#%%\n"
    }
   },
   "outputs": [
    {
     "name": "stdout",
     "output_type": "stream",
     "text": [
      "whether (i, j) is connected: True\n",
      "synaptic weights of (i, j): 0.48069751262664795\n"
     ]
    }
   ],
   "source": [
    "i, j = (2, 3)\n",
    "print('whether (i, j) is connected: {}'.format(conn_mat[i, j]))\n",
    "print('synaptic weights of (i, j): {}'.format(weights[i, j]))"
   ]
  },
  {
   "cell_type": "markdown",
   "id": "b0870177",
   "metadata": {
    "pycharm": {
     "name": "#%% md\n"
    }
   },
   "source": [
    "### 3. Storing weights with a vector\n",
    "\n",
    "**When the synaptic connection is sparse, using a matrix to store synaptic weights is too wasteful.** Instead, the weights can be stored in a vector which has the same length as the synaptic connections.\n",
    "\n",
    "<img src=\"../_static/synapses_and_weights.png\" width=\"400 px\">\n",
    "\n",
    "Weights can be assigned to the corresponding synapses as long as the they are aligned with each other."
   ]
  },
  {
   "cell_type": "code",
   "execution_count": 6,
   "id": "ea8a9701",
   "metadata": {
    "pycharm": {
     "name": "#%%\n"
    }
   },
   "outputs": [
    {
     "name": "stdout",
     "output_type": "stream",
     "text": [
      "presynaptic neuron ids: [0 1 2 3 4]\n",
      "postsynaptic neuron ids: [0 1 2 3 4]\n",
      "synapse ids: [0 1 2 3 4]\n"
     ]
    }
   ],
   "source": [
    "size = 5\n",
    "\n",
    "conn = bp.conn.One2One()\n",
    "conn(size, size)\n",
    "pre_ids, post_ids = conn.requires('pre_ids', 'post_ids')\n",
    "\n",
    "print('presynaptic neuron ids: {}'.format(pre_ids))\n",
    "print('postsynaptic neuron ids: {}'.format(post_ids))\n",
    "print('synapse ids: {}'.format(bm.arange(size)))"
   ]
  },
  {
   "cell_type": "markdown",
   "id": "5396727a",
   "metadata": {
    "pycharm": {
     "name": "#%% md\n"
    }
   },
   "source": [
    "The weight vector is aligned with the synapse vector, i.e. synapse ids :"
   ]
  },
  {
   "cell_type": "code",
   "execution_count": 7,
   "id": "ca329166",
   "metadata": {
    "pycharm": {
     "name": "#%%\n"
    }
   },
   "outputs": [
    {
     "name": "stdout",
     "output_type": "stream",
     "text": [
      "weight of synapse 0: 1.1737329959869385\n",
      "weight of synapse 1: 1.2609302997589111\n",
      "weight of synapse 2: 1.4217698574066162\n",
      "weight of synapse 3: 1.781663179397583\n",
      "weight of synapse 4: 1.1460866928100586\n"
     ]
    }
   ],
   "source": [
    "weights = bm.random.uniform(0, 2, size)\n",
    "\n",
    "for i in range(size):\n",
    "    print('weight of synapse {}: {}'.format(i, weights[i]))"
   ]
  },
  {
   "cell_type": "markdown",
   "id": "08c4f292",
   "metadata": {
    "pycharm": {
     "name": "#%% md\n"
    }
   },
   "source": [
    "#### Conversion from a weight matrix to a weight vector\n",
    "For users who would like to obtain the weight vector from the weight matrix, they can first build a connection according to the non-zero elements in the weight matrix and then slice the weight matrix according to the connection:"
   ]
  },
  {
   "cell_type": "code",
   "execution_count": 8,
   "id": "7cbaa654",
   "metadata": {
    "pycharm": {
     "name": "#%%\n"
    }
   },
   "outputs": [
    {
     "name": "stdout",
     "output_type": "stream",
     "text": [
      "weight matrix: \n",
      "[[1.  1.5 0.  0.5]\n",
      " [0.  2.5 0.  0. ]\n",
      " [2.  0.  3.  0. ]]\n",
      "weight_vector: \n",
      "[1.  1.5 0.5 2.5 2.  3. ]\n"
     ]
    }
   ],
   "source": [
    "weight_mat = np.array([[1., 1.5, 0., 0.5], [0., 2.5, 0., 0.], [2., 0., 3, 0.]])\n",
    "print('weight matrix: \\n{}'.format(weight_mat))\n",
    "\n",
    "conn = bp.conn.MatConn(weight_mat)\n",
    "pre_ids, post_ids = conn.requires('pre_ids', 'post_ids')\n",
    "\n",
    "weight_vec = weight_mat[pre_ids, post_ids]\n",
    "print('weight_vector: \\n{}'.format(weight_vec))"
   ]
  },
  {
   "cell_type": "markdown",
   "id": "6a19ba6d",
   "metadata": {
    "pycharm": {
     "name": "#%% md\n"
    }
   },
   "source": [
    "```{note}\n",
    "However, it is not recommended to use this function when the connection is sparse and of a large scale, because generating the weight matrix will take up too much space.\n",
    "```"
   ]
  },
  {
   "cell_type": "markdown",
   "id": "5b3f2206",
   "metadata": {
    "pycharm": {
     "name": "#%% md\n"
    }
   },
   "source": [
    "## Creating Dynamic Weights\n",
    "\n",
    "Sometimes users may want to realize neural plasticity in a brain model, which requires the synaptic weights to change during simulation. In this condition, weights should be considered as **variables**, thus defined as `brainpy.math.Variable`. If it is packed in a synapse model, weight updating should be realized in the `update(_t, _dt)` function of the synapse model."
   ]
  },
  {
   "cell_type": "code",
   "execution_count": 9,
   "id": "24ef9880",
   "metadata": {
    "pycharm": {
     "name": "#%%\n"
    }
   },
   "outputs": [
    {
     "data": {
      "text/plain": [
       "Variable([1., 1., 1., 1., 1., 1., 1., 1., 1., 1.], dtype=float32)"
      ]
     },
     "execution_count": 9,
     "metadata": {},
     "output_type": "execute_result"
    }
   ],
   "source": [
    "weights = bm.Variable(bm.ones(10))\n",
    "weights"
   ]
  },
  {
   "cell_type": "markdown",
   "id": "32fb2eb1",
   "metadata": {
    "pycharm": {
     "name": "#%% md\n"
    }
   },
   "source": [
    "## Built-in Weight Initializers"
   ]
  },
  {
   "cell_type": "markdown",
   "id": "213e0873",
   "metadata": {
    "pycharm": {
     "name": "#%% md\n"
    }
   },
   "source": [
    "### Base Class: bp.init.Initializer"
   ]
  },
  {
   "cell_type": "markdown",
   "id": "c58d1cce",
   "metadata": {
    "pycharm": {
     "name": "#%% md\n"
    }
   },
   "source": [
    "The base class of weight initializers are [`brainpy.initialize.Initializer`](../apis/auto/initialize.rst), which can be accessed by the shortcut `bp.init`. All initializers, built-in or costumized, should inherit the `Initializer` class. \n",
    "\n",
    "Weight initialization is implemented in the `__call__` function, so that it can be realized automatically when the initializer is called. The `__call__` function has a `shape` parameter that has different meanings in the following two superclasses and returns a **weight matrix**."
   ]
  },
  {
   "cell_type": "markdown",
   "id": "a24b8aa6",
   "metadata": {
    "pycharm": {
     "name": "#%% md\n"
    }
   },
   "source": [
    "### Superclass 1: bp.init.InterLayerInitializer"
   ]
  },
  {
   "cell_type": "markdown",
   "id": "8ca9519d",
   "metadata": {
    "pycharm": {
     "name": "#%% md\n"
    }
   },
   "source": [
    "The [`InterLayerInitializer`](../apis/auto/initialize.rst) is an abstract subclass of `Initializer`. Its subclasses initialize the weights between two fully connected layers. The `shape` parameter of the `__call__` function should be a 2-element tuple $(m, n)$, which refers to the number of presynaptic neurons $m$ and of postsynaptic neurons $n$. The output of the `__call__` function is a `bp.math.ndarray` with the shape of $(m, n)$, where the value at $(i, j)$ is the initialized weight of the presynaptic neuron $i$ to postsynpatic neuron $j$."
   ]
  },
  {
   "cell_type": "markdown",
   "id": "f35f412e",
   "metadata": {
    "pycharm": {
     "name": "#%% md\n"
    }
   },
   "source": [
    "### Superclass 2: bp.init.IntraLayerInitializer"
   ]
  },
  {
   "cell_type": "markdown",
   "id": "3849330b",
   "metadata": {
    "pycharm": {
     "name": "#%% md\n"
    }
   },
   "source": [
    "The [`IntraLayerInitializer`](../apis/auto/initialize.rst) is also an abstract subclass of `Initializer`. Its subclasses initialize the weights within a single layer. The `shape` parameter of the `__call__` function refers to the the structure of the neural population $(n_1, n_2, ..., n_d)$. The `__call__` function returns a 2-D `bp.math.ndarray` with the shape of $(\\prod_{k=1}^d n_k, \\prod_{k=1}^d n_k)$. In the 2-D array, the value at $(i, j)$ is the initialized weight of neuron $i$ to neuron $j$ of the flattened neural sequence."
   ]
  },
  {
   "cell_type": "markdown",
   "id": "03ff759c",
   "metadata": {
    "pycharm": {
     "name": "#%% md\n"
    }
   },
   "source": [
    "### 1. Built-In Regular Initializers"
   ]
  },
  {
   "cell_type": "markdown",
   "id": "b4174c05",
   "metadata": {
    "pycharm": {
     "name": "#%% md\n"
    }
   },
   "source": [
    "Regular initializers all belong to `InterLayerInitializer` and initialize the connection weights between two layers with a regular pattern. There are `ZeroInit`, `OneInit`, and `Identity` initializers in built-in regular initializers. Here we show how to use the `OneInit` initializer. The remaining two classes are used in a similar way."
   ]
  },
  {
   "cell_type": "code",
   "execution_count": 10,
   "id": "9ffc2667",
   "metadata": {
    "pycharm": {
     "name": "#%%\n"
    }
   },
   "outputs": [],
   "source": [
    "# visualization\n",
    "def mat_visualize(matrix, cmap=plt.cm.get_cmap('coolwarm')):\n",
    "    im = plt.matshow(matrix, cmap=cmap)\n",
    "    plt.colorbar(mappable=im, shrink=0.8, aspect=15)\n",
    "    plt.show()"
   ]
  },
  {
   "cell_type": "code",
   "execution_count": 11,
   "id": "74de43f3",
   "metadata": {
    "pycharm": {
     "name": "#%%\n"
    }
   },
   "outputs": [
    {
     "name": "stdout",
     "output_type": "stream",
     "text": [
      "JaxArray([[2.5, 2.5, 2.5, 2.5, 2.5, 2.5],\n",
      "          [2.5, 2.5, 2.5, 2.5, 2.5, 2.5],\n",
      "          [2.5, 2.5, 2.5, 2.5, 2.5, 2.5],\n",
      "          [2.5, 2.5, 2.5, 2.5, 2.5, 2.5],\n",
      "          [2.5, 2.5, 2.5, 2.5, 2.5, 2.5]], dtype=float32)\n"
     ]
    }
   ],
   "source": [
    "# 'OneInit' initializes all the weights with the same value\n",
    "shape = (5, 6)\n",
    "one_init = bp.init.OneInit(value=2.5)\n",
    "weights = one_init(shape)\n",
    "print(weights)"
   ]
  },
  {
   "cell_type": "markdown",
   "id": "5330484f",
   "metadata": {
    "pycharm": {
     "name": "#%% md\n"
    }
   },
   "source": [
    "### 2. Built-In Random Initializers"
   ]
  },
  {
   "cell_type": "markdown",
   "id": "966110e9",
   "metadata": {
    "pycharm": {
     "name": "#%% md\n"
    }
   },
   "source": [
    "Random initializers all belong to `InterLayerInitializer` and initialize the connection weights between two layers with a random distribution. There are `Normal`, `Uniform`, `Orthogonal` and other initializers in built-in regular initializers. Here we show how to use the `Normal` and `Uniform` initializers."
   ]
  },
  {
   "cell_type": "markdown",
   "id": "1328b075",
   "metadata": {
    "pycharm": {
     "name": "#%% md\n"
    }
   },
   "source": [
    "**bp.init.Normal**\n",
    "\n",
    "This initializer initializes the weights with a normal distribution. The variance of the distribution changes according to the `scale` parameter. In the following example, 10 presynaptic neurons are fully connected to 20 postsynaptic neurons with random weight values:"
   ]
  },
  {
   "cell_type": "code",
   "execution_count": 15,
   "id": "740a351d",
   "metadata": {
    "pycharm": {
     "name": "#%%\n"
    }
   },
   "outputs": [
    {
     "data": {
      "image/png": "[encoded data removed]",
      "text/plain": [
       "<Figure size 576x288 with 2 Axes>"
      ]
     },
     "metadata": {
      "needs_background": "light"
     },
     "output_type": "display_data"
    }
   ],
   "source": [
    "shape = (10, 20)\n",
    "normal_init = bp.init.Normal(scale=1.0)\n",
    "weights = normal_init(shape)\n",
    "mat_visualize(weights)"
   ]
  },
  {
   "cell_type": "markdown",
   "id": "e7e05dcb",
   "metadata": {
    "pycharm": {
     "name": "#%% md\n"
    }
   },
   "source": [
    "**bp.init.Uniform**\n",
    "\n",
    "This initializer resembles `brainpy.init.Normal` but initializes the weights with a uniform distribution."
   ]
  },
  {
   "cell_type": "code",
   "execution_count": 16,
   "id": "b8f46814",
   "metadata": {
    "pycharm": {
     "name": "#%%\n"
    }
   },
   "outputs": [
    {
     "data": {
      "image/png": "[encoded data removed]",
      "text/plain": [
       "<Figure size 576x288 with 2 Axes>"
      ]
     },
     "metadata": {
      "needs_background": "light"
     },
     "output_type": "display_data"
    }
   ],
   "source": [
    "uniform_init = bp.init.Uniform(min_val=0., max_val=1.)\n",
    "weights = uniform_init(shape)\n",
    "mat_visualize(weights)"
   ]
  },
  {
   "cell_type": "markdown",
   "id": "53af0205",
   "metadata": {
    "pycharm": {
     "name": "#%% md\n"
    }
   },
   "source": [
    "### 3. Built-In Decay Initializers"
   ]
  },
  {
   "cell_type": "markdown",
   "id": "99e2fd32",
   "metadata": {
    "pycharm": {
     "name": "#%% md\n"
    }
   },
   "source": [
    "Decay initializers all belong to `IntraLayerInitializer` and initialize the connection weights within a layer with a decay function according to the neural distance. There are `GaussianDecay` and `DOGDecay` initializers in built-in decay initializers. Below are examples of how to use them."
   ]
  },
  {
   "cell_type": "markdown",
   "id": "d4bc2acd",
   "metadata": {
    "pycharm": {
     "name": "#%% md\n"
    }
   },
   "source": [
    "**brainpy.training.initialize.GaussianDecay**\n",
    "\n",
    "This initializer creates a Gaussian connectivity pattern within a population of neurons, where the weights decay with a gaussian function.\n",
    "Specifically, for any pair of neurons $ (i, j) $, the weight is computed as\n",
    "\n",
    "$$\n",
    "w(i, j) = w_{max} \\cdot \\exp(-\\frac{\\sum_{k=1}^n |v_k^i - v_k^j|^2 }{2\\sigma^2})\n",
    "$$\n",
    "\n",
    "where $ v_k^i $ is the $ i $-th neuron's encoded value (position) at dimension $ k $.\n",
    "\n",
    "The example below is a neural population with the size of $ 5 \\times 5 $. Note that this shape is the structure of the target neural population, not the size of presynaptic and postsynaptic neurons."
   ]
  },
  {
   "cell_type": "code",
   "execution_count": 39,
   "id": "9e934691",
   "metadata": {
    "pycharm": {
     "name": "#%%\n"
    }
   },
   "outputs": [
    {
     "name": "stdout",
     "output_type": "stream",
     "text": [
      "shape of weights: (25, 25)\n"
     ]
    }
   ],
   "source": [
    "size = (5, 5)\n",
    "gaussian_init = bp.init.GaussianDecay(sigma=2., max_w=10., include_self=True)\n",
    "weights = gaussian_init(size)\n",
    "print('shape of weights: {}'.format(weights.shape))"
   ]
  },
  {
   "cell_type": "markdown",
   "id": "25221a9f",
   "metadata": {
    "pycharm": {
     "name": "#%% md\n"
    }
   },
   "source": [
    "Self-connections are created if `include_self=True`. The connection weights of neuron $i$ with others are stored in row $i$ of `weights`. For instance, the connection weights of neuron(1, 2) to other neurons are stored in `weights[7]` ($5 \\times 1 +2 = 7$). After reshaping, the weights are:"
   ]
  },
  {
   "cell_type": "code",
   "execution_count": 40,
   "id": "bab70873",
   "metadata": {
    "pycharm": {
     "name": "#%%\n"
    }
   },
   "outputs": [
    {
     "data": {
      "image/png": "[encoded data removed]",
      "text/plain": [
       "<Figure size 288x288 with 2 Axes>"
      ]
     },
     "metadata": {
      "needs_background": "light"
     },
     "output_type": "display_data"
    }
   ],
   "source": [
    "mat_visualize(weights[0].reshape(size), cmap=plt.cm.get_cmap('Reds'))"
   ]
  },
  {
   "cell_type": "markdown",
   "id": "7d558517",
   "metadata": {
    "pycharm": {
     "name": "#%% md\n"
    }
   },
   "source": [
    "**brainpy.training.initialize.DOGDecay**\n",
    "\n",
    "This initializer creates a Difference-Of-Gaussian (DOG) connectivity pattern within a population of neurons. Specifically, for the given pair of neurons $ (i, j) $, the weight between them is computed as\n",
    "\n",
    "$$\n",
    "w(i, j) = w_{max}^+ \\cdot \\exp(-\\frac{\\sum_{k=1}^n |v_k^i - v_k^j|^2}{2\\sigma_+^2}) - w_{max}^- \\cdot \\exp(-\\frac{\\sum_{k=1}^n |v_k^i - v_k^j|^2}{2\\sigma_-^2})\n",
    "$$\n",
    "\n",
    "where $ v_k^i $ is the $ i $-th neuron's encoded value (position) at dimension $ k $.\n",
    "\n",
    "<center><img src=\"../_static/DOGDecay.png\" width=\"300 px\"></center>\n",
    "\n",
    "The example below is a neural population with the size of $ 10 \\times 12 $:"
   ]
  },
  {
   "cell_type": "code",
   "execution_count": 20,
   "id": "470b71ac",
   "metadata": {
    "pycharm": {
     "name": "#%%\n"
    }
   },
   "outputs": [
    {
     "name": "stdout",
     "output_type": "stream",
     "text": [
      "shape of weights: (120, 120)\n"
     ]
    }
   ],
   "source": [
    "size = (10, 12)\n",
    "dog_init = bp.init.DOGDecay(sigmas=(1., 3.), max_ws=(10., 5.), min_w=0.1, include_self=True)\n",
    "weights = dog_init(size)\n",
    "print('shape of weights: {}'.format(weights.shape))"
   ]
  },
  {
   "cell_type": "markdown",
   "id": "21a51689",
   "metadata": {
    "pycharm": {
     "name": "#%% md\n"
    }
   },
   "source": [
    "Weights smaller than `min_w` will not be created. `min_w` $ = 0.005 \\times min( $ `max_ws` $ ) $ if it is not assigned with a value.\n",
    "The organization of `weights` is similar to that in the `GaussianDecay` initializer. For instance, the connection weights of neuron (3, 4) to other neurons after reshaping are shown as below:"
   ]
  },
  {
   "cell_type": "code",
   "execution_count": 33,
   "id": "06b14d81",
   "metadata": {
    "pycharm": {
     "name": "#%%\n"
    }
   },
   "outputs": [
    {
     "data": {
      "image/png": "[encoded data removed]",
      "text/plain": [
       "<Figure size 345.6x288 with 2 Axes>"
      ]
     },
     "metadata": {
      "needs_background": "light"
     },
     "output_type": "display_data"
    }
   ],
   "source": [
    "mat_visualize(weights[3*12+4].reshape(size), cmap=plt.cm.get_cmap('Reds'))"
   ]
  },
  {
   "cell_type": "markdown",
   "id": "1ced449e",
   "metadata": {
    "pycharm": {
     "name": "#%% md\n"
    }
   },
   "source": [
    "## Customizing your initializers"
   ]
  },
  {
   "cell_type": "markdown",
   "id": "72862e34",
   "metadata": {
    "pycharm": {
     "name": "#%% md\n"
    }
   },
   "source": [
    "BrainPy also allows users to customize the weight initializers of their own. When customizing a initializer, users should follow the instructions below:\n",
    "- Your initializer should inherit `brainpy.initialize.Initializer`.\n",
    "- Override the `__call__` funtion, to which the `shape` parameter should be given.\n",
    "\n",
    "Here is an example of creating an inter-layer initializer that initialize the weights as follows:\n",
    "\n",
    "$$\n",
    "w(i, j) = max(w_{max} - \\sigma |v_i - v_j|, 0)\n",
    "$$"
   ]
  },
  {
   "cell_type": "code",
   "execution_count": 35,
   "id": "e85bb54b",
   "metadata": {
    "pycharm": {
     "name": "#%%\n"
    }
   },
   "outputs": [],
   "source": [
    "class LinearDecay(bp.init.InterLayerInitializer):\n",
    "    def __init__(self, max_w, sigma=1.):\n",
    "        self.max_w = max_w\n",
    "        self.sigma = sigma\n",
    "    \n",
    "    def __call__(self, shape, dtype=None):\n",
    "        mat = bp.math.zeros(shape, dtype=dtype)\n",
    "        n_pre, n_post = shape\n",
    "        seq = np.arange(n_pre)\n",
    "        current_w = self.max_w\n",
    "        \n",
    "        for i in range(max(n_pre, n_post)):\n",
    "            if current_w <= 0:\n",
    "                break\n",
    "            seq_plus = ((seq + i) >= 0) & ((seq + i) < n_post)\n",
    "            seq_minus = ((seq - i) >= 0) & ((seq - i) < n_post)\n",
    "            mat[seq[seq_plus], (seq + i)[seq_plus]] = current_w\n",
    "            mat[seq[seq_minus], (seq - i)[seq_minus]] = current_w\n",
    "            current_w -= self.sigma\n",
    "        \n",
    "        return mat"
   ]
  },
  {
   "cell_type": "code",
   "execution_count": 36,
   "id": "406361a3",
   "metadata": {
    "pycharm": {
     "name": "#%%\n"
    }
   },
   "outputs": [
    {
     "data": {
      "image/png": "[encoded data removed]",
      "text/plain": [
       "<Figure size 432x288 with 2 Axes>"
      ]
     },
     "metadata": {
      "needs_background": "light"
     },
     "output_type": "display_data"
    }
   ],
   "source": [
    "shape = (10, 15)\n",
    "lin_init = LinearDecay(max_w=5, sigma=1.)\n",
    "weights = lin_init(shape)\n",
    "mat_visualize(weights, cmap=plt.cm.get_cmap('Reds'))"
   ]
  },
  {
   "cell_type": "markdown",
   "id": "e393c1be",
   "metadata": {
    "pycharm": {
     "name": "#%% md\n"
    }
   },
   "source": [
    "```{note}\n",
    "Note that customized initializers, or ``brainpy.init.Initializer``, is not limited to returning a matrix. Although currently all the built-in initializers use matrix to store weights, they can also be designed to return a vector to store synaptic weights.\n",
    "```"
   ]
  },
  {
   "cell_type": "code",
   "execution_count": null,
   "id": "a863067e",
   "metadata": {
    "pycharm": {
     "name": "#%%\n"
    }
   },
   "outputs": [],
   "source": []
  }
 ],
 "metadata": {
  "kernelspec": {
   "display_name": "Python 3 (ipykernel)",
   "language": "python",
   "name": "python3"
  },
  "language_info": {
   "codemirror_mode": {
    "name": "ipython",
    "version": 3
   },
   "file_extension": ".py",
   "mimetype": "text/x-python",
   "name": "python",
   "nbconvert_exporter": "python",
   "pygments_lexer": "ipython3",
   "version": "3.9.7"
  }
 },
 "nbformat": 4,
 "nbformat_minor": 5
}
