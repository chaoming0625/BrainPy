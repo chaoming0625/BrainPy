{
 "cells": [
  {
   "cell_type": "markdown",
   "metadata": {
    "collapsed": true,
    "pycharm": {
     "name": "#%% md\n"
    }
   },
   "source": [
    "# Numerical Solvers for Delay Differential Equations"
   ]
  },
  {
   "cell_type": "markdown",
   "metadata": {
    "pycharm": {
     "name": "#%% md\n"
    }
   },
   "source": [
    "@[Chaoming Wang](https://github.com/chaoming0625)"
   ]
  },
  {
   "cell_type": "markdown",
   "source": [
    "In real world systems, **delay** is very often encountered in many practical systems, such as automatic control, biology, economics and long transmission lines. The **delayed differential equation (DDEs)** is used to describe these dynamical systems.\n",
    "\n",
    "Delay differential equations (DDEs) are a type of differential equation in which the derivative at a certain time is given in terms of the values of the function at previous times.\n",
    "\n",
    "Let's take delay ODEs as the example. The simplest **constant delay** equations have the form\n",
    "\n",
    "$$\n",
    "y'(t) = f(t, y(t), y(t-\\tau_1), y(t-\\tau_2),\\ldots, y(t-\\tau_k))\n",
    "$$\n",
    "\n",
    "where the time delays (lags) $\\tau_j$ are positive constants.\n",
    "\n",
    "For **neutral type DDE** delays appear in derivative terms,\n",
    "\n",
    "$$\n",
    "y'(t) = f(t, y(t), y'(t-\\tau_1), y'(t-\\tau_2),\\ldots, y'(t-\\tau_k))\n",
    "$$\n",
    "\n",
    "More generally, **state dependent** delays may depend on the solution, that is $\\tau_i = \\tau_i (t,y(t))$."
   ],
   "metadata": {
    "collapsed": false,
    "pycharm": {
     "name": "#%% md\n"
    }
   }
  },
  {
   "cell_type": "markdown",
   "source": [
    "In BrainPy, we support delay differential equations based on delay variables. Specifically, for state-dependent delays, we have:\n",
    "\n",
    "- [brainpy.math.TimeDelay](../apis/auto/math/generated/brainpy.math.delay_vars.TimeDelay.rst)\n",
    "- [brainpy.math.LengthDelay](../apis/auto/math/generated/brainpy.math.delay_vars.LengthDelay.rst)\n",
    "\n",
    "For neutral-type delays, we use:\n",
    "\n",
    "- [brainpy.math.NeuTimeDelay](../apis/auto/math/generated/brainpy.math.delay_vars.NeuTimeDelay.rst)\n",
    "- [brainpy.math.NeuLenDelay](../apis/auto/math/generated/brainpy.math.delay_vars.NeuLenDelay.rst)"
   ],
   "metadata": {
    "collapsed": false,
    "pycharm": {
     "name": "#%% md\n"
    }
   }
  },
  {
   "cell_type": "code",
   "execution_count": 1,
   "outputs": [],
   "source": [
    "import brainpy as bp\n",
    "import brainpy.math as bm\n",
    "\n",
    "import matplotlib.pyplot as plt"
   ],
   "metadata": {
    "collapsed": false,
    "pycharm": {
     "name": "#%%\n"
    }
   }
  },
  {
   "cell_type": "markdown",
   "source": [
    "## Delay variables"
   ],
   "metadata": {
    "collapsed": false,
    "pycharm": {
     "name": "#%% md\n"
    }
   }
  },
  {
   "cell_type": "markdown",
   "source": [
    "For an ODE system, the numerical methods need to know its initial condition $y(t_0)=y_0$ and its derivative rule $y'(t_0) = y'_0$. However, for DDEs, it is not enough to give a set of initial values for the function and its derivatives at $t_0$, but one must give a set of functions to provide the historical values for  $t_0 - max(\\tau) \\leq t \\leq t_0$."
   ],
   "metadata": {
    "collapsed": false,
    "pycharm": {
     "name": "#%% md\n"
    }
   }
  },
  {
   "cell_type": "markdown",
   "source": [
    "Therefore, you need some delay variables to wrap the variable delays. ``brainpy.math.TimeDelay`` can be used to define delay variables which depend on states, and ``brainpy.math.NeuTimeDelay`` is used to define delay variables which depend on the derivative."
   ],
   "metadata": {
    "collapsed": false,
    "pycharm": {
     "name": "#%% md\n"
    }
   }
  },
  {
   "cell_type": "code",
   "execution_count": 2,
   "outputs": [
    {
     "name": "stderr",
     "output_type": "stream",
     "text": [
      "WARNING:absl:No GPU/TPU found, falling back to CPU. (Set TF_CPP_MIN_LOG_LEVEL=0 and rerun for more info.)\n"
     ]
    }
   ],
   "source": [
    "d = bm.TimeDelay(bm.zeros(2), delay_len=10, dt=1, t0=0, before_t0=lambda t: t)"
   ],
   "metadata": {
    "collapsed": false,
    "pycharm": {
     "name": "#%%\n"
    }
   }
  },
  {
   "cell_type": "code",
   "execution_count": 3,
   "outputs": [
    {
     "data": {
      "text/plain": "DeviceArray([0., 0.], dtype=float32)"
     },
     "execution_count": 3,
     "metadata": {},
     "output_type": "execute_result"
    }
   ],
   "source": [
    "d(0.)"
   ],
   "metadata": {
    "collapsed": false,
    "pycharm": {
     "name": "#%%\n"
    }
   }
  },
  {
   "cell_type": "code",
   "execution_count": 4,
   "outputs": [
    {
     "data": {
      "text/plain": "DeviceArray([-0.5, -0.5], dtype=float32)"
     },
     "execution_count": 4,
     "metadata": {},
     "output_type": "execute_result"
    }
   ],
   "source": [
    "d(-0.5)"
   ],
   "metadata": {
    "collapsed": false,
    "pycharm": {
     "name": "#%%\n"
    }
   }
  },
  {
   "cell_type": "markdown",
   "source": [
    "Request a time beyond $(max\\_delay, t_0)$ will cause an error."
   ],
   "metadata": {
    "collapsed": false,
    "pycharm": {
     "name": "#%% md\n"
    }
   }
  },
  {
   "cell_type": "code",
   "execution_count": 5,
   "outputs": [
    {
     "name": "stderr",
     "output_type": "stream",
     "text": [
      "ERROR:absl:Outside call <jax.experimental.host_callback._CallbackWrapper object at 0x0000025616D24BE0> threw exception \n",
      "!!! Error in TimeDelay: \n",
      "The request time should be less than the current time 0. But we got 0.10000000149011612 > 0.\n"
     ]
    },
    {
     "name": "stdout",
     "output_type": "stream",
     "text": [
      "\n",
      "!!! Error in TimeDelay: \n",
      "The request time should be less than the current time 0. But we got 0.10000000149011612 > 0\n"
     ]
    }
   ],
   "source": [
    "try:\n",
    "    d(0.1)\n",
    "except Exception as e:\n",
    "    print(e)"
   ],
   "metadata": {
    "collapsed": false,
    "pycharm": {
     "name": "#%%\n"
    }
   }
  },
  {
   "cell_type": "markdown",
   "source": [
    "## Delay ODEs"
   ],
   "metadata": {
    "collapsed": false,
    "pycharm": {
     "name": "#%% md\n"
    }
   }
  },
  {
   "cell_type": "markdown",
   "source": [
    "Here we illustrate how to make numerical integration of delay ODEs with several examples. Before that, we define a general function to simulate a delay ODE function."
   ],
   "metadata": {
    "collapsed": false,
    "pycharm": {
     "name": "#%% md\n"
    }
   }
  },
  {
   "cell_type": "code",
   "execution_count": 6,
   "metadata": {
    "pycharm": {
     "name": "#%%\n"
    }
   },
   "outputs": [],
   "source": [
    "def delay_odeint(duration, eq, args=None, inits=None,\n",
    "                 state_delays=None, neutral_delays=None,\n",
    "                 monitors=('x',), method='euler', dt=0.1):\n",
    "    # define integrators of ODEs based on `brainpy.odeint`\n",
    "    dde = bp.odeint(eq,\n",
    "                    state_delays=state_delays,\n",
    "                    neutral_delays=neutral_delays,\n",
    "                    method=method)\n",
    "    # define IntegratorRunner\n",
    "    runner = bp.integrators.IntegratorRunner(dde,\n",
    "                                             args=args,\n",
    "                                             monitors=monitors,\n",
    "                                             dt=dt,\n",
    "                                             inits=inits)\n",
    "    runner.run(duration)\n",
    "    return runner.mon"
   ]
  },
  {
   "cell_type": "markdown",
   "source": [
    "#### Example #1: First-order DDE with one constant delay and a constant initial history function"
   ],
   "metadata": {
    "collapsed": false,
    "pycharm": {
     "name": "#%% md\n"
    }
   }
  },
  {
   "cell_type": "markdown",
   "source": [
    "Let the following DDE be given:\n",
    "\n",
    "$$\n",
    "y'(t)=-y(t-1)\n",
    "$$\n",
    "\n",
    "where the delay is 1 s. the example compares the solutions of three different cases using three different constant history functions:\n",
    "\n",
    "- Case #1: $\\phi(t)=-1$\n",
    "- Case #2: $\\phi(t)=0$\n",
    "- Cas3 #3: $\\phi(t)=1$"
   ],
   "metadata": {
    "collapsed": false,
    "pycharm": {
     "name": "#%% md\n"
    }
   }
  },
  {
   "cell_type": "code",
   "execution_count": 7,
   "outputs": [],
   "source": [
    "def equation(x, t, xdelay):\n",
    "    return -xdelay(t-1)\n",
    "\n",
    "case1_delay = bm.TimeDelay(bm.zeros((1,)), 1., before_t0=-1., interp_method='round')\n",
    "case2_delay = bm.TimeDelay(bm.zeros((1,)), 1., before_t0=0., interp_method='round')\n",
    "case3_delay = bm.TimeDelay(bm.zeros((1,)), 1., before_t0=1., interp_method='round')"
   ],
   "metadata": {
    "collapsed": false,
    "pycharm": {
     "name": "#%%\n"
    }
   }
  },
  {
   "cell_type": "code",
   "execution_count": 8,
   "metadata": {
    "scrolled": false,
    "pycharm": {
     "name": "#%%\n"
    }
   },
   "outputs": [
    {
     "data": {
      "text/plain": "  0%|          | 0/200 [00:00<?, ?it/s]",
      "application/vnd.jupyter.widget-view+json": {
       "version_major": 2,
       "version_minor": 0,
       "model_id": "0d2081ea69f7428ebdd6217f24694472"
      }
     },
     "metadata": {},
     "output_type": "display_data"
    },
    {
     "data": {
      "text/plain": "  0%|          | 0/200 [00:00<?, ?it/s]",
      "application/vnd.jupyter.widget-view+json": {
       "version_major": 2,
       "version_minor": 0,
       "model_id": "079032fcc344406fac61e45c3ae7b589"
      }
     },
     "metadata": {},
     "output_type": "display_data"
    },
    {
     "data": {
      "text/plain": "  0%|          | 0/200 [00:00<?, ?it/s]",
      "application/vnd.jupyter.widget-view+json": {
       "version_major": 2,
       "version_minor": 0,
       "model_id": "7720e8a90b5e4541b8db1a2fc2449f68"
      }
     },
     "metadata": {},
     "output_type": "display_data"
    }
   ],
   "source": [
    "case1 = delay_odeint(20., equation,  args={'xdelay': case1_delay},\n",
    "                     state_delays={'x': case1_delay}) # delay for variable \"x\"\n",
    "case2 = delay_odeint(20., equation, args={'xdelay': case2_delay}, state_delays={'x': case2_delay})\n",
    "case3 = delay_odeint(20., equation, args={'xdelay': case3_delay}, state_delays={'x': case3_delay})"
   ]
  },
  {
   "cell_type": "code",
   "execution_count": 9,
   "metadata": {
    "pycharm": {
     "name": "#%%\n"
    }
   },
   "outputs": [
    {
     "data": {
      "text/plain": "<Figure size 432x288 with 3 Axes>",
      "image/png": "[encoded data removed]"
     },
     "metadata": {
      "needs_background": "light"
     },
     "output_type": "display_data"
    }
   ],
   "source": [
    "fig, axs = plt.subplots(3, 1)\n",
    "fig.tight_layout(rect=[0, 0, 1, 0.95], pad=3.0)\n",
    "fig.suptitle(\"$y'(t)=-y(t-1)$\")\n",
    "\n",
    "axs[0].plot(case1.ts, case1.x, color='red', linewidth=1)\n",
    "axs[0].set_title('$ihf(t)=-1$')\n",
    " \n",
    "axs[1].plot(case2.ts, case2.x, color='red', linewidth=1)\n",
    "axs[1].set_title('$ihf(t)=0$')\n",
    "\n",
    "axs[2].plot(case3.ts, case3.x, color='red', linewidth=1)\n",
    "axs[2].set_title('$ihf(t)=1$')\n",
    "\n",
    "plt.show()"
   ]
  },
  {
   "cell_type": "markdown",
   "metadata": {
    "pycharm": {
     "name": "#%% md\n"
    }
   },
   "source": [
    "#### Example #2: First-order DDE with one constant delay and a non constant initial history function"
   ]
  },
  {
   "cell_type": "markdown",
   "metadata": {
    "pycharm": {
     "name": "#%% md\n"
    }
   },
   "source": [
    "Let the following DDE be given:\n",
    "\n",
    "$$\n",
    "y'(t)=-y(t-2)\n",
    "$$\n",
    "\n",
    "where the delay is 2 s; the example compares the solutions of four different cases using two different non constant history functions and two different intervals of $t$:\n",
    "\n",
    "- Case #1: $\\phi(t)=e^{-t} - 1, t \\in [0, 4]$\n",
    "- Case #2: $\\phi(t)=e^{t} - 1, t \\in [0, 4]$\n",
    "- Case #3: $\\phi(t)=e^{-t} - 1, t \\in [0, 60]$\n",
    "- Case #4: $\\phi(t)=e^{t} - 1, t \\in [0, 60]$"
   ]
  },
  {
   "cell_type": "code",
   "execution_count": 10,
   "metadata": {
    "pycharm": {
     "name": "#%%\n"
    }
   },
   "outputs": [],
   "source": [
    "def eq(x, t, xdelay): \n",
    "    return -xdelay(t-2)\n",
    "\n",
    "delay1 = bm.TimeDelay(bm.zeros(1), 2., before_t0=lambda t: bm.exp(-t)-1, dt=0.01, interp_method='round')\n",
    "delay2 = bm.TimeDelay(bm.zeros(1), 2., before_t0=lambda t: bm.exp(t)-1, dt=0.01, interp_method='round')\n",
    "delay3 = bm.TimeDelay(bm.zeros(1), 2., before_t0=lambda t: bm.exp(-t)-1, dt=0.01, interp_method='round')\n",
    "delay4 = bm.TimeDelay(bm.zeros(1), 2., before_t0=lambda t: bm.exp(t)-1, dt=0.01, interp_method='round')"
   ]
  },
  {
   "cell_type": "code",
   "execution_count": 11,
   "metadata": {
    "scrolled": false,
    "pycharm": {
     "name": "#%%\n"
    }
   },
   "outputs": [
    {
     "data": {
      "text/plain": "  0%|          | 0/400 [00:00<?, ?it/s]",
      "application/vnd.jupyter.widget-view+json": {
       "version_major": 2,
       "version_minor": 0,
       "model_id": "08b3fc7b72a84e9287068a461a511e95"
      }
     },
     "metadata": {},
     "output_type": "display_data"
    },
    {
     "data": {
      "text/plain": "  0%|          | 0/400 [00:00<?, ?it/s]",
      "application/vnd.jupyter.widget-view+json": {
       "version_major": 2,
       "version_minor": 0,
       "model_id": "56c1e34ceba54ae19ed0e8bad007d42b"
      }
     },
     "metadata": {},
     "output_type": "display_data"
    },
    {
     "data": {
      "text/plain": "  0%|          | 0/6000 [00:00<?, ?it/s]",
      "application/vnd.jupyter.widget-view+json": {
       "version_major": 2,
       "version_minor": 0,
       "model_id": "f01467edec334f39b61267ce6f2beed3"
      }
     },
     "metadata": {},
     "output_type": "display_data"
    },
    {
     "data": {
      "text/plain": "  0%|          | 0/6000 [00:00<?, ?it/s]",
      "application/vnd.jupyter.widget-view+json": {
       "version_major": 2,
       "version_minor": 0,
       "model_id": "b07dba29d7304eacb2084ca75f7405a0"
      }
     },
     "metadata": {},
     "output_type": "display_data"
    }
   ],
   "source": [
    "case1 = delay_odeint(4., eq, args={'xdelay': delay1}, state_delays={'x': delay1}, dt=0.01)\n",
    "case2 = delay_odeint(4., eq, args={'xdelay': delay2}, state_delays={'x': delay2}, dt=0.01)\n",
    "case3 = delay_odeint(60., eq, args={'xdelay': delay3}, state_delays={'x': delay3}, dt=0.01)\n",
    "case4 = delay_odeint(60., eq, args={'xdelay': delay4}, state_delays={'x': delay4}, dt=0.01)"
   ]
  },
  {
   "cell_type": "code",
   "execution_count": 12,
   "metadata": {
    "pycharm": {
     "name": "#%%\n"
    }
   },
   "outputs": [
    {
     "data": {
      "text/plain": "<Figure size 432x288 with 4 Axes>",
      "image/png": "[encoded data removed]"
     },
     "metadata": {
      "needs_background": "light"
     },
     "output_type": "display_data"
    }
   ],
   "source": [
    "fig, axs = plt.subplots(2, 2)\n",
    "fig.tight_layout(rect=[0, 0, 1, 0.95], pad=3.0)\n",
    "fig.suptitle(\"$y'(t)=-y(t-2)$\")\n",
    "\n",
    "axs[0, 0].plot(case1.ts, case1.x, color='red', linewidth=1)\n",
    "axs[0, 0].set_title('$ihf(t)=e^{-t} - 1, t \\in [0, 4]$')\n",
    "\n",
    "axs[0, 1].plot(case2.ts, case2.x, color='red', linewidth=1)\n",
    "axs[0, 1].set_title('$ihf(t)=e^t - 1, t \\in [0, 4]$')\n",
    "\n",
    "axs[1, 0].plot(case3.ts, case3.x, color='red', linewidth=1)\n",
    "axs[1, 0].set_title('$ihf(t)=e^{-t} - 1, t \\in [0, 60]$')\n",
    "\n",
    "axs[1, 1].plot(case4.ts, case4.x, color='red', linewidth=1)\n",
    "axs[1, 1].set_title('$ihf(t)=e^t - 1, t \\in [0, 60]$')\n",
    "\n",
    "plt.show()"
   ]
  },
  {
   "cell_type": "markdown",
   "metadata": {
    "pycharm": {
     "name": "#%% md\n"
    }
   },
   "source": [
    "#### Example #3: First-order DDE with two constant delays and a constant initial history function"
   ]
  },
  {
   "cell_type": "markdown",
   "metadata": {
    "pycharm": {
     "name": "#%% md\n"
    }
   },
   "source": [
    "Let the following DDE be given:\n",
    "\n",
    "$$\n",
    "y'(t)=-y(t - 1) + 0.3 y(t - 2)\n",
    "$$\n",
    "\n",
    "where the delays are two and are both constants equal to 1s and 2s respectively; The initial historical function is also constant and is $\\phi(t)=1$."
   ]
  },
  {
   "cell_type": "code",
   "execution_count": 13,
   "metadata": {
    "pycharm": {
     "name": "#%%\n"
    }
   },
   "outputs": [
    {
     "data": {
      "text/plain": "  0%|          | 0/1000 [00:00<?, ?it/s]",
      "application/vnd.jupyter.widget-view+json": {
       "version_major": 2,
       "version_minor": 0,
       "model_id": "c8ac95eaa36f45ecad3480276122edec"
      }
     },
     "metadata": {},
     "output_type": "display_data"
    }
   ],
   "source": [
    "def eq(x, t): \n",
    "    return -delay(t-1) + 0.3*delay(t-2)\n",
    "\n",
    "delay = bm.TimeDelay(bm.ones(1), 2., before_t0=1., dt=0.01, interp_method='round')\n",
    "mon = delay_odeint(10., eq, inits=[1.], state_delays={'x': delay}, dt=0.01)"
   ]
  },
  {
   "cell_type": "code",
   "execution_count": 14,
   "metadata": {
    "pycharm": {
     "name": "#%%\n"
    }
   },
   "outputs": [
    {
     "data": {
      "text/plain": "<Figure size 432x288 with 1 Axes>",
      "image/png": "[encoded data removed]"
     },
     "metadata": {
      "needs_background": "light"
     },
     "output_type": "display_data"
    }
   ],
   "source": [
    "fig, axs = plt.subplots(1, 1)\n",
    "fig.tight_layout(rect=[0, 0, 1, 0.95], pad=3.0)\n",
    "fig.suptitle(\"$y'(t)=-y(t-1) + 0.3\\ y(t-2)$\")\n",
    "\n",
    "axs.plot(mon.ts, mon.x, color='red', linewidth=1)\n",
    "axs.set_title('$ihf(t)=1$')\n",
    "\n",
    "plt.show()"
   ]
  },
  {
   "cell_type": "markdown",
   "metadata": {
    "pycharm": {
     "name": "#%% md\n"
    }
   },
   "source": [
    "#### Example #4: System of two first-order DDEs with one constant delay and two constant initial history functions"
   ]
  },
  {
   "cell_type": "markdown",
   "metadata": {
    "pycharm": {
     "name": "#%% md\n"
    }
   },
   "source": [
    "Let the following system of DDEs be given:\n",
    "\n",
    "$$\n",
    "\\begin{cases}\n",
    "    y_1'(t) = y_1(t) y_2(t-0.5)\n",
    "    \\\\\n",
    "    y_2'(t) = y_2(t) y_1(t-0.5)\n",
    "\\end{cases}\n",
    "$$\n",
    "\n",
    "where the delay is only one, constant and equal to 0.5 s and the initial historical functions are also constant; for what we said at the beginning of the post these must be two, in fact being the order of the system of first degree you need one for each unknown and they are: $y_1(t)=1, y_2(t)=-1$. "
   ]
  },
  {
   "cell_type": "code",
   "execution_count": 15,
   "metadata": {
    "lines_to_next_cell": 2,
    "pycharm": {
     "name": "#%%\n"
    }
   },
   "outputs": [
    {
     "data": {
      "text/plain": "  0%|          | 0/300 [00:00<?, ?it/s]",
      "application/vnd.jupyter.widget-view+json": {
       "version_major": 2,
       "version_minor": 0,
       "model_id": "ba6ddb3b70ea4922b7f17b50b6ce07bc"
      }
     },
     "metadata": {},
     "output_type": "display_data"
    }
   ],
   "source": [
    "def eq(x, y, t):\n",
    "    dx = x * ydelay(t-0.5)\n",
    "    dy = y * xdelay(t-0.5)\n",
    "    return dx, dy\n",
    "\n",
    "xdelay = bm.TimeDelay(bm.ones(1), 0.5, before_t0=1., dt=0.01, interp_method='round')\n",
    "ydelay = bm.TimeDelay(-bm.ones(1), 0.5, before_t0=-1., dt=0.01, interp_method='round')\n",
    "\n",
    "mon = delay_odeint(3., eq, inits=[1., -1], state_delays={'x': xdelay, 'y': ydelay},\n",
    "             dt=0.01, monitors=['x', 'y'])"
   ]
  },
  {
   "cell_type": "code",
   "execution_count": 16,
   "metadata": {
    "pycharm": {
     "name": "#%%\n"
    }
   },
   "outputs": [
    {
     "data": {
      "text/plain": "<Figure size 432x288 with 1 Axes>",
      "image/png": "[encoded data removed]"
     },
     "metadata": {
      "needs_background": "light"
     },
     "output_type": "display_data"
    }
   ],
   "source": [
    "fig, axs = plt.subplots(1, 1)\n",
    "fig.tight_layout(rect=[0, 0, 1, 0.95], pad=3.0)\n",
    "fig.suptitle(\"$x'(t)=x(t) y(t-d); y'(t)=y(t) x(t-d)$\")\n",
    "\n",
    "axs.plot(mon.ts, mon.x.flatten(), color='red', linewidth=1)\n",
    "axs.plot(mon.ts, mon.y.flatten(), color='blue', linewidth=1)\n",
    "axs.set_title('$ihf_x(t)=1; ihf_y(t)=-1; d=0.5$')\n",
    "\n",
    "plt.show()"
   ]
  },
  {
   "cell_type": "markdown",
   "metadata": {
    "pycharm": {
     "name": "#%% md\n"
    }
   },
   "source": [
    "#### Example #5: Second-order DDE with one constant delay and two constant initial history functions"
   ]
  },
  {
   "cell_type": "markdown",
   "metadata": {
    "pycharm": {
     "name": "#%% md\n"
    }
   },
   "source": [
    "Let the following DDE be given:\n",
    "\n",
    "$$\n",
    "y(t)'' = -y'(t) - 2y(t) - 0.5 y(t-1)\n",
    "$$\n",
    "\n",
    "where the delay is only one, constant and equal to 1 s. Since the DDE is second order, in that the second derivative of the unknown function appears, the historical functions must be two, one to give the values of the unknown $y(t)$ for $t <= 0$,  and one and one to provide the value of the first derivative $y'(t)$ also for $t <= 0$. \n",
    "\n",
    "In this example they are the following two constant functions: $y(t)=1, y'(t)=0$.\n",
    "\n",
    "Due to the properties of the second-order equations, the given DDE is equivalent to the following system of first-order equations:\n",
    "\n",
    "$$\n",
    "\\begin{cases}\n",
    "    y_1'(t) = y_2(t)\n",
    "    \\\\\n",
    "    y_2'(t) = -y_1'(t) - 2y_1(t) - 0.5 y_1(t-1)\n",
    "\\end{cases}\n",
    "$$\n",
    "\n",
    "and so the implementation falls into the case of the previous example of systems of first-order equations."
   ]
  },
  {
   "cell_type": "code",
   "execution_count": 17,
   "metadata": {
    "pycharm": {
     "name": "#%%\n"
    }
   },
   "outputs": [
    {
     "data": {
      "text/plain": "  0%|          | 0/1600 [00:00<?, ?it/s]",
      "application/vnd.jupyter.widget-view+json": {
       "version_major": 2,
       "version_minor": 0,
       "model_id": "dbe43313a68744d48cd2eabde290616c"
      }
     },
     "metadata": {},
     "output_type": "display_data"
    }
   ],
   "source": [
    "def eq(x, y, t):\n",
    "    dx = y\n",
    "    dy = -y - 2*x - 0.5*xdelay(t-1)\n",
    "    return dx, dy\n",
    "\n",
    "xdelay = bm.TimeDelay(bm.ones(1), 1., before_t0=1., dt=0.01, interp_method='round')\n",
    "mon = delay_odeint(16., eq, inits=[1., 0.], state_delays={'x': xdelay}, monitors=['x', 'y'], dt=0.01)"
   ]
  },
  {
   "cell_type": "code",
   "execution_count": 18,
   "metadata": {
    "pycharm": {
     "name": "#%%\n"
    }
   },
   "outputs": [
    {
     "data": {
      "text/plain": "<Figure size 432x288 with 1 Axes>",
      "image/png": "[encoded data removed]"
     },
     "metadata": {
      "needs_background": "light"
     },
     "output_type": "display_data"
    }
   ],
   "source": [
    "fig, axs = plt.subplots(1, 1)\n",
    "fig.tight_layout(rect=[0, 0, 1, 0.95], pad=3.0)\n",
    "fig.suptitle(\"$y''(t)=-y'(t) - 2 y(t) - 0.5 y(t-1)$\")\n",
    "axs.plot(mon.ts, mon.x[:,0], color='red', linewidth=1)\n",
    "axs.plot(mon.ts, mon.y[:,0], color='green', linewidth=1)\n",
    "axs.set_title('$ih \\, f_y(t)=1; ihf\\,dy/dt(t)=0$')\n",
    "\n",
    "plt.show()"
   ]
  },
  {
   "cell_type": "markdown",
   "metadata": {
    "pycharm": {
     "name": "#%% md\n"
    }
   },
   "source": [
    "#### Example #6: First-order DDE with one non constant delay and a constant initial history function"
   ]
  },
  {
   "cell_type": "markdown",
   "metadata": {
    "pycharm": {
     "name": "#%% md\n"
    }
   },
   "source": [
    "Let the following DDE be given:\n",
    "\n",
    "$$\n",
    "y'(t)=y(t-\\mathrm{delay}(y, t))\n",
    "$$\n",
    "\n",
    "where the delay is not constant and is given by the function $\\mathrm{delay}(y, t)=|\\frac{1}{10} t y(\\frac{1}{10} t)|$, the example compares the solutions of two different cases using two different constant history functions:\n",
    "\n",
    "- Case #1: $\\phi(t)=-1$\n",
    "- Case #2: $\\phi(t)=1$"
   ]
  },
  {
   "cell_type": "code",
   "execution_count": 19,
   "metadata": {
    "pycharm": {
     "name": "#%%\n"
    }
   },
   "outputs": [],
   "source": [
    "def eq(x, t, xdelay):\n",
    "    delay = abs(t*xdelay(t - 0.9 * t)/10) # a tensor with (1,)\n",
    "    delay = delay[0]\n",
    "    return xdelay(t-delay)"
   ]
  },
  {
   "cell_type": "markdown",
   "metadata": {
    "pycharm": {
     "name": "#%% md\n"
    }
   },
   "source": [
    "```{note}\n",
    "\n",
    "Note here we do not kwon the maximum lenght of the delay. Therefore, we can declare a fixed length delay variable with the ``delay_len`` equal to or even bigger than the running duration. \n",
    "```"
   ]
  },
  {
   "cell_type": "code",
   "execution_count": 20,
   "metadata": {
    "pycharm": {
     "name": "#%%\n"
    }
   },
   "outputs": [],
   "source": [
    "delay1 = bm.TimeDelay(bm.ones(1), 30., before_t0=-1, dt=0.01)\n",
    "delay2 = bm.TimeDelay(-bm.ones(1), 30., before_t0=1, dt=0.01)"
   ]
  },
  {
   "cell_type": "code",
   "execution_count": 21,
   "metadata": {
    "pycharm": {
     "name": "#%%\n"
    }
   },
   "outputs": [
    {
     "data": {
      "text/plain": "  0%|          | 0/3000 [00:00<?, ?it/s]",
      "application/vnd.jupyter.widget-view+json": {
       "version_major": 2,
       "version_minor": 0,
       "model_id": "c645adf02b814d29b14307eded85c7b9"
      }
     },
     "metadata": {},
     "output_type": "display_data"
    },
    {
     "data": {
      "text/plain": "  0%|          | 0/3000 [00:00<?, ?it/s]",
      "application/vnd.jupyter.widget-view+json": {
       "version_major": 2,
       "version_minor": 0,
       "model_id": "1f3671e05f5440e49330d0a5eb6a3f1f"
      }
     },
     "metadata": {},
     "output_type": "display_data"
    }
   ],
   "source": [
    "case1 = delay_odeint(30., eq, args={'xdelay': delay1}, state_delays={'x': delay1}, dt=0.01)\n",
    "case2 = delay_odeint(30., eq, args={'xdelay': delay2}, state_delays={'x': delay2}, dt=0.01)"
   ]
  },
  {
   "cell_type": "code",
   "execution_count": 22,
   "metadata": {
    "pycharm": {
     "name": "#%%\n"
    }
   },
   "outputs": [
    {
     "data": {
      "text/plain": "<Figure size 432x288 with 2 Axes>",
      "image/png": "[encoded data removed]"
     },
     "metadata": {
      "needs_background": "light"
     },
     "output_type": "display_data"
    }
   ],
   "source": [
    "fig, axs = plt.subplots(2, 1)\n",
    "fig.tight_layout(rect=[0, 0, 1, 0.95], pad=3.0)\n",
    "fig.suptitle(\"$y'(t)=y(t-delay(y, t))$\")\n",
    "\n",
    "axs[0].plot(case1.ts, case1.x, color='red', linewidth=1)\n",
    "axs[0].set_title('$ihf(t)=-1$')\n",
    "\n",
    "axs[1].plot(case1.ts, case1.x, color='red', linewidth=1)\n",
    "axs[1].set_title('$ihf(t)=1$')\n",
    "\n",
    "plt.show()"
   ]
  },
  {
   "cell_type": "markdown",
   "source": [
    "## Delay SDEs"
   ],
   "metadata": {
    "collapsed": false,
    "pycharm": {
     "name": "#%% md\n"
    }
   }
  },
  {
   "cell_type": "markdown",
   "source": [
    "Save as delay ODEs, state-dependent delay variables can be appended into ``state_delay`` argument in ``brainpy.sdeint`` function."
   ],
   "metadata": {
    "collapsed": false,
    "pycharm": {
     "name": "#%% md\n"
    }
   }
  },
  {
   "cell_type": "code",
   "execution_count": 23,
   "outputs": [],
   "source": [
    "delay = bm.TimeDelay(bm.zeros(1), 2., before_t0=lambda t: bm.exp(-t)-1, dt=0.01, interp_method='round')\n",
    "\n",
    "f = lambda x, t, xdelay: -xdelay(t-2)\n",
    "g = lambda x, t, *args: 0.01\n",
    "\n",
    "dt = 0.01\n",
    "integral = bp.sdeint(f, g, state_delays={'x': delay})"
   ],
   "metadata": {
    "collapsed": false,
    "pycharm": {
     "name": "#%%\n"
    }
   }
  },
  {
   "cell_type": "code",
   "execution_count": 24,
   "outputs": [
    {
     "data": {
      "text/plain": "  0%|          | 0/10000 [00:00<?, ?it/s]",
      "application/vnd.jupyter.widget-view+json": {
       "version_major": 2,
       "version_minor": 0,
       "model_id": "cf41e59727c44c148b48459680823227"
      }
     },
     "metadata": {},
     "output_type": "display_data"
    },
    {
     "data": {
      "text/plain": "<Figure size 432x288 with 1 Axes>",
      "image/png": "[encoded data removed]"
     },
     "metadata": {
      "needs_background": "light"
     },
     "output_type": "display_data"
    }
   ],
   "source": [
    "runner= bp.integrators.IntegratorRunner(integral,\n",
    "                                        monitors=['x'],\n",
    "                                        args={'xdelay': delay},\n",
    "                                        dt=dt)\n",
    "runner.run(100.)\n",
    "\n",
    "plt.plot(runner.mon.ts, runner.mon.x)\n",
    "plt.show()"
   ],
   "metadata": {
    "collapsed": false,
    "pycharm": {
     "name": "#%%\n"
    }
   }
  },
  {
   "cell_type": "markdown",
   "source": [
    "## Delay FDEs"
   ],
   "metadata": {
    "collapsed": false,
    "pycharm": {
     "name": "#%% md\n"
    }
   }
  },
  {
   "cell_type": "markdown",
   "source": [
    " Fractional order delayed differential equations as the generalization of the delayed differential equations, provide more freedom when we're describing these systems, let's see how we can use BrainPy to accelerate the simulation of fractional order delayed differential equations."
   ],
   "metadata": {
    "collapsed": false,
    "pycharm": {
     "name": "#%% md\n"
    }
   }
  },
  {
   "cell_type": "markdown",
   "source": [
    "The fractional delayed differential equations has the general form:\n",
    "\n",
    "$$\n",
    "\\begin{gathered}\n",
    "D_{t}^{\\alpha} y(t)=f(t, y(t), y(t-\\tau)), \\quad t \\geq \\xi \\\\\n",
    "y(t)=\\phi(t), \\quad t \\in[\\xi-\\tau, \\xi]\n",
    "\\end{gathered}\n",
    "$$\n"
   ],
   "metadata": {
    "collapsed": false,
    "pycharm": {
     "name": "#%% md\n"
    }
   }
  },
  {
   "cell_type": "markdown",
   "source": [
    "#### Lemmings' population cycle\n",
    "\n",
    "The fractional order version of the four-year life cycle of a population of lemmings is given by\n",
    "\n",
    "$$\n",
    "\\begin{gathered}\n",
    "D_{t}^{\\alpha} y(t)=3.5 y(t)\\left(1-\\frac{y(t-0.74)}{19}\\right), \\\\\n",
    " y(0)=19.00001 \\\\\n",
    "y(t)=19, t<0\n",
    "\\end{gathered}\n",
    "$$"
   ],
   "metadata": {
    "collapsed": false,
    "pycharm": {
     "name": "#%% md\n"
    }
   }
  },
  {
   "cell_type": "code",
   "execution_count": 25,
   "outputs": [],
   "source": [
    "dt=0.05\n",
    "delay = bm.TimeDelay(bm.asarray([19.00001]), 0.74, before_t0=19., dt=dt)\n",
    "f = lambda y, t: 3.5 * y * (1 - delay(t-0.74)/19)\n",
    "integral = bp.fde.GLShortMemory(f, alpha=0.97, inits=[19.00001], num_step=500,\n",
    "                                state_delays={'y': delay})"
   ],
   "metadata": {
    "collapsed": false,
    "pycharm": {
     "name": "#%%\n"
    }
   }
  },
  {
   "cell_type": "code",
   "execution_count": 26,
   "outputs": [
    {
     "data": {
      "text/plain": "  0%|          | 0/2000 [00:00<?, ?it/s]",
      "application/vnd.jupyter.widget-view+json": {
       "version_major": 2,
       "version_minor": 0,
       "model_id": "c8c9337fab3b46db8159404a1ca193a4"
      }
     },
     "metadata": {},
     "output_type": "display_data"
    },
    {
     "data": {
      "text/plain": "<Figure size 432x288 with 1 Axes>",
      "image/png": "[encoded data removed]"
     },
     "metadata": {
      "needs_background": "light"
     },
     "output_type": "display_data"
    }
   ],
   "source": [
    "runner = bp.integrators.IntegratorRunner(integral,\n",
    "                                         inits=bm.asarray([19.00001]),\n",
    "                                         monitors=['y'],\n",
    "                                         fun_monitors={'y(t-0.74)': lambda t, _: delay(t-0.74)},\n",
    "                                         dyn_vars=delay.vars(),\n",
    "                                         dt=dt)\n",
    "runner.run(100.)\n",
    "\n",
    "plt.plot(runner.mon['y'], runner.mon['y(t-0.74)'])\n",
    "plt.xlabel('y(t)')\n",
    "plt.ylabel('y(t-0.74)')\n",
    "plt.show()"
   ],
   "metadata": {
    "collapsed": false,
    "pycharm": {
     "name": "#%%\n"
    }
   }
  },
  {
   "cell_type": "markdown",
   "source": [
    "#### Time delay Chen system\n",
    "\n",
    "Time delay Chen system as a famous chaotic system with time delay, has important applications in many fields.\n",
    "\n",
    "$$\n",
    "\\left\\{\\begin{array}{l}\n",
    "D^{\\alpha_{1}} x=a(y(t)-x(t-\\tau)) \\\\\n",
    "D^{\\alpha_{2}} y=(c-a) x(t-\\tau)-x(t) z(t)+c y(t) \\\\\n",
    "D^{\\alpha_{3}} z=x(t) y(t)-b z(t-\\tau)\n",
    "\\end{array}\\right.\n",
    "$$"
   ],
   "metadata": {
    "collapsed": false,
    "pycharm": {
     "name": "#%% md\n"
    }
   }
  },
  {
   "cell_type": "code",
   "execution_count": 27,
   "outputs": [],
   "source": [
    "dt = 0.001\n",
    "tau = 0.009\n",
    "xdelay = bm.TimeDelay(bm.asarray([0.2]), tau, dt=dt)\n",
    "zdelay = bm.TimeDelay(bm.asarray([0.5]), tau, dt=dt)\n",
    "\n",
    "def derivative(x, y, z, t):\n",
    "    a=35; b=3; c=27\n",
    "    dx = a*(y-xdelay(t-tau))\n",
    "    dy = (c-a)*xdelay(t-tau)-x*z+c*y\n",
    "    dz = x*y-b*zdelay(t-tau)\n",
    "    return dx, dy, dz\n",
    "\n",
    "integral = bp.fde.GLShortMemory(derivative,\n",
    "                                alpha=0.94,\n",
    "                                inits=[0.2, 0., 0.5],\n",
    "                                num_step=500,\n",
    "                                state_delays={'x': xdelay, 'z': zdelay})"
   ],
   "metadata": {
    "collapsed": false,
    "pycharm": {
     "name": "#%%\n"
    }
   }
  },
  {
   "cell_type": "code",
   "execution_count": 28,
   "outputs": [
    {
     "data": {
      "text/plain": "  0%|          | 0/100000 [00:00<?, ?it/s]",
      "application/vnd.jupyter.widget-view+json": {
       "version_major": 2,
       "version_minor": 0,
       "model_id": "bf9d8198ba9b4e81bb0062f5728d6628"
      }
     },
     "metadata": {},
     "output_type": "display_data"
    }
   ],
   "source": [
    "runner = bp.integrators.IntegratorRunner(integral,\n",
    "                                         inits=[0.2, 0., 0.5],\n",
    "                                         monitors=['x', 'y', 'z'],\n",
    "                                         dyn_vars=xdelay.vars() + zdelay.vars(),\n",
    "                                         dt=dt)\n",
    "runner.run(100.)"
   ],
   "metadata": {
    "collapsed": false,
    "pycharm": {
     "name": "#%%\n"
    }
   }
  },
  {
   "cell_type": "code",
   "execution_count": 29,
   "outputs": [
    {
     "data": {
      "text/plain": "<Figure size 432x288 with 1 Axes>",
      "image/png": "[encoded data removed]"
     },
     "metadata": {
      "needs_background": "light"
     },
     "output_type": "display_data"
    }
   ],
   "source": [
    "fig = plt.figure()\n",
    "ax = plt.axes(projection='3d')\n",
    "plt.plot(runner.mon.x[:, 0], runner.mon.y[:, 0], runner.mon.z[:, 0])\n",
    "plt.show()"
   ],
   "metadata": {
    "collapsed": false,
    "pycharm": {
     "name": "#%%\n"
    }
   }
  },
  {
   "cell_type": "markdown",
   "source": [
    "#### Enzyme kinetics\n",
    "\n",
    "Let's see a more complex example of the fractional order version of enzyme kinetics with an inhibitor molecule:\n",
    "\n",
    "$$\n",
    "\\begin{gathered}\n",
    "D_{t}^{\\alpha} y_{1}(t)=10.5-\\frac{y_{1}(t)}{1+0.0005 y_{4}^{3}(t-4)} \\\\\n",
    "D_{t}^{\\alpha} y_{2}(t)=\\frac{y_{1}(t)}{1+0.0005 y_{4}^{3}(t-4)}-y_{2}(t) \\\\\n",
    "D_{t}^{\\alpha} y_{3}(t)=y_{2}(t)-y_{3}(t) \\\\\n",
    "D_{t}^{\\alpha} y_{4}(t)=y_{3}(t)-0.5 y_{4}(t) \\\\\n",
    "y(t)=[60,10,10,20], t \\leq 0\n",
    "\\end{gathered}\n",
    "$$"
   ],
   "metadata": {
    "collapsed": false,
    "pycharm": {
     "name": "#%% md\n"
    }
   }
  },
  {
   "cell_type": "code",
   "execution_count": 30,
   "outputs": [],
   "source": [
    "dt = 0.01\n",
    "tau = 4.\n",
    "delay = bm.TimeDelay(bm.asarray([20.]), tau, before_t0=20, dt=dt)\n",
    "\n",
    "def derivative(a, b, c, d, t):\n",
    "    da = 10.5-a/(1+ 0.0005 * delay(t-tau)**3)\n",
    "    db = a/(1+0.0005 * delay(t-tau)**3)-b\n",
    "    dc = b-c\n",
    "    dd = c-0.5*d\n",
    "    return da, db, dc, dd\n",
    "\n",
    "integral = bp.fde.GLShortMemory(derivative,\n",
    "                                alpha=0.95,\n",
    "                                inits=[60, 10, 10, 20],\n",
    "                                num_step=500,\n",
    "                                state_delays={'d': delay})"
   ],
   "metadata": {
    "collapsed": false,
    "pycharm": {
     "name": "#%%\n"
    }
   }
  },
  {
   "cell_type": "code",
   "execution_count": 31,
   "outputs": [
    {
     "data": {
      "text/plain": "  0%|          | 0/20000 [00:00<?, ?it/s]",
      "application/vnd.jupyter.widget-view+json": {
       "version_major": 2,
       "version_minor": 0,
       "model_id": "5fd60f006e344d15a71e8f254b481344"
      }
     },
     "metadata": {},
     "output_type": "display_data"
    }
   ],
   "source": [
    "runner = bp.integrators.IntegratorRunner(integral,\n",
    "                                         inits=[60, 10, 10, 20],\n",
    "                                         monitors=list('abcd'),\n",
    "                                         dyn_vars=delay.vars(),\n",
    "                                         dt=dt)\n",
    "runner.run(200.)"
   ],
   "metadata": {
    "collapsed": false,
    "pycharm": {
     "name": "#%%\n"
    }
   }
  },
  {
   "cell_type": "code",
   "execution_count": 32,
   "outputs": [
    {
     "data": {
      "text/plain": "<Figure size 432x288 with 1 Axes>",
      "image/png": "[encoded data removed]"
     },
     "metadata": {
      "needs_background": "light"
     },
     "output_type": "display_data"
    }
   ],
   "source": [
    "plt.plot(runner.mon.ts, runner.mon.a, label='a')\n",
    "plt.plot(runner.mon.ts, runner.mon.b, label='b')\n",
    "plt.plot(runner.mon.ts, runner.mon.c, label='c')\n",
    "plt.plot(runner.mon.ts, runner.mon.d, label='d')\n",
    "plt.legend()\n",
    "plt.xlabel('Time [ms]')\n",
    "plt.show()"
   ],
   "metadata": {
    "collapsed": false,
    "pycharm": {
     "name": "#%%\n"
    }
   }
  },
  {
   "cell_type": "markdown",
   "source": [
    "#### Fractional matrix delayed differential equations\n",
    "\n",
    "BrainPy is also capable of solving fractional matrix delayed differential equations:\n",
    "\n",
    "$$\n",
    "D_{t_{0}}^{\\alpha} \\mathbf{x}(t)=\\mathbf{A}(t) \\mathbf{x}(t)+\\mathbf{B}(t) \\mathbf{x}(t-\\tau)+\\mathbf{c}(t)\n",
    "$$\n",
    "\n",
    "Here $x(t)$ is vector of states of the system, $c(t)$ is a known function of disturbance.\n",
    "\n",
    "We explain the detailed usage by using an example:\n",
    "\n",
    "$$\n",
    "\\mathbf{x}(t)=\\left(\\begin{array}{l}\n",
    "x_{1}(t) \\\\\n",
    "x_{2}(t) \\\\\n",
    "x_{3}(t) \\\\\n",
    "x_{4}(t)\n",
    "\\end{array}\\right)\n",
    "$$\n",
    "\n",
    "$$\n",
    "\\mathbf{A}=\\left(\\begin{array}{cccc}\n",
    "0 & 0 & 1 & 0 \\\\\n",
    "0 & 0 & 0 & 1 \\\\\n",
    "0 & -2 & 0 & 0 \\\\\n",
    "-2 & 0 & 0 & 0\n",
    "\\end{array}\\right)\n",
    "$$\n",
    "\n",
    "$$\n",
    "\\mathbf{B}=\\left(\\begin{array}{cccc}\n",
    "0 & 0 & 0 & 0 \\\\\n",
    "0 & 0 & 0 & 0 \\\\\n",
    "-2 & 0 & 0 & 0 \\\\\n",
    "0 & -2 & 0 & 0\n",
    "\\end{array}\\right)\n",
    "$$\n",
    "\n",
    "With initial condition:\n",
    "\n",
    "$$\n",
    "\\mathbf{x}_{0}(t)=\\left(\\begin{array}{c}\n",
    "\\sin (t) \\cos (t) \\\\\n",
    "\\sin (t) \\cos (t) \\\\\n",
    "\\cos ^{2}(t)-\\sin ^{2}(t) \\\\\n",
    "\\cos ^{2}(t)-\\sin ^{2}(t)\n",
    "\\end{array}\\right)\n",
    "$$"
   ],
   "metadata": {
    "collapsed": false,
    "pycharm": {
     "name": "#%% md\n"
    }
   }
  },
  {
   "cell_type": "code",
   "execution_count": 33,
   "outputs": [],
   "source": [
    "dt = 0.01\n",
    "tau = 3.1416\n",
    "f = lambda t: bm.asarray([bm.sin(t)*bm.cos(t),\n",
    "                          bm.sin(t)*bm.cos(t),\n",
    "                          bm.cos(t)**2-bm.sin(t)**2,\n",
    "                          bm.cos(t)**2-bm.sin(t)**2])\n",
    "delay = bm.TimeDelay(f(0.), tau, before_t0=f, dt=dt)\n",
    "\n",
    "A = bm.asarray([[0, 0, 1, 0], [0, 0, 0, 1], [0, -2, 0, 0], [-2, 0, 0, 0]])\n",
    "B = bm.asarray([[0, 0, 0, 0], [0, 0, 0, 0], [-2, 0, 0, 0], [0, -2, 0, 0]])\n",
    "c = bm.asarray([0, 0, 0, 0])\n",
    "derivative = lambda x, t: A @ x + B @ delay(t - tau) + c\n",
    "\n",
    "integral = bp.fde.GLShortMemory(derivative,\n",
    "                                alpha=0.4,\n",
    "                                inits=[f(0.)],\n",
    "                                num_step=500,\n",
    "                                state_delays={'x': delay})"
   ],
   "metadata": {
    "collapsed": false,
    "pycharm": {
     "name": "#%%\n"
    }
   }
  },
  {
   "cell_type": "code",
   "execution_count": 34,
   "outputs": [
    {
     "data": {
      "text/plain": "  0%|          | 0/10000 [00:00<?, ?it/s]",
      "application/vnd.jupyter.widget-view+json": {
       "version_major": 2,
       "version_minor": 0,
       "model_id": "68de14571e73421882fec9ba30c1a934"
      }
     },
     "metadata": {},
     "output_type": "display_data"
    }
   ],
   "source": [
    "runner = bp.integrators.IntegratorRunner(integral,\n",
    "                                         inits=[f(0.)],\n",
    "                                         monitors=['x'],\n",
    "                                         dyn_vars=delay.vars(),\n",
    "                                         dt=dt)\n",
    "runner.run(100.)"
   ],
   "metadata": {
    "collapsed": false,
    "pycharm": {
     "name": "#%%\n"
    }
   }
  },
  {
   "cell_type": "code",
   "execution_count": 35,
   "outputs": [
    {
     "data": {
      "text/plain": "<Figure size 432x288 with 1 Axes>",
      "image/png": "[encoded data removed]"
     },
     "metadata": {
      "needs_background": "light"
     },
     "output_type": "display_data"
    }
   ],
   "source": [
    "plt.plot(runner.mon.x[:, 0], runner.mon.x[:, 2])\n",
    "plt.xlabel('x0')\n",
    "plt.ylabel('x2')\n",
    "plt.show()"
   ],
   "metadata": {
    "collapsed": false,
    "pycharm": {
     "name": "#%%\n"
    }
   }
  },
  {
   "cell_type": "markdown",
   "metadata": {
    "pycharm": {
     "name": "#%% md\n"
    }
   },
   "source": [
    "## Acknowledgement"
   ]
  },
  {
   "cell_type": "markdown",
   "metadata": {
    "pycharm": {
     "name": "#%% md\n"
    }
   },
   "source": [
    "This tutorial is highly inspired from the work of Ettore Messina [1] and of Qingyu Qu [2].\n",
    "\n",
    "- [1] Computational Mindset by Ettore Messina, [Solving delay differential equations using numerical methods in Python](https://computationalmindset.com/en/mathematics/solving-delay-differential-equations-in-python-using-numerical-methods.html)\n",
    "- [2] [Fractional Order Delayed Differential Equations](https://scifracx.org/FractionalDiffEq.jl/dev/fdde/)"
   ]
  }
 ],
 "metadata": {
  "jupytext": {
   "cell_metadata_filter": "-all",
   "notebook_metadata_filter": "-all"
  },
  "kernelspec": {
   "name": "python3",
   "language": "python",
   "display_name": "Python 3 (ipykernel)"
  },
  "language_info": {
   "codemirror_mode": {
    "name": "ipython",
    "version": 3
   },
   "file_extension": ".py",
   "mimetype": "text/x-python",
   "name": "python",
   "nbconvert_exporter": "python",
   "pygments_lexer": "ipython3",
   "version": "3.8.11"
  },
  "latex_envs": {
   "LaTeX_envs_menu_present": true,
   "autoclose": false,
   "autocomplete": true,
   "bibliofile": "biblio.bib",
   "cite_by": "apalike",
   "current_citInitial": 1,
   "eqLabelWithNumbers": true,
   "eqNumInitial": 1,
   "hotkeys": {
    "equation": "Ctrl-E",
    "itemize": "Ctrl-I"
   },
   "labels_anchors": false,
   "latex_user_defs": false,
   "report_style_numbering": false,
   "user_envs_cfg": false
  },
  "toc": {
   "base_numbering": 1,
   "nav_menu": {},
   "number_sections": true,
   "sideBar": true,
   "skip_h1_title": false,
   "title_cell": "Table of Contents",
   "title_sidebar": "Contents",
   "toc_cell": false,
   "toc_position": {},
   "toc_section_display": true,
   "toc_window_display": true
  }
 },
 "nbformat": 4,
 "nbformat_minor": 1
}