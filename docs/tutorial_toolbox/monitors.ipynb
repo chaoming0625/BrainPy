{
 "cells": [
  {
   "cell_type": "markdown",
   "id": "f753f3ab",
   "metadata": {
    "pycharm": {
     "name": "#%% md\n"
    }
   },
   "source": [
    "# Monitors"
   ]
  },
  {
   "cell_type": "markdown",
   "id": "904397dd",
   "metadata": {
    "pycharm": {
     "name": "#%% md\n"
    }
   },
   "source": [
    "@[Chaoming Wang](https://github.com/chaoming0625)\n",
    "@[Xiaoyu Chen](mailto:c-xy17@tsinghua.org.cn)"
   ]
  },
  {
   "cell_type": "markdown",
   "id": "7717e918",
   "metadata": {
    "pycharm": {
     "name": "#%% md\n"
    }
   },
   "source": [
    "BrainPy has a [systematic naming system](../tutorial_math/base.ipynb). Any model in BrainPy have a unique name. Thus, nodes, integrators, and variables can be easily accessed in a huge network. Based on this naming system, BrainPy provides a set of convenient monitoring supports. In this section, we are going to talk about this. "
   ]
  },
  {
   "cell_type": "code",
   "execution_count": 1,
   "id": "19ba3a79",
   "metadata": {
    "pycharm": {
     "name": "#%%\n"
    }
   },
   "outputs": [],
   "source": [
    "import brainpy as bp\n",
    "import brainpy.math as bm\n",
    "\n",
    "bp.math.set_platform('cpu')\n",
    "bp.math.set_dt(0.02)"
   ]
  },
  {
   "cell_type": "markdown",
   "id": "596a3c54",
   "metadata": {
    "pycharm": {
     "name": "#%% md\n"
    }
   },
   "source": [
    "## Initializing Monitors in a Runner"
   ]
  },
  {
   "cell_type": "markdown",
   "id": "1143dc69",
   "metadata": {
    "pycharm": {
     "name": "#%% md\n"
    }
   },
   "source": [
    "In BrainPy, any instance of ``brainpy.Runner`` has a built-in monitor. Users can set up a monitor when initializing a runner. \n",
    "\n",
    "For example, if we want to simulate a Hodgkin-Hoxley (HH) model and monitor its membrane potential $V$ and the spikes it generates:"
   ]
  },
  {
   "cell_type": "code",
   "execution_count": 2,
   "id": "243db637",
   "metadata": {
    "pycharm": {
     "name": "#%%\n"
    }
   },
   "outputs": [],
   "source": [
    "HH = bp.dyn.HH\n",
    "model  = HH(1)"
   ]
  },
  {
   "cell_type": "markdown",
   "id": "cedf74d0",
   "metadata": {
    "pycharm": {
     "name": "#%% md\n"
    }
   },
   "source": [
    "After defining a HH neuron, we can add monitors while setting up the runner. When specifying the `monitors` parameter, a monitor, which is an instance of ``brainpy.Monitor``, will be initialized. The first method to initialize a monitor is through a list/tuple of strings:"
   ]
  },
  {
   "cell_type": "code",
   "execution_count": 3,
   "id": "db284f81",
   "metadata": {
    "scrolled": true,
    "pycharm": {
     "name": "#%%\n"
    }
   },
   "outputs": [
    {
     "data": {
      "text/plain": "brainpy.running.monitor.Monitor"
     },
     "execution_count": 3,
     "metadata": {},
     "output_type": "execute_result"
    }
   ],
   "source": [
    "# set up a monitor using a list of str\n",
    "runner1 = bp.dyn.DSRunner(model,\n",
    "                          monitors=['V', 'spike'], \n",
    "                          inputs=('input', 10))\n",
    "\n",
    "type(runner1.mon)"
   ]
  },
  {
   "cell_type": "markdown",
   "id": "44336645",
   "metadata": {
    "pycharm": {
     "name": "#%% md\n"
    }
   },
   "source": [
    "where the string `'V'` and `'spike'` corresponds to the name of the variables in the HH model:"
   ]
  },
  {
   "cell_type": "code",
   "execution_count": 4,
   "id": "74426fa9",
   "metadata": {
    "pycharm": {
     "name": "#%%\n"
    }
   },
   "outputs": [
    {
     "data": {
      "text/plain": "(Variable([-68.89985], dtype=float32), Variable([False], dtype=bool))"
     },
     "execution_count": 4,
     "metadata": {},
     "output_type": "execute_result"
    }
   ],
   "source": [
    "model.V, model.spike"
   ]
  },
  {
   "cell_type": "markdown",
   "id": "b42f65b5",
   "metadata": {
    "pycharm": {
     "name": "#%% md\n"
    }
   },
   "source": [
    "Besides using a list/tuple of strings, users can also directly use the ``Monitor`` class to initialize a monitor:"
   ]
  },
  {
   "cell_type": "code",
   "execution_count": 5,
   "id": "85524b4f",
   "metadata": {
    "pycharm": {
     "name": "#%%\n"
    }
   },
   "outputs": [],
   "source": [
    "# set up a monitor using brainpy.Monitor\n",
    "runner2 = bp.StructRunner(model, monitors=bp.Monitor(variables=['V', 'spike']))"
   ]
  },
  {
   "cell_type": "markdown",
   "id": "fff55d35",
   "metadata": {
    "pycharm": {
     "name": "#%% md\n"
    }
   },
   "source": [
    "Once we call the runner with a given time duration, the monitor will automatically record the variable evolutions in the corresponding models. Afterwards, users can access these variable trajectories by using ``.mon.[variable_name]``. The default history times ``.mon.ts`` will also be generated after the model finishes its running. Let's see an example. "
   ]
  },
  {
   "cell_type": "code",
   "execution_count": 6,
   "id": "43451236",
   "metadata": {
    "pycharm": {
     "name": "#%%\n"
    }
   },
   "outputs": [
    {
     "data": {
      "text/plain": "  0%|          | 0/5000 [00:00<?, ?it/s]",
      "application/vnd.jupyter.widget-view+json": {
       "version_major": 2,
       "version_minor": 0,
       "model_id": "9553346c548c4d05a44db9a6551b8336"
      }
     },
     "metadata": {},
     "output_type": "display_data"
    },
    {
     "data": {
      "text/plain": "<Figure size 432x288 with 1 Axes>",
      "image/png": "[encoded data removed]"
     },
     "metadata": {
      "needs_background": "light"
     },
     "output_type": "display_data"
    }
   ],
   "source": [
    "runner1(100.)\n",
    "\n",
    "bp.visualize.line_plot(runner1.mon.ts, runner1.mon.V, show=True)"
   ]
  },
  {
   "cell_type": "markdown",
   "id": "8389cad4",
   "metadata": {
    "pycharm": {
     "name": "#%% md\n"
    }
   },
   "source": [
    "The monitor in ``runner1`` has recorded the evolution of `V`. Therefore, it can be accessed by ``runner1.mon.V`` or equivalently ``runner1.mon['V']``. Similarly, the recorded trajectory of variable `spike` can also be obtained through ``runner1.mon.spike``. "
   ]
  },
  {
   "cell_type": "code",
   "execution_count": 7,
   "id": "4d08caa4",
   "metadata": {
    "pycharm": {
     "name": "#%%\n"
    }
   },
   "outputs": [
    {
     "data": {
      "text/plain": "array([[False],\n       [False],\n       [False],\n       ...,\n       [False],\n       [False],\n       [False]])"
     },
     "execution_count": 7,
     "metadata": {},
     "output_type": "execute_result"
    }
   ],
   "source": [
    "runner1.mon.spike"
   ]
  },
  {
   "cell_type": "markdown",
   "id": "935cfe6d",
   "metadata": {
    "pycharm": {
     "name": "#%% md\n"
    }
   },
   "source": [
    "Where ``True`` indicates a spike is generated at this time step."
   ]
  },
  {
   "cell_type": "markdown",
   "id": "8e46f299",
   "metadata": {
    "pycharm": {
     "name": "#%% md\n"
    }
   },
   "source": [
    "## The Mechanism of ``monitors``"
   ]
  },
  {
   "cell_type": "markdown",
   "id": "f4cd5f06",
   "metadata": {
    "pycharm": {
     "name": "#%% md\n"
    }
   },
   "source": [
    "No matter we use a list/tuple or instantiate a `Monitor` class to generate a monitor, we specify the target variables by strings of their names. How does ``brainpy.Monitor`` find the target variables through these strings?"
   ]
  },
  {
   "cell_type": "markdown",
   "id": "2a95ada6",
   "metadata": {
    "pycharm": {
     "name": "#%% md\n"
    }
   },
   "source": [
    "Actually, BrainPy first tries to find the target variables in the simulated model by [the relative path](../tutorial_math/base.ipynb). If the variables are not found, BrainPy checks whether they can be accessed by [the absolute path](../tutorial_math/base.ipynb). If they not found again, an error will be raised. "
   ]
  },
  {
   "cell_type": "code",
   "execution_count": 8,
   "id": "1f2acef5",
   "metadata": {
    "pycharm": {
     "name": "#%%\n"
    }
   },
   "outputs": [
    {
     "data": {
      "text/plain": "<function brainpy.dyn.runners.DSRunner.build_monitors.<locals>.func(_t, _dt)>"
     },
     "execution_count": 8,
     "metadata": {},
     "output_type": "execute_result"
    }
   ],
   "source": [
    "net = bp.Network(HH(size=10, name='X'), \n",
    "                 HH(size=20, name='Y'), \n",
    "                 HH(size=30))\n",
    "\n",
    "# it's ok\n",
    "bp.StructRunner(net, monitors=['X.V', 'Y.spike']).build_monitors()  "
   ]
  },
  {
   "cell_type": "markdown",
   "id": "1a290ec8",
   "metadata": {
    "pycharm": {
     "name": "#%% md\n"
    }
   },
   "source": [
    "In the above ``net``, there are ``HH`` instances named as \"X\" and \"Y\". Therefore, trying to monitor \"X.V\" and \"Y.spike\" is successful. "
   ]
  },
  {
   "cell_type": "markdown",
   "id": "a143e5ab",
   "metadata": {
    "pycharm": {
     "name": "#%% md\n"
    }
   },
   "source": [
    "However, in the following example, the node named with \"Z\" is not accessible in the generated ``net``, and the monitoring setup fails. "
   ]
  },
  {
   "cell_type": "code",
   "execution_count": 9,
   "id": "2730ace5",
   "metadata": {
    "pycharm": {
     "name": "#%%\n"
    }
   },
   "outputs": [
    {
     "name": "stdout",
     "output_type": "stream",
     "text": [
      "RunningError : Cannot find target Z.V in monitor of Network(HH2=HH(name=HH2), HH3=HH(name=HH3)), please check.\n"
     ]
    }
   ],
   "source": [
    "z = HH(size=30, name='Z')\n",
    "net = bp.Network(HH(size=10), HH(size=20))\n",
    "\n",
    "# node \"Z\" can not be accessed in the simulation target 'net'\n",
    "try:\n",
    "    bp.StructRunner(net, monitors=['Z.V']).build_monitors()  \n",
    "except Exception as e:\n",
    "    print(type(e).__name__, \":\", e)"
   ]
  },
  {
   "cell_type": "markdown",
   "id": "50ee199f",
   "metadata": {
    "pycharm": {
     "name": "#%% md\n"
    }
   },
   "source": [
    "BrainPy only supports to monitor [Variables](../tutorial_math/variables.ipynb). Monitoring [Variables](../tutorial_math/variables.ipynb)' trajectory is meaningful for they are dynamically changed. What is not marked as Variable will be compiled as constants. "
   ]
  },
  {
   "cell_type": "code",
   "execution_count": 10,
   "id": "8bacf930",
   "metadata": {
    "pycharm": {
     "name": "#%%\n"
    }
   },
   "outputs": [
    {
     "name": "stdout",
     "output_type": "stream",
     "text": [
      "RunningError : \"gNa\" in HH(name=HH4) is not a dynamically changed Variable, its value will not change, we think there is no need to monitor its trajectory.\n"
     ]
    }
   ],
   "source": [
    "try:\n",
    "    bp.StructRunner(HH(size=1), monitors=['gNa']).build_monitors() \n",
    "except Exception as e:\n",
    "    print(type(e).__name__, \":\", e)"
   ]
  },
  {
   "cell_type": "markdown",
   "id": "a6732c5b",
   "metadata": {
    "pycharm": {
     "name": "#%% md\n"
    }
   },
   "source": [
    "The monitors in BrainPy only record the flattened tensor values. This means if the target variable is a matrix with the shape of ``(N, M)``, the resulting trajectory value in the monitor after running ``T`` times will be a tensor with the shape of ``(T, N x M)``."
   ]
  },
  {
   "cell_type": "code",
   "execution_count": 11,
   "id": "78583b04",
   "metadata": {
    "pycharm": {
     "name": "#%%\n"
    }
   },
   "outputs": [
    {
     "data": {
      "text/plain": "  0%|          | 0/500 [00:00<?, ?it/s]",
      "application/vnd.jupyter.widget-view+json": {
       "version_major": 2,
       "version_minor": 0,
       "model_id": "293615bd74324bbc8cee453451596267"
      }
     },
     "metadata": {},
     "output_type": "display_data"
    },
    {
     "name": "stdout",
     "output_type": "stream",
     "text": [
      "The expected shape of \"model.mon.a\" is: (500, 16)\n",
      "The actual shape of \"model.mon.a\" is: (500, 16)\n"
     ]
    }
   ],
   "source": [
    "class MatrixVarModel(bp.DynamicalSystem):\n",
    "    def __init__(self, **kwargs):\n",
    "        super(MatrixVarModel, self).__init__(**kwargs)\n",
    "        \n",
    "        self.a = bm.Variable(bm.zeros((4, 4)))\n",
    "    \n",
    "    def update(self, _t, _dt):\n",
    "        self.a += 0.01\n",
    "        \n",
    "        \n",
    "model = MatrixVarModel()\n",
    "duration = 10\n",
    "runner = bp.StructRunner(model, monitors=['a'])\n",
    "runner.run(duration)\n",
    "\n",
    "print(f'The expected shape of \"model.mon.a\" is: {(int(duration/bm.get_dt()), model.a.size)}')\n",
    "print(f'The actual shape of \"model.mon.a\" is: {runner.mon.a.shape}')"
   ]
  },
  {
   "cell_type": "markdown",
   "id": "8c2c00ae",
   "metadata": {
    "pycharm": {
     "name": "#%% md\n"
    }
   },
   "source": [
    "## Monitoring Variables at the Given Indices"
   ]
  },
  {
   "cell_type": "markdown",
   "id": "92e07213",
   "metadata": {
    "pycharm": {
     "name": "#%% md\n"
    }
   },
   "source": [
    "Sometimes we do not care about all the the contents in a variable. We may be only interested in the values at the certain indices. Moreover, for a huge network with a long-time simulation, monitors will comsume a large part of RAM. Therefore, monitoring variables only at the selected indices will be more applicable. BrainPy supports monitoring a part of elements in a Variable with the format of tuple like this:"
   ]
  },
  {
   "cell_type": "code",
   "execution_count": 12,
   "id": "b7d0d089",
   "metadata": {
    "scrolled": false,
    "pycharm": {
     "name": "#%%\n"
    }
   },
   "outputs": [
    {
     "data": {
      "text/plain": "  0%|          | 0/5000 [00:00<?, ?it/s]",
      "application/vnd.jupyter.widget-view+json": {
       "version_major": 2,
       "version_minor": 0,
       "model_id": "0b0fef6729f44686baec7247801c9765"
      }
     },
     "metadata": {},
     "output_type": "display_data"
    },
    {
     "name": "stdout",
     "output_type": "stream",
     "text": [
      "The monitor shape of \"V\" is (run length, variable size) = (5000, 10)\n",
      "The monitor shape of \"spike\" is (run length, index size) = (5000, 3)\n"
     ]
    }
   ],
   "source": [
    "runner = bp.StructRunner(\n",
    "    HH(10),\n",
    "    monitors=['V',  # monitor all values of Variable 'V' \n",
    "              ('spike', [1, 2, 3])], # monitor values of Variable at index of [1, 2, 3]\n",
    "    inputs=('input', 10.)\n",
    ")\n",
    "runner.run(100.)\n",
    "\n",
    "print(f'The monitor shape of \"V\" is (run length, variable size) = {runner.mon.V.shape}')\n",
    "print(f'The monitor shape of \"spike\" is (run length, index size) = {runner.mon.spike.shape}')"
   ]
  },
  {
   "cell_type": "markdown",
   "id": "6d6ca9e4",
   "metadata": {
    "pycharm": {
     "name": "#%% md\n"
    }
   },
   "source": [
    "Or we can use a dictionary to specify the target indices of a variable:"
   ]
  },
  {
   "cell_type": "code",
   "execution_count": 13,
   "id": "a9b258e9",
   "metadata": {
    "pycharm": {
     "name": "#%%\n"
    }
   },
   "outputs": [
    {
     "data": {
      "text/plain": "  0%|          | 0/5000 [00:00<?, ?it/s]",
      "application/vnd.jupyter.widget-view+json": {
       "version_major": 2,
       "version_minor": 0,
       "model_id": "78b1f89ec4a545d4897ac57af5db3edb"
      }
     },
     "metadata": {},
     "output_type": "display_data"
    },
    {
     "name": "stdout",
     "output_type": "stream",
     "text": [
      "The monitor shape of \"V\" is (run length, variable size) = (5000, 10)\n",
      "The monitor shape of \"spike\" is (run length, index size) = (5000, 3)\n"
     ]
    }
   ],
   "source": [
    "runner = bp.StructRunner(\n",
    "    HH(10),\n",
    "    monitors={'V': None,  # 'None' means all values will be monitored\n",
    "              'spike': [1, 2, 3]},  # specifying the target indices\n",
    "    inputs=('input', 10.),\n",
    ")\n",
    "runner.run(100.)\n",
    "\n",
    "print(f'The monitor shape of \"V\" is (run length, variable size) = {runner.mon.V.shape}')\n",
    "print(f'The monitor shape of \"spike\" is (run length, index size) = {runner.mon.spike.shape}')"
   ]
  },
  {
   "cell_type": "markdown",
   "id": "c80036de",
   "metadata": {
    "pycharm": {
     "name": "#%% md\n"
    }
   },
   "source": [
    "Also, we can directly instantiate a `brainpy.Monitor` class:"
   ]
  },
  {
   "cell_type": "code",
   "execution_count": 14,
   "id": "b36030d1",
   "metadata": {
    "pycharm": {
     "name": "#%%\n"
    }
   },
   "outputs": [
    {
     "data": {
      "text/plain": "  0%|          | 0/5000 [00:00<?, ?it/s]",
      "application/vnd.jupyter.widget-view+json": {
       "version_major": 2,
       "version_minor": 0,
       "model_id": "21f56da2e9ac48918dc32abb6bbd76c9"
      }
     },
     "metadata": {},
     "output_type": "display_data"
    },
    {
     "name": "stdout",
     "output_type": "stream",
     "text": [
      "The monitor shape of \"V\" is (run length, variable size) = (5000, 10)\n",
      "The monitor shape of \"spike\" is (run length, index size) = (5000, 3)\n"
     ]
    }
   ],
   "source": [
    "runner = bp.StructRunner(\n",
    "    HH(10),\n",
    "    monitors=bp.Monitor(variables=['V', ('spike', [1, 2, 3])]), \n",
    "    inputs=('input', 10.),\n",
    ")\n",
    "runner.run(100.)\n",
    "\n",
    "print(f'The monitor shape of \"V\" is (run length, variable size) = {runner.mon.V.shape}')\n",
    "print(f'The monitor shape of \"spike\" is (run length, index size) = {runner.mon.spike.shape}')"
   ]
  },
  {
   "cell_type": "code",
   "execution_count": 15,
   "id": "1440d3c1",
   "metadata": {
    "pycharm": {
     "name": "#%%\n"
    }
   },
   "outputs": [
    {
     "data": {
      "text/plain": "  0%|          | 0/5000 [00:00<?, ?it/s]",
      "application/vnd.jupyter.widget-view+json": {
       "version_major": 2,
       "version_minor": 0,
       "model_id": "e47cf21392d7472f85c44e119934a8b8"
      }
     },
     "metadata": {},
     "output_type": "display_data"
    },
    {
     "name": "stdout",
     "output_type": "stream",
     "text": [
      "The monitor shape of \"V\" is (run length, variable size) = (5000, 10)\n",
      "The monitor shape of \"spike\" is (run length, index size) = (5000, 3)\n"
     ]
    }
   ],
   "source": [
    "runner = bp.StructRunner(\n",
    "    HH(10),\n",
    "    monitors=bp.Monitor(variables={'V': None, 'spike': [1, 2, 3]}),\n",
    "    inputs=('input', 10.),\n",
    ")\n",
    "runner.run(100.)\n",
    "\n",
    "print(f'The monitor shape of \"V\" is (run length, variable size) = {runner.mon.V.shape}')\n",
    "print(f'The monitor shape of \"spike\" is (run length, index size) = {runner.mon.spike.shape}')"
   ]
  },
  {
   "cell_type": "markdown",
   "id": "e80bf355",
   "metadata": {
    "pycharm": {
     "name": "#%% md\n"
    }
   },
   "source": [
    "\n",
    "```{note}\n",
    "Because ``brainpy.Monitor`` records a flattened tensor variable, if users want to record a part of a multi-dimentional variable,  they must provide the indices corrsponding to the flattened tensor.\n",
    "```"
   ]
  }
 ],
 "metadata": {
  "jupytext": {
   "main_language": "python"
  },
  "kernelspec": {
   "name": "python3",
   "language": "python",
   "display_name": "Python 3 (ipykernel)"
  },
  "language_info": {
   "codemirror_mode": {
    "name": "ipython",
    "version": 3
   },
   "file_extension": ".py",
   "mimetype": "text/x-python",
   "name": "python",
   "nbconvert_exporter": "python",
   "pygments_lexer": "ipython3",
   "version": "3.8.8"
  },
  "latex_envs": {
   "LaTeX_envs_menu_present": true,
   "autoclose": false,
   "autocomplete": true,
   "bibliofile": "biblio.bib",
   "cite_by": "apalike",
   "current_citInitial": 1,
   "eqLabelWithNumbers": true,
   "eqNumInitial": 1,
   "hotkeys": {
    "equation": "Ctrl-E",
    "itemize": "Ctrl-I"
   },
   "labels_anchors": false,
   "latex_user_defs": false,
   "report_style_numbering": false,
   "user_envs_cfg": false
  },
  "toc": {
   "base_numbering": 1,
   "nav_menu": {},
   "number_sections": false,
   "sideBar": true,
   "skip_h1_title": false,
   "title_cell": "Table of Contents",
   "title_sidebar": "Contents",
   "toc_cell": false,
   "toc_position": {
    "height": "calc(100% - 180px)",
    "left": "10px",
    "top": "150px",
    "width": "279.273px"
   },
   "toc_section_display": true,
   "toc_window_display": true
  }
 },
 "nbformat": 4,
 "nbformat_minor": 5
}