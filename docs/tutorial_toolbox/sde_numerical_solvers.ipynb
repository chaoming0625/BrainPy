{
 "cells": [
  {
   "cell_type": "markdown",
   "id": "premium-shield",
   "metadata": {},
   "source": [
    "# Numerical Solvers for Stochastic Differential Equations"
   ]
  },
  {
   "cell_type": "markdown",
   "id": "292cad9b",
   "metadata": {},
   "source": [
    "@[Chaoming Wang](mailto:adaduo@outlook.com)"
   ]
  },
  {
   "cell_type": "markdown",
   "id": "0f1e62e8",
   "metadata": {},
   "source": [
    "`BrainPy` provides several numerical methods for stochastic differential equations (SDEs). Specifically, we provide explicit Runge-Kutta methods, derivative-free Milstein methods, and exponential Euler method for SDE numerical integration. "
   ]
  },
  {
   "cell_type": "code",
   "execution_count": 1,
   "id": "223eeef0",
   "metadata": {},
   "outputs": [
    {
     "data": {
      "text/plain": "'2.3.0'"
     },
     "execution_count": 1,
     "metadata": {},
     "output_type": "execute_result"
    }
   ],
   "source": [
    "import brainpy as bp\n",
    "\n",
    "bp.__version__"
   ]
  },
  {
   "cell_type": "code",
   "execution_count": 2,
   "id": "5d6e39f4",
   "metadata": {},
   "outputs": [],
   "source": [
    "import matplotlib.pyplot as plt"
   ]
  },
  {
   "cell_type": "markdown",
   "id": "incoming-result",
   "metadata": {},
   "source": [
    "## How to define SDE functions?"
   ]
  },
  {
   "cell_type": "markdown",
   "id": "parental-rogers",
   "metadata": {},
   "source": [
    "For a one-dimensional stochastic differentiable equation (SDE) with scalar Wiener noise, it is given by\n",
    "\n",
    "$$\n",
    "\\begin{aligned}\n",
    "d X_{t}&=f\\left(X_{t}, t, p_1\\right) d t+g\\left(X_{t}, t, p_2\\right) d W_{t} \\quad (1)\n",
    "\\end{aligned}\n",
    "$$\n",
    "\n",
    "where $X_t = X(t)$ is the realization of a stochastic process or random variable, $f(X_t, t)$ is the drift coefficient, $g(X_t, t)$ denotes the diffusion coefficient, the stochastic process $W_t$ is called Wiener process. "
   ]
  },
  {
   "cell_type": "markdown",
   "id": "marine-pencil",
   "metadata": {},
   "source": [
    "For this SDE system, we can define two Python funtions $f$ and $g$ to represent it."
   ]
  },
  {
   "cell_type": "code",
   "execution_count": 3,
   "id": "skilled-continuity",
   "metadata": {
    "ExecuteTime": {
     "end_time": "2021-03-24T11:08:30.661294Z",
     "start_time": "2021-03-24T11:08:30.648269Z"
    }
   },
   "outputs": [],
   "source": [
    "def g_part(x, t, p1, p2):\n",
    "    dg = g(x, t, p2)\n",
    "    return dg\n",
    "\n",
    "def f_part(x, t, p1, p2):\n",
    "    df = f(x, t, p1)\n",
    "    return df"
   ]
  },
  {
   "cell_type": "markdown",
   "id": "worth-vertex",
   "metadata": {},
   "source": [
    "Same with the ODE functions, the arguments before $t$ denotes the random variables, while the arguments defined after $t$ represents the parameters.  For the SDE function with scalar noise, the size of the return data $dg$ and $df$ should be the same. For example, $df \\in R^d, dg \\in R^d$."
   ]
  },
  {
   "cell_type": "markdown",
   "id": "collect-connecticut",
   "metadata": {},
   "source": [
    "However, for a more general SDE system, it usually has multi-dimensional driving Wiener process:\n",
    "\n",
    "$$\n",
    "dX_t=f(X_t)dt+\\sum_{\\alpha=1}^{m}g_{\\alpha }(X_t)dW_t ^{\\alpha}\n",
    "$$\n",
    "\n",
    "For such $m$-dimensional noise system, the coding schema is the same with the scalar ones, but with the difference of that the data size of $dg$ has one more dimension. For example, $df \\in R^{d}, dg \\in R^{m \\times d}$."
   ]
  },
  {
   "cell_type": "markdown",
   "id": "human-virgin",
   "metadata": {},
   "source": [
    "## How to define the numerical integration for SDEs?"
   ]
  },
  {
   "cell_type": "markdown",
   "id": "numeric-success",
   "metadata": {},
   "source": [
    "Brefore the numerical integration of SDE functions, we should distinguish two kinds of SDE integrals. For the integration of system (1), we can get\n",
    "\n",
    "$$\n",
    "\\begin{aligned}\n",
    "X_{t}&=X_{t_{0}}+\\int_{t_{0}}^{t} f\\left(X_{s}, s\\right) d s+\\int_{t_{0}}^{t} g\\left(X_{s}, s\\right) d W_{s} \\quad (2)\n",
    "\\end{aligned}\n",
    "$$"
   ]
  },
  {
   "cell_type": "markdown",
   "id": "neutral-telescope",
   "metadata": {},
   "source": [
    "In 1940s, the Japanese mathematician K. Ito denoted a type of integral called *Ito stochastic integral*. In 1960s, the Russian physicist R. L. Stratonovich proposed an other kind of stochastic integral called *Stratonovich stochastic integral* and used the symbol \"$\\circ$\" to distinct it from the former Ito integral.\n",
    "\n",
    "$$\n",
    "\\begin{aligned}\n",
    "d X_{t} &=f\\left(X_{t}, t\\right) d t+g\\left(X_{t}, t\\right) \\circ d W_{t} \\\\\n",
    "X_{t} &=X_{t_{0}}+\\int_{t_{0}}^{t} f\\left(X_{s}, s\\right) d s+\\int_{t_{0}}^{t} g\\left(X_{s}, s\\right) \\circ d W_{s}  \\quad (3)\n",
    "\\end{aligned}\n",
    "$$"
   ]
  },
  {
   "cell_type": "markdown",
   "id": "classical-authority",
   "metadata": {},
   "source": [
    "The difference of Ito integral (2) and Stratonovich integral (3) lies at the second integral term, which can be written in a general form as\n",
    "\n",
    "$$\n",
    "\\begin{split}\n",
    "\\int_{t_{0}}^{t} g\\left(X_{s}, s\\right) d W_{s} &=\\lim _{h \\rightarrow 0} \\sum_{k=0}^{m-1} g\\left(X_{\\tau_{k}}, \\tau_{k}\\right)\\left(W\\left(t_{k+1}\\right)-W\\left(t_{k}\\right)\\right) \\\\\n",
    "\\mathrm{where} \\quad & h = t_{k+1} - t_{k} \\\\\n",
    "              & \\tau_k = (1-\\lambda)t_k +\\lambda t_{k+1}\n",
    "\\end{split}\n",
    "$$\n",
    "\n",
    "- In the stochastic integral of the Ito SDE, $\\lambda=0$, thus $\\tau_k=t_k$; \n",
    "\n",
    "- In the definition of the Stratonovich integral, $\\lambda=0.5$, thus $\\tau_k=(t_{k+1} + t_{k}) / 2$."
   ]
  },
  {
   "cell_type": "markdown",
   "id": "japanese-chart",
   "metadata": {},
   "source": [
    "In BrainPy, these two different integrals can be easily implemented. What need the users do is to provide a keyword `sde_type` in decorator `bp.sdeint`. `intg_type` can be \"bp.integrators.STRA_SDE\" or \"bp.integrators.ITO_SDE\" (default). Also, the different type of Wiener process can also be easily distinguished by the `wiener_type` keyword. It can be \"bp.integrators.SCALAR_WIENER\"  (default) or \"bp.integrators.VECTOR_WIENER\"."
   ]
  },
  {
   "cell_type": "markdown",
   "id": "legislative-geography",
   "metadata": {},
   "source": [
    "Now, let's numerically integrate the SDE (1) by the Ito way with the Milstein method:"
   ]
  },
  {
   "cell_type": "code",
   "execution_count": 4,
   "id": "beginning-buying",
   "metadata": {
    "ExecuteTime": {
     "end_time": "2021-03-24T11:08:30.677270Z",
     "start_time": "2021-03-24T11:08:30.664263Z"
    }
   },
   "outputs": [
    {
     "name": "stderr",
     "output_type": "stream",
     "text": [
      "WARNING:jax._src.lib.xla_bridge:No GPU/TPU found, falling back to CPU. (Set TF_CPP_MIN_LOG_LEVEL=0 and rerun for more info.)\n"
     ]
    }
   ],
   "source": [
    "def g_part(x, t, p1, p2):\n",
    "    dg = g(x, t, p2)\n",
    "    return dg  # shape=(d,)\n",
    "\n",
    "@bp.sdeint(g=g_part, method='milstein')\n",
    "def f_part(x, t, p1, p2):\n",
    "    df = f(x, t, p1)\n",
    "    return df  # shape=(d,)"
   ]
  },
  {
   "cell_type": "markdown",
   "id": "minimal-asthma",
   "metadata": {},
   "source": [
    "Or, it can be expressed as:"
   ]
  },
  {
   "cell_type": "code",
   "execution_count": 5,
   "id": "casual-architecture",
   "metadata": {
    "ExecuteTime": {
     "end_time": "2021-03-24T11:08:30.708260Z",
     "start_time": "2021-03-24T11:08:30.680263Z"
    }
   },
   "outputs": [],
   "source": [
    "def g_part(x, t, p1, p2):\n",
    "    dg = g(x, t, p2)\n",
    "    return dg  # shape=(d,)\n",
    "\n",
    "def f_part(x, t, p1, p2):\n",
    "    df = f(x, t, p1)\n",
    "    return df  # shape=(d,)\n",
    "\n",
    "integral = bp.sdeint(f=f_part, g=g_part, method='milstein')"
   ]
  },
  {
   "cell_type": "markdown",
   "id": "willing-clear",
   "metadata": {},
   "source": [
    "However, if you try to numerically integrate the SDE with multi-dimensional Wiener process by the Stratonovich ways, you can code it like this:"
   ]
  },
  {
   "cell_type": "code",
   "execution_count": 6,
   "id": "ready-conspiracy",
   "metadata": {
    "ExecuteTime": {
     "end_time": "2021-03-24T11:08:30.739259Z",
     "start_time": "2021-03-24T11:08:30.712276Z"
    }
   },
   "outputs": [],
   "source": [
    "def g_part(x, t, p1, p2):\n",
    "    dg = g(x, t, p2)\n",
    "    return dg  # shape=(m, d)\n",
    "\n",
    "def f_part(x, t, p1, p2):\n",
    "    df = f(x, t, p1)\n",
    "    return df  # shape=(d,)\n",
    "\n",
    "integral = bp.sdeint(f=f_part, \n",
    "                     g=g_part, \n",
    "                     method='milstein', \n",
    "                     intg_type=bp.integrators.STRA_SDE, \n",
    "                     wiener_type=bp.integrators.VECTOR_WIENER)"
   ]
  },
  {
   "cell_type": "markdown",
   "id": "challenging-rental",
   "metadata": {},
   "source": [
    "## Example: Noisy Lorenz system"
   ]
  },
  {
   "cell_type": "markdown",
   "id": "stretch-heaven",
   "metadata": {},
   "source": [
    "Here, let's demenstrate how to define a numerical solver for SDEs with the famous [Lorenz system](https://en.wikipedia.org/wiki/Lorenz_system): \n",
    "\n",
    "$$\n",
    "\\begin{array}{l}\n",
    "\\frac{d x}{dt}&=\\sigma(y-x) &+ px*\\xi_x \\\\\n",
    "\\frac{d y}{dt}&=x(\\rho-z)-y &+ py*\\xi_y\\\\\n",
    "\\frac{d z}{dt}&=x y-\\beta z &+ pz*\\xi_z\n",
    "\\end{array}\n",
    "$$"
   ]
  },
  {
   "cell_type": "code",
   "execution_count": 7,
   "id": "checked-greece",
   "metadata": {
    "ExecuteTime": {
     "end_time": "2021-03-24T11:08:30.755264Z",
     "start_time": "2021-03-24T11:08:30.742270Z"
    }
   },
   "outputs": [],
   "source": [
    "sigma = 10; beta = 8/3; \n",
    "rho = 28;   p = 0.1\n",
    "\n",
    "def lorenz_g(x, y, z, t):\n",
    "    return p * x, p * y, p * z\n",
    "\n",
    "def lorenz_f(x, y, z, t):\n",
    "    dx = sigma * (y - x)\n",
    "    dy = x * (rho - z) - y\n",
    "    dz = x * y - beta * z\n",
    "    return dx, dy, dz\n",
    "\n",
    "lorenz = bp.sdeint(f=lorenz_f, \n",
    "                   g=lorenz_g, \n",
    "                   intg_type=bp.integrators.ITO_SDE,\n",
    "                   wiener_type=bp.integrators.SCALAR_WIENER)"
   ]
  },
  {
   "cell_type": "markdown",
   "source": [
    "To run this integrator, we use [brainpy.integrators.IntegratorRunner](../tutorial_toolbox/runners.ipynb), which can JIT compile the model to gain impressive speed."
   ],
   "metadata": {
    "collapsed": false
   }
  },
  {
   "cell_type": "code",
   "execution_count": 8,
   "outputs": [
    {
     "data": {
      "text/plain": "  0%|          | 0/50000 [00:00<?, ?it/s]",
      "application/vnd.jupyter.widget-view+json": {
       "version_major": 2,
       "version_minor": 0,
       "model_id": "d5b0329d822946ab8c2ba72e2b21b9ce"
      }
     },
     "metadata": {},
     "output_type": "display_data"
    },
    {
     "data": {
      "text/plain": "<Figure size 432x288 with 1 Axes>",
      "image/png": "[encoded data removed]"
     },
     "metadata": {
      "needs_background": "light"
     },
     "output_type": "display_data"
    }
   ],
   "source": [
    "runner = bp.IntegratorRunner(\n",
    "    lorenz,\n",
    "    monitors=['x', 'y', 'z'],\n",
    "    inits=[1., 1., 1.],\n",
    "    dt=0.001\n",
    ")\n",
    "runner.run(50.)\n",
    "\n",
    "fig = plt.figure()\n",
    "ax = plt.axes(projection='3d')\n",
    "plt.plot(runner.mon.x[:, 0], runner.mon.y[:, 0], runner.mon.z[:, 0])\n",
    "ax.set_xlabel('x')\n",
    "ax.set_xlabel('y')\n",
    "ax.set_xlabel('z')\n",
    "plt.show()"
   ],
   "metadata": {
    "collapsed": false
   }
  },
  {
   "cell_type": "markdown",
   "source": [
    "We can also rewrite the above differential equation as a [JointEq](./joint_equations.ipynb) of separable equations, so that it can be applied to Exponential Euler method."
   ],
   "metadata": {
    "collapsed": false
   }
  },
  {
   "cell_type": "code",
   "execution_count": 9,
   "outputs": [],
   "source": [
    "dx = lambda x, t, y: sigma * (y - x)\n",
    "dy = lambda y, t, x, z: x * (rho - z) - y\n",
    "dz = lambda z, t, x, y: x * y - beta * z\n",
    "lorenz_f = bp.JointEq(dx, dy, dz)"
   ],
   "metadata": {
    "collapsed": false
   }
  },
  {
   "cell_type": "code",
   "execution_count": 10,
   "outputs": [
    {
     "data": {
      "text/plain": "  0%|          | 0/50000 [00:00<?, ?it/s]",
      "application/vnd.jupyter.widget-view+json": {
       "version_major": 2,
       "version_minor": 0,
       "model_id": "55abd7027e774d5db622bf58a7f0f900"
      }
     },
     "metadata": {},
     "output_type": "display_data"
    },
    {
     "data": {
      "text/plain": "<Figure size 432x288 with 1 Axes>",
      "image/png": "[encoded data removed]"
     },
     "metadata": {
      "needs_background": "light"
     },
     "output_type": "display_data"
    }
   ],
   "source": [
    "lorenz = bp.sdeint(f=lorenz_f,\n",
    "                   g=lorenz_g,\n",
    "                   intg_type=bp.integrators.ITO_SDE,\n",
    "                   wiener_type=bp.integrators.SCALAR_WIENER,\n",
    "                   method='exp_euler')\n",
    "\n",
    "runner = bp.IntegratorRunner(\n",
    "    lorenz, monitors=['x', 'y', 'z'], inits=[1., 1., 1.], dt=0.001\n",
    ")\n",
    "runner.run(50.)\n",
    "\n",
    "plt.figure()\n",
    "ax = plt.axes(projection='3d')\n",
    "plt.plot(runner.mon.x[:, 0], runner.mon.y[:, 0], runner.mon.z[:, 0])\n",
    "ax.set_xlabel('x')\n",
    "ax.set_xlabel('y')\n",
    "ax.set_xlabel('z')\n",
    "plt.show()"
   ],
   "metadata": {
    "collapsed": false
   }
  },
  {
   "cell_type": "markdown",
   "id": "2968e77f",
   "metadata": {},
   "source": [
    "## Supported SDE Numerical Methods "
   ]
  },
  {
   "cell_type": "markdown",
   "id": "c71e9b24",
   "metadata": {},
   "source": [
    "`BrainPy` provides several numerical methods for stochastic differential equations (SDEs). Specifically, we provide explicit Runge-Kutta methods, derivative-free Milstein methods, and exponential Euler method for SDE numerical integration. "
   ]
  },
  {
   "cell_type": "markdown",
   "id": "318047d8",
   "metadata": {},
   "source": [
    "| Methods                                                                                                       | Keywords           | Ito SDE support | Stratonovich SDE support | Scalar Wiener support | Vector Wiener support |\n",
    "|---------------------------------------------------------------------------------------------------------------| ------------------ | --------------- | ------------------------ | --------------------- | --------------------- |\n",
    "| [Strong SRK scheme: SRI1W1](../apis/auto/integrators/generated/brainpy.integrators.sde.srk_scalar.SRK1W1.rst) | srk1w1_scalar     | Yes             |                          | Yes                   |                       |\n",
    "| [Strong SRK scheme: SRI2W1](../apis/auto/integrators/generated/brainpy.integrators.sde.srk_scalar.SRK2W1.rst) | srk2w1_scalar     | Yes             |                          | Yes                   |                       |\n",
    "| [Strong SRK scheme: KlPl](../apis/auto/integrators/generated/brainpy.integrators.sde.srk_scalar.KlPl.rst)     | KlPl_scalar       | Yes             |                          | Yes                   |                       |\n",
    "| [Euler method](../apis/auto/integrators/generated/brainpy.integrators.sde.normal.Euler.rst)                   | euler              | Yes             | Yes                      | Yes                   | Yes                   |\n",
    "| [Heun method](../apis/auto/integrators/generated/brainpy.integrators.sde.normal.Heun.rst)                            | heun               |                 | Yes                      | Yes                   | Yes                   |\n",
    "| [Milstein](../apis/auto/integrators/generated/brainpy.integrators.sde.normal.Milstein.rst)           | milstein           | Yes             | Yes                      | Yes                   | Yes                   |\n",
    "| [Derivative-free Milstein](../apis/auto/integrators/generated/brainpy.integrators.sde.normal.MilsteinGradFree.rst)           | milstein_grad_free           | Yes             | Yes                      | Yes                   | Yes                   |\n",
    "| [Exponential Euler](../apis/auto/integrators/generated/brainpy.integrators.sde.normal.ExponentialEuler.rst)          | exp_euler | Yes             |                          | Yes                   | Yes                   |"
   ]
  }
 ],
 "metadata": {
  "hide_input": false,
  "jupytext": {
   "encoding": "# -*- coding: utf-8 -*-"
  },
  "language_info": {
   "codemirror_mode": {
    "name": "ipython",
    "version": 3
   },
   "file_extension": ".py",
   "mimetype": "text/x-python",
   "name": "python",
   "nbconvert_exporter": "python",
   "pygments_lexer": "ipython3",
   "version": "3.8.10"
  },
  "latex_envs": {
   "LaTeX_envs_menu_present": true,
   "autoclose": false,
   "autocomplete": true,
   "bibliofile": "biblio.bib",
   "cite_by": "apalike",
   "current_citInitial": 1,
   "eqLabelWithNumbers": true,
   "eqNumInitial": 1,
   "hotkeys": {
    "equation": "Ctrl-E",
    "itemize": "Ctrl-I"
   },
   "labels_anchors": false,
   "latex_user_defs": false,
   "report_style_numbering": false,
   "user_envs_cfg": false
  },
  "toc": {
   "base_numbering": 1,
   "nav_menu": {
    "height": "265px",
    "width": "436px"
   },
   "number_sections": false,
   "sideBar": true,
   "skip_h1_title": false,
   "title_cell": "Table of Contents",
   "title_sidebar": "Contents",
   "toc_cell": false,
   "toc_position": {},
   "toc_section_display": true,
   "toc_window_display": true
  },
  "varInspector": {
   "cols": {
    "lenName": 16,
    "lenType": 16,
    "lenVar": 40
   },
   "kernels_config": {
    "python": {
     "delete_cmd_postfix": "",
     "delete_cmd_prefix": "del ",
     "library": "var_list.py",
     "varRefreshCmd": "print(var_dic_list())"
    },
    "r": {
     "delete_cmd_postfix": ") ",
     "delete_cmd_prefix": "rm(",
     "library": "var_list.r",
     "varRefreshCmd": "cat(var_dic_list()) "
    }
   },
   "types_to_exclude": [
    "module",
    "function",
    "builtin_function_or_method",
    "instance",
    "_Feature"
   ],
   "window_display": false
  }
 },
 "nbformat": 4,
 "nbformat_minor": 5
}
