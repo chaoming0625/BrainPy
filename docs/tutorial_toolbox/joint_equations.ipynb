{
 "cells": [
  {
   "cell_type": "markdown",
   "id": "1df2a482",
   "metadata": {
    "pycharm": {
     "name": "#%% md\n"
    }
   },
   "source": [
    "# Joint Differential Equations"
   ]
  },
  {
   "cell_type": "markdown",
   "id": "109f9b4e",
   "metadata": {
    "pycharm": {
     "name": "#%% md\n"
    }
   },
   "source": [
    "@[Xiaoyu Chen](mailto:c-xy17@tsinghua.org.cn)"
   ]
  },
  {
   "cell_type": "markdown",
   "id": "c9df7780",
   "metadata": {
    "pycharm": {
     "name": "#%% md\n"
    }
   },
   "source": [
    "In a [dynamical system](../tutorial_building/dynamical_systems.ipynb), there may be multiple variables that change dynamically over time. Sometimes these variables are interconnected, and updating one variable requires others as the input. For example, in the widely known Hodgkin–Huxley model, the variables $V$, $m$, $h$, and $n$ are updated synchronously and interdependently (please refer to [Building Neuron Models](../tutorial_building/neuron_models.ipynb)for details). To achieve higher integral accuracy, it is recommended to use ``brainpy.JointEq`` to jointly solving interconnected differential equations."
   ]
  },
  {
   "cell_type": "code",
   "execution_count": 11,
   "id": "be08d171",
   "metadata": {
    "pycharm": {
     "name": "#%%\n"
    }
   },
   "outputs": [],
   "source": [
    "import brainpy as bp"
   ]
  },
  {
   "cell_type": "markdown",
   "id": "991cf807",
   "metadata": {
    "pycharm": {
     "name": "#%% md\n"
    }
   },
   "source": [
    "## ``brainpy.JointEq``"
   ]
  },
  {
   "cell_type": "markdown",
   "id": "05d270a9",
   "metadata": {
    "pycharm": {
     "name": "#%% md\n"
    }
   },
   "source": [
    "``brainpy.JointEq`` is used to merge individual but interconnected differential equations into a single joint equation. For example, below are the two differential equations of the Izhikevich model:"
   ]
  },
  {
   "cell_type": "code",
   "execution_count": 12,
   "id": "2921b856",
   "metadata": {
    "pycharm": {
     "name": "#%%\n"
    }
   },
   "outputs": [],
   "source": [
    "a, b = 0.02, 0.20\n",
    "dV = lambda V, t, u, Iext: 0.04 * V * V + 5 * V + 140 - u + Iext\n",
    "du = lambda u, t, V: a * (b * V - u)"
   ]
  },
  {
   "cell_type": "markdown",
   "id": "44527a26",
   "metadata": {
    "pycharm": {
     "name": "#%% md\n"
    }
   },
   "source": [
    "Where updating $V$ requires $u$ as the input, and updating $u$ requires $V$ as the input. The joint equation can be defined as:"
   ]
  },
  {
   "cell_type": "code",
   "execution_count": 13,
   "id": "08ac3b75",
   "metadata": {
    "pycharm": {
     "name": "#%%\n"
    }
   },
   "outputs": [],
   "source": [
    "joint_eq = bp.JointEq(dV, du)"
   ]
  },
  {
   "cell_type": "markdown",
   "id": "7dcfcc88",
   "metadata": {
    "pycharm": {
     "name": "#%% md\n"
    }
   },
   "source": [
    "``brainpy.JointEq`` receives only one argument named `eqs`, which can be a list or tuple containing multiple differential equations. Then it can be packed into a numarical integrator that solves the equation with a specified method, just as what can be done to any individual differential equation."
   ]
  },
  {
   "cell_type": "code",
   "execution_count": 14,
   "id": "356cf60d",
   "metadata": {
    "pycharm": {
     "name": "#%%\n"
    }
   },
   "outputs": [],
   "source": [
    "itg = bp.odeint(joint_eq, method='rk2')"
   ]
  },
  {
   "cell_type": "markdown",
   "id": "1145f933",
   "metadata": {
    "pycharm": {
     "name": "#%% md\n"
    }
   },
   "source": [
    "There are several requirements for defining a joint equation:\n",
    "1. Every individual differential equation should follow the format of defining a [ODE](ode_numerical_solvers.ipynb) or [SDE](sde_numerical_solvers.ipynb) funtion in BrainPy. For example, the arguments before `t` denote the dynamical variables and arguments after `t` denote the parameters.\n",
    "2. The same variable in different equations should have the same name. Different variables should named differently.\n",
    "\n",
    "Note that `brainpy.JointEq` supports make nested ``JointEq``, which means the instance of ``JointEq`` can be an element to compose a new ``JointEq``."
   ]
  },
  {
   "cell_type": "markdown",
   "id": "e1f7c666",
   "metadata": {
    "pycharm": {
     "name": "#%% md\n"
    }
   },
   "source": [
    "## Why use `brainpy.JointEq`?"
   ]
  },
  {
   "cell_type": "markdown",
   "id": "a3996db1",
   "metadata": {
    "pycharm": {
     "name": "#%% md\n"
    }
   },
   "source": [
    "Users may be confused with the function of `brainpy.JointEq`, because multiple differential equations can be written in a single function:"
   ]
  },
  {
   "cell_type": "code",
   "execution_count": 15,
   "id": "4dec7537",
   "metadata": {
    "pycharm": {
     "name": "#%%\n"
    }
   },
   "outputs": [],
   "source": [
    "def diff(V, u, t, Iext):\n",
    "    dV = 0.04 * V * V + 5 * V + 140 - u + Iext\n",
    "    du = a * (b * V - u)\n",
    "    return dV, du\n",
    "\n",
    "itg_V_u = bp.odeint(diff, method='rk2')"
   ]
  },
  {
   "cell_type": "markdown",
   "id": "5943bc7a",
   "metadata": {
    "pycharm": {
     "name": "#%% md\n"
    }
   },
   "source": [
    "or simply packed into interators separately:"
   ]
  },
  {
   "cell_type": "code",
   "execution_count": 16,
   "id": "12e5d88d",
   "metadata": {
    "pycharm": {
     "name": "#%%\n"
    }
   },
   "outputs": [],
   "source": [
    "int_V = bp.odeint(dV, method='rk2')\n",
    "int_u = bp.odeint(du, method='rk2')"
   ]
  },
  {
   "cell_type": "markdown",
   "id": "50963fe1",
   "metadata": {
    "pycharm": {
     "name": "#%% md\n"
    }
   },
   "source": [
    "To illusrate the difference between joint and separate differential equations, let's dive into the differential codes of these two types of equations. \n",
    "\n",
    "If we make numerical solver for each derivative function, they will be solved independently:"
   ]
  },
  {
   "cell_type": "code",
   "execution_count": 10,
   "id": "38101bec",
   "metadata": {
    "pycharm": {
     "name": "#%%\n"
    }
   },
   "outputs": [
    {
     "name": "stdout",
     "output_type": "stream",
     "text": [
      "def brainpy_itg_of_ode6(V, t, u, Iext, dt=0.1):\n",
      "  dV_k1 = f(V, t, u, Iext)\n",
      "  k2_V_arg = V + dt * dV_k1 * 0.6666666666666666\n",
      "  k2_t_arg = t + dt * 0.6666666666666666\n",
      "  dV_k2 = f(k2_V_arg, k2_t_arg, u, Iext)\n",
      "  V_new = V + dV_k1 * dt * 0.25 + dV_k2 * dt * 0.75\n",
      "  return V_new\n",
      "\n",
      "{'f': <function <lambda> at 0x0000022948DD6A60>}\n",
      "\n"
     ]
    },
    {
     "data": {
      "text/plain": [
       "<brainpy.integrators.ode.explicit_rk.RK2 at 0x229660543a0>"
      ]
     },
     "execution_count": 10,
     "metadata": {},
     "output_type": "execute_result"
    }
   ],
   "source": [
    "import brainpy as bp\n",
    "bp.odeint(dV, method='rk2', show_code=True)"
   ]
  },
  {
   "cell_type": "markdown",
   "id": "8500a6c7",
   "metadata": {
    "pycharm": {
     "name": "#%% md\n"
    }
   },
   "source": [
    "As is shown in the output code, the variable $V$ is integrated twice by the RK2 method. For the second differential value `dV_k2`, the updated value of $V$ (`k2_V_arg`) and original $u$ are used to calculate the differential value. This will generate a tiny error, since the values of $V$ and $u$ are taken at different times.\n",
    "\n",
    "To eliminate this error, the differential equation of $V$ and $u$ should be solved jointly through `brainpy.JointEq`:"
   ]
  },
  {
   "cell_type": "code",
   "execution_count": 19,
   "id": "32901ae6",
   "metadata": {
    "pycharm": {
     "name": "#%%\n"
    }
   },
   "outputs": [
    {
     "name": "stdout",
     "output_type": "stream",
     "text": [
      "def brainpy_itg_of_ode12_joint_eq(V, u, t, Iext, dt=0.1):\n",
      "  dV_k1, du_k1 = f(V, u, t, Iext)\n",
      "  k2_V_arg = V + dt * dV_k1 * 0.6666666666666666\n",
      "  k2_u_arg = u + dt * du_k1 * 0.6666666666666666\n",
      "  k2_t_arg = t + dt * 0.6666666666666666\n",
      "  dV_k2, du_k2 = f(k2_V_arg, k2_u_arg, k2_t_arg, Iext)\n",
      "  V_new = V + dV_k1 * dt * 0.25 + dV_k2 * dt * 0.75\n",
      "  u_new = u + du_k1 * dt * 0.25 + du_k2 * dt * 0.75\n",
      "  return V_new, u_new\n",
      "\n",
      "{'f': <brainpy.integrators.joint_eq.JointEq object at 0x0000022967EC0C40>}\n",
      "\n"
     ]
    },
    {
     "data": {
      "text/plain": [
       "<brainpy.integrators.ode.explicit_rk.RK2 at 0x22967ec0160>"
      ]
     },
     "execution_count": 19,
     "metadata": {},
     "output_type": "execute_result"
    }
   ],
   "source": [
    "eq = bp.JointEq(eqs=(dV, du))\n",
    "bp.odeint(eq, method='rk2', show_code=True)"
   ]
  },
  {
   "cell_type": "markdown",
   "id": "6a1a9669",
   "metadata": {
    "pycharm": {
     "name": "#%% md\n"
    }
   },
   "source": [
    "It is shown in this output code that second differential values of $v$ and $u$ are calculated by using the updated values (`k2_V_arg` and `k2_u_arg`) at the same time. This will result in a more accurate integral."
   ]
  },
  {
   "cell_type": "markdown",
   "id": "73051bec",
   "metadata": {
    "pycharm": {
     "name": "#%% md\n"
    }
   },
   "source": [
    "The figure below compares the simulation results of the Izhikevich model using joint and separate differential equations ($dt = 0.2 ms$). It is shown that as the simulation time increases, the integral error becomes greater.\n",
    "\n",
    "<img src=\"../_static/joint_and_separate_equations.png\" width=\"900 px\">"
   ]
  },
  {
   "cell_type": "code",
   "execution_count": null,
   "id": "3b3aeeb3",
   "metadata": {
    "pycharm": {
     "name": "#%%\n"
    }
   },
   "outputs": [],
   "source": []
  }
 ],
 "metadata": {
  "kernelspec": {
   "display_name": "Python [conda env:root] *",
   "language": "python",
   "name": "conda-root-py"
  },
  "language_info": {
   "codemirror_mode": {
    "name": "ipython",
    "version": 3
   },
   "file_extension": ".py",
   "mimetype": "text/x-python",
   "name": "python",
   "nbconvert_exporter": "python",
   "pygments_lexer": "ipython3",
   "version": "3.8.8"
  }
 },
 "nbformat": 4,
 "nbformat_minor": 5
}