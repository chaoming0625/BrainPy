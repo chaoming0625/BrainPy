{
 "cells": [
  {
   "cell_type": "markdown",
   "id": "premium-shield",
   "metadata": {
    "pycharm": {
     "name": "#%% md\n"
    }
   },
   "source": [
    "# Numerical Solvers for Ordinary Differential Equations"
   ]
  },
  {
   "cell_type": "markdown",
   "id": "4a30ac68",
   "metadata": {
    "pycharm": {
     "name": "#%% md\n"
    }
   },
   "source": [
    "@[Chaoming Wang](mailto:chao.brain@qq.com)\n",
    "@[Xiaoyu Chen](mailto:c-xy17@tsinghua.org.cn)"
   ]
  },
  {
   "cell_type": "markdown",
   "id": "destroyed-smooth",
   "metadata": {
    "pycharm": {
     "name": "#%% md\n"
    }
   },
   "source": [
    "Brain modeling toolkit provided in BrainPy is focused on **differential equations**. How to solve differential equations is the essence of the neurodynamics simulation. The exact algebraic solutions are only available for low-order differential equations. For the coupled high-dimensional non-linear brain dynamical systems, we need to resort to numerical methods for solving such differential equations. \n",
    "\n",
    "This section will illustrate how to define ordinary differential quations (ODEs) and how to define the numerical integration methods for ODEs in BrainPy."
   ]
  },
  {
   "cell_type": "code",
   "execution_count": 1,
   "id": "specialized-wyoming",
   "metadata": {
    "ExecuteTime": {
     "end_time": "2021-03-24T11:08:28.570200Z",
     "start_time": "2021-03-24T11:08:26.556045Z"
    },
    "pycharm": {
     "name": "#%%\n"
    }
   },
   "outputs": [],
   "source": [
    "import brainpy as bp\n",
    "import brainpy.math as bm\n",
    "import matplotlib.pyplot as plt\n",
    "\n",
    "bm.set_platform('cpu')\n",
    "\n",
    "%matplotlib inline"
   ]
  },
  {
   "cell_type": "markdown",
   "id": "complicated-italy",
   "metadata": {
    "pycharm": {
     "name": "#%% md\n"
    }
   },
   "source": [
    "## How to define ODE functions?"
   ]
  },
  {
   "cell_type": "markdown",
   "id": "removed-championship",
   "metadata": {
    "pycharm": {
     "name": "#%% md\n"
    }
   },
   "source": [
    "BrainPy provides a convenient and intuitive way to define ODE systems. For the ODEs\n",
    "\n",
    "$$\n",
    "{dx \\over dt} = f_1(x, t, y, p_1)\\\\\n",
    "{dy \\over dt} = g_1(y, t, x, p_2)\n",
    "$$\n",
    "\n",
    "we can define them in a Python function: "
   ]
  },
  {
   "cell_type": "code",
   "execution_count": 2,
   "id": "failing-headset",
   "metadata": {
    "ExecuteTime": {
     "end_time": "2021-03-24T11:08:28.586248Z",
     "start_time": "2021-03-24T11:08:28.573214Z"
    },
    "pycharm": {
     "name": "#%%\n"
    }
   },
   "outputs": [],
   "source": [
    "def diff(x, y, t, p1, p2):\n",
    "    dx = f1(x, t, y, p1)\n",
    "    dy = g1(y, t, x, p2)\n",
    "    return dx, dy"
   ]
  },
  {
   "cell_type": "markdown",
   "id": "devoted-television",
   "metadata": {
    "pycharm": {
     "name": "#%% md\n"
    }
   },
   "source": [
    "where `t` denotes the current time, `x` and `y` passed before `t` denote the dynamical variables, and `p1` and `p2` after `t` denote the parameters needed in this system. In the function body, the derivative `f1` and `g1` can be customized by the user's need. Finally, the corresponding derivatives `dx` and `dy` are returned in the same order as that of the variables in the function arguments.\n",
    "\n",
    "For each variabl, it can be a scalar (`var_type = bp.integrators.SCALAR_VAR`), a vector/matrix (`var_type = bp.integrators.POP_VAR`), or a system (`var_type = bp.integrators.SYSTEM_VAR`). The \"system\" means that the argument `x` denotes an array of variables. Take the above example as the demonstration again, we can redefine it as:"
   ]
  },
  {
   "cell_type": "code",
   "execution_count": 3,
   "id": "historical-chapel",
   "metadata": {
    "ExecuteTime": {
     "end_time": "2021-03-24T11:08:28.602248Z",
     "start_time": "2021-03-24T11:08:28.591212Z"
    },
    "pycharm": {
     "name": "#%%\n"
    }
   },
   "outputs": [],
   "source": [
    "def diff(xy, t, p1, p2):\n",
    "    x, y = xy\n",
    "    dx = f1(x, t, y, p1)\n",
    "    dy = g1(y, t, x, p2)\n",
    "    return bm.array([dx, dy])"
   ]
  },
  {
   "cell_type": "markdown",
   "id": "considered-surgery",
   "metadata": {
    "pycharm": {
     "name": "#%% md\n"
    }
   },
   "source": [
    "## How to define the numerical integration for ODEs?"
   ]
  },
  {
   "cell_type": "markdown",
   "id": "mysterious-holiday",
   "metadata": {
    "pycharm": {
     "name": "#%% md\n"
    }
   },
   "source": [
    "After the definition of ODE functions, it is very easy to define the numerical integration for these functions. We just need to put a decorator `bp.odeint` above the ODE function. "
   ]
  },
  {
   "cell_type": "code",
   "execution_count": 4,
   "id": "apparent-structure",
   "metadata": {
    "ExecuteTime": {
     "end_time": "2021-03-24T11:08:28.617260Z",
     "start_time": "2021-03-24T11:08:28.605262Z"
    },
    "pycharm": {
     "name": "#%%\n"
    }
   },
   "outputs": [],
   "source": [
    "@bp.odeint\n",
    "def diff(x, y, t, p1, p2):\n",
    "    dx = f1(x, t, y, p1)\n",
    "    dy = g1(y, t, x, p2)\n",
    "    return dx, dy"
   ]
  },
  {
   "cell_type": "markdown",
   "id": "bb3594ad",
   "metadata": {
    "pycharm": {
     "name": "#%% md\n"
    }
   },
   "source": [
    "After wrapping it by ``bp.odeint``, the function becomes an instance of ``ODEintegrator``."
   ]
  },
  {
   "cell_type": "code",
   "execution_count": 5,
   "id": "d81ff42a",
   "metadata": {
    "pycharm": {
     "name": "#%%\n"
    }
   },
   "outputs": [
    {
     "data": {
      "text/plain": "True"
     },
     "execution_count": 5,
     "metadata": {},
     "output_type": "execute_result"
    }
   ],
   "source": [
    "isinstance(diff, bp.ode.ODEIntegrator)"
   ]
  },
  {
   "cell_type": "markdown",
   "id": "meaning-print",
   "metadata": {
    "ExecuteTime": {
     "end_time": "2021-03-23T15:04:17.122194Z",
     "start_time": "2021-03-23T15:04:15.983197Z"
    },
    "pycharm": {
     "name": "#%% md\n"
    }
   },
   "source": [
    "`bp.odeint` receives several arguments:\n",
    "\n",
    "- **\"method\"**: A string, used to specify the numerical methods to integrate the ODE functions. The default method is [Euler](../apis/integrators/generated/brainpy.integrators.ode.explicit_rk.Euler.rst)."
   ]
  },
  {
   "cell_type": "code",
   "execution_count": 6,
   "id": "3c0c8556",
   "metadata": {
    "pycharm": {
     "name": "#%%\n"
    }
   },
   "outputs": [
    {
     "data": {
      "text/plain": "<brainpy.integrators.ode.explicit_rk.Euler at 0x17fe2b8da30>"
     },
     "execution_count": 6,
     "metadata": {},
     "output_type": "execute_result"
    }
   ],
   "source": [
    "diff"
   ]
  },
  {
   "cell_type": "markdown",
   "id": "aa711731",
   "metadata": {
    "pycharm": {
     "name": "#%% md\n"
    }
   },
   "source": [
    "- **\"dt\"**: A float, used to set the default numerical precision. The default \"dt\" is 0.1. "
   ]
  },
  {
   "cell_type": "code",
   "execution_count": 7,
   "id": "feb87359",
   "metadata": {
    "pycharm": {
     "name": "#%%\n"
    }
   },
   "outputs": [
    {
     "data": {
      "text/plain": "0.1"
     },
     "execution_count": 7,
     "metadata": {},
     "output_type": "execute_result"
    }
   ],
   "source": [
    "diff.dt"
   ]
  },
  {
   "cell_type": "markdown",
   "id": "83c33bb9",
   "metadata": {
    "pycharm": {
     "name": "#%% md\n"
    }
   },
   "source": [
    "- **\"show_code\"**: bool, to indicate whether to show the numerical integration code. Let's take [Euler method](../apis/integrators/generated/brainpy.integrators.ode.explicit_rk.Euler.rst) and [RK4 method](../apis/integrators/generated/brainpy.integrators.ode.explicit_rk.RK4.rst) as the illustrated examples."
   ]
  },
  {
   "cell_type": "code",
   "execution_count": 8,
   "id": "3a1c022c",
   "metadata": {
    "pycharm": {
     "name": "#%%\n"
    }
   },
   "outputs": [
    {
     "name": "stdout",
     "output_type": "stream",
     "text": [
      "def brainpy_itg_of_ode1_diff(x, y, t, p1, p2, dt=0.01):\n",
      "  dx_k1, dy_k1 = f(x, y, t, p1, p2)\n",
      "  x_new = x + dx_k1 * dt * 1\n",
      "  y_new = y + dy_k1 * dt * 1\n",
      "  return x_new, y_new\n",
      "\n",
      "{'f': <function diff at 0x0000017FE2BABEE0>}\n",
      "\n"
     ]
    },
    {
     "data": {
      "text/plain": "<brainpy.integrators.ode.explicit_rk.Euler at 0x17fe2bc7700>"
     },
     "execution_count": 8,
     "metadata": {},
     "output_type": "execute_result"
    }
   ],
   "source": [
    "@bp.odeint(method='euler', show_code=True, dt=0.01)\n",
    "def diff(x, y, t, p1, p2):\n",
    "    dx = f1(x, t, y, p1)\n",
    "    dy = g1(y, t, x, p2)\n",
    "    return dx, dy\n",
    "\n",
    "diff"
   ]
  },
  {
   "cell_type": "code",
   "execution_count": 9,
   "id": "591cbdc8",
   "metadata": {
    "pycharm": {
     "name": "#%%\n"
    }
   },
   "outputs": [
    {
     "name": "stdout",
     "output_type": "stream",
     "text": [
      "def brainpy_itg_of_ode2_diff(x, y, t, p1, p2, dt=0.1):\n",
      "  dx_k1, dy_k1 = f(x, y, t, p1, p2)\n",
      "  k2_x_arg = x + dt * dx_k1 * 0.5\n",
      "  k2_y_arg = y + dt * dy_k1 * 0.5\n",
      "  k2_t_arg = t + dt * 0.5\n",
      "  dx_k2, dy_k2 = f(k2_x_arg, k2_y_arg, k2_t_arg, p1, p2)\n",
      "  k3_x_arg = x + dt * dx_k2 * 0.5\n",
      "  k3_y_arg = y + dt * dy_k2 * 0.5\n",
      "  k3_t_arg = t + dt * 0.5\n",
      "  dx_k3, dy_k3 = f(k3_x_arg, k3_y_arg, k3_t_arg, p1, p2)\n",
      "  k4_x_arg = x + dt * dx_k3\n",
      "  k4_y_arg = y + dt * dy_k3\n",
      "  k4_t_arg = t + dt\n",
      "  dx_k4, dy_k4 = f(k4_x_arg, k4_y_arg, k4_t_arg, p1, p2)\n",
      "  x_new = x + dx_k1 * dt * 1/6 + dx_k2 * dt * 1/3 + dx_k3 * dt * 1/3 + dx_k4 * dt * 1/6\n",
      "  y_new = y + dy_k1 * dt * 1/6 + dy_k2 * dt * 1/3 + dy_k3 * dt * 1/3 + dy_k4 * dt * 1/6\n",
      "  return x_new, y_new\n",
      "\n",
      "{'f': <function diff at 0x0000017FE2BCA430>}\n",
      "\n"
     ]
    },
    {
     "data": {
      "text/plain": "<brainpy.integrators.ode.explicit_rk.RK4 at 0x17fe2bc7e80>"
     },
     "execution_count": 9,
     "metadata": {},
     "output_type": "execute_result"
    }
   ],
   "source": [
    "@bp.odeint(method='rk4', show_code=True, dt=0.1)\n",
    "def diff(x, y, t, p1, p2):\n",
    "    dx = f1(x, t, y, p1)\n",
    "    dy = g1(y, t, x, p2)\n",
    "    return dx, dy\n",
    "\n",
    "diff"
   ]
  },
  {
   "cell_type": "markdown",
   "id": "717bf476",
   "metadata": {
    "pycharm": {
     "name": "#%% md\n"
    }
   },
   "source": [
    "## Two Examples"
   ]
  },
  {
   "cell_type": "markdown",
   "id": "chubby-timing",
   "metadata": {
    "pycharm": {
     "name": "#%% md\n"
    }
   },
   "source": [
    "### Example 1: FitzHugh–Nagumo model"
   ]
  },
  {
   "cell_type": "markdown",
   "id": "christian-receipt",
   "metadata": {
    "pycharm": {
     "name": "#%% md\n"
    }
   },
   "source": [
    "Now, let's take the well known [FitzHugh–Nagumo model](https://en.wikipedia.org/wiki/FitzHugh%E2%80%93Nagumo_model) as an exmaple to illustrate how to define ODE solvers for brain modeling. The FitzHugh–Nagumo model (FHN) model has two dynamical variables, which are governed by the following equations:\n",
    "\n",
    "$$\n",
    "\\begin{split}\n",
    "\\tau {\\dot  {w}}&=v+a-bw\\\\\n",
    "{\\dot {v}} &=v-{\\frac {v^{3}}{3}}-w+I_{\\rm {ext}}\n",
    "\\end{split}\n",
    "$$\n",
    "\n",
    "For this FHN model, we can code it in BrainPy like this:"
   ]
  },
  {
   "cell_type": "code",
   "execution_count": 10,
   "id": "saved-participation",
   "metadata": {
    "ExecuteTime": {
     "end_time": "2021-03-24T11:08:28.665257Z",
     "start_time": "2021-03-24T11:08:28.653261Z"
    },
    "pycharm": {
     "name": "#%%\n"
    }
   },
   "outputs": [],
   "source": [
    "@bp.odeint(dt=0.01)\n",
    "def integral(V, w, t, Iext, a, b, tau):\n",
    "    dw = (V + a - b * w) / tau\n",
    "    dV = V - V * V * V / 3 - w + Iext\n",
    "    return dV, dw"
   ]
  },
  {
   "cell_type": "markdown",
   "id": "freelance-carpet",
   "metadata": {
    "pycharm": {
     "name": "#%% md\n"
    }
   },
   "source": [
    "After defining the numerical solver, the solution of the ODE system in the given times can be easily solved. For example, for the given parameters,"
   ]
  },
  {
   "cell_type": "code",
   "execution_count": 11,
   "id": "annual-wrestling",
   "metadata": {
    "ExecuteTime": {
     "end_time": "2021-03-24T11:08:28.681259Z",
     "start_time": "2021-03-24T11:08:28.670264Z"
    },
    "pycharm": {
     "name": "#%%\n"
    }
   },
   "outputs": [],
   "source": [
    "a = 0.7;   b = 0.8;   tau = 12.5;   Iext = 1."
   ]
  },
  {
   "cell_type": "markdown",
   "id": "competitive-transition",
   "metadata": {
    "pycharm": {
     "name": "#%% md\n"
    }
   },
   "source": [
    "the solution of the FHN model between 0 and 100 ms can be approximated by "
   ]
  },
  {
   "cell_type": "code",
   "execution_count": 12,
   "id": "dated-sunset",
   "metadata": {
    "ExecuteTime": {
     "end_time": "2021-03-24T11:08:28.952277Z",
     "start_time": "2021-03-24T11:08:28.686261Z"
    },
    "pycharm": {
     "name": "#%%\n"
    }
   },
   "outputs": [
    {
     "data": {
      "text/plain": "<Figure size 432x288 with 1 Axes>",
      "image/png": "[encoded data removed]"
     },
     "metadata": {
      "needs_background": "light"
     },
     "output_type": "display_data"
    }
   ],
   "source": [
    "hist_times = bm.arange(0, 100, 0.01)\n",
    "hist_V = []\n",
    "V, w = 0., 0.\n",
    "for t in hist_times:\n",
    "    V, w = integral(V, w, t, Iext, a, b, tau)\n",
    "    hist_V.append(V)\n",
    "\n",
    "plt.plot(hist_times, hist_V)\n",
    "plt.show()"
   ]
  },
  {
   "cell_type": "markdown",
   "source": [
    "This manual loop in Python code is usually slow. In BrainPy, we provide a structural runner for integrators: ``brainpy.integrators.IntegratorRunner``, which can benefit from the [JIT compilation](../tutorial_basics/jit_compilation.ipynb)."
   ],
   "metadata": {
    "collapsed": false,
    "pycharm": {
     "name": "#%% md\n"
    }
   }
  },
  {
   "cell_type": "code",
   "execution_count": 13,
   "outputs": [
    {
     "data": {
      "text/plain": "  0%|          | 0/10000 [00:00<?, ?it/s]",
      "application/vnd.jupyter.widget-view+json": {
       "version_major": 2,
       "version_minor": 0,
       "model_id": "656c512b84a14695aa55874500f8d595"
      }
     },
     "metadata": {},
     "output_type": "display_data"
    },
    {
     "data": {
      "text/plain": "<Figure size 432x288 with 1 Axes>",
      "image/png": "[encoded data removed]"
     },
     "metadata": {
      "needs_background": "light"
     },
     "output_type": "display_data"
    }
   ],
   "source": [
    "runner = bp.integrators.IntegratorRunner(\n",
    "    integral,\n",
    "    monitors=['V'],\n",
    "    inits=dict(V=0., w=0.),\n",
    "    args=dict(a=a, b=b, tau=tau, Iext=Iext),\n",
    "    dt=0.01\n",
    ")\n",
    "runner.run(100.)\n",
    "\n",
    "plt.plot(runner.mon.ts, runner.mon.V)\n",
    "plt.show()"
   ],
   "metadata": {
    "collapsed": false,
    "pycharm": {
     "name": "#%%\n"
    }
   }
  },
  {
   "cell_type": "markdown",
   "id": "acute-prototype",
   "metadata": {
    "pycharm": {
     "name": "#%% md\n"
    }
   },
   "source": [
    "### Example 2: Hodgkin–Huxley model"
   ]
  },
  {
   "cell_type": "markdown",
   "id": "whole-mother",
   "metadata": {
    "pycharm": {
     "name": "#%% md\n"
    }
   },
   "source": [
    "Another more complex example is the classical [Hodgkin–Huxley neuron model](https://en.wikipedia.org/wiki/Hodgkin%E2%80%93Huxley_model). In HH model, four dynamical variables (`V, m, n, h`) are used for modeling the initiation and propagation of the action potential. Specifically, they are governed by the following equations:\n",
    "\n",
    "$$\n",
    "\\begin{aligned}\n",
    "C_{m} \\frac{d V}{d t} &=-\\bar{g}_{\\mathrm{K}} n^{4}\\left(V-V_{K}\\right)- \\bar{g}_{\\mathrm{Na}} m^{3} h\\left(V-V_{N a}\\right)-\\bar{g}_{l}\\left(V-V_{l}\\right)+I_{s y n} \\\\\n",
    "\\frac{d m}{d t} &=\\alpha_{m}(V)(1-m)-\\beta_{m}(V) m \\\\\n",
    "\\frac{d h}{d t} &=\\alpha_{h}(V)(1-h)-\\beta_{h}(V) h \\\\\n",
    "\\frac{d n}{d t} &=\\alpha_{n}(V)(1-n)-\\beta_{n}(V) n\n",
    "\\end{aligned}\n",
    "$$\n",
    "\n",
    "In BrainPy, such dynamical system can be coded as:"
   ]
  },
  {
   "cell_type": "code",
   "execution_count": 14,
   "id": "sexual-butler",
   "metadata": {
    "ExecuteTime": {
     "end_time": "2021-03-24T11:08:28.968259Z",
     "start_time": "2021-03-24T11:08:28.955260Z"
    },
    "pycharm": {
     "name": "#%%\n"
    }
   },
   "outputs": [],
   "source": [
    "@bp.odeint(method='rk4', dt=0.01)\n",
    "def integral(V, m, h, n, t, Iext, gNa, ENa, gK, EK, gL, EL, C):\n",
    "    alpha = 0.1 * (V + 40) / (1 - bm.exp(-(V + 40) / 10))\n",
    "    beta = 4.0 * bm.exp(-(V + 65) / 18)\n",
    "    dmdt = alpha * (1 - m) - beta * m\n",
    "\n",
    "    alpha = 0.07 * bm.exp(-(V + 65) / 20.)\n",
    "    beta = 1 / (1 + bm.exp(-(V + 35) / 10))\n",
    "    dhdt = alpha * (1 - h) - beta * h\n",
    "\n",
    "    alpha = 0.01 * (V + 55) / (1 - bm.exp(-(V + 55) / 10))\n",
    "    beta = 0.125 * bm.exp(-(V + 65) / 80)\n",
    "    dndt = alpha * (1 - n) - beta * n\n",
    "\n",
    "    I_Na = (gNa * m ** 3.0 * h) * (V - ENa)\n",
    "    I_K = (gK * n ** 4.0) * (V - EK)\n",
    "    I_leak = gL * (V - EL)\n",
    "    dVdt = (- I_Na - I_K - I_leak + Iext) / C\n",
    "\n",
    "    return dVdt, dmdt, dhdt, dndt"
   ]
  },
  {
   "cell_type": "markdown",
   "id": "subjective-formation",
   "metadata": {
    "pycharm": {
     "name": "#%% md\n"
    }
   },
   "source": [
    "Same as the FHN model, we can also integrate the HH model in the given parameters and time interval:"
   ]
  },
  {
   "cell_type": "code",
   "execution_count": 15,
   "id": "worthy-restriction",
   "metadata": {
    "ExecuteTime": {
     "end_time": "2021-03-24T11:08:28.984261Z",
     "start_time": "2021-03-24T11:08:28.971267Z"
    },
    "pycharm": {
     "name": "#%%\n"
    }
   },
   "outputs": [],
   "source": [
    "Iext = 10.;   ENa = 50.;   EK = -77.;   EL = -54.387\n",
    "C = 1.0;      gNa = 120.;  gK = 36.;    gL = 0.03"
   ]
  },
  {
   "cell_type": "code",
   "execution_count": 16,
   "outputs": [
    {
     "data": {
      "text/plain": "  0%|          | 0/10000 [00:00<?, ?it/s]",
      "application/vnd.jupyter.widget-view+json": {
       "version_major": 2,
       "version_minor": 0,
       "model_id": "c39649f0a99d4b3daf8a4e6b88846e3c"
      }
     },
     "metadata": {},
     "output_type": "display_data"
    },
    {
     "data": {
      "text/plain": "<Figure size 432x288 with 2 Axes>",
      "image/png": "[encoded data removed]"
     },
     "metadata": {
      "needs_background": "light"
     },
     "output_type": "display_data"
    }
   ],
   "source": [
    "runner = bp.integrators.IntegratorRunner(\n",
    "    integral,\n",
    "    monitors=list('Vmhn'),\n",
    "    inits=[0., 0., 0., 0.],\n",
    "    args=dict(Iext=Iext, gNa=gNa, ENa=ENa, gK=gK, EK=EK, gL=gL, EL=EL, C=C),\n",
    "    dt=0.01\n",
    ")\n",
    "runner.run(100.)\n",
    "\n",
    "plt.subplot(211)\n",
    "plt.plot(runner.mon.ts, runner.mon.V, label='V')\n",
    "plt.legend()\n",
    "plt.subplot(212)\n",
    "plt.plot(runner.mon.ts, runner.mon.m, label='m')\n",
    "plt.plot(runner.mon.ts, runner.mon.h, label='h')\n",
    "plt.plot(runner.mon.ts, runner.mon.n, label='n')\n",
    "plt.legend()\n",
    "plt.show()"
   ],
   "metadata": {
    "collapsed": false,
    "pycharm": {
     "name": "#%%\n"
    }
   }
  },
  {
   "cell_type": "markdown",
   "id": "f413af37",
   "metadata": {
    "pycharm": {
     "name": "#%% md\n"
    }
   },
   "source": [
    "## Provided ODE Numerical Solvers"
   ]
  },
  {
   "cell_type": "markdown",
   "id": "b3152f56",
   "metadata": {
    "pycharm": {
     "name": "#%% md\n"
    }
   },
   "source": [
    "`BrainPy` provides several types of numerical methods for ODEs, including explicit Runge-Kutta methods, adaptive Runge-Kutta methods, and Exponential Euler methods."
   ]
  },
  {
   "cell_type": "markdown",
   "id": "fe620221",
   "metadata": {
    "pycharm": {
     "name": "#%% md\n"
    }
   },
   "source": [
    "### 1. Explicit Runge-Kutta (RK) methods for ODEs"
   ]
  },
  {
   "cell_type": "markdown",
   "id": "cedd568a",
   "metadata": {
    "pycharm": {
     "name": "#%% md\n"
    }
   },
   "source": [
    "The first category of ODE numerical integration support is the [explicit Runge-Kutta (RK) methods](../apis/integrators/ode_explicit_rk.rst). RK methods are a huge family of numerical methods with a wide variety of trade-offs: efficiency, accuracy, stability, etc. The supported RK methods are listed in the following table:"
   ]
  },
  {
   "cell_type": "markdown",
   "id": "a4b172ea",
   "metadata": {
    "pycharm": {
     "name": "#%% md\n"
    }
   },
   "source": [
    "| Methods                                                 | Keywords    |\n",
    "|-----------------------------------------------------|-------------|\n",
    "| [Euler](../apis/auto/integrators/generated/brainpy.integrators.ode.explicit_rk.Euler.rst) | euler       |\n",
    "| [Midpoint](../apis/auto/integrators/generated/brainpy.integrators.ode.explicit_rk.MidPoint.rst) | midpoint    |\n",
    "| [Heun's second-order method](../apis/auto/integrators/generated/brainpy.integrators.ode.explicit_rk.Heun2.rst) | heun2       |\n",
    "| [Ralston's second-order method](../apis/auto/integrators/generated/brainpy.integrators.ode.explicit_rk.Ralston2.rst) | ralston2    |\n",
    "| [RK2](../apis/auto/integrators/generated/brainpy.integrators.ode.explicit_rk.RK2.rst)| rk2         |\n",
    "| [RK3](../apis/auto/integrators/generated/brainpy.integrators.ode.explicit_rk.RK3.rst) | rk3         |\n",
    "| [RK4](../apis/auto/integrators/generated/brainpy.integrators.ode.explicit_rk.RK4.rst) | rk4         |\n",
    "| [Heun's third-order method](../apis/auto/integrators/generated/brainpy.integrators.ode.explicit_rk.Heun3.rst) | heun3       |\n",
    "| [Ralston's third-order method](../apis/auto/integrators/generated/brainpy.integrators.ode.explicit_rk.Ralston3.rst) | ralston3    |\n",
    "| [Third-order Strong Stability Preserving Runge-Kutta](../apis/auto/integrators/generated/brainpy.integrators.ode.explicit_rk.SSPRK3.rst) | ssprk3      |\n",
    "| [Ralston's fourth-order method](../apis/auto/integrators/generated/brainpy.integrators.ode.explicit_rk.Ralston4.rst) | ralston4    |\n",
    "| [Runge-Kutta 3/8-rule fourth-order method](../apis/auto/integrators/generated/brainpy.integrators.ode.explicit_rk.RK4Rule38.rst)| rk4_38rule |"
   ]
  },
  {
   "cell_type": "markdown",
   "id": "d3e6aed5",
   "metadata": {
    "pycharm": {
     "name": "#%% md\n"
    }
   },
   "source": [
    "Users can utilize these methods by specifying the `method` option in `brainpy.odeint()` with their corresponding keyword. For example:"
   ]
  },
  {
   "cell_type": "code",
   "execution_count": 17,
   "id": "bbb8d98f",
   "metadata": {
    "pycharm": {
     "name": "#%%\n"
    }
   },
   "outputs": [
    {
     "data": {
      "text/plain": "<brainpy.integrators.ode.explicit_rk.RK4 at 0x17fe4950d60>"
     },
     "execution_count": 17,
     "metadata": {},
     "output_type": "execute_result"
    }
   ],
   "source": [
    "@bp.odeint(method='rk4')\n",
    "def int_v(v, t, p):\n",
    "    # do something\n",
    "    return v\n",
    "\n",
    "int_v"
   ]
  },
  {
   "cell_type": "markdown",
   "id": "98a65b7e",
   "metadata": {
    "pycharm": {
     "name": "#%% md\n"
    }
   },
   "source": [
    "Or, you can directly instance your favorite integrator:"
   ]
  },
  {
   "cell_type": "code",
   "execution_count": 18,
   "id": "ff1d8492",
   "metadata": {
    "pycharm": {
     "name": "#%%\n"
    }
   },
   "outputs": [
    {
     "data": {
      "text/plain": "<brainpy.integrators.ode.explicit_rk.RK4 at 0x17fe4950670>"
     },
     "execution_count": 18,
     "metadata": {},
     "output_type": "execute_result"
    }
   ],
   "source": [
    "@bp.ode.RK4\n",
    "def int_v(v, t, p):\n",
    "    # do something\n",
    "    return v\n",
    "\n",
    "int_v"
   ]
  },
  {
   "cell_type": "code",
   "execution_count": 19,
   "id": "1288b7a9",
   "metadata": {
    "pycharm": {
     "name": "#%%\n"
    }
   },
   "outputs": [
    {
     "data": {
      "text/plain": "<brainpy.integrators.ode.explicit_rk.RK4 at 0x17fe4b3af70>"
     },
     "execution_count": 19,
     "metadata": {},
     "output_type": "execute_result"
    }
   ],
   "source": [
    "def derivative(v, t, p):\n",
    "    # do something\n",
    "    return v\n",
    "\n",
    "int_v = bp.ode.RK4(derivative, dt=0.01)\n",
    "int_v"
   ]
  },
  {
   "cell_type": "markdown",
   "id": "a2315e6c",
   "metadata": {
    "pycharm": {
     "name": "#%% md\n"
    }
   },
   "source": [
    "### 2. Adaptive Runge-Kutta (RK) methods for ODEs"
   ]
  },
  {
   "cell_type": "markdown",
   "id": "39b0bba7",
   "metadata": {
    "pycharm": {
     "name": "#%% md\n"
    }
   },
   "source": [
    "The second category of ODE numerical support is the [adaptive RK methods](../apis/integrators/ode_adaptive_rk.rst). What's different from the explicit RK methods is that adaptive methods are designed to produce an estimate of the local truncation error in a single Runge-Kutta step, then such error can be used to adaptively control the numerical step size. Specifically, if $error > tol$, then replace $dt$ with $dt_{new}$ and repeat the step. Therefore, adaptive RK methods allow a varied step size. In BrainPy, the following adaptive RK methods are provided in BrainPy:"
   ]
  },
  {
   "cell_type": "markdown",
   "id": "cb6c3be1",
   "metadata": {
    "pycharm": {
     "name": "#%% md\n"
    }
   },
   "source": [
    "| Methods                   | keywords    |\n",
    "|---------------------------|-------------|\n",
    "| [Runge–Kutta–Fehlberg 4(5)](../apis/auto/integrators/generated/brainpy.integrators.ode.adaptive_rk.RKF45.rst)  | rkf45       |\n",
    "| [Runge–Kutta–Fehlberg 1(2)](../apis/auto/integrators/generated/brainpy.integrators.ode.adaptive_rk.RKF12.rst) | rkf12       |\n",
    "| [Dormand–Prince method](../apis/auto/integrators/generated/brainpy.integrators.ode.adaptive_rk.DormandPrince.rst) | rkdp        |\n",
    "| [Cash–Karp method](../apis/auto/integrators/generated/brainpy.integrators.ode.adaptive_rk.CashKarp.rst) | ck          |\n",
    "| [Bogacki–Shampine method](../apis/auto/integrators/generated/brainpy.integrators.ode.adaptive_rk.BogackiShampine.rst) | bs          |\n",
    "| [Heun–Euler method](../apis/auto/integrators/generated/brainpy.integrators.ode.adaptive_rk.HeunEuler.rst)  | heun_euler |"
   ]
  },
  {
   "cell_type": "markdown",
   "id": "8a5e76e7",
   "metadata": {
    "pycharm": {
     "name": "#%% md\n"
    }
   },
   "source": [
    "In default, the above methods are not adaptive, unless users provide a keyword `adaptive=True` in `brainpy.odeint()`. When users use the adaptive RK methods for numerical integration, the instantaneously adjusted stepsize `dt` will be appended in the functional arguments. Moreover, the tolerance `tol` for stepsize adjustment can also be modified. Let's take the Lorenz system as the example:"
   ]
  },
  {
   "cell_type": "code",
   "execution_count": 20,
   "id": "30223bbe",
   "metadata": {
    "pycharm": {
     "name": "#%%\n"
    }
   },
   "outputs": [],
   "source": [
    "# adaptively adjust step-size\n",
    "\n",
    "@bm.jit\n",
    "@bp.odeint(method='rkf45', \n",
    "           adaptive=True, # active the \"adaptive\" option\n",
    "           tol=0.001) # set the tolerance\n",
    "def lorenz(x, y, z, t, sigma, beta, rho):\n",
    "    dx = sigma * (y - x)\n",
    "    dy = x * (rho - z) - y\n",
    "    dz = x * y - beta * z\n",
    "    return dx, dy, dz"
   ]
  },
  {
   "cell_type": "code",
   "execution_count": 21,
   "id": "d1925db5",
   "metadata": {
    "pycharm": {
     "name": "#%%\n"
    }
   },
   "outputs": [],
   "source": [
    "times = bm.arange(0, 100, 0.01)\n",
    "hist_x, hist_y, hist_z, hist_dt = [], [], [], []\n",
    "x, y, z, dt = bm.array([1]), bm.array([1]), bm.array([1]), 0.05\n",
    "for t in times:\n",
    "    # should provide one more argument \"dt\" when using the adaptive rk method\n",
    "    x, y, z, dt = lorenz(x, y, z, t, sigma=10, beta=8/3, rho=28, dt=dt)  \n",
    "    hist_x.append(x.value)\n",
    "    hist_y.append(y.value)\n",
    "    hist_z.append(z.value)\n",
    "    hist_dt.append(dt)\n",
    "hist_x = bm.array(hist_x).flatten()\n",
    "hist_y = bm.array(hist_y).flatten()\n",
    "hist_z = bm.array(hist_z).flatten()\n",
    "hist_dt = bm.array(hist_dt)"
   ]
  },
  {
   "cell_type": "code",
   "execution_count": 22,
   "id": "c01ead09",
   "metadata": {
    "scrolled": false,
    "pycharm": {
     "name": "#%%\n"
    }
   },
   "outputs": [
    {
     "data": {
      "text/plain": "<Figure size 432x288 with 1 Axes>",
      "image/png": "[encoded data removed]"
     },
     "metadata": {
      "needs_background": "light"
     },
     "output_type": "display_data"
    },
    {
     "data": {
      "text/plain": "<Figure size 432x288 with 1 Axes>",
      "image/png": "[encoded data removed]"
     },
     "metadata": {
      "needs_background": "light"
     },
     "output_type": "display_data"
    }
   ],
   "source": [
    "fig = plt.figure()\n",
    "ax = plt.subplot(projection='3d')\n",
    "plt.plot(hist_x, hist_y, hist_z)\n",
    "ax.set_xlabel('x')\n",
    "ax.set_xlabel('y')\n",
    "ax.set_xlabel('z')\n",
    "\n",
    "fig = plt.figure()\n",
    "plt.plot(hist_dt[:100])\n",
    "plt.xlabel('Step No.')\n",
    "plt.ylabel('Adaptive dt')\n",
    "plt.show()"
   ]
  },
  {
   "cell_type": "markdown",
   "id": "218162c4",
   "metadata": {
    "pycharm": {
     "name": "#%% md\n"
    }
   },
   "source": [
    "### 3. Exponential Euler methods for ODEs"
   ]
  },
  {
   "cell_type": "markdown",
   "id": "c58c7d82",
   "metadata": {
    "pycharm": {
     "name": "#%% md\n"
    }
   },
   "source": [
    "Finally, BrainPy provides Exponential integrators for ODEs. For you ODE systems, we highly recommend you to use Exponential Euler methods. Exponential Euler method provided in BrainPy uses automatic differentiation to find linear part."
   ]
  },
  {
   "cell_type": "markdown",
   "id": "20692566",
   "metadata": {
    "pycharm": {
     "name": "#%% md\n"
    }
   },
   "source": [
    "| Methods           | keywords          |\n",
    "|-------------------|-------------------|\n",
    "| [Exponential Euler](../apis/auto/integrators/generated/brainpy.integrators.ode.exponential.ExpEulerAuto.rst) | exp_euler         |"
   ]
  },
  {
   "cell_type": "markdown",
   "id": "34ce88db",
   "metadata": {
    "pycharm": {
     "name": "#%% md\n"
    }
   },
   "source": [
    "Let's take a linear system as the theoretical demonstration,\n",
    "\n",
    "$$\n",
    "{dy \\over dt} = A - By\n",
    "$$\n",
    "\n",
    "the exponential Euler schema is given by:\n",
    "\n",
    "$$\n",
    "y(t+dt) = y(t) e^{-B*dt} + {A \\over B}(1 - e^{-B*dt})\n",
    "$$\n",
    "\n",
    "As you can see, for such linear systems, the exponential Euler schema is nearly the exact solution.\n",
    "\n",
    "However, using Exponential Euler method requires us to write each derivative function separately. Otherwise, the automatic differentiation will lead to wrong results.\n"
   ]
  },
  {
   "cell_type": "markdown",
   "id": "f00d6f9c",
   "metadata": {
    "pycharm": {
     "name": "#%% md\n"
    }
   },
   "source": [
    "Interestingly, the computational expensive neuron model --- Hodgkin–Huxley model --- is a linear-like ODE system. You will find that by using the Exponential Euler method, the numerical step can be greatly enlarged to save the computation time."
   ]
  },
  {
   "cell_type": "markdown",
   "id": "9a577345",
   "metadata": {
    "pycharm": {
     "name": "#%% md\n"
    }
   },
   "source": [
    "$$\n",
    "\\begin{aligned}\n",
    "C_{m}{\\frac {d V}{dt}}&= -\\left[{\\bar {g}}_{\\text{K}}n^{4} + {\\bar {g}}_{\\text{Na}}m^{3}h + {\\bar {g}}_{l} \\right] V  +{\\bar {g}}_{\\text{K}}n^{4} V_{K} + {\\bar {g}}_{\\text{Na}}m^{3}h V_{Na} + {\\bar {g}}_{l} V_{l} + I_{syn} \\\\\n",
    "{\\frac {dm}{dt}} &= \\left[-\\alpha _{m}(V)-\\beta _{m}(V)\\right]m + \\alpha _{m}(V) \\\\\n",
    "{\\frac {dh}{dt}} &= \\left[-\\alpha _{h}(V)-\\beta _{h}(V)\\right]h + \\alpha _{h}(V) \\\\\n",
    "{\\frac {dn}{dt}} &= \\left[-\\alpha _{n}(V)-\\beta _{n}(V)\\right]n + \\alpha _{n}(V) \\\\\n",
    "\\end{aligned}\n",
    "$$"
   ]
  },
  {
   "cell_type": "code",
   "execution_count": 23,
   "id": "a960ff67",
   "metadata": {
    "pycharm": {
     "name": "#%%\n"
    }
   },
   "outputs": [],
   "source": [
    "Iext=10.;   ENa=50.;   EK=-77.;   EL=-54.387\n",
    "C=1.0;      gNa=120.;  gK=36.;    gL=0.03"
   ]
  },
  {
   "cell_type": "code",
   "execution_count": 24,
   "outputs": [],
   "source": [
    "def dm(m, t, V):\n",
    "    alpha = 0.1 * (V + 40) / (1 - bm.exp(-(V + 40) / 10))\n",
    "    beta = 4.0 * bm.exp(-(V + 65) / 18)\n",
    "    dmdt = alpha * (1 - m) - beta * m\n",
    "    return dmdt"
   ],
   "metadata": {
    "collapsed": false,
    "pycharm": {
     "name": "#%%\n"
    }
   }
  },
  {
   "cell_type": "code",
   "execution_count": 25,
   "outputs": [],
   "source": [
    "def dh(h, t, V):\n",
    "    alpha = 0.07 * bm.exp(-(V + 65) / 20.)\n",
    "    beta = 1 / (1 + bm.exp(-(V + 35) / 10))\n",
    "    dhdt = alpha * (1 - h) - beta * h\n",
    "    return dhdt"
   ],
   "metadata": {
    "collapsed": false,
    "pycharm": {
     "name": "#%%\n"
    }
   }
  },
  {
   "cell_type": "code",
   "execution_count": 26,
   "outputs": [],
   "source": [
    "def dn(n, t, V):\n",
    "    alpha = 0.01 * (V + 55) / (1 - bm.exp(-(V + 55) / 10))\n",
    "    beta = 0.125 * bm.exp(-(V + 65) / 80)\n",
    "    dndt = alpha * (1 - n) - beta * n\n",
    "    return dndt"
   ],
   "metadata": {
    "collapsed": false,
    "pycharm": {
     "name": "#%%\n"
    }
   }
  },
  {
   "cell_type": "code",
   "execution_count": 27,
   "id": "c1951430",
   "metadata": {
    "pycharm": {
     "name": "#%%\n"
    }
   },
   "outputs": [],
   "source": [
    "def dV(V, t, m, h, n, Iext):\n",
    "    I_Na = (gNa * m ** 3.0 * h) * (V - ENa)\n",
    "    I_K = (gK * n ** 4.0) * (V - EK)\n",
    "    I_leak = gL * (V - EL)\n",
    "    dVdt = (- I_Na - I_K - I_leak + Iext) / C\n",
    "    return dVdt"
   ]
  },
  {
   "cell_type": "markdown",
   "source": [
    "Although we define HH differential equations as separable functions, relying on [brainpy.JointEq](./joint_equations.ipynb), we can numerically integrate these equations jointly."
   ],
   "metadata": {
    "collapsed": false,
    "pycharm": {
     "name": "#%% md\n"
    }
   }
  },
  {
   "cell_type": "code",
   "execution_count": 28,
   "outputs": [],
   "source": [
    "hh_derivative = bp.JointEq([dV, dm, dh, dn])"
   ],
   "metadata": {
    "collapsed": false,
    "pycharm": {
     "name": "#%%\n"
    }
   }
  },
  {
   "cell_type": "code",
   "execution_count": 29,
   "id": "0d460dbd",
   "metadata": {
    "pycharm": {
     "name": "#%%\n"
    }
   },
   "outputs": [],
   "source": [
    "def run(method, Iext=10., dt=0.1):\n",
    "    integral = bp.odeint(hh_derivative, method=method)\n",
    "\n",
    "    runner = bp.integrators.IntegratorRunner(\n",
    "        integral,\n",
    "        monitors=list('Vmhn'),\n",
    "        inits=[0., 0., 0., 0.],\n",
    "        args=dict(Iext=Iext),\n",
    "        dt=dt\n",
    "    )\n",
    "    runner.run(100.)\n",
    "\n",
    "    plt.subplot(211)\n",
    "    plt.plot(runner.mon.ts, runner.mon.V, label='V')\n",
    "    plt.legend()\n",
    "    plt.subplot(212)\n",
    "    plt.plot(runner.mon.ts, runner.mon.m, label='m')\n",
    "    plt.plot(runner.mon.ts, runner.mon.h, label='h')\n",
    "    plt.plot(runner.mon.ts, runner.mon.n, label='n')\n",
    "    plt.legend()\n",
    "    plt.show()"
   ]
  },
  {
   "cell_type": "markdown",
   "id": "086d7afd",
   "metadata": {
    "pycharm": {
     "name": "#%% md\n"
    }
   },
   "source": [
    "**Euler Method**: not able to complete the integral when the time step is a bit larger"
   ]
  },
  {
   "cell_type": "code",
   "execution_count": 30,
   "id": "e19de553",
   "metadata": {
    "pycharm": {
     "name": "#%%\n"
    }
   },
   "outputs": [
    {
     "data": {
      "text/plain": "  0%|          | 0/5000 [00:00<?, ?it/s]",
      "application/vnd.jupyter.widget-view+json": {
       "version_major": 2,
       "version_minor": 0,
       "model_id": "cdb588f916214a939b3b226151ceadd2"
      }
     },
     "metadata": {},
     "output_type": "display_data"
    },
    {
     "data": {
      "text/plain": "<Figure size 432x288 with 2 Axes>",
      "image/png": "[encoded data removed]"
     },
     "metadata": {
      "needs_background": "light"
     },
     "output_type": "display_data"
    }
   ],
   "source": [
    "run('euler', Iext=10, dt=0.02)"
   ]
  },
  {
   "cell_type": "code",
   "execution_count": 31,
   "id": "a7836865",
   "metadata": {
    "pycharm": {
     "name": "#%%\n"
    }
   },
   "outputs": [
    {
     "data": {
      "text/plain": "  0%|          | 0/1000 [00:00<?, ?it/s]",
      "application/vnd.jupyter.widget-view+json": {
       "version_major": 2,
       "version_minor": 0,
       "model_id": "632a0cfc86fc4f8cb8d93fdcf0b8e937"
      }
     },
     "metadata": {},
     "output_type": "display_data"
    },
    {
     "data": {
      "text/plain": "<Figure size 432x288 with 2 Axes>",
      "image/png": "[encoded data removed]"
     },
     "metadata": {
      "needs_background": "light"
     },
     "output_type": "display_data"
    }
   ],
   "source": [
    "run('euler', Iext=10, dt=0.1)"
   ]
  },
  {
   "cell_type": "markdown",
   "id": "56a2eec1",
   "metadata": {
    "pycharm": {
     "name": "#%% md\n"
    }
   },
   "source": [
    "**RK4 Method**: better than the Euler method, but still requires the times step to be small"
   ]
  },
  {
   "cell_type": "code",
   "execution_count": 32,
   "id": "7311467a",
   "metadata": {
    "pycharm": {
     "name": "#%%\n"
    }
   },
   "outputs": [
    {
     "data": {
      "text/plain": "  0%|          | 0/1000 [00:00<?, ?it/s]",
      "application/vnd.jupyter.widget-view+json": {
       "version_major": 2,
       "version_minor": 0,
       "model_id": "b1259792e46745c5bc5266a367155cf2"
      }
     },
     "metadata": {},
     "output_type": "display_data"
    },
    {
     "data": {
      "text/plain": "<Figure size 432x288 with 2 Axes>",
      "image/png": "[encoded data removed]"
     },
     "metadata": {
      "needs_background": "light"
     },
     "output_type": "display_data"
    }
   ],
   "source": [
    "run('rk4', Iext=10, dt=0.1)"
   ]
  },
  {
   "cell_type": "code",
   "execution_count": 33,
   "id": "c9097ebe",
   "metadata": {
    "pycharm": {
     "name": "#%%\n"
    }
   },
   "outputs": [
    {
     "data": {
      "text/plain": "  0%|          | 0/500 [00:00<?, ?it/s]",
      "application/vnd.jupyter.widget-view+json": {
       "version_major": 2,
       "version_minor": 0,
       "model_id": "a585966148e04ac9ae73a8c716390545"
      }
     },
     "metadata": {},
     "output_type": "display_data"
    },
    {
     "data": {
      "text/plain": "<Figure size 432x288 with 2 Axes>",
      "image/png": "[encoded data removed]"
     },
     "metadata": {
      "needs_background": "light"
     },
     "output_type": "display_data"
    }
   ],
   "source": [
    "run('rk4', Iext=10, dt=0.2)"
   ]
  },
  {
   "cell_type": "markdown",
   "id": "7cf17718",
   "metadata": {
    "pycharm": {
     "name": "#%% md\n"
    }
   },
   "source": [
    "**Exponential Euler Method**: allows larger time step and generates accurate results"
   ]
  },
  {
   "cell_type": "code",
   "execution_count": 34,
   "outputs": [
    {
     "data": {
      "text/plain": "  0%|          | 0/500 [00:00<?, ?it/s]",
      "application/vnd.jupyter.widget-view+json": {
       "version_major": 2,
       "version_minor": 0,
       "model_id": "8bff1f68ad6c4f44b9c11928387e8598"
      }
     },
     "metadata": {},
     "output_type": "display_data"
    },
    {
     "data": {
      "text/plain": "<Figure size 432x288 with 2 Axes>",
      "image/png": "[encoded data removed]"
     },
     "metadata": {
      "needs_background": "light"
     },
     "output_type": "display_data"
    }
   ],
   "source": [
    "run('exp_euler', Iext=10, dt=0.2)"
   ],
   "metadata": {
    "collapsed": false,
    "pycharm": {
     "name": "#%%\n"
    }
   }
  }
 ],
 "metadata": {
  "hide_input": false,
  "jupytext": {
   "encoding": "# -*- coding: utf-8 -*-"
  },
  "kernelspec": {
   "display_name": "Python 3",
   "language": "python",
   "name": "python3"
  },
  "language_info": {
   "codemirror_mode": {
    "name": "ipython",
    "version": 3
   },
   "file_extension": ".py",
   "mimetype": "text/x-python",
   "name": "python",
   "nbconvert_exporter": "python",
   "pygments_lexer": "ipython3",
   "version": "3.8.11"
  },
  "latex_envs": {
   "LaTeX_envs_menu_present": true,
   "autoclose": false,
   "autocomplete": true,
   "bibliofile": "biblio.bib",
   "cite_by": "apalike",
   "current_citInitial": 1,
   "eqLabelWithNumbers": true,
   "eqNumInitial": 1,
   "hotkeys": {
    "equation": "Ctrl-E",
    "itemize": "Ctrl-I"
   },
   "labels_anchors": false,
   "latex_user_defs": false,
   "report_style_numbering": false,
   "user_envs_cfg": false
  },
  "toc": {
   "base_numbering": 1,
   "nav_menu": {
    "height": "265px",
    "width": "436px"
   },
   "number_sections": false,
   "sideBar": true,
   "skip_h1_title": false,
   "title_cell": "Table of Contents",
   "title_sidebar": "Contents",
   "toc_cell": false,
   "toc_position": {},
   "toc_section_display": true,
   "toc_window_display": true
  },
  "varInspector": {
   "cols": {
    "lenName": 16,
    "lenType": 16,
    "lenVar": 40
   },
   "kernels_config": {
    "python": {
     "delete_cmd_postfix": "",
     "delete_cmd_prefix": "del ",
     "library": "var_list.py",
     "varRefreshCmd": "print(var_dic_list())"
    },
    "r": {
     "delete_cmd_postfix": ") ",
     "delete_cmd_prefix": "rm(",
     "library": "var_list.r",
     "varRefreshCmd": "cat(var_dic_list()) "
    }
   },
   "types_to_exclude": [
    "module",
    "function",
    "builtin_function_or_method",
    "instance",
    "_Feature"
   ],
   "window_display": false
  }
 },
 "nbformat": 4,
 "nbformat_minor": 5
}