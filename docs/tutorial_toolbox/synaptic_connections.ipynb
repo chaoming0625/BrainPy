{
 "cells": [
  {
   "cell_type": "markdown",
   "metadata": {
    "pycharm": {
     "name": "#%% md\n"
    }
   },
   "source": [
    "# Synaptic Connections"
   ]
  },
  {
   "cell_type": "markdown",
   "metadata": {
    "pycharm": {
     "name": "#%% md\n"
    }
   },
   "source": [
    "@[Tianqiu Zhang](mailto:tianqiuakita@gmail.com)\n",
    "@[Xiaoyu Chen](mailto:c-xy17@tsinghua.org.cn) "
   ]
  },
  {
   "cell_type": "markdown",
   "metadata": {},
   "source": [
    "Synaptic connections is an essential part for building a neural dynamic system. BrainPy provides several commonly used connection methods in the [brainpy.connect](../apis/auto/building/connect.rst) module (which can be accessed by the shortcut `bp.conn`) that can help users to easily construct many types of synaptic connection, inclulding built-in and self-customized connectors."
   ]
  },
  {
   "cell_type": "markdown",
   "metadata": {},
   "source": [
    "## An Overview of BrainPy Connectors"
   ]
  },
  {
   "cell_type": "markdown",
   "metadata": {},
   "source": [
    "Here we provide an overview of BrainPy connectors. "
   ]
  },
  {
   "cell_type": "markdown",
   "metadata": {
    "pycharm": {
     "name": "#%% md\n"
    }
   },
   "source": [
    "### Base class: `bp.conn.Connector`"
   ]
  },
  {
   "cell_type": "markdown",
   "metadata": {},
   "source": [
    "The base class of connectors is `brainpy.connect.Connector`. All connectors, built-in or customized, should inherit from the Connector class."
   ]
  },
  {
   "cell_type": "markdown",
   "metadata": {},
   "source": [
    "### Two subclasses: `TwoEndConnector` and `OneEndConnector`"
   ]
  },
  {
   "cell_type": "markdown",
   "metadata": {},
   "source": [
    "There are two classes inheriting from the base class `bp.conn.Connector`:\n",
    "- [bp.conn.TwoEndConnector](../apis/auto/generated/brainpy.building.connect.TwoEndConnector.rst): a connector to build synaptic connections **between two neuron groups**.\n",
    "- [bp.conn.OneEndConnector](../apis/auto/generated/brainpy.building.connect.OneEndConnector.rst): a connector to build synaptic connections **within a population of neurons**.\n",
    "\n",
    "Users can click the link of each class above to look through the API documentation."
   ]
  },
  {
   "cell_type": "markdown",
   "metadata": {},
   "source": [
    "### Connector.\\_\\_init\\_\\_()"
   ]
  },
  {
   "cell_type": "markdown",
   "metadata": {},
   "source": [
    "All connectors need to be initialized first. For each built-in connector, users need to pass in the corresponding parameters for initialization. For details, please see the specific conector type below. "
   ]
  },
  {
   "cell_type": "markdown",
   "metadata": {},
   "source": [
    "### Connector.\\_\\_call\\_\\_()"
   ]
  },
  {
   "cell_type": "markdown",
   "metadata": {},
   "source": [
    "After initialization, users should call the connector and pass in parameters depending on specific  connection types:\n",
    "- `TwoEndConnector`: It has two input parameters `pre_size` and `post_size`, each representing the size of the pre- and post-synaptic neuron group. It will result in a connection matrix with the shape of (pre_num, post_num).\n",
    "- `OneEndConnector`: It has only one parameter `pre_size` which represent the size of the neuron group. It will result in a connection matrix with the shape of (pre_num, pre_num).\n",
    "\n",
    "The `__call__` function returns the class itself."
   ]
  },
  {
   "cell_type": "markdown",
   "metadata": {},
   "source": [
    "### Connector.build_conn()\n",
    "Users can customize the connection in `build_conn()` function. Notice there are three connection types users can provide:\n",
    "| Connection Types | Definition |\n",
    "| :- | :- |\n",
    "| 'mat' | Dense conncetion, including a connection matrix. |\n",
    "| 'ij' | Index projection, including a pre-neuron index vector and a post-neuron index vector. |\n",
    "| 'csr' | Sparse connection, including a index vector and a indptr vector.  |\n",
    "\n",
    "Return type can be either a `dict` or a `tuple`. Here are two examples of how to return your connection data:\n",
    "\n",
    "Example 1：\n",
    "```python\n",
    "def build_conn(self):\n",
    "  ind = np.arange(self.pre_num)\n",
    "  indptr = np.arange(self.pre_num + 1)\n",
    "\n",
    "  return dict(csr=(ind, indptr), mat=None, ij=None)\n",
    "```\n",
    "\n",
    "Example 2:\n",
    "```python\n",
    "def build_conn(self):\n",
    "  ind = np.arange(self.pre_num)\n",
    "  indptr = np.arange(self.pre_num + 1)\n",
    "\n",
    "  return 'csr', (ind, indptr)\n",
    "```\n",
    "\n",
    "After creating the synaptic connection, users can use the `require()` method to access some useful properties of the connection."
   ]
  },
  {
   "cell_type": "markdown",
   "metadata": {},
   "source": [
    "### Connector.require()\n",
    "This method returns the connection properties required by users. The connection properties are elaborated in the following sections in detail. Here is a brief summary of the connection properties users can require.\n",
    "\n",
    "| Connection properties | Structure | Definition | \n",
    "| :- | :- | :- |\n",
    "| `conn_mat` | 2-D array (matrix) | Dense connection matrix | \n",
    "| `pre_ids` | 1-D array (vector) | Indices of the pre-synaptic neuron group |\n",
    "| `post_ids` | 1-D array (vector) | Indices of the post-synaptic neuron group |\n",
    "| `pre2post` | tuple (vector, vector) | The post-synaptic neuron indices and the corresponding pre-synaptic neuron pointers | \n",
    "| `post2pre` | tuple (vector, vector) | The pre-synaptic neuron indices and the corresponding post-synaptic neuron pointers |\n",
    "| `pre2syn` | tuple (vector, vector) | The synapse indices sorted by pre-synaptic neurons and corresponding pre-synaptic neuron pointers | \n",
    "| `post2syn` | tuple (vector, vector) | The synapse indices sorted by post-synaptic neurons and corresponding post-synaptic neuron pointers |"
   ]
  },
  {
   "cell_type": "markdown",
   "metadata": {
    "pycharm": {
     "name": "#%% md\n"
    }
   },
   "source": [
    "Users can implement this method by following sentence:\n",
    "```python\n",
    "pre_ids, post_ids, pre2post, conn_mat = conn.require('pre_ids', 'post_ids', 'pre2post', 'conn_mat')\n",
    "```\n",
    "\n",
    "```{note}\n",
    "Note that this method can return multiple connection properties.\n",
    "```"
   ]
  },
  {
   "cell_type": "markdown",
   "metadata": {},
   "source": [
    "## Connection Properties"
   ]
  },
  {
   "cell_type": "markdown",
   "metadata": {},
   "source": [
    "There are multiple connection properties that can be required by users."
   ]
  },
  {
   "cell_type": "markdown",
   "metadata": {},
   "source": [
    "### 1. `conn_mat`"
   ]
  },
  {
   "cell_type": "markdown",
   "metadata": {},
   "source": [
    "The matrix-based synaptic connection is one of the most intuitive ways to build synaptic computations. The connection matrix between two neuron groups can be easily obtained through the function of `connector.requires('conn_mat')`. Each connection matrix is an array with the shape of $(n_{pre}, n_{post})$:"
   ]
  },
  {
   "cell_type": "markdown",
   "metadata": {},
   "source": [
    "<img src=\"../_static/syn-example-conn_mat.png\" width=\"400 px\">"
   ]
  },
  {
   "cell_type": "markdown",
   "metadata": {},
   "source": [
    "### 2. `pre_ids` and `post_ids`"
   ]
  },
  {
   "cell_type": "markdown",
   "metadata": {},
   "source": [
    "Using *vectors* to store the connection between neuron groups is a much more efficient way to reduce memory when the connection matrix is sparse. For the connction matrix `conn_mat` defined above, we can align the connected pre-synaptic neurons and the post-synaptic neurons by two one-dimensional arrays: *pre_ids* and *post_ids*."
   ]
  },
  {
   "cell_type": "markdown",
   "metadata": {},
   "source": [
    "<img src=\"../_static/syn-example-pre_ids-post_ids.png\" width=\"700 px\">"
   ]
  },
  {
   "cell_type": "markdown",
   "metadata": {},
   "source": [
    "In this way, we only need two vectors (`pre_ids` and `post_ids`) to store the synaptic connection. `syn_id` in the figure indicates the indices of each neuron pair, i.e. each synapse."
   ]
  },
  {
   "cell_type": "markdown",
   "metadata": {},
   "source": [
    "### 3. `pre2post` and `post2pre`"
   ]
  },
  {
   "cell_type": "markdown",
   "metadata": {},
   "source": [
    "Another two synaptic structures are `pre2post` and `post2pre`. They establish the mapping between the pre- and post-synaptic neurons.\n",
    "\n",
    "`pre2post` is a tuple containing two vectors, one of which is the post-synaptic neuron indices and the other is the corresponding pre-synaptic neuron pointers. For example, the following figure shows the indices of the pre-synaptic neurons and the post-synaptic neurons to which the pre-synaptic neurons project:"
   ]
  },
  {
   "cell_type": "markdown",
   "metadata": {},
   "source": [
    "<img src=\"../_static/syn-example-pre2post.png\" width=\"300 px\">"
   ]
  },
  {
   "cell_type": "markdown",
   "metadata": {},
   "source": [
    "To record the connection, firstly the post_ids are concatenated as a single vector call the **post-synaptic index vector (indices)**. Because the post-synaptic neuron indices have been sorted by the pre-synaptic neuron indices, it is sufficient to record only the starting position of each pre-synaptic neuron index. Therefore, the pre-synaptic neuron indices and the end of the last pre-synaptic neuron index together make up the **pre-synaptic index pointer vector (indptr)**, which is illustrated in the figure below."
   ]
  },
  {
   "cell_type": "markdown",
   "metadata": {},
   "source": [
    "<img src=\"../_static/syn-example-pre2syn-2.png\" width=\"700 px\">"
   ]
  },
  {
   "cell_type": "markdown",
   "metadata": {},
   "source": [
    "The post-synaptic neuron indices to which pre-synaptic neuron $i$ projects can be obtained by array slicing:\n",
    "\n",
    "```python\n",
    "indices[indptr[i], indptr[i+1]]\n",
    "```\n",
    "\n",
    "Similarly, `post2pre` is a 2-element tuple containing the pre-synaptic neuron indices and the corresponding post-synaptic neuron pointers. Taking the connection in the illutration aobve as an example, the post-synaptic neuron indices and the pre-synaptic neuron indices to which the post-synaptic neurons project is shown as:"
   ]
  },
  {
   "cell_type": "markdown",
   "metadata": {},
   "source": [
    "<img src=\"../_static/syn-example-post2pre.png\" width=\"300 px\">"
   ]
  },
  {
   "cell_type": "markdown",
   "metadata": {},
   "source": [
    "The **pre-synaptic index vector (indices)** and the **post-synaptic index pointer vector (indptr)** are listed below:"
   ]
  },
  {
   "cell_type": "markdown",
   "metadata": {},
   "source": [
    "<img src=\"../_static/syn-example-post2syn-2.png\" width=\"700 px\">"
   ]
  },
  {
   "cell_type": "markdown",
   "metadata": {},
   "source": [
    "When the connection is sparse, `pre2post` (or `post2pre`) is a very efficient way to store the connection, since the lengths of the two vectors in the tuple are $n_{synapse}$ and $n_{pre}$ ($n_{post}$), respectively."
   ]
  },
  {
   "cell_type": "markdown",
   "metadata": {},
   "source": [
    "### 4. `pre2syn` and `post2syn`"
   ]
  },
  {
   "cell_type": "markdown",
   "metadata": {},
   "source": [
    "The last two properties are `pre2syn` and `post2syn` that record pre- and post-synaptic projection, respectively. \n",
    "\n",
    "For **`pre2syn`**, similar to `pre2post` and `post2pre`, there is a **synapse index vector** and a **pre-synaptic index pointer vector** that refers to the starting position of each pre-synaptic neuron index at the synapse index vector.\n",
    "\n",
    "Below is the same example identifying the connection by pre-synaptic neuron indices and the synapses belonging to them."
   ]
  },
  {
   "cell_type": "markdown",
   "metadata": {},
   "source": [
    "<img src=\"../_static/syn-example-pre2syn.png\" width=\"300 px\">"
   ]
  },
  {
   "cell_type": "markdown",
   "metadata": {},
   "source": [
    "For better understanding, The synapse indices, pre- and post-synaptic neuron indices are shown as below:"
   ]
  },
  {
   "cell_type": "markdown",
   "metadata": {},
   "source": [
    "<img src=\"../_static/syn-example-pre2syn-1.png\" width=\"700 px\">"
   ]
  },
  {
   "cell_type": "markdown",
   "metadata": {},
   "source": [
    "The **pre-synaptic index pointer vector** is computed in the same way as in `pre2post`:"
   ]
  },
  {
   "cell_type": "markdown",
   "metadata": {},
   "source": [
    "<img src=\"../_static/syn-example-pre2syn-2.png\" width=\"700 px\">"
   ]
  },
  {
   "cell_type": "markdown",
   "metadata": {},
   "source": [
    "Similarly, **`post2syn`** is a also tuple containing the synapse neuron indices and the corresponding post-synaptic neuron pointers."
   ]
  },
  {
   "cell_type": "markdown",
   "metadata": {},
   "source": [
    "<img src=\"../_static/syn-example-post2syn.png\" width=\"300 px\">"
   ]
  },
  {
   "cell_type": "markdown",
   "metadata": {},
   "source": [
    "The only different from `pre2syn` is that the synapse indices is (most of the time) originally sorted by pre-synaptic neurons, but when computing `post2syn`, synapses should be sorted by post-synaptic neuron indices:"
   ]
  },
  {
   "cell_type": "markdown",
   "metadata": {},
   "source": [
    "<img src=\"../_static/syn-example-post2syn-1.png\" width=\"700 px\">"
   ]
  },
  {
   "cell_type": "markdown",
   "metadata": {},
   "source": [
    "The **synapse index vector** (the first row) and the **post-synaptic index pointer vector** (the last row) are listed below:"
   ]
  },
  {
   "cell_type": "markdown",
   "metadata": {},
   "source": [
    "<img src=\"../_static/syn-example-post2syn-2.png\" width=\"700 px\">"
   ]
  },
  {
   "cell_type": "code",
   "execution_count": 3,
   "metadata": {
    "ExecuteTime": {
     "end_time": "2021-03-25T03:02:48.939126Z",
     "start_time": "2021-03-25T03:02:47.073698Z"
    },
    "pycharm": {
     "name": "#%%\n"
    }
   },
   "outputs": [],
   "source": [
    "import brainpy as bp\n",
    "\n",
    "bp.math.set_platform('cpu')"
   ]
  },
  {
   "cell_type": "code",
   "execution_count": 4,
   "metadata": {},
   "outputs": [],
   "source": [
    "import networkx as nx\n",
    "import numpy as np\n",
    "import matplotlib.pyplot as plt"
   ]
  },
  {
   "cell_type": "markdown",
   "metadata": {},
   "source": [
    "## Built-in regular connections"
   ]
  },
  {
   "cell_type": "markdown",
   "metadata": {},
   "source": [
    "### brainpy.connect.One2One\n",
    "\n",
    "The neurons in the pre-synaptic neuron group only connect to the neurons\n",
    "in the same position of the post-synaptic group. Thus, this connection\n",
    "requires the indices of two neuron groups same. Otherwise, an error will\n",
    "occurs.\n",
    "\n",
    "<img src=\"../_static/one2one.png\" width=\"200 px\">"
   ]
  },
  {
   "cell_type": "code",
   "execution_count": 5,
   "metadata": {
    "pycharm": {
     "name": "#%%\n"
    }
   },
   "outputs": [
    {
     "data": {
      "text/plain": [
       "<brainpy.connect.regular_conn.One2One at 0x12d27d9a0>"
      ]
     },
     "execution_count": 5,
     "metadata": {},
     "output_type": "execute_result"
    }
   ],
   "source": [
    "conn = bp.connect.One2One()\n",
    "conn(pre_size=10, post_size=10)"
   ]
  },
  {
   "cell_type": "markdown",
   "metadata": {
    "pycharm": {
     "name": "#%% md\n"
    }
   },
   "source": [
    "where `pre_size` denotes the size of the pre-synaptic neuron group, `post_size` denotes the size of the post-synaptic neuron group.\n",
    "Note that parameter `size` can be *int*, *tuple of int* or *list of int* where each element represent each dimension of neuron group.\n",
    "\n",
    "In One2One connection, particularly, `pre_size` and `post_size` must be the same."
   ]
  },
  {
   "cell_type": "markdown",
   "metadata": {
    "pycharm": {
     "name": "#%% md\n"
    }
   },
   "source": [
    "Class `One2One` is inherited from `TwoEndConnector`. Users can use method `require` or `requires` to get specific connection properties.\n",
    "\n",
    "Here is an example:"
   ]
  },
  {
   "cell_type": "code",
   "execution_count": 8,
   "metadata": {
    "pycharm": {
     "name": "#%%\n"
    }
   },
   "outputs": [
    {
     "name": "stdout",
     "output_type": "stream",
     "text": [
      "pre_ids: JaxArray([0, 1, 2, 3, 4], dtype=uint32)\n",
      "post_ids: JaxArray([0, 1, 2, 3, 4], dtype=uint32)\n",
      "pre2post: (JaxArray([0, 1, 2, 3, 4], dtype=uint32), JaxArray([0, 1, 2, 3, 4, 5], dtype=uint32))\n"
     ]
    }
   ],
   "source": [
    "size = 5\n",
    "conn = bp.connect.One2One()(pre_size=size, post_size=size)\n",
    "res = conn.require('pre_ids', 'post_ids', 'pre2post', 'conn_mat')\n",
    "\n",
    "print('pre_ids:', res[0])\n",
    "print('post_ids:', res[1])\n",
    "print('pre2post:', res[2])"
   ]
  },
  {
   "cell_type": "markdown",
   "metadata": {},
   "source": [
    "### brainpy.connect.All2All\n",
    "\n",
    "All neurons of the post-synaptic population form connections with all\n",
    "neurons of the pre-synaptic population (dense connectivity). Users can\n",
    "choose whether connect the neurons at the same position\n",
    "(`include_self=True or False`).\n",
    "\n",
    "<img src=\"../_static/all2all.png\" width=\"200 px\">"
   ]
  },
  {
   "cell_type": "code",
   "execution_count": 9,
   "metadata": {},
   "outputs": [
    {
     "data": {
      "text/plain": [
       "<brainpy.connect.regular_conn.All2All at 0x12d18ac10>"
      ]
     },
     "execution_count": 9,
     "metadata": {},
     "output_type": "execute_result"
    }
   ],
   "source": [
    "conn = bp.connect.All2All(include_self=False)\n",
    "conn(pre_size=size, post_size=size)"
   ]
  },
  {
   "cell_type": "markdown",
   "metadata": {
    "pycharm": {
     "name": "#%% md\n"
    }
   },
   "source": [
    "Class `All2All` is inherited from `TwoEndConnector`. Users can use method `require` or `requires` to get specific connection properties.\n",
    "\n",
    "Here is an example:"
   ]
  },
  {
   "cell_type": "code",
   "execution_count": 11,
   "metadata": {
    "pycharm": {
     "name": "#%%\n"
    }
   },
   "outputs": [
    {
     "name": "stdout",
     "output_type": "stream",
     "text": [
      "pre_ids: JaxArray([0, 0, 0, 0, 1, 1, 1, 1, 2, 2, 2, 2, 3, 3, 3, 3, 4, 4, 4, 4],            dtype=uint32)\n",
      "post_ids: JaxArray([1, 2, 3, 4, 0, 2, 3, 4, 0, 1, 3, 4, 0, 1, 2, 4, 0, 1, 2, 3],            dtype=uint32)\n",
      "pre2post: (JaxArray([1, 2, 3, 4, 0, 2, 3, 4, 0, 1, 3, 4, 0, 1, 2, 4, 0, 1, 2, 3],            dtype=uint32), JaxArray([ 0,  4,  8, 12, 16, 20], dtype=uint32))\n",
      "conn_mat: JaxArray([[False,  True,  True,  True,  True],\n",
      "          [ True, False,  True,  True,  True],\n",
      "          [ True,  True, False,  True,  True],\n",
      "          [ True,  True,  True, False,  True],\n",
      "          [ True,  True,  True,  True, False]], dtype=bool)\n"
     ]
    }
   ],
   "source": [
    "conn = bp.connect.All2All(include_self=False)(pre_size=size, post_size=size)\n",
    "res = conn.require('pre_ids', 'post_ids', 'pre2post', 'conn_mat')\n",
    "\n",
    "print('pre_ids:', res[0])\n",
    "print('post_ids:', res[1])\n",
    "print('pre2post:', res[2])\n",
    "print('conn_mat:', res[3])"
   ]
  },
  {
   "cell_type": "markdown",
   "metadata": {},
   "source": [
    "### brainpy.connect.GridFour\n",
    "\n",
    "`GridFour` is the four nearest neighbors connection. Each neuron connect to its\n",
    "nearest four neurons.\n",
    "\n",
    "<img src=\"../_static/grid_four.png\" width=\"250 px\">"
   ]
  },
  {
   "cell_type": "code",
   "execution_count": 12,
   "metadata": {},
   "outputs": [
    {
     "data": {
      "text/plain": [
       "<brainpy.connect.regular_conn.GridFour at 0x12d0356a0>"
      ]
     },
     "execution_count": 12,
     "metadata": {},
     "output_type": "execute_result"
    }
   ],
   "source": [
    "conn = bp.connect.GridFour(include_self=False)\n",
    "conn(pre_size=size)"
   ]
  },
  {
   "cell_type": "markdown",
   "metadata": {
    "pycharm": {
     "name": "#%% md\n"
    }
   },
   "source": [
    "Class `GridFour` is inherited from `OneEndConnector`, therefore there is only one parameter `pre_size` representing the size of neuron group, which should be **two-dimensional geometry**.\n",
    "\n",
    "Here is an example:"
   ]
  },
  {
   "cell_type": "code",
   "execution_count": 13,
   "metadata": {
    "pycharm": {
     "name": "#%%\n"
    }
   },
   "outputs": [
    {
     "name": "stdout",
     "output_type": "stream",
     "text": [
      "pre_ids JaxArray([ 0,  0,  1,  1,  1,  2,  2,  2,  3,  3,  4,  4,  4,  5,  5,\n",
      "           5,  5,  6,  6,  6,  6,  7,  7,  7,  8,  8,  8,  9,  9,  9,\n",
      "           9, 10, 10, 10, 10, 11, 11, 11, 12, 12, 13, 13, 13, 14, 14,\n",
      "          14, 15, 15], dtype=uint32)\n"
     ]
    }
   ],
   "source": [
    "size = (4, 4)\n",
    "conn = bp.connect.GridFour(include_self=False)(pre_size=size)\n",
    "res = conn.require('pre_ids', 'conn_mat')\n",
    "\n",
    "print('pre_ids', res[0])"
   ]
  },
  {
   "cell_type": "code",
   "execution_count": 17,
   "metadata": {},
   "outputs": [
    {
     "data": {
      "image/png": "[encoded data removed]",
      "text/plain": [
       "<Figure size 432x288 with 1 Axes>"
      ]
     },
     "metadata": {},
     "output_type": "display_data"
    }
   ],
   "source": [
    "# Using NetworkX to visualize network connection\n",
    "G = nx.from_numpy_matrix(res[1])\n",
    "nx.draw(G, with_labels=True)\n",
    "plt.show()"
   ]
  },
  {
   "cell_type": "markdown",
   "metadata": {},
   "source": [
    "### brainpy.connect.GridEight\n",
    "\n",
    "`GridEight` is eight nearest neighbors connection. Each neuron connect to its\n",
    "nearest eight neurons.\n",
    "\n",
    "<img src=\"../_static/grid_eight.png\" width=\"250 px\">"
   ]
  },
  {
   "cell_type": "code",
   "execution_count": 18,
   "metadata": {},
   "outputs": [
    {
     "data": {
      "text/plain": [
       "<brainpy.connect.regular_conn.GridEight at 0x143df5c10>"
      ]
     },
     "execution_count": 18,
     "metadata": {},
     "output_type": "execute_result"
    }
   ],
   "source": [
    "conn = bp.connect.GridEight(include_self=False)\n",
    "conn(pre_size=size)"
   ]
  },
  {
   "cell_type": "markdown",
   "metadata": {
    "pycharm": {
     "name": "#%% md\n"
    }
   },
   "source": [
    "Class `GridEight` is inherited from `GridN`, which will be introduced as followed.\n",
    "\n",
    "Here is an example:"
   ]
  },
  {
   "cell_type": "code",
   "execution_count": 19,
   "metadata": {
    "pycharm": {
     "name": "#%%\n"
    }
   },
   "outputs": [
    {
     "name": "stdout",
     "output_type": "stream",
     "text": [
      "pre_ids JaxArray([ 0,  0,  0,  1,  1,  1,  1,  1,  2,  2,  2,  2,  2,  3,  3,\n",
      "           3,  4,  4,  4,  4,  4,  5,  5,  5,  5,  5,  5,  5,  5,  6,\n",
      "           6,  6,  6,  6,  6,  6,  6,  7,  7,  7,  7,  7,  8,  8,  8,\n",
      "           8,  8,  9,  9,  9,  9,  9,  9,  9,  9, 10, 10, 10, 10, 10,\n",
      "          10, 10, 10, 11, 11, 11, 11, 11, 12, 12, 12, 13, 13, 13, 13,\n",
      "          13, 14, 14, 14, 14, 14, 15, 15, 15], dtype=uint32)\n"
     ]
    }
   ],
   "source": [
    "size = (4, 4)\n",
    "conn = bp.connect.GridEight(include_self=False)(pre_size=size)\n",
    "res = conn.require('pre_ids', 'conn_mat')\n",
    "\n",
    "print('pre_ids', res[0])"
   ]
  },
  {
   "cell_type": "markdown",
   "metadata": {
    "pycharm": {
     "name": "#%% md\n"
    }
   },
   "source": [
    "Take the central point (id = 4) as an example, its neighbors are all the other point except itself.\n",
    "Therefore, its row in `conn_mat` has `True` for all values except itself."
   ]
  },
  {
   "cell_type": "code",
   "execution_count": 20,
   "metadata": {},
   "outputs": [
    {
     "data": {
      "image/png": "[encoded data removed]",
      "text/plain": [
       "<Figure size 432x288 with 1 Axes>"
      ]
     },
     "metadata": {},
     "output_type": "display_data"
    }
   ],
   "source": [
    "# Using NetworkX to visualize network connection\n",
    "G = nx.from_numpy_matrix(res[1])\n",
    "nx.draw(G, with_labels=True)\n",
    "plt.show()"
   ]
  },
  {
   "cell_type": "markdown",
   "metadata": {},
   "source": [
    "### brainpy.connect.GridN\n",
    "\n",
    "`GridN` is also a nearest neighbors connection. Each neuron connect to its\n",
    "nearest $(2N+1) \\cdot (2N+1)$ neurons (if including itself).\n",
    "\n",
    "<img src=\"../_static/grid_N.png\" width=\"250 px\" >\n",
    "\n",
    "Here are some examples to fully understand `GridN`. It is slightly different from `GridEight`: `GridEight` is equivalent to `GridN` when N = 1.\n",
    "\n",
    "- When N = 1:\n",
    "    $\\begin{bmatrix}\n",
    "    x & x & x\\\\\n",
    "    x & I & x\\\\\n",
    "    x & x & x\n",
    "    \\end{bmatrix}$\n",
    "\n",
    "- When N = 2:\n",
    "    $ \\begin{bmatrix}\n",
    "    x & x & x & x & x\\\\\n",
    "    x & x & x & x & x\\\\\n",
    "    x & x & I & x & x\\\\\n",
    "    x & x & x & x & x\\\\\n",
    "    x & x & x & x & x\n",
    "    \\end{bmatrix} $"
   ]
  },
  {
   "cell_type": "code",
   "execution_count": 21,
   "metadata": {},
   "outputs": [
    {
     "data": {
      "text/plain": [
       "<brainpy.connect.regular_conn.GridN at 0x143ebdf70>"
      ]
     },
     "execution_count": 21,
     "metadata": {},
     "output_type": "execute_result"
    }
   ],
   "source": [
    "conn = bp.connect.GridN(N=2, include_self=False)\n",
    "conn(pre_size=size)"
   ]
  },
  {
   "cell_type": "markdown",
   "metadata": {
    "pycharm": {
     "name": "#%% md\n"
    }
   },
   "source": [
    "Here is an example:"
   ]
  },
  {
   "cell_type": "code",
   "execution_count": 24,
   "metadata": {
    "pycharm": {
     "name": "#%%\n"
    }
   },
   "outputs": [],
   "source": [
    "size = (4, 4)\n",
    "conn = bp.connect.GridN(N=1, include_self=False)(pre_size=size)\n",
    "res = conn.require('conn_mat')"
   ]
  },
  {
   "cell_type": "code",
   "execution_count": 26,
   "metadata": {},
   "outputs": [
    {
     "data": {
      "image/png": "[encoded data removed]",
      "text/plain": [
       "<Figure size 432x288 with 1 Axes>"
      ]
     },
     "metadata": {},
     "output_type": "display_data"
    }
   ],
   "source": [
    "# Using NetworkX to visualize network connection\n",
    "G = nx.from_numpy_matrix(res)\n",
    "nx.draw(G, with_labels=True)\n",
    "plt.show()"
   ]
  },
  {
   "cell_type": "markdown",
   "metadata": {},
   "source": [
    "## Built-in random connections"
   ]
  },
  {
   "cell_type": "markdown",
   "metadata": {},
   "source": [
    "### brainpy.connect.FixedProb\n",
    "\n",
    "For each post-synaptic neuron, there is a fixed probability that it forms a connection\n",
    "with a neuron of the pre-synaptic population. It is basically a all_to_all projection,\n",
    "except some synapses are not created, making the projection sparser.\n",
    "\n",
    "<img src=\"../_static/fixed_proab.png\" width=\"200 px\" >\n",
    "\n",
    "Class `brainpy.connect.FixedProb` is inherited from `TwoEndConnector`, and it receives three settings:\n",
    "- `prob`: Fixed probability for connection with a pre-synaptic neuron for each post-synaptic neuron.\n",
    "- `include_self`: Whether connect to inself.\n",
    "- `seed`: Seed the random generator.\n",
    "\n",
    "And there are two parameters passed in for calling instance of class: `pre_size` and `post_size`."
   ]
  },
  {
   "cell_type": "code",
   "execution_count": 27,
   "metadata": {},
   "outputs": [
    {
     "data": {
      "text/plain": [
       "JaxArray([[False,  True, False, False],\n",
       "          [False, False, False, False],\n",
       "          [ True,  True, False,  True],\n",
       "          [ True, False,  True, False]], dtype=bool)"
      ]
     },
     "execution_count": 27,
     "metadata": {},
     "output_type": "execute_result"
    }
   ],
   "source": [
    "conn = bp.connect.FixedProb(prob=0.5, include_self=False, seed=134)\n",
    "conn(pre_size=4, post_size=4)\n",
    "conn.require('conn_mat')"
   ]
  },
  {
   "cell_type": "markdown",
   "metadata": {},
   "source": [
    "### brainpy.connect.FixedPreNum\n",
    "\n",
    "Each neuron in the post-synaptic population receives connections from a\n",
    "fixed number of neurons of the pre-synaptic population chosen randomly.\n",
    "It may happen that two post-synaptic neurons are connected to the same\n",
    "pre-synaptic neuron and that some pre-synaptic neurons are connected to\n",
    "nothing.\n",
    "\n",
    "<img src=\"../_static/fixed_pre_num.png\" width=\"200 px\">\n",
    "\n",
    "Class `brainpy.connect.FixedPreNum` is inherited from `TwoEndConnector`, and it receives three settings:\n",
    "- `num`: The conn probability (if \"num\" is float) or the fixed number of connectivity (if \"num\" is int).\n",
    "- `include_self`: Whether connect to inself.\n",
    "- `seed`: Seed the random generator.\n",
    "\n",
    "And there are two parameters passed in for calling instance of class: `pre_size` and `post_size`."
   ]
  },
  {
   "cell_type": "code",
   "execution_count": 28,
   "metadata": {},
   "outputs": [
    {
     "data": {
      "text/plain": [
       "JaxArray([[ True, False, False, False],\n",
       "          [False,  True, False, False],\n",
       "          [ True,  True,  True,  True],\n",
       "          [False, False,  True,  True]], dtype=bool)"
      ]
     },
     "execution_count": 28,
     "metadata": {},
     "output_type": "execute_result"
    }
   ],
   "source": [
    "conn = bp.connect.FixedPreNum(num=2, include_self=True, seed=1234)\n",
    "conn(pre_size=4, post_size=4)\n",
    "conn.require('conn_mat')"
   ]
  },
  {
   "cell_type": "markdown",
   "metadata": {},
   "source": [
    "### brainpy.connect.FixedPostNum\n",
    "\n",
    "Each neuron in the pre-synaptic population sends a connection to a fixed number of neurons\n",
    "of the post-synaptic population chosen randomly. It may happen that two pre-synaptic neurons\n",
    "are connected to the same post-synaptic neuron and that some post-synaptic neurons receive\n",
    "no connection at all.\n",
    "\n",
    "<img src=\"../_static/fixed_post_num.png\" width=\"200 px\">\n",
    "\n",
    "Class `brainpy.connect.FixedPostNum` is inherited from `TwoEndConnector`, and it receives three settings:\n",
    "- `num`: The conn probability (if \"num\" is float) or the fixed number of connectivity (if \"num\" is int).\n",
    "- `include_self`: Whether connect to inself.\n",
    "- `seed`: Seed the random generator.\n",
    "\n",
    "And there are two parameters passed in for calling instance of class: `pre_size` and `post_size`."
   ]
  },
  {
   "cell_type": "code",
   "execution_count": 29,
   "metadata": {},
   "outputs": [
    {
     "data": {
      "text/plain": [
       "JaxArray([[ True, False,  True, False],\n",
       "          [False,  True,  True, False],\n",
       "          [False, False,  True,  True],\n",
       "          [False, False,  True,  True]], dtype=bool)"
      ]
     },
     "execution_count": 29,
     "metadata": {},
     "output_type": "execute_result"
    }
   ],
   "source": [
    "conn = bp.connect.FixedPostNum(num=2, include_self=True, seed=1234)\n",
    "conn(pre_size=4, post_size=4)\n",
    "conn.require('conn_mat')"
   ]
  },
  {
   "cell_type": "markdown",
   "metadata": {},
   "source": [
    "### brainpy.connect.GaussianProb\n",
    "\n",
    "\n",
    "Builds a Gaussian connection pattern between the two populations, where\n",
    "the connection probability decay according to the gaussian function.\n",
    "\n",
    "Specifically,\n",
    "\n",
    "$$\n",
    "p=\\exp\\left(-\\frac{(x-x_c)^2+(y-y_c)^2}{2\\sigma^2}\\right)\n",
    "$$\n",
    "\n",
    "where $(x, y)$ is the position of the pre-synaptic neuron\n",
    "and $(x_c,y_c)$ is the position of the post-synaptic neuron.\n",
    "\n",
    "For example, in a $30 \\textrm{x} 30$ two-dimensional networks, when\n",
    "$\\beta = \\frac{1}{2\\sigma^2} = 0.1$, the connection pattern is shown\n",
    "as the follows:\n",
    "\n",
    "<img src=\"../_static/gaussian_prob.png\" width=\"500 px\">"
   ]
  },
  {
   "cell_type": "markdown",
   "metadata": {
    "pycharm": {
     "name": "#%% md\n"
    }
   },
   "source": [
    "`GaussianProb` is inherited from `OneEndConnector`, and it receives four settings:\n",
    "\n",
    "- `sigma`: (float) Width of the Gaussian function.\n",
    "- `encoding_values`: (optional, list, tuple, int, float) The value ranges to encode for neurons at each axis.\n",
    "- `periodic_boundary` : (bool) Whether the neuron encode the value space with the periodic boundary.\n",
    "- `normalize`: (bool) Whether normalize the connection probability.\n",
    "- `include_self` : (bool) Whether create the conn at the same position.\n",
    "- `seed`: (bool) The random seed."
   ]
  },
  {
   "cell_type": "code",
   "execution_count": 30,
   "metadata": {},
   "outputs": [
    {
     "data": {
      "text/plain": [
       "JaxArray([[ True,  True, False,  True, False, False, False, False,\n",
       "            True,  True],\n",
       "          [ True,  True,  True,  True, False, False, False, False,\n",
       "           False,  True],\n",
       "          [ True,  True,  True,  True, False, False, False, False,\n",
       "           False,  True],\n",
       "          [False,  True,  True,  True,  True, False, False, False,\n",
       "           False, False],\n",
       "          [False, False, False,  True,  True,  True, False, False,\n",
       "           False, False],\n",
       "          [False, False,  True, False,  True,  True,  True,  True,\n",
       "           False, False],\n",
       "          [False, False, False,  True, False,  True,  True,  True,\n",
       "           False, False],\n",
       "          [ True, False, False, False, False,  True,  True,  True,\n",
       "           False,  True],\n",
       "          [False,  True, False, False, False, False,  True,  True,\n",
       "            True,  True],\n",
       "          [ True, False,  True, False, False,  True, False,  True,\n",
       "            True,  True]], dtype=bool)"
      ]
     },
     "execution_count": 30,
     "metadata": {},
     "output_type": "execute_result"
    }
   ],
   "source": [
    "conn = bp.connect.GaussianProb(sigma=2, periodic_boundary=True, normalize=True, include_self=True, seed=21)\n",
    "conn(pre_size=10)\n",
    "conn.require('conn_mat')"
   ]
  },
  {
   "cell_type": "code",
   "execution_count": 34,
   "metadata": {},
   "outputs": [
    {
     "data": {
      "image/png": "[encoded data removed]",
      "text/plain": [
       "<Figure size 432x288 with 1 Axes>"
      ]
     },
     "metadata": {},
     "output_type": "display_data"
    }
   ],
   "source": [
    "# Using NetworkX to visualize network connection\n",
    "G = nx.from_numpy_matrix(conn.require('conn_mat'))\n",
    "nx.draw(G, with_labels=True)\n",
    "plt.show()"
   ]
  },
  {
   "cell_type": "markdown",
   "metadata": {},
   "source": [
    "### brainpy.connect.SmallWorld"
   ]
  },
  {
   "cell_type": "markdown",
   "metadata": {},
   "source": [
    "`SmallWorld` is a connector class to help build a [small-world network](https://en.wikipedia.org/wiki/Small-world_network) [1].  small-world network is defined to be a network where the typical distance L between two randomly chosen nodes (the number of steps required) grows proportionally to the logarithm of the number of nodes N in the network, that is:\n",
    "\n",
    "$$\n",
    "L\\propto \\log N\n",
    "$$\n",
    "\n",
    "[1] Duncan J. Watts and Steven H. Strogatz, Collective dynamics of small-world networks, Nature, 393, pp. 440–442, 1998."
   ]
  },
  {
   "cell_type": "markdown",
   "metadata": {},
   "source": [
    "Currently, `SmallWorld` only support a one-dimensional network with the ring structure. It receives four settings:\n",
    "\n",
    "- `num_neighbor`: the number of the nearest neighbors to connect.\n",
    "- `prob`: the probability of rewiring each edge.\n",
    "- `directed`: whether the edge is the directed (\"directed=True\") or undirected (\"directed=False\") connection.\n",
    "- `include_self`: whether allow to connect to itself."
   ]
  },
  {
   "cell_type": "code",
   "execution_count": 35,
   "metadata": {},
   "outputs": [
    {
     "data": {
      "text/plain": [
       "JaxArray([[False,  True, False, False, False, False,  True, False,\n",
       "            True, False],\n",
       "          [ True, False,  True,  True, False,  True, False, False,\n",
       "           False,  True],\n",
       "          [False,  True, False,  True,  True, False, False, False,\n",
       "           False, False],\n",
       "          [False,  True,  True, False,  True,  True, False, False,\n",
       "           False, False],\n",
       "          [False, False,  True,  True, False,  True,  True, False,\n",
       "           False, False],\n",
       "          [False,  True, False,  True,  True, False, False,  True,\n",
       "           False,  True],\n",
       "          [ True, False, False, False,  True, False, False,  True,\n",
       "            True, False],\n",
       "          [False, False, False, False, False,  True,  True, False,\n",
       "            True,  True],\n",
       "          [ True, False, False, False, False, False,  True,  True,\n",
       "           False,  True],\n",
       "          [False,  True, False, False, False,  True, False,  True,\n",
       "            True, False]], dtype=bool)"
      ]
     },
     "execution_count": 35,
     "metadata": {},
     "output_type": "execute_result"
    }
   ],
   "source": [
    "conn = bp.connect.SmallWorld(num_neighbor=5, prob=0.2, directed=False, include_self=False)\n",
    "conn(pre_size=10, post_size=10)\n",
    "conn.require('conn_mat')"
   ]
  },
  {
   "cell_type": "code",
   "execution_count": 36,
   "metadata": {},
   "outputs": [
    {
     "data": {
      "image/png": "[encoded data removed]",
      "text/plain": [
       "<Figure size 432x288 with 1 Axes>"
      ]
     },
     "metadata": {},
     "output_type": "display_data"
    }
   ],
   "source": [
    "# Using NetworkX to visualize network connection\n",
    "G = nx.from_numpy_matrix(conn.require('conn_mat'))\n",
    "nx.draw(G, with_labels=True)\n",
    "plt.show()"
   ]
  },
  {
   "cell_type": "markdown",
   "metadata": {},
   "source": [
    "### brainpy.connect.ScaleFreeBA"
   ]
  },
  {
   "cell_type": "markdown",
   "metadata": {},
   "source": [
    "`ScaleFreeBA` is a connector class to help build a random scale-free network according to the [Barabási–Albert preferential attachment model](https://en.wikipedia.org/wiki/Barab%C3%A1si%E2%80%93Albert_model) [2]. `ScaleFreeBA` receives the following settings:\n",
    "\n",
    "- `m`: Number of edges to attach from a new node to existing nodes.\n",
    "- `directed`: whether the edge is the directed (\"directed=True\") or undirected (\"directed=False\") connection.\n",
    "- `seed`: Indicator of random number generation state.\n",
    "\n",
    "[2] A. L. Barabási and R. Albert “Emergence of scaling in random networks”, Science 286, pp 509-512, 1999."
   ]
  },
  {
   "cell_type": "code",
   "execution_count": 37,
   "metadata": {},
   "outputs": [
    {
     "data": {
      "text/plain": [
       "JaxArray([[False, False, False, False, False,  True,  True,  True,\n",
       "           False,  True],\n",
       "          [False, False, False, False, False,  True,  True,  True,\n",
       "            True,  True],\n",
       "          [False, False, False, False, False,  True,  True, False,\n",
       "           False, False],\n",
       "          [False, False, False, False, False,  True, False, False,\n",
       "           False,  True],\n",
       "          [False, False, False, False, False,  True,  True,  True,\n",
       "            True, False],\n",
       "          [ True,  True,  True,  True,  True, False,  True,  True,\n",
       "            True,  True],\n",
       "          [ True,  True,  True, False,  True,  True, False,  True,\n",
       "            True,  True],\n",
       "          [ True,  True, False, False,  True,  True,  True, False,\n",
       "            True, False],\n",
       "          [False,  True, False, False,  True,  True,  True,  True,\n",
       "           False, False],\n",
       "          [ True,  True, False,  True, False,  True,  True, False,\n",
       "           False, False]], dtype=bool)"
      ]
     },
     "execution_count": 37,
     "metadata": {},
     "output_type": "execute_result"
    }
   ],
   "source": [
    "conn = bp.connect.ScaleFreeBA(m=5, directed=False, seed=12345)\n",
    "conn(pre_size=10, post_size=10)\n",
    "conn.require('conn_mat')"
   ]
  },
  {
   "cell_type": "code",
   "execution_count": 43,
   "metadata": {},
   "outputs": [
    {
     "data": {
      "image/png": "[encoded data removed]",
      "text/plain": [
       "<Figure size 432x288 with 1 Axes>"
      ]
     },
     "metadata": {},
     "output_type": "display_data"
    }
   ],
   "source": [
    "# Using NetworkX to visualize network connection\n",
    "G = nx.from_numpy_matrix(conn.require('conn_mat'))\n",
    "nx.draw(G, with_labels=True)\n",
    "plt.show()"
   ]
  },
  {
   "cell_type": "markdown",
   "metadata": {},
   "source": [
    "### brainpy.connect.ScaleFreeBADual"
   ]
  },
  {
   "cell_type": "markdown",
   "metadata": {},
   "source": [
    "`ScaleFreeBADual` is a connector class to help build a random scale-free network according to the dual Barabási–Albert preferential attachment model [3]. ScaleFreeBA receives the following settings:\n",
    "\n",
    "- `p`: The probability of attaching $m_1$ edges (as opposed to $m_2$ edges).\n",
    "- `m1` : Number of edges to attach from a new node to existing nodes with probability $p$.\n",
    "- `m2`: Number of edges to attach from a new node to existing nodes with probability $1-p$.   \n",
    "- `directed`: whether the edge is the directed (\"directed=True\") or undirected (\"directed=False\") connection.\n",
    "- `seed`: Indicator of random number generation state.\n",
    "\n",
    "[3] N. Moshiri. \"The dual-Barabasi-Albert model\", arXiv:1810.10538."
   ]
  },
  {
   "cell_type": "code",
   "execution_count": 4,
   "metadata": {},
   "outputs": [
    {
     "data": {
      "text/plain": [
       "JaxArray([[False, False, False, False, False,  True, False,  True,\n",
       "           False,  True],\n",
       "          [False, False, False, False, False,  True, False,  True,\n",
       "            True, False],\n",
       "          [False, False, False, False, False,  True,  True, False,\n",
       "            True,  True],\n",
       "          [False, False, False, False, False,  True, False, False,\n",
       "           False, False],\n",
       "          [False, False, False, False, False,  True,  True,  True,\n",
       "            True, False],\n",
       "          [ True,  True,  True,  True,  True, False,  True,  True,\n",
       "            True,  True],\n",
       "          [False, False,  True, False,  True,  True, False,  True,\n",
       "            True, False],\n",
       "          [ True,  True, False, False,  True,  True,  True, False,\n",
       "           False,  True],\n",
       "          [False,  True,  True, False,  True,  True,  True, False,\n",
       "           False,  True],\n",
       "          [ True, False,  True, False, False,  True, False,  True,\n",
       "            True, False]], dtype=bool)"
      ]
     },
     "execution_count": 4,
     "metadata": {},
     "output_type": "execute_result"
    }
   ],
   "source": [
    "conn = bp.connect.ScaleFreeBADual(m1=3, m2=5, p=0.5, directed=False, seed=12345)\n",
    "conn(pre_size=10, post_size=10)\n",
    "conn.require('conn_mat')"
   ]
  },
  {
   "cell_type": "code",
   "execution_count": 8,
   "metadata": {},
   "outputs": [
    {
     "data": {
      "image/png": "[encoded data removed]",
      "text/plain": [
       "<Figure size 432x288 with 1 Axes>"
      ]
     },
     "metadata": {},
     "output_type": "display_data"
    }
   ],
   "source": [
    "# Using NetworkX to visualize network connection\n",
    "G = nx.from_numpy_matrix(conn.require('conn_mat'))\n",
    "nx.draw(G, with_labels=True)\n",
    "plt.show()"
   ]
  },
  {
   "cell_type": "markdown",
   "metadata": {},
   "source": [
    "### brainpy.connect.PowerLaw"
   ]
  },
  {
   "cell_type": "markdown",
   "metadata": {},
   "source": [
    "`PowerLaw` is a connector class to help build a random graph with powerlaw degree distribution and approximate average clustering [4]. It receives the following settings:\n",
    "\n",
    "- `m` : the number of random edges to add for each new node\n",
    "- `p` : Probability of adding a triangle after adding a random edge\n",
    "- `directed`: whether the edge is the directed (\"directed=True\") or undirected (\"directed=False\") connection.\n",
    "- `seed` : Indicator of random number generation state.\n",
    "\n",
    "[4] P. Holme and B. J. Kim, “Growing scale-free networks with tunable clustering”, Phys. Rev. E, 65, 026107, 2002."
   ]
  },
  {
   "cell_type": "code",
   "execution_count": 9,
   "metadata": {},
   "outputs": [
    {
     "data": {
      "text/plain": [
       "JaxArray([[False, False, False,  True, False,  True, False,  True,\n",
       "            True, False],\n",
       "          [False, False, False,  True,  True, False, False,  True,\n",
       "           False, False],\n",
       "          [False, False, False,  True,  True,  True,  True, False,\n",
       "            True,  True],\n",
       "          [ True,  True,  True, False,  True,  True,  True, False,\n",
       "           False,  True],\n",
       "          [False,  True,  True,  True, False, False, False,  True,\n",
       "            True, False],\n",
       "          [ True, False,  True,  True, False, False,  True, False,\n",
       "           False, False],\n",
       "          [False, False,  True,  True, False,  True, False, False,\n",
       "           False,  True],\n",
       "          [ True,  True, False, False,  True, False, False, False,\n",
       "           False, False],\n",
       "          [ True, False,  True, False,  True, False, False, False,\n",
       "           False, False],\n",
       "          [False, False,  True,  True, False, False,  True, False,\n",
       "           False, False]], dtype=bool)"
      ]
     },
     "execution_count": 9,
     "metadata": {},
     "output_type": "execute_result"
    }
   ],
   "source": [
    "conn = bp.connect.PowerLaw(m=3, p=0.5, directed=False, seed=12345)\n",
    "conn(pre_size=10, post_size=10)\n",
    "conn.require('conn_mat')"
   ]
  },
  {
   "cell_type": "code",
   "execution_count": 13,
   "metadata": {},
   "outputs": [
    {
     "data": {
      "image/png": "[encoded data removed]",
      "text/plain": [
       "<Figure size 432x288 with 1 Axes>"
      ]
     },
     "metadata": {},
     "output_type": "display_data"
    }
   ],
   "source": [
    "# Using NetworkX to visualize network connection\n",
    "G = nx.from_numpy_matrix(conn.require('conn_mat'))\n",
    "nx.draw(G, with_labels=True)\n",
    "plt.show()"
   ]
  },
  {
   "cell_type": "markdown",
   "metadata": {},
   "source": [
    "## Encapsulate your existing connections"
   ]
  },
  {
   "cell_type": "markdown",
   "metadata": {},
   "source": [
    "BrainPy also allows users to encapsulate existing connections with convenient class interfaces. Users can provide connection types as:\n",
    "- Index projection;\n",
    "- Dense matrix;\n",
    "- Sparse matrix.\n",
    "\n",
    "Then users should provide `pre_size` and `post_size` information in order to instantiate the connection. In such a way, based on the following connection classes, users can generate any other synaptic structures (such like `pre2post`, `pre2syn`, `conn_mat`, etc.) easily."
   ]
  },
  {
   "cell_type": "markdown",
   "metadata": {
    "pycharm": {
     "name": "#%% md\n"
    }
   },
   "source": [
    "### `bp.conn.IJConn`"
   ]
  },
  {
   "cell_type": "markdown",
   "metadata": {},
   "source": [
    "Here, let’s take a simple connection as an example. In this example, we create a connection which receives users’ handful index projection by using `bp.conn.IJConn`."
   ]
  },
  {
   "cell_type": "code",
   "execution_count": 5,
   "metadata": {},
   "outputs": [],
   "source": [
    "pre_list = np.array([0, 1, 2])\n",
    "post_list = np.array(([0, 0, 0]))\n",
    "conn = bp.conn.IJConn(i=pre_list, j=post_list)\n",
    "conn = conn(pre_size=5, post_size=3)"
   ]
  },
  {
   "cell_type": "code",
   "execution_count": 6,
   "metadata": {},
   "outputs": [
    {
     "data": {
      "text/plain": [
       "JaxArray([[ True, False, False],\n",
       "          [ True, False, False],\n",
       "          [ True, False, False],\n",
       "          [False, False, False],\n",
       "          [False, False, False]], dtype=bool)"
      ]
     },
     "execution_count": 6,
     "metadata": {},
     "output_type": "execute_result"
    }
   ],
   "source": [
    "conn.requires('conn_mat')"
   ]
  },
  {
   "cell_type": "code",
   "execution_count": 7,
   "metadata": {},
   "outputs": [
    {
     "data": {
      "text/plain": [
       "(JaxArray([0, 0, 0], dtype=uint32), JaxArray([0, 1, 2, 3, 3, 3], dtype=uint32))"
      ]
     },
     "execution_count": 7,
     "metadata": {},
     "output_type": "execute_result"
    }
   ],
   "source": [
    "conn.requires('pre2post')"
   ]
  },
  {
   "cell_type": "code",
   "execution_count": 8,
   "metadata": {
    "scrolled": true
   },
   "outputs": [
    {
     "data": {
      "text/plain": [
       "(JaxArray([0, 1, 2], dtype=uint32), JaxArray([0, 1, 2, 3, 3, 3], dtype=uint32))"
      ]
     },
     "execution_count": 8,
     "metadata": {},
     "output_type": "execute_result"
    }
   ],
   "source": [
    "conn.requires('pre2syn')"
   ]
  },
  {
   "cell_type": "markdown",
   "metadata": {
    "pycharm": {
     "name": "#%% md\n"
    }
   },
   "source": [
    "### `bp.conn.MatConn`"
   ]
  },
  {
   "cell_type": "markdown",
   "metadata": {
    "pycharm": {
     "name": "#%% md\n"
    }
   },
   "source": [
    "In next example, we create a connection which receives user's handful dense connection matrix by using `bp.conn.MatConn`."
   ]
  },
  {
   "cell_type": "code",
   "execution_count": 9,
   "metadata": {
    "pycharm": {
     "name": "#%%\n"
    }
   },
   "outputs": [],
   "source": [
    "bp.math.random.seed(123)\n",
    "conn = bp.connect.MatConn(conn_mat=np.random.randint(2, size=(5, 3), dtype=bp.math.bool_))\n",
    "conn = conn(pre_size=5, post_size=3)"
   ]
  },
  {
   "cell_type": "code",
   "execution_count": 10,
   "metadata": {
    "pycharm": {
     "name": "#%%\n"
    }
   },
   "outputs": [
    {
     "data": {
      "text/plain": [
       "JaxArray([[ True,  True, False],\n",
       "          [False,  True,  True],\n",
       "          [ True, False,  True],\n",
       "          [False, False,  True],\n",
       "          [ True, False, False]], dtype=bool)"
      ]
     },
     "execution_count": 10,
     "metadata": {},
     "output_type": "execute_result"
    }
   ],
   "source": [
    "conn.requires('conn_mat')"
   ]
  },
  {
   "cell_type": "code",
   "execution_count": 11,
   "metadata": {
    "pycharm": {
     "name": "#%%\n"
    }
   },
   "outputs": [
    {
     "data": {
      "text/plain": [
       "(JaxArray([0, 1, 1, 2, 0, 2, 2, 0], dtype=uint32),\n",
       " JaxArray([0, 2, 4, 6, 7, 8], dtype=uint32))"
      ]
     },
     "execution_count": 11,
     "metadata": {},
     "output_type": "execute_result"
    }
   ],
   "source": [
    "conn.requires('pre2post')"
   ]
  },
  {
   "cell_type": "code",
   "execution_count": 12,
   "metadata": {
    "pycharm": {
     "name": "#%%\n"
    }
   },
   "outputs": [
    {
     "data": {
      "text/plain": [
       "(JaxArray([0, 1, 2, 3, 4, 5, 6, 7], dtype=uint32),\n",
       " JaxArray([0, 2, 4, 6, 7, 8], dtype=uint32))"
      ]
     },
     "execution_count": 12,
     "metadata": {},
     "output_type": "execute_result"
    }
   ],
   "source": [
    "conn.require('pre2syn')"
   ]
  },
  {
   "cell_type": "markdown",
   "metadata": {
    "pycharm": {
     "name": "#%% md\n"
    }
   },
   "source": [
    "### `bp.conn.SparseMatConn`"
   ]
  },
  {
   "cell_type": "markdown",
   "metadata": {
    "pycharm": {
     "name": "#%% md\n"
    }
   },
   "source": [
    "In last example, we create a connection which receives user's handful sparse connection matrix by using `bp.conn.sparseMatConn`"
   ]
  },
  {
   "cell_type": "code",
   "execution_count": 13,
   "metadata": {
    "pycharm": {
     "name": "#%%\n"
    }
   },
   "outputs": [],
   "source": [
    "from scipy.sparse import csr_matrix\n",
    "\n",
    "conn_mat = np.random.randint(2, size=(5, 3), dtype=bp.math.bool_)\n",
    "sparse_mat = csr_matrix(conn_mat)\n",
    "conn = bp.conn.SparseMatConn(sparse_mat)\n",
    "conn = conn(pre_size=sparse_mat.shape[0], post_size=sparse_mat.shape[1])"
   ]
  },
  {
   "cell_type": "code",
   "execution_count": 14,
   "metadata": {
    "pycharm": {
     "name": "#%%\n"
    }
   },
   "outputs": [
    {
     "data": {
      "text/plain": [
       "JaxArray([[ True, False,  True],\n",
       "          [ True, False,  True],\n",
       "          [ True, False, False],\n",
       "          [False,  True,  True],\n",
       "          [False,  True, False]], dtype=bool)"
      ]
     },
     "execution_count": 14,
     "metadata": {},
     "output_type": "execute_result"
    }
   ],
   "source": [
    "conn.requires('conn_mat')"
   ]
  },
  {
   "cell_type": "code",
   "execution_count": 15,
   "metadata": {
    "pycharm": {
     "name": "#%%\n"
    }
   },
   "outputs": [
    {
     "data": {
      "text/plain": [
       "(JaxArray([0, 2, 0, 2, 0, 1, 2, 1], dtype=uint32),\n",
       " JaxArray([0, 2, 4, 5, 7, 8], dtype=uint32))"
      ]
     },
     "execution_count": 15,
     "metadata": {},
     "output_type": "execute_result"
    }
   ],
   "source": [
    "conn.requires('pre2post')"
   ]
  },
  {
   "cell_type": "code",
   "execution_count": 16,
   "metadata": {
    "pycharm": {
     "name": "#%%\n"
    }
   },
   "outputs": [
    {
     "data": {
      "text/plain": [
       "(JaxArray([0, 2, 4, 5, 7, 1, 3, 6], dtype=uint32),\n",
       " JaxArray([0, 3, 5, 8], dtype=uint32))"
      ]
     },
     "execution_count": 16,
     "metadata": {},
     "output_type": "execute_result"
    }
   ],
   "source": [
    "conn.requires('post2syn')"
   ]
  },
  {
   "cell_type": "markdown",
   "metadata": {
    "pycharm": {
     "name": "#%% md\n"
    }
   },
   "source": [
    "### Using NetworkX to provide connections and pass into `Connector`\n",
    "\n",
    "NetworkX is a Python package for the creation, manipulation, and study of the structure, dynamics, and functions of complex networks.\n",
    "\n",
    "Users can design their own complex netork by using `NetworkX`.\n"
   ]
  },
  {
   "cell_type": "code",
   "execution_count": 17,
   "metadata": {
    "pycharm": {
     "name": "#%%\n"
    }
   },
   "outputs": [],
   "source": [
    "import networkx as nx\n",
    "G = nx.Graph()"
   ]
  },
  {
   "cell_type": "markdown",
   "metadata": {
    "pycharm": {
     "name": "#%% md\n"
    }
   },
   "source": [
    "By definition, a `Graph` is a collection of nodes (vertices) along with identified pairs of nodes (called edges, links, etc).\n",
    "\n",
    "To learn more about `NetowrkX`, please check the official documentation: [NetworkX tutorial](https://networkx.org/documentation/stable/tutorial.html)\n",
    "\n",
    "Using class [`brainpy.connect.MatConn`](https://brainpy.readthedocs.io/en/latest/apis/simulation/generated/brainpy.simulation.connect.MatConn.html) to construct connections is recommended here.\n",
    "- Dense adjacency matrix: a two-dimensional ndarray.\n",
    "\n",
    "Here gives an example to illustrate how to transform a random graph into your synaptic connections by using dense adjacency matrix."
   ]
  },
  {
   "cell_type": "code",
   "execution_count": 18,
   "metadata": {
    "pycharm": {
     "name": "#%%\n"
    }
   },
   "outputs": [
    {
     "name": "stdout",
     "output_type": "stream",
     "text": [
      "dense adjacency matrix:\n",
      "[[0 0 1 1 0]\n",
      " [0 0 0 1 1]\n",
      " [1 0 0 0 1]\n",
      " [1 1 0 0 1]\n",
      " [0 1 1 1 0]]\n"
     ]
    },
    {
     "data": {
      "image/png": "[encoded data removed]",
      "text/plain": [
       "<Figure size 432x288 with 1 Axes>"
      ]
     },
     "metadata": {},
     "output_type": "display_data"
    }
   ],
   "source": [
    "G = nx.fast_gnp_random_graph(5, 0.5) # initialize a random graph G\n",
    "B = nx.adjacency_matrix(G)\n",
    "A = np.array(nx.adjacency_matrix(G).todense()) # get dense adjacency matrix of G\n",
    "\n",
    "print('dense adjacency matrix:')\n",
    "print(A)\n",
    "nx.draw(G, with_labels=True)\n",
    "plt.show()"
   ]
  },
  {
   "cell_type": "markdown",
   "metadata": {
    "pycharm": {
     "name": "#%% md\n"
    }
   },
   "source": [
    "Users can use class `MatConn` inherited from `TwoEndConnector` to construct connections. **A dense adjacency matrix** should be passed in when initializing `MatConn` class.\n",
    "Note that when calling the instance of the class, users should pass in two parameters: `pre_size` and `post_size`.\n",
    "In this case, users can use the shape of dense adjacency matrix as the parameters."
   ]
  },
  {
   "cell_type": "code",
   "execution_count": 19,
   "metadata": {
    "pycharm": {
     "name": "#%%\n"
    }
   },
   "outputs": [
    {
     "name": "stdout",
     "output_type": "stream",
     "text": [
      "JaxArray([[False, False,  True,  True, False],\n",
      "          [False, False, False,  True,  True],\n",
      "          [ True, False, False, False,  True],\n",
      "          [ True,  True, False, False,  True],\n",
      "          [False,  True,  True,  True, False]], dtype=bool)\n"
     ]
    }
   ],
   "source": [
    "conn = bp.connect.MatConn(A)(pre_size=A.shape[0], post_size=A.shape[1])\n",
    "res = conn.require('conn_mat')\n",
    "\n",
    "print(res)"
   ]
  },
  {
   "cell_type": "markdown",
   "metadata": {},
   "source": [
    "## Customize your connections"
   ]
  },
  {
   "cell_type": "markdown",
   "metadata": {},
   "source": [
    "BrainPy allows users to customize their connections. The following requirements should be satisfied:\n",
    "\n",
    "- Your connection class should inherit from `brainpy.connect.TwoEndConnector` or `brainpy.connect.OneEndConnector`.\n",
    "- `__init__` function should be implemented and essential parameters should be initialized.\n",
    "- Users should also overwrite `build_conn()` function to describe how to build your connection.\n",
    "\n",
    "Let's take an example to illustrate the details of customization."
   ]
  },
  {
   "cell_type": "code",
   "execution_count": 30,
   "metadata": {},
   "outputs": [],
   "source": [
    "class FixedProb(bp.connect.TwoEndConnector):\n",
    "  \"\"\"Connect the post-synaptic neurons with fixed probability.\n",
    "\n",
    "  Parameters\n",
    "  ----------\n",
    "  prob : float\n",
    "      The conn probability.\n",
    "  include_self : bool\n",
    "      Whether to create (i, i) connection.\n",
    "  seed : optional, int\n",
    "      Seed the random generator.\n",
    "  \"\"\"\n",
    "\n",
    "  def __init__(self, prob, include_self=True, seed=None):\n",
    "    super(FixedProb, self).__init__()\n",
    "    assert 0. <= prob <= 1.\n",
    "    self.prob = prob\n",
    "    self.include_self = include_self\n",
    "    self.seed = seed\n",
    "    self.rng = np.random.RandomState(seed=seed)\n",
    "\n",
    "  def build_conn(self):\n",
    "    ind = []\n",
    "    count = np.zeros(self.pre_num, dtype=np.uint32)\n",
    "\n",
    "    def _random_prob_conn(rng, pre_i, num_post, prob, include_self):\n",
    "      p = rng.random(num_post) <= prob\n",
    "      if (not include_self) and pre_i < num_post:\n",
    "        p[pre_i] = False\n",
    "      conn_j = np.asarray(np.where(p)[0], dtype=np.uint32)\n",
    "      return conn_j\n",
    "\n",
    "    for i in range(self.pre_num):\n",
    "      posts = _random_prob_conn(self.rng, pre_i=i, num_post=self.post_num,\n",
    "                                prob=self.prob, include_self=self.include_self)\n",
    "      ind.append(posts)\n",
    "      count[i] = len(posts)\n",
    "\n",
    "    ind = np.concatenate(ind)\n",
    "    indptr = np.concatenate(([0], count)).cumsum()\n",
    "\n",
    "    return 'csr', (ind, indptr)"
   ]
  },
  {
   "cell_type": "markdown",
   "metadata": {},
   "source": [
    "Then users can initialize the your own connections as below:"
   ]
  },
  {
   "cell_type": "code",
   "execution_count": 31,
   "metadata": {},
   "outputs": [
    {
     "data": {
      "text/plain": [
       "JaxArray([[False,  True, False,  True, False],\n",
       "          [False, False,  True, False,  True],\n",
       "          [ True, False,  True, False,  True],\n",
       "          [False, False, False, False,  True],\n",
       "          [ True,  True, False, False,  True]], dtype=bool)"
      ]
     },
     "execution_count": 31,
     "metadata": {},
     "output_type": "execute_result"
    }
   ],
   "source": [
    "conn = FixedProb(prob=0.5, include_self=True)(pre_size=5, post_size=5)\n",
    "conn.require('conn_mat')"
   ]
  }
 ],
 "metadata": {
  "kernelspec": {
   "display_name": "Python 3 (ipykernel)",
   "language": "python",
   "name": "python3"
  },
  "language_info": {
   "codemirror_mode": {
    "name": "ipython",
    "version": 3
   },
   "file_extension": ".py",
   "mimetype": "text/x-python",
   "name": "python",
   "nbconvert_exporter": "python",
   "pygments_lexer": "ipython3",
   "version": "3.9.7"
  },
  "latex_envs": {
   "LaTeX_envs_menu_present": true,
   "autoclose": false,
   "autocomplete": true,
   "bibliofile": "biblio.bib",
   "cite_by": "apalike",
   "current_citInitial": 1,
   "eqLabelWithNumbers": true,
   "eqNumInitial": 1,
   "hotkeys": {
    "equation": "Ctrl-E",
    "itemize": "Ctrl-I"
   },
   "labels_anchors": false,
   "latex_user_defs": false,
   "report_style_numbering": false,
   "user_envs_cfg": false
  },
  "toc": {
   "base_numbering": 1,
   "nav_menu": {
    "height": "411px",
    "width": "316px"
   },
   "number_sections": false,
   "sideBar": true,
   "skip_h1_title": false,
   "title_cell": "Table of Contents",
   "title_sidebar": "Contents",
   "toc_cell": false,
   "toc_position": {
    "height": "calc(100% - 180px)",
    "left": "10px",
    "top": "150px",
    "width": "243.068px"
   },
   "toc_section_display": true,
   "toc_window_display": true
  },
  "varInspector": {
   "cols": {
    "lenName": 16,
    "lenType": 16,
    "lenVar": 40
   },
   "kernels_config": {
    "python": {
     "delete_cmd_postfix": "",
     "delete_cmd_prefix": "del ",
     "library": "var_list.py",
     "varRefreshCmd": "print(var_dic_list())"
    },
    "r": {
     "delete_cmd_postfix": ") ",
     "delete_cmd_prefix": "rm(",
     "library": "var_list.r",
     "varRefreshCmd": "cat(var_dic_list()) "
    }
   },
   "types_to_exclude": [
    "module",
    "function",
    "builtin_function_or_method",
    "instance",
    "_Feature"
   ],
   "window_display": false
  }
 },
 "nbformat": 4,
 "nbformat_minor": 4
}
