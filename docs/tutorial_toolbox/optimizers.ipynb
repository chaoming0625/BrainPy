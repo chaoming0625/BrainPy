{
 "cells": [
  {
   "cell_type": "markdown",
   "id": "e42071e4",
   "metadata": {},
   "source": [
    "# Gradient Descent Optimizers"
   ]
  },
  {
   "cell_type": "markdown",
   "id": "355bb9b6",
   "metadata": {},
   "source": [
    "@[Chaoming Wang](https://github.com/chaoming0625)\n",
    "@[Xiaoyu Chen](mailto:c-xy17@tsinghua.org.cn)"
   ]
  },
  {
   "cell_type": "markdown",
   "id": "95b9589c",
   "metadata": {},
   "source": [
    "Gradient descent is one of the most popular optimization methods. At present, gradient descent optimizers, combined with the loss function, are the key to machine learning, especially deep learning. In this section, we are going to understand:\n",
    "\n",
    "- how to use optimizers in BrainPy?\n",
    "- how to customize your own optimizer?"
   ]
  },
  {
   "cell_type": "code",
   "execution_count": 1,
   "id": "a9813ba0",
   "metadata": {},
   "outputs": [
    {
     "data": {
      "text/plain": "'2.3.0'"
     },
     "execution_count": 1,
     "metadata": {},
     "output_type": "execute_result"
    }
   ],
   "source": [
    "import brainpy as bp\n",
    "import brainpy.math as bm\n",
    "\n",
    "# bp.math.set_platform('cpu')\n",
    "bp.__version__"
   ]
  },
  {
   "cell_type": "code",
   "execution_count": 2,
   "id": "92b9cd6d",
   "metadata": {},
   "outputs": [],
   "source": [
    "import matplotlib.pyplot as plt"
   ]
  },
  {
   "cell_type": "markdown",
   "id": "e62bdc0d",
   "metadata": {},
   "source": [
    "## Optimizers in BrainPy"
   ]
  },
  {
   "cell_type": "markdown",
   "id": "d00a3c84",
   "metadata": {},
   "source": [
    "The basic optimizer class in BrainPy is `brainpy.optimizers.Optimizer`, which inludes the following optimizers:\n",
    "\n",
    "- SGD\n",
    "- Momentum\n",
    "- Nesterov momentum\n",
    "- Adagrad\n",
    "- Adadelta\n",
    "- RMSProp\n",
    "- Adam\n",
    "\n",
    "All supported optimizers can be inspected through the [brainpy.math.optimizers APIs](../apis/auto/optimizers.rst)."
   ]
  },
  {
   "cell_type": "markdown",
   "id": "05adb1c4",
   "metadata": {},
   "source": [
    "Generally, an optimizer initialization receives the learning rate ``lr``, the trainable variables ``train_vars``, and other hyperparameters for the specific optimizer.  \n",
    "\n",
    "- ``lr`` can be a float, or an instance of ``brainpy.optim.Scheduler``.\n",
    "- ``train_vars`` should be a dict of Variable."
   ]
  },
  {
   "cell_type": "markdown",
   "id": "180c2314",
   "metadata": {},
   "source": [
    "Here we launch a SGD optimizer."
   ]
  },
  {
   "cell_type": "code",
   "execution_count": 3,
   "id": "2d716811",
   "metadata": {},
   "outputs": [],
   "source": [
    "a = bm.Variable(bm.ones((5, 4)))\n",
    "b = bm.Variable(bm.zeros((3, 3)))\n",
    "\n",
    "op = bp.optim.SGD(lr=0.001, train_vars={'a': a, 'b': b})"
   ]
  },
  {
   "cell_type": "markdown",
   "id": "e9c3cb0d",
   "metadata": {},
   "source": [
    "When you try to update the parameters, you must provide the corresponding gradients for each parameter in the ``update()`` method. "
   ]
  },
  {
   "cell_type": "code",
   "execution_count": 4,
   "id": "0d4449f3",
   "metadata": {},
   "outputs": [
    {
     "name": "stdout",
     "output_type": "stream",
     "text": [
      "a: Variable([[0.9993626 , 0.9997406 , 0.999853  , 0.999312  ],\n",
      "          [0.9993036 , 0.99934477, 0.9998294 , 0.9997739 ],\n",
      "          [0.99900717, 0.9997449 , 0.99976104, 0.99953616],\n",
      "          [0.9995185 , 0.99917144, 0.9990044 , 0.99914813],\n",
      "          [0.9997468 , 0.9999408 , 0.99917686, 0.9999825 ]], dtype=float32)\n",
      "b: Variable([[-0.00034196, -0.00046545, -0.00027317],\n",
      "          [-0.00045028, -0.00076825, -0.00026088],\n",
      "          [-0.0007135 , -0.00020507, -0.00073902]], dtype=float32)\n"
     ]
    }
   ],
   "source": [
    "op.update({'a': bm.random.random(a.shape), 'b': bm.random.random(b.shape)})\n",
    "\n",
    "print('a:', a)\n",
    "print('b:', b)"
   ]
  },
  {
   "cell_type": "markdown",
   "id": "f25554d5",
   "metadata": {},
   "source": [
    "You can process the gradients before applying them. For example, we clip the graidents by the maximum L2-norm. "
   ]
  },
  {
   "cell_type": "code",
   "execution_count": 5,
   "id": "aad2ffcc",
   "metadata": {},
   "outputs": [
    {
     "data": {
      "text/plain": "{'a': Array([[0.6356058 , 0.10750175, 0.93578255, 0.2557603 ],\n        [0.77525663, 0.8615701 , 0.35919654, 0.6861898 ],\n        [0.9569112 , 0.98981357, 0.3033744 , 0.62852013],\n        [0.36589646, 0.86694443, 0.6335902 , 0.44947362],\n        [0.01782513, 0.11465573, 0.5505476 , 0.56196713]], dtype=float32),\n 'b': Array([[0.2326113 , 0.14437485, 0.6543677 ],\n        [0.46068823, 0.9811108 , 0.30460846],\n        [0.261765  , 0.71705794, 0.6173099 ]], dtype=float32)}"
     },
     "execution_count": 5,
     "metadata": {},
     "output_type": "execute_result"
    }
   ],
   "source": [
    "grads_pre = {'a': bm.random.random(a.shape), 'b': bm.random.random(b.shape)}\n",
    "\n",
    "grads_pre"
   ]
  },
  {
   "cell_type": "code",
   "execution_count": 6,
   "id": "6f593769",
   "metadata": {},
   "outputs": [
    {
     "data": {
      "text/plain": "{'a': Array([[0.22753015, 0.0384828 , 0.33498552, 0.09155546],\n        [0.2775215 , 0.30841944, 0.12858291, 0.24563788],\n        [0.34254903, 0.3543272 , 0.10860006, 0.22499368],\n        [0.13098131, 0.3103433 , 0.22680864, 0.16089973],\n        [0.00638093, 0.04104374, 0.19708155, 0.20116945]], dtype=float32),\n 'b': Array([[0.14066657, 0.08730751, 0.39571446],\n        [0.27859107, 0.5933052 , 0.18420528],\n        [0.15829663, 0.433625  , 0.3733046 ]], dtype=float32)}"
     },
     "execution_count": 6,
     "metadata": {},
     "output_type": "execute_result"
    }
   ],
   "source": [
    "grads_post = bm.clip_by_norm(grads_pre, 1.)\n",
    "\n",
    "grads_post"
   ]
  },
  {
   "cell_type": "code",
   "execution_count": 7,
   "id": "dba80baf",
   "metadata": {},
   "outputs": [
    {
     "name": "stdout",
     "output_type": "stream",
     "text": [
      "a: Variable([[0.9991351 , 0.9997021 , 0.99951804, 0.99922043],\n",
      "          [0.99902606, 0.9990364 , 0.99970084, 0.9995283 ],\n",
      "          [0.9986646 , 0.99939054, 0.99965245, 0.99931115],\n",
      "          [0.9993875 , 0.9988611 , 0.9987776 , 0.99898726],\n",
      "          [0.9997404 , 0.99989974, 0.9989798 , 0.9997813 ]], dtype=float32)\n",
      "b: Variable([[-0.00048263, -0.00055276, -0.00066889],\n",
      "          [-0.00072887, -0.00136155, -0.00044508],\n",
      "          [-0.00087179, -0.0006387 , -0.00111233]], dtype=float32)\n"
     ]
    }
   ],
   "source": [
    "op.update(grads_post)\n",
    "\n",
    "print('a:', a)\n",
    "print('b:', b)"
   ]
  },
  {
   "cell_type": "markdown",
   "id": "05d98a0f",
   "metadata": {},
   "source": [
    "```{note}\n",
    "Optimizer usually has their own dynamically changed variables. If you JIT a function whose logic contains optimizer update, your ``dyn_vars`` in ``bm.jit()`` should include variables in ``Optimzier.vars()``.\n",
    "```"
   ]
  },
  {
   "cell_type": "code",
   "execution_count": 8,
   "id": "efc5c686",
   "metadata": {},
   "outputs": [
    {
     "data": {
      "text/plain": "{'Constant0.step': Variable([2], dtype=int32)}"
     },
     "execution_count": 8,
     "metadata": {},
     "output_type": "execute_result"
    }
   ],
   "source": [
    "op.vars()  # SGD optimzier only has an iterable `step` variable to record the training step"
   ]
  },
  {
   "cell_type": "code",
   "execution_count": 9,
   "id": "28965804",
   "metadata": {},
   "outputs": [
    {
     "data": {
      "text/plain": "{'Momentum0.a_v': Variable([[0., 0., 0., 0.],\n           [0., 0., 0., 0.],\n           [0., 0., 0., 0.],\n           [0., 0., 0., 0.],\n           [0., 0., 0., 0.]], dtype=float32),\n 'Momentum0.b_v': Variable([[0., 0., 0.],\n           [0., 0., 0.],\n           [0., 0., 0.]], dtype=float32),\n 'Constant1.step': Variable([0], dtype=int32)}"
     },
     "execution_count": 9,
     "metadata": {},
     "output_type": "execute_result"
    }
   ],
   "source": [
    "bp.optim.Momentum(lr=0.001, train_vars={'a': a, 'b': b}).vars()  # Momentum has velocity variables"
   ]
  },
  {
   "cell_type": "code",
   "execution_count": 10,
   "id": "fb272a40",
   "metadata": {
    "scrolled": true
   },
   "outputs": [
    {
     "data": {
      "text/plain": "{'Adam0.a_m': Variable([[0., 0., 0., 0.],\n           [0., 0., 0., 0.],\n           [0., 0., 0., 0.],\n           [0., 0., 0., 0.],\n           [0., 0., 0., 0.]], dtype=float32),\n 'Adam0.b_m': Variable([[0., 0., 0.],\n           [0., 0., 0.],\n           [0., 0., 0.]], dtype=float32),\n 'Adam0.a_v': Variable([[0., 0., 0., 0.],\n           [0., 0., 0., 0.],\n           [0., 0., 0., 0.],\n           [0., 0., 0., 0.],\n           [0., 0., 0., 0.]], dtype=float32),\n 'Adam0.b_v': Variable([[0., 0., 0.],\n           [0., 0., 0.],\n           [0., 0., 0.]], dtype=float32),\n 'Constant2.step': Variable([0], dtype=int32)}"
     },
     "execution_count": 10,
     "metadata": {},
     "output_type": "execute_result"
    }
   ],
   "source": [
    "bp.optim.Adam(lr=0.001, train_vars={'a': a, 'b': b}).vars()  # Adam has more variables"
   ]
  },
  {
   "cell_type": "markdown",
   "id": "28a63538",
   "metadata": {},
   "source": [
    "## Creating A Self-Customized Optimizer"
   ]
  },
  {
   "cell_type": "markdown",
   "id": "f9900e42",
   "metadata": {},
   "source": [
    "To create your own optimization algorithm, simply inherit from ``bm.optimizers.Optimizer`` class and override the following methods:\n",
    "\n",
    "- ``__init__()``: init function that receives the learning rate (``lr``) and trainable variables (``train_vars``). Do not forget to register your dynamical changed variables into ``implicit_vars``. \n",
    "- ``update(grads)``: update function that computes the updated parameters. \n",
    "\n",
    "The general structure is shown below:"
   ]
  },
  {
   "cell_type": "code",
   "execution_count": 11,
   "id": "f3c84821",
   "metadata": {},
   "outputs": [],
   "source": [
    "class CustomizeOp(bp.optim.Optimizer):\n",
    "    def __init__(self, lr, train_vars, *params, **other_params):\n",
    "        super(CustomizeOp, self).__init__(lr, train_vars)\n",
    "        \n",
    "        # customize your initialization\n",
    "        \n",
    "    def update(self, grads):\n",
    "        # customize your update logic\n",
    "        pass"
   ]
  },
  {
   "cell_type": "markdown",
   "id": "f5b91a31",
   "metadata": {},
   "source": [
    "## Schedulers"
   ]
  },
  {
   "cell_type": "markdown",
   "id": "b2c277e6",
   "metadata": {},
   "source": [
    "Scheduler seeks to adjust the learning rate during training through reducing the learning rate according to a pre-defined schedule.  Common learning rate schedules include time-based decay, step decay and exponential decay. "
   ]
  },
  {
   "cell_type": "markdown",
   "id": "e2c504d7",
   "metadata": {},
   "source": [
    "Here we set up an exponential decay scheduler, in which the learning rate will decay exponentially along the training step."
   ]
  },
  {
   "cell_type": "code",
   "execution_count": 12,
   "id": "75476a94",
   "metadata": {},
   "outputs": [],
   "source": [
    "sc = bp.optim.ExponentialDecay(lr=0.1, decay_steps=2, decay_rate=0.99)"
   ]
  },
  {
   "cell_type": "code",
   "execution_count": 13,
   "id": "fe673807",
   "metadata": {},
   "outputs": [],
   "source": [
    "def show(steps, rates):\n",
    "    plt.plot(steps, rates)\n",
    "    plt.xlabel('Train Step')\n",
    "    plt.ylabel('Learning Rate')\n",
    "    plt.show()"
   ]
  },
  {
   "cell_type": "code",
   "execution_count": 14,
   "id": "8c0b8a9c",
   "metadata": {},
   "outputs": [
    {
     "data": {
      "text/plain": "<Figure size 432x288 with 1 Axes>",
      "image/png": "[encoded data removed]"
     },
     "metadata": {
      "needs_background": "light"
     },
     "output_type": "display_data"
    }
   ],
   "source": [
    "steps = bm.arange(1000)\n",
    "rates = sc(steps)\n",
    "\n",
    "show(steps, rates)"
   ]
  },
  {
   "cell_type": "markdown",
   "id": "2958e220",
   "metadata": {},
   "source": [
    "After Optimizer initialization, the learning rate ``self.lr`` will always be an instance of ``bm.optimizers.Scheduler``. A scalar float learning rate initialization will result in a ``Constant`` scheduler. "
   ]
  },
  {
   "cell_type": "code",
   "execution_count": 15,
   "id": "d67a3c6e",
   "metadata": {},
   "outputs": [
    {
     "data": {
      "text/plain": "Constant(0.001)"
     },
     "execution_count": 15,
     "metadata": {},
     "output_type": "execute_result"
    }
   ],
   "source": [
    "op.lr"
   ]
  },
  {
   "cell_type": "markdown",
   "id": "83340b85",
   "metadata": {},
   "source": [
    "One can get the current learning rate value by calling ``Scheduler.__call__(i=None)``.\n",
    "\n",
    "- If `i` is not provided, the learning rate value will be evaluated at the built-in training ``step``.\n",
    "- Otherwise, the learning rate value will be evaluated at the given step ``i``. "
   ]
  },
  {
   "cell_type": "code",
   "execution_count": 16,
   "id": "7b5dd012",
   "metadata": {},
   "outputs": [
    {
     "data": {
      "text/plain": "0.001"
     },
     "execution_count": 16,
     "metadata": {},
     "output_type": "execute_result"
    }
   ],
   "source": [
    "op.lr()"
   ]
  },
  {
   "cell_type": "markdown",
   "id": "029e39db",
   "metadata": {},
   "source": [
    "In BrainPy, several commonly used learning rate schedulers are used:\n",
    "\n",
    "- Constant\n",
    "- ExponentialDecay\n",
    "- InverseTimeDecay\n",
    "- PolynomialDecay\n",
    "- PiecewiseConstant\n",
    "\n",
    "For more details, please see the [brainpy.math.optimizers APIs](../apis/auto/math/optimizers.rst). \n"
   ]
  },
  {
   "cell_type": "code",
   "execution_count": 17,
   "id": "f5da4916",
   "metadata": {},
   "outputs": [
    {
     "data": {
      "text/plain": "<Figure size 432x288 with 1 Axes>",
      "image/png": "[encoded data removed]"
     },
     "metadata": {
      "needs_background": "light"
     },
     "output_type": "display_data"
    }
   ],
   "source": [
    "# InverseTimeDecay scheduler\n",
    "\n",
    "rates = bp.optim.InverseTimeDecay(lr=0.01, decay_steps=10, decay_rate=0.999)(steps)\n",
    "show(steps, rates)"
   ]
  },
  {
   "cell_type": "code",
   "execution_count": 18,
   "id": "8a49e917",
   "metadata": {},
   "outputs": [
    {
     "data": {
      "text/plain": "<Figure size 432x288 with 1 Axes>",
      "image/png": "[encoded data removed]"
     },
     "metadata": {
      "needs_background": "light"
     },
     "output_type": "display_data"
    }
   ],
   "source": [
    "# PolynomialDecay scheduler\n",
    "\n",
    "rates = bp.optim.PolynomialDecay(lr=0.01, decay_steps=10, final_lr=0.0001)(steps)\n",
    "show(steps, rates)"
   ]
  },
  {
   "cell_type": "markdown",
   "id": "3ef61151",
   "metadata": {},
   "source": [
    "## Creating a Self-Customized Scheduler"
   ]
  },
  {
   "cell_type": "markdown",
   "id": "9dd71dab",
   "metadata": {},
   "source": [
    "If users try to implement their own scheduler, simply inherit from ``bm.optimizers.Scheduler`` class and override the following methods:\n",
    "\n",
    "- ``__init__()``: the init function. \n",
    "- ``__call__(i=None)``: the learning rate value evalution. "
   ]
  },
  {
   "cell_type": "code",
   "execution_count": 19,
   "id": "7466e67c",
   "metadata": {},
   "outputs": [],
   "source": [
    "class CustomizeScheduler(bp.optim.Scheduler):\n",
    "    def __init__(self, lr, *params, **other_params):\n",
    "        super(CustomizeScheduler, self).__init__(lr)\n",
    "        \n",
    "        # customize your initialization\n",
    "        \n",
    "    def __call__(self, i=None):\n",
    "        # customize your update logic\n",
    "        pass"
   ]
  }
 ],
 "metadata": {
  "kernelspec": {
   "name": "python3",
   "language": "python",
   "display_name": "Python 3 (ipykernel)"
  },
  "language_info": {
   "codemirror_mode": {
    "name": "ipython",
    "version": 3
   },
   "file_extension": ".py",
   "mimetype": "text/x-python",
   "name": "python",
   "nbconvert_exporter": "python",
   "pygments_lexer": "ipython3",
   "version": "3.8.8"
  },
  "latex_envs": {
   "LaTeX_envs_menu_present": true,
   "autoclose": false,
   "autocomplete": true,
   "bibliofile": "biblio.bib",
   "cite_by": "apalike",
   "current_citInitial": 1,
   "eqLabelWithNumbers": true,
   "eqNumInitial": 1,
   "hotkeys": {
    "equation": "Ctrl-E",
    "itemize": "Ctrl-I"
   },
   "labels_anchors": false,
   "latex_user_defs": false,
   "report_style_numbering": false,
   "user_envs_cfg": false
  },
  "toc": {
   "base_numbering": 1,
   "nav_menu": {},
   "number_sections": false,
   "sideBar": true,
   "skip_h1_title": false,
   "title_cell": "Table of Contents",
   "title_sidebar": "Contents",
   "toc_cell": false,
   "toc_position": {},
   "toc_section_display": true,
   "toc_window_display": true
  }
 },
 "nbformat": 4,
 "nbformat_minor": 5
}
